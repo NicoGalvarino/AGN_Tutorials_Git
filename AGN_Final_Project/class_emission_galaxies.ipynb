{
 "cells": [
  {
   "attachments": {},
   "cell_type": "markdown",
   "metadata": {},
   "source": [
    "# Classification of Emission Line Galaxies with SDSS & WISE\n",
    "\n",
    "## Imports"
   ]
  },
  {
   "cell_type": "code",
   "execution_count": 41,
   "metadata": {},
   "outputs": [
    {
     "name": "stdout",
     "output_type": "stream",
     "text": [
      "Using matplotlib backend: MacOSX\n"
     ]
    }
   ],
   "source": [
    "%matplotlib\n",
    "import matplotlib.pyplot as plt\n",
    "plt.style.use('bmh')\n",
    "\n",
    "import seaborn as sns\n",
    "sns.set_theme()\n",
    "sns.set_context('paper')\n",
    "\n",
    "import pandas as pd\n",
    "import numpy as np\n",
    "from collections import Counter\n",
    "\n",
    "import calc_kcor"
   ]
  },
  {
   "cell_type": "code",
   "execution_count": 2,
   "metadata": {},
   "outputs": [
    {
     "data": {
      "text/html": [
       "<div>\n",
       "<style scoped>\n",
       "    .dataframe tbody tr th:only-of-type {\n",
       "        vertical-align: middle;\n",
       "    }\n",
       "\n",
       "    .dataframe tbody tr th {\n",
       "        vertical-align: top;\n",
       "    }\n",
       "\n",
       "    .dataframe thead th {\n",
       "        text-align: right;\n",
       "    }\n",
       "</style>\n",
       "<table border=\"1\" class=\"dataframe\">\n",
       "  <thead>\n",
       "    <tr style=\"text-align: right;\">\n",
       "      <th></th>\n",
       "      <th>specobjid</th>\n",
       "      <th>plate</th>\n",
       "      <th>mjd</th>\n",
       "      <th>fiberID</th>\n",
       "      <th>ra</th>\n",
       "      <th>dec</th>\n",
       "      <th>subclass</th>\n",
       "      <th>z</th>\n",
       "      <th>oiii_5007_flux</th>\n",
       "      <th>oiii_5007_flux_err</th>\n",
       "      <th>...</th>\n",
       "      <th>neiii_3869_flux</th>\n",
       "      <th>neiii_3869_flux_err</th>\n",
       "      <th>oii_3726_flux</th>\n",
       "      <th>oii_3726_flux_err</th>\n",
       "      <th>oii_3729_flux</th>\n",
       "      <th>oii_3729_flux_err</th>\n",
       "      <th>psfMag_g</th>\n",
       "      <th>psfMagErr_g</th>\n",
       "      <th>psfMag_z</th>\n",
       "      <th>psfMagErr_z</th>\n",
       "    </tr>\n",
       "  </thead>\n",
       "  <tbody>\n",
       "    <tr>\n",
       "      <th>0</th>\n",
       "      <td>326554986014074880</td>\n",
       "      <td>290</td>\n",
       "      <td>51941</td>\n",
       "      <td>160</td>\n",
       "      <td>189.45584</td>\n",
       "      <td>-0.157681</td>\n",
       "      <td>NaN</td>\n",
       "      <td>0.138616</td>\n",
       "      <td>13.146890</td>\n",
       "      <td>2.987416</td>\n",
       "      <td>...</td>\n",
       "      <td>6.144023</td>\n",
       "      <td>2.900986</td>\n",
       "      <td>11.406200</td>\n",
       "      <td>4.101423</td>\n",
       "      <td>21.261510</td>\n",
       "      <td>4.295855</td>\n",
       "      <td>19.67988</td>\n",
       "      <td>0.018715</td>\n",
       "      <td>17.81138</td>\n",
       "      <td>0.024404</td>\n",
       "    </tr>\n",
       "    <tr>\n",
       "      <th>1</th>\n",
       "      <td>327724316412110848</td>\n",
       "      <td>291</td>\n",
       "      <td>51928</td>\n",
       "      <td>318</td>\n",
       "      <td>189.49717</td>\n",
       "      <td>-0.110552</td>\n",
       "      <td>STARFORMING</td>\n",
       "      <td>0.138305</td>\n",
       "      <td>8.675431</td>\n",
       "      <td>2.317272</td>\n",
       "      <td>...</td>\n",
       "      <td>5.864629</td>\n",
       "      <td>2.459746</td>\n",
       "      <td>14.731700</td>\n",
       "      <td>2.856537</td>\n",
       "      <td>6.085602</td>\n",
       "      <td>2.834561</td>\n",
       "      <td>20.10368</td>\n",
       "      <td>0.021257</td>\n",
       "      <td>18.92562</td>\n",
       "      <td>0.044774</td>\n",
       "    </tr>\n",
       "    <tr>\n",
       "      <th>2</th>\n",
       "      <td>331123732460365824</td>\n",
       "      <td>294</td>\n",
       "      <td>51986</td>\n",
       "      <td>397</td>\n",
       "      <td>196.19072</td>\n",
       "      <td>0.233178</td>\n",
       "      <td>STARBURST</td>\n",
       "      <td>0.091915</td>\n",
       "      <td>34.174830</td>\n",
       "      <td>2.439682</td>\n",
       "      <td>...</td>\n",
       "      <td>10.437470</td>\n",
       "      <td>2.830681</td>\n",
       "      <td>73.851870</td>\n",
       "      <td>4.054547</td>\n",
       "      <td>91.501850</td>\n",
       "      <td>4.279330</td>\n",
       "      <td>18.92324</td>\n",
       "      <td>0.014393</td>\n",
       "      <td>18.02275</td>\n",
       "      <td>0.029681</td>\n",
       "    </tr>\n",
       "    <tr>\n",
       "      <th>3</th>\n",
       "      <td>331134177820829696</td>\n",
       "      <td>294</td>\n",
       "      <td>51986</td>\n",
       "      <td>435</td>\n",
       "      <td>196.34009</td>\n",
       "      <td>0.288940</td>\n",
       "      <td>STARFORMING</td>\n",
       "      <td>0.083552</td>\n",
       "      <td>58.824350</td>\n",
       "      <td>2.322370</td>\n",
       "      <td>...</td>\n",
       "      <td>7.057436</td>\n",
       "      <td>2.571957</td>\n",
       "      <td>72.471210</td>\n",
       "      <td>3.937920</td>\n",
       "      <td>111.369500</td>\n",
       "      <td>4.211017</td>\n",
       "      <td>19.52605</td>\n",
       "      <td>0.017075</td>\n",
       "      <td>18.88479</td>\n",
       "      <td>0.051723</td>\n",
       "    </tr>\n",
       "    <tr>\n",
       "      <th>4</th>\n",
       "      <td>331153969030129664</td>\n",
       "      <td>294</td>\n",
       "      <td>51986</td>\n",
       "      <td>507</td>\n",
       "      <td>197.27106</td>\n",
       "      <td>0.348103</td>\n",
       "      <td>STARFORMING</td>\n",
       "      <td>0.096561</td>\n",
       "      <td>57.062790</td>\n",
       "      <td>3.197158</td>\n",
       "      <td>...</td>\n",
       "      <td>3.975352</td>\n",
       "      <td>3.267962</td>\n",
       "      <td>55.023870</td>\n",
       "      <td>4.815820</td>\n",
       "      <td>49.326940</td>\n",
       "      <td>4.780796</td>\n",
       "      <td>18.79014</td>\n",
       "      <td>0.020020</td>\n",
       "      <td>17.47571</td>\n",
       "      <td>0.023661</td>\n",
       "    </tr>\n",
       "    <tr>\n",
       "      <th>...</th>\n",
       "      <td>...</td>\n",
       "      <td>...</td>\n",
       "      <td>...</td>\n",
       "      <td>...</td>\n",
       "      <td>...</td>\n",
       "      <td>...</td>\n",
       "      <td>...</td>\n",
       "      <td>...</td>\n",
       "      <td>...</td>\n",
       "      <td>...</td>\n",
       "      <td>...</td>\n",
       "      <td>...</td>\n",
       "      <td>...</td>\n",
       "      <td>...</td>\n",
       "      <td>...</td>\n",
       "      <td>...</td>\n",
       "      <td>...</td>\n",
       "      <td>...</td>\n",
       "      <td>...</td>\n",
       "      <td>...</td>\n",
       "      <td>...</td>\n",
       "    </tr>\n",
       "    <tr>\n",
       "      <th>29995</th>\n",
       "      <td>1101191172572866560</td>\n",
       "      <td>978</td>\n",
       "      <td>52431</td>\n",
       "      <td>222</td>\n",
       "      <td>258.58050</td>\n",
       "      <td>30.294842</td>\n",
       "      <td>NaN</td>\n",
       "      <td>0.112060</td>\n",
       "      <td>5.015080</td>\n",
       "      <td>2.392273</td>\n",
       "      <td>...</td>\n",
       "      <td>5.317585</td>\n",
       "      <td>2.756541</td>\n",
       "      <td>5.500735</td>\n",
       "      <td>4.256994</td>\n",
       "      <td>25.902370</td>\n",
       "      <td>4.267619</td>\n",
       "      <td>19.62692</td>\n",
       "      <td>0.015530</td>\n",
       "      <td>18.23180</td>\n",
       "      <td>0.024433</td>\n",
       "    </tr>\n",
       "    <tr>\n",
       "      <th>29996</th>\n",
       "      <td>1099008916567648256</td>\n",
       "      <td>976</td>\n",
       "      <td>52413</td>\n",
       "      <td>475</td>\n",
       "      <td>257.24686</td>\n",
       "      <td>32.348107</td>\n",
       "      <td>BROADLINE</td>\n",
       "      <td>0.120591</td>\n",
       "      <td>7.693543</td>\n",
       "      <td>2.303600</td>\n",
       "      <td>...</td>\n",
       "      <td>7.044323</td>\n",
       "      <td>2.566699</td>\n",
       "      <td>28.713150</td>\n",
       "      <td>3.630994</td>\n",
       "      <td>16.160110</td>\n",
       "      <td>3.603343</td>\n",
       "      <td>19.16641</td>\n",
       "      <td>0.018016</td>\n",
       "      <td>17.69808</td>\n",
       "      <td>0.021852</td>\n",
       "    </tr>\n",
       "    <tr>\n",
       "      <th>29997</th>\n",
       "      <td>1099005618032764928</td>\n",
       "      <td>976</td>\n",
       "      <td>52413</td>\n",
       "      <td>463</td>\n",
       "      <td>257.07730</td>\n",
       "      <td>32.559980</td>\n",
       "      <td>STARBURST</td>\n",
       "      <td>0.031085</td>\n",
       "      <td>157.734500</td>\n",
       "      <td>2.756798</td>\n",
       "      <td>...</td>\n",
       "      <td>19.227930</td>\n",
       "      <td>2.829844</td>\n",
       "      <td>101.924300</td>\n",
       "      <td>4.679415</td>\n",
       "      <td>114.529600</td>\n",
       "      <td>4.774861</td>\n",
       "      <td>19.70846</td>\n",
       "      <td>0.017782</td>\n",
       "      <td>19.29767</td>\n",
       "      <td>0.050942</td>\n",
       "    </tr>\n",
       "    <tr>\n",
       "      <th>29998</th>\n",
       "      <td>1102388540668405760</td>\n",
       "      <td>979</td>\n",
       "      <td>52427</td>\n",
       "      <td>482</td>\n",
       "      <td>259.88610</td>\n",
       "      <td>27.430696</td>\n",
       "      <td>NaN</td>\n",
       "      <td>0.114298</td>\n",
       "      <td>15.394610</td>\n",
       "      <td>5.161698</td>\n",
       "      <td>...</td>\n",
       "      <td>3.913468</td>\n",
       "      <td>2.546099</td>\n",
       "      <td>13.540770</td>\n",
       "      <td>3.264746</td>\n",
       "      <td>18.862020</td>\n",
       "      <td>3.359867</td>\n",
       "      <td>19.66572</td>\n",
       "      <td>0.018220</td>\n",
       "      <td>18.31620</td>\n",
       "      <td>0.027412</td>\n",
       "    </tr>\n",
       "    <tr>\n",
       "      <th>29999</th>\n",
       "      <td>1172146511119673344</td>\n",
       "      <td>1041</td>\n",
       "      <td>52724</td>\n",
       "      <td>308</td>\n",
       "      <td>199.60496</td>\n",
       "      <td>53.749744</td>\n",
       "      <td>STARFORMING</td>\n",
       "      <td>0.032969</td>\n",
       "      <td>135.746100</td>\n",
       "      <td>3.605743</td>\n",
       "      <td>...</td>\n",
       "      <td>14.212950</td>\n",
       "      <td>4.341546</td>\n",
       "      <td>163.489900</td>\n",
       "      <td>8.780188</td>\n",
       "      <td>183.582000</td>\n",
       "      <td>8.842443</td>\n",
       "      <td>19.10244</td>\n",
       "      <td>0.018967</td>\n",
       "      <td>18.65643</td>\n",
       "      <td>0.032826</td>\n",
       "    </tr>\n",
       "  </tbody>\n",
       "</table>\n",
       "<p>30000 rows × 36 columns</p>\n",
       "</div>"
      ],
      "text/plain": [
       "                 specobjid  plate    mjd  fiberID         ra        dec  \\\n",
       "0       326554986014074880    290  51941      160  189.45584  -0.157681   \n",
       "1       327724316412110848    291  51928      318  189.49717  -0.110552   \n",
       "2       331123732460365824    294  51986      397  196.19072   0.233178   \n",
       "3       331134177820829696    294  51986      435  196.34009   0.288940   \n",
       "4       331153969030129664    294  51986      507  197.27106   0.348103   \n",
       "...                    ...    ...    ...      ...        ...        ...   \n",
       "29995  1101191172572866560    978  52431      222  258.58050  30.294842   \n",
       "29996  1099008916567648256    976  52413      475  257.24686  32.348107   \n",
       "29997  1099005618032764928    976  52413      463  257.07730  32.559980   \n",
       "29998  1102388540668405760    979  52427      482  259.88610  27.430696   \n",
       "29999  1172146511119673344   1041  52724      308  199.60496  53.749744   \n",
       "\n",
       "          subclass         z  oiii_5007_flux  oiii_5007_flux_err  ...  \\\n",
       "0              NaN  0.138616       13.146890            2.987416  ...   \n",
       "1      STARFORMING  0.138305        8.675431            2.317272  ...   \n",
       "2        STARBURST  0.091915       34.174830            2.439682  ...   \n",
       "3      STARFORMING  0.083552       58.824350            2.322370  ...   \n",
       "4      STARFORMING  0.096561       57.062790            3.197158  ...   \n",
       "...            ...       ...             ...                 ...  ...   \n",
       "29995          NaN  0.112060        5.015080            2.392273  ...   \n",
       "29996    BROADLINE  0.120591        7.693543            2.303600  ...   \n",
       "29997    STARBURST  0.031085      157.734500            2.756798  ...   \n",
       "29998          NaN  0.114298       15.394610            5.161698  ...   \n",
       "29999  STARFORMING  0.032969      135.746100            3.605743  ...   \n",
       "\n",
       "       neiii_3869_flux  neiii_3869_flux_err  oii_3726_flux  oii_3726_flux_err  \\\n",
       "0             6.144023             2.900986      11.406200           4.101423   \n",
       "1             5.864629             2.459746      14.731700           2.856537   \n",
       "2            10.437470             2.830681      73.851870           4.054547   \n",
       "3             7.057436             2.571957      72.471210           3.937920   \n",
       "4             3.975352             3.267962      55.023870           4.815820   \n",
       "...                ...                  ...            ...                ...   \n",
       "29995         5.317585             2.756541       5.500735           4.256994   \n",
       "29996         7.044323             2.566699      28.713150           3.630994   \n",
       "29997        19.227930             2.829844     101.924300           4.679415   \n",
       "29998         3.913468             2.546099      13.540770           3.264746   \n",
       "29999        14.212950             4.341546     163.489900           8.780188   \n",
       "\n",
       "       oii_3729_flux  oii_3729_flux_err  psfMag_g  psfMagErr_g  psfMag_z  \\\n",
       "0          21.261510           4.295855  19.67988     0.018715  17.81138   \n",
       "1           6.085602           2.834561  20.10368     0.021257  18.92562   \n",
       "2          91.501850           4.279330  18.92324     0.014393  18.02275   \n",
       "3         111.369500           4.211017  19.52605     0.017075  18.88479   \n",
       "4          49.326940           4.780796  18.79014     0.020020  17.47571   \n",
       "...              ...                ...       ...          ...       ...   \n",
       "29995      25.902370           4.267619  19.62692     0.015530  18.23180   \n",
       "29996      16.160110           3.603343  19.16641     0.018016  17.69808   \n",
       "29997     114.529600           4.774861  19.70846     0.017782  19.29767   \n",
       "29998      18.862020           3.359867  19.66572     0.018220  18.31620   \n",
       "29999     183.582000           8.842443  19.10244     0.018967  18.65643   \n",
       "\n",
       "       psfMagErr_z  \n",
       "0         0.024404  \n",
       "1         0.044774  \n",
       "2         0.029681  \n",
       "3         0.051723  \n",
       "4         0.023661  \n",
       "...            ...  \n",
       "29995     0.024433  \n",
       "29996     0.021852  \n",
       "29997     0.050942  \n",
       "29998     0.027412  \n",
       "29999     0.032826  \n",
       "\n",
       "[30000 rows x 36 columns]"
      ]
     },
     "execution_count": 2,
     "metadata": {},
     "output_type": "execute_result"
    }
   ],
   "source": [
    "galaxies = pd.read_csv('all_galaxies.csv', header=0)\n",
    "galaxies"
   ]
  },
  {
   "attachments": {},
   "cell_type": "markdown",
   "metadata": {},
   "source": [
    "# Task 1"
   ]
  },
  {
   "attachments": {},
   "cell_type": "markdown",
   "metadata": {},
   "source": [
    "## Distribution of the data"
   ]
  },
  {
   "cell_type": "code",
   "execution_count": 3,
   "metadata": {},
   "outputs": [
    {
     "data": {
      "text/plain": [
       "Counter({nan: 4710,\n",
       "         'STARFORMING': 14953,\n",
       "         'STARBURST': 7414,\n",
       "         'AGN': 1908,\n",
       "         'STARBURST BROADLINE': 203,\n",
       "         'AGN BROADLINE': 271,\n",
       "         'STARFORMING BROADLINE': 97,\n",
       "         'BROADLINE': 444})"
      ]
     },
     "execution_count": 3,
     "metadata": {},
     "output_type": "execute_result"
    }
   ],
   "source": [
    "Counter(galaxies['subclass'])"
   ]
  },
  {
   "cell_type": "code",
   "execution_count": 6,
   "metadata": {},
   "outputs": [
    {
     "data": {
      "image/png": "[encoded data removed]",
      "text/plain": [
       "<Figure size 360x360 with 1 Axes>"
      ]
     },
     "metadata": {},
     "output_type": "display_data"
    },
    {
     "data": {
      "image/png": "[encoded data removed]",
      "text/plain": [
       "<Figure size 360x360 with 1 Axes>"
      ]
     },
     "metadata": {},
     "output_type": "display_data"
    },
    {
     "data": {
      "image/png": "[encoded data removed]",
      "text/plain": [
       "<Figure size 360x360 with 1 Axes>"
      ]
     },
     "metadata": {},
     "output_type": "display_data"
    },
    {
     "data": {
      "image/png": "[encoded data removed]",
      "text/plain": [
       "<Figure size 360x360 with 1 Axes>"
      ]
     },
     "metadata": {},
     "output_type": "display_data"
    },
    {
     "data": {
      "image/png": "[encoded data removed]",
      "text/plain": [
       "<Figure size 360x360 with 1 Axes>"
      ]
     },
     "metadata": {},
     "output_type": "display_data"
    },
    {
     "data": {
      "image/png": "[encoded data removed]",
      "text/plain": [
       "<Figure size 360x360 with 1 Axes>"
      ]
     },
     "metadata": {},
     "output_type": "display_data"
    },
    {
     "data": {
      "image/png": "[encoded data removed]",
      "text/plain": [
       "<Figure size 360x360 with 1 Axes>"
      ]
     },
     "metadata": {},
     "output_type": "display_data"
    },
    {
     "data": {
      "image/png": "[encoded data removed]",
      "text/plain": [
       "<Figure size 360x360 with 1 Axes>"
      ]
     },
     "metadata": {},
     "output_type": "display_data"
    },
    {
     "data": {
      "image/png": "[encoded data removed]",
      "text/plain": [
       "<Figure size 360x360 with 1 Axes>"
      ]
     },
     "metadata": {},
     "output_type": "display_data"
    },
    {
     "data": {
      "image/png": "[encoded data removed]",
      "text/plain": [
       "<Figure size 360x360 with 1 Axes>"
      ]
     },
     "metadata": {},
     "output_type": "display_data"
    }
   ],
   "source": [
    "cols = ['oiii_5007_flux', 'h_beta_flux', 'nii_6584_flux', 'sii_6717_flux', \n",
    "        'sii_6731_flux','oi_6300_flux', 'h_alpha_flux', 'neiii_3869_flux', \n",
    "        'oii_3726_flux', 'oii_3729_flux']\n",
    "\n",
    "for col in cols:\n",
    "    sns.displot(data=galaxies, x=col, log_scale=True, kde=True)\n",
    "\n",
    "    plt.xlabel(col + r' [$10^{-17}$ erg s$^{-1}$ cm$^{-2}$]')\n",
    "\n",
    "    # plt.savefig('./data_histograms/distr_' + col + '.pdf')\n",
    "\n",
    "    plt.show()"
   ]
  },
  {
   "cell_type": "code",
   "execution_count": 7,
   "metadata": {},
   "outputs": [
    {
     "data": {
      "image/png": "[encoded data removed]",
      "text/plain": [
       "<Figure size 360x360 with 1 Axes>"
      ]
     },
     "metadata": {},
     "output_type": "display_data"
    },
    {
     "data": {
      "image/png": "[encoded data removed]",
      "text/plain": [
       "<Figure size 360x360 with 1 Axes>"
      ]
     },
     "metadata": {},
     "output_type": "display_data"
    }
   ],
   "source": [
    "cols = ['psfMag_g', 'psfMag_z']\n",
    "\n",
    "for col in cols:\n",
    "    sns.displot(data=galaxies, x=col, log_scale=False, kde=True)\n",
    "\n",
    "    plt.xlabel(col + r' [mag]')\n",
    "\n",
    "    # plt.savefig('./data_histograms/distr_' + col + '.pdf')\n",
    "\n",
    "    plt.show()"
   ]
  },
  {
   "cell_type": "code",
   "execution_count": 8,
   "metadata": {},
   "outputs": [
    {
     "data": {
      "image/png": "[encoded data removed]",
      "text/plain": [
       "<Figure size 360x360 with 1 Axes>"
      ]
     },
     "metadata": {},
     "output_type": "display_data"
    }
   ],
   "source": [
    "sns.displot(data=galaxies, x='h_alpha_reqw', log_scale=False, kde=True)\n",
    "\n",
    "plt.xlabel(r'h_alpha_reqw [Ang]')\n",
    "\n",
    "plt.xscale('symlog')\n",
    "\n",
    "# plt.savefig('./data_histograms/distr_h_alpha_reqw.pdf')\n",
    "\n",
    "plt.show()"
   ]
  },
  {
   "cell_type": "code",
   "execution_count": 9,
   "metadata": {},
   "outputs": [
    {
     "data": {
      "image/png": "[encoded data removed]",
      "text/plain": [
       "<Figure size 360x360 with 1 Axes>"
      ]
     },
     "metadata": {},
     "output_type": "display_data"
    }
   ],
   "source": [
    "sns.displot(data=galaxies, x='z', log_scale=False, kde=True)\n",
    "\n",
    "plt.xlabel(col)\n",
    "# plt.savefig('distr_redshift.pdf')\n",
    "\n",
    "plt.show()"
   ]
  },
  {
   "attachments": {},
   "cell_type": "markdown",
   "metadata": {},
   "source": [
    "## BPT Diagram"
   ]
  },
  {
   "cell_type": "code",
   "execution_count": 10,
   "metadata": {},
   "outputs": [
    {
     "data": {
      "text/plain": [
       "Index(['specobjid', 'plate', 'mjd', 'fiberID', 'ra', 'dec', 'subclass', 'z',\n",
       "       'oiii_5007_flux', 'oiii_5007_flux_err', 'h_alpha_flux',\n",
       "       'h_alpha_flux_err', 'h_beta_flux', 'h_beta_flux_err', 'nii_6584_flux',\n",
       "       'nii_6584_flux_err', 'sii_6717_flux', 'sii_6717_flux_err',\n",
       "       'sii_6731_flux', 'sii_6731_flux_err', 'oi_6300_flux',\n",
       "       'oi_6300_flux_err', 'h_alpha_reqw', 'h_alpha_reqw_err',\n",
       "       'neiii_3869_flux', 'neiii_3869_flux_err', 'oii_3726_flux',\n",
       "       'oii_3726_flux_err', 'oii_3729_flux', 'oii_3729_flux_err', 'psfMag_g',\n",
       "       'psfMagErr_g', 'psfMag_z', 'psfMagErr_z'],\n",
       "      dtype='object')"
      ]
     },
     "execution_count": 10,
     "metadata": {},
     "output_type": "execute_result"
    }
   ],
   "source": [
    "galaxies.columns"
   ]
  },
  {
   "cell_type": "code",
   "execution_count": 4,
   "metadata": {},
   "outputs": [],
   "source": [
    "# [NII] / H alpha\n",
    "galaxies['nii_h_alpha'] = galaxies.apply(lambda x: x['nii_6584_flux'] / x['h_alpha_flux'], axis=1)\n",
    "galaxies['nii_h_alpha_log'] = galaxies.apply(lambda x: np.log10(x['nii_h_alpha']), axis=1)\n",
    "\n",
    "# [OIII] / H beta\n",
    "galaxies['oiii_h_beta'] = galaxies.apply(lambda x: x['oiii_5007_flux'] / x['h_beta_flux'], axis=1)\n",
    "galaxies['oiii_h_beta_log'] = galaxies.apply(lambda x: np.log10(x['oiii_h_beta']), axis=1)\n",
    "\n",
    "# [SII] / H alpha\n",
    "galaxies['sii6717_h_alpha'] = galaxies.apply(lambda x: x['sii_6717_flux'] / x['h_alpha_flux'], axis=1)\n",
    "galaxies['sii6717_h_alpha_log'] = galaxies.apply(lambda x: np.log10(x['sii6717_h_alpha']), axis=1)\n",
    "\n",
    "galaxies['sii6731_h_alpha'] = galaxies.apply(lambda x: x['sii_6731_flux'] / x['h_alpha_flux'], axis=1)\n",
    "galaxies['sii6731_h_alpha_log'] = galaxies.apply(lambda x: np.log10(x['sii6731_h_alpha']), axis=1)\n",
    "\n",
    "# [OIII] / [OI]\n",
    "galaxies['oi_h_alpha'] = galaxies.apply(lambda x: x['oi_6300_flux'] / x['h_alpha_flux'], axis=1)\n",
    "galaxies['oi_h_alpha_log'] = galaxies.apply(lambda x: np.log10(x['oi_h_alpha']), axis=1)"
   ]
  },
  {
   "attachments": {},
   "cell_type": "markdown",
   "metadata": {},
   "source": [
    "### BPT Diagram with SDSS Spectral Subclasses"
   ]
  },
  {
   "cell_type": "code",
   "execution_count": 5,
   "metadata": {},
   "outputs": [
    {
     "data": {
      "text/html": [
       "<div>\n",
       "<style scoped>\n",
       "    .dataframe tbody tr th:only-of-type {\n",
       "        vertical-align: middle;\n",
       "    }\n",
       "\n",
       "    .dataframe tbody tr th {\n",
       "        vertical-align: top;\n",
       "    }\n",
       "\n",
       "    .dataframe thead th {\n",
       "        text-align: right;\n",
       "    }\n",
       "</style>\n",
       "<table border=\"1\" class=\"dataframe\">\n",
       "  <thead>\n",
       "    <tr style=\"text-align: right;\">\n",
       "      <th></th>\n",
       "      <th>nii_h_alpha_log</th>\n",
       "      <th>oiii_h_beta_log</th>\n",
       "    </tr>\n",
       "  </thead>\n",
       "  <tbody>\n",
       "    <tr>\n",
       "      <th>count</th>\n",
       "      <td>30000.000000</td>\n",
       "      <td>30000.000000</td>\n",
       "    </tr>\n",
       "    <tr>\n",
       "      <th>mean</th>\n",
       "      <td>-0.403838</td>\n",
       "      <td>-0.109805</td>\n",
       "    </tr>\n",
       "    <tr>\n",
       "      <th>std</th>\n",
       "      <td>0.270922</td>\n",
       "      <td>0.395701</td>\n",
       "    </tr>\n",
       "    <tr>\n",
       "      <th>min</th>\n",
       "      <td>-2.025090</td>\n",
       "      <td>-1.866252</td>\n",
       "    </tr>\n",
       "    <tr>\n",
       "      <th>25%</th>\n",
       "      <td>-0.537497</td>\n",
       "      <td>-0.419028</td>\n",
       "    </tr>\n",
       "    <tr>\n",
       "      <th>50%</th>\n",
       "      <td>-0.422225</td>\n",
       "      <td>-0.145506</td>\n",
       "    </tr>\n",
       "    <tr>\n",
       "      <th>75%</th>\n",
       "      <td>-0.251653</td>\n",
       "      <td>0.158871</td>\n",
       "    </tr>\n",
       "    <tr>\n",
       "      <th>max</th>\n",
       "      <td>0.625955</td>\n",
       "      <td>1.804436</td>\n",
       "    </tr>\n",
       "  </tbody>\n",
       "</table>\n",
       "</div>"
      ],
      "text/plain": [
       "       nii_h_alpha_log  oiii_h_beta_log\n",
       "count     30000.000000     30000.000000\n",
       "mean         -0.403838        -0.109805\n",
       "std           0.270922         0.395701\n",
       "min          -2.025090        -1.866252\n",
       "25%          -0.537497        -0.419028\n",
       "50%          -0.422225        -0.145506\n",
       "75%          -0.251653         0.158871\n",
       "max           0.625955         1.804436"
      ]
     },
     "execution_count": 5,
     "metadata": {},
     "output_type": "execute_result"
    }
   ],
   "source": [
    "galaxies[['nii_h_alpha_log', 'oiii_h_beta_log']].describe()"
   ]
  },
  {
   "cell_type": "code",
   "execution_count": 88,
   "metadata": {},
   "outputs": [],
   "source": [
    "plt.figure(figsize=(10, 8))\n",
    "\n",
    "sns.scatterplot(data=galaxies, x='nii_h_alpha', y='oiii_h_beta', palette='colorblind', \n",
    "                hue='subclass', style='subclass', size='subclass', sizes=(80, 20))\n",
    "\n",
    "sns.kdeplot(data=galaxies, x='nii_h_alpha', y='oiii_h_beta', levels=7, alpha=0.5, \n",
    "            cut=2, color='k', log_scale=True)\n",
    "\n",
    "plt.xlabel(r'[NII] / H$\\alpha$', fontsize=13)\n",
    "plt.ylabel(r'[OIII] / H$\\beta$', fontsize=13)\n",
    "\n",
    "plt.xlim(0.005, 6.55)\n",
    "\n",
    "plt.xscale('log')\n",
    "plt.yscale('log')\n",
    "\n",
    "plt.legend(loc='lower left', fontsize=10)\n",
    "\n",
    "# plt.savefig('./BPT_Diagrams/BPT_diagram_sdss_subclasses.pdf')\n",
    "\n",
    "plt.show()"
   ]
  },
  {
   "attachments": {},
   "cell_type": "markdown",
   "metadata": {},
   "source": [
    "### BPT Function"
   ]
  },
  {
   "cell_type": "code",
   "execution_count": 6,
   "metadata": {},
   "outputs": [],
   "source": [
    "def plot_BPT(data, x, y, hue, xlabel, ylabel, \n",
    "             Kauffman=True, Kewley=True, \n",
    "             ylim=(-2.0, 2.0), \n",
    "             density=False, \n",
    "             save=False, save_name=None):\n",
    "    \n",
    "    plt.figure(figsize=(12, 8))\n",
    "\n",
    "    plt.ylim(ylim)\n",
    "\n",
    "    sns.scatterplot(data=data, x=x, y=y, palette='colorblind', \n",
    "                    hue=hue, style='BPT final', size=hue, sizes=(30, 15))\n",
    "    if density:\n",
    "        sns.kdeplot(data=galaxies, x=x, y=y, levels=7, alpha=0.5, cut=2, color='k')\n",
    "\n",
    "    # ------------------------------------------------------------------------------------------------\n",
    "    # Kauffman\n",
    "    if Kauffman:\n",
    "        x_to_plot = np.linspace(galaxies[x].min(), 0)\n",
    "        plt.plot(x_to_plot, 0.61 / (x_to_plot - 0.05) + 1.3, label='Kauffman et al. 2003', \n",
    "                linewidth=1.5, alpha=0.8, c='k', linestyle='dashdot')\n",
    "\n",
    "    # ------------------------------------------------------------------------------------------------\n",
    "    # Kewley\n",
    "    if Kewley:\n",
    "        x_to_plot_1 = np.linspace(galaxies[x].min(), 0.4)\n",
    "        plt.plot(x_to_plot_1, 0.61 / (x_to_plot_1 - 0.47) + 1.19, label='Kewley et al. 2001', \n",
    "                linewidth=1.5, alpha=0.8, c='k', linestyle='dashed')\n",
    "\n",
    "    # ------------------------------------------------------------------------------------------------\n",
    "\n",
    "    plt.xlabel(xlabel, fontsize=13)\n",
    "    plt.ylabel(ylabel, fontsize=13)\n",
    "\n",
    "    plt.legend(loc='lower left', fontsize=12)\n",
    "\n",
    "    if save:\n",
    "        plt.savefig('./BPT_Diagrams/' + save_name + '.pdf')\n",
    "\n",
    "    plt.show()"
   ]
  },
  {
   "attachments": {},
   "cell_type": "markdown",
   "metadata": {},
   "source": [
    "### [NII]/H $\\alpha$ vs. [OIII]/H $\\beta$\n",
    "\n",
    "#### Kauffman et al. 2003"
   ]
  },
  {
   "cell_type": "code",
   "execution_count": 7,
   "metadata": {},
   "outputs": [],
   "source": [
    "def BPT_class_Kauff(oiii_h_beta, nii_h_alpha):\n",
    "    # second condition is to avoid double lines\n",
    "    if (np.log10(oiii_h_beta) < 0.61 / (np.log10(nii_h_alpha) - 0.05) + 1.3) and (np.log10(nii_h_alpha) < 0.0):\n",
    "        return 'Star Forming'\n",
    "    else:\n",
    "        return 'AGN'"
   ]
  },
  {
   "attachments": {},
   "cell_type": "markdown",
   "metadata": {},
   "source": [
    "#### Kewley et al. 2001"
   ]
  },
  {
   "cell_type": "code",
   "execution_count": 8,
   "metadata": {},
   "outputs": [],
   "source": [
    "def BPT_class_Kew(oiii_h_beta, nii_h_alpha):\n",
    "    if np.log10(oiii_h_beta) < 0.61 / (np.log10(nii_h_alpha) - 0.47) + 1.19 and np.log10(nii_h_alpha) < 0.4:\n",
    "        return 'Star Forming'\n",
    "    else:\n",
    "        return 'AGN'\n"
   ]
  },
  {
   "cell_type": "code",
   "execution_count": 9,
   "metadata": {},
   "outputs": [],
   "source": [
    "galaxies['BPT Kauffman'] = galaxies.apply(lambda x: BPT_class_Kauff(x['oiii_h_beta'], x['nii_h_alpha']), axis=1)\n",
    "galaxies['BPT Kewley'] = galaxies.apply(lambda x: BPT_class_Kew(x['oiii_h_beta'], x['nii_h_alpha']), axis=1)"
   ]
  },
  {
   "cell_type": "code",
   "execution_count": 10,
   "metadata": {},
   "outputs": [],
   "source": [
    "def BPT_final_class(row):\n",
    "    if row['BPT Kauffman'] != row['BPT Kewley']:\n",
    "        return 'Composite'\n",
    "    else:  # they are equal\n",
    "        return row['BPT Kewley']"
   ]
  },
  {
   "cell_type": "code",
   "execution_count": 11,
   "metadata": {},
   "outputs": [
    {
     "data": {
      "text/plain": [
       "Counter({'AGN': 5035, 'Star Forming': 19410, 'Composite': 5555})"
      ]
     },
     "execution_count": 11,
     "metadata": {},
     "output_type": "execute_result"
    }
   ],
   "source": [
    "galaxies['BPT final'] = galaxies.apply(lambda x: BPT_final_class(x), axis=1)\n",
    "Counter(galaxies['BPT final'])"
   ]
  },
  {
   "cell_type": "code",
   "execution_count": 90,
   "metadata": {},
   "outputs": [],
   "source": [
    "plot_BPT(galaxies, 'nii_h_alpha_log', 'oiii_h_beta_log', 'BPT final', \n",
    "         r'log [NII] / H$\\alpha$', r'log [OIII] / H$\\beta$', \n",
    "         Kauffman=True, Kewley=True, density=True)#, save=True, save_name='BPT_niiHa_oiiiHb')"
   ]
  },
  {
   "attachments": {},
   "cell_type": "markdown",
   "metadata": {},
   "source": [
    "### [SII]/H $\\alpha$ vs. [OIII]/H $\\beta$"
   ]
  },
  {
   "cell_type": "code",
   "execution_count": 91,
   "metadata": {},
   "outputs": [],
   "source": [
    "plot_BPT(galaxies, 'sii6717_h_alpha_log', 'oiii_h_beta_log', 'BPT final', \n",
    "         r'log [SII] 6717 / H$\\alpha$', r'log [OIII] / H$\\beta$', \n",
    "         Kauffman=True, Kewley=True, density=True)#, save=True, save_name='BPT_sii6717Ha_oiiiHb')"
   ]
  },
  {
   "cell_type": "code",
   "execution_count": 92,
   "metadata": {},
   "outputs": [],
   "source": [
    "plot_BPT(galaxies, 'sii6731_h_alpha_log', 'oiii_h_beta_log', 'BPT final', \n",
    "         r'log [SII] 6731 / H$\\alpha$', r'log [OIII] / H$\\beta$', \n",
    "         Kauffman=True, Kewley=True, density=True)#, save=True, save_name='BPT_sii6731Ha_oiiiHb')"
   ]
  },
  {
   "cell_type": "code",
   "execution_count": 12,
   "metadata": {},
   "outputs": [],
   "source": [
    "galaxies['sii_h_alpha'] = galaxies.apply(lambda x: (x['sii6717_h_alpha'] + x['sii6731_h_alpha']) / 2, axis=1)\n",
    "galaxies['sii_h_alpha_log'] = galaxies.apply(lambda x: np.log10(x['sii_h_alpha']), axis=1)"
   ]
  },
  {
   "cell_type": "code",
   "execution_count": 94,
   "metadata": {},
   "outputs": [
    {
     "data": {
      "text/html": [
       "<div>\n",
       "<style scoped>\n",
       "    .dataframe tbody tr th:only-of-type {\n",
       "        vertical-align: middle;\n",
       "    }\n",
       "\n",
       "    .dataframe tbody tr th {\n",
       "        vertical-align: top;\n",
       "    }\n",
       "\n",
       "    .dataframe thead th {\n",
       "        text-align: right;\n",
       "    }\n",
       "</style>\n",
       "<table border=\"1\" class=\"dataframe\">\n",
       "  <thead>\n",
       "    <tr style=\"text-align: right;\">\n",
       "      <th></th>\n",
       "      <th>sii6717_h_alpha</th>\n",
       "      <th>sii6731_h_alpha</th>\n",
       "      <th>sii_h_alpha</th>\n",
       "    </tr>\n",
       "  </thead>\n",
       "  <tbody>\n",
       "    <tr>\n",
       "      <th>count</th>\n",
       "      <td>30000.000000</td>\n",
       "      <td>30000.000000</td>\n",
       "      <td>30000.000000</td>\n",
       "    </tr>\n",
       "    <tr>\n",
       "      <th>mean</th>\n",
       "      <td>0.236260</td>\n",
       "      <td>0.174624</td>\n",
       "      <td>0.205442</td>\n",
       "    </tr>\n",
       "    <tr>\n",
       "      <th>std</th>\n",
       "      <td>0.151128</td>\n",
       "      <td>0.240988</td>\n",
       "      <td>0.160457</td>\n",
       "    </tr>\n",
       "    <tr>\n",
       "      <th>min</th>\n",
       "      <td>0.000017</td>\n",
       "      <td>0.000012</td>\n",
       "      <td>0.000015</td>\n",
       "    </tr>\n",
       "    <tr>\n",
       "      <th>25%</th>\n",
       "      <td>0.161981</td>\n",
       "      <td>0.117389</td>\n",
       "      <td>0.140765</td>\n",
       "    </tr>\n",
       "    <tr>\n",
       "      <th>50%</th>\n",
       "      <td>0.197402</td>\n",
       "      <td>0.140893</td>\n",
       "      <td>0.169683</td>\n",
       "    </tr>\n",
       "    <tr>\n",
       "      <th>75%</th>\n",
       "      <td>0.254186</td>\n",
       "      <td>0.183066</td>\n",
       "      <td>0.218774</td>\n",
       "    </tr>\n",
       "    <tr>\n",
       "      <th>max</th>\n",
       "      <td>12.596268</td>\n",
       "      <td>34.512769</td>\n",
       "      <td>17.367874</td>\n",
       "    </tr>\n",
       "  </tbody>\n",
       "</table>\n",
       "</div>"
      ],
      "text/plain": [
       "       sii6717_h_alpha  sii6731_h_alpha   sii_h_alpha\n",
       "count     30000.000000     30000.000000  30000.000000\n",
       "mean          0.236260         0.174624      0.205442\n",
       "std           0.151128         0.240988      0.160457\n",
       "min           0.000017         0.000012      0.000015\n",
       "25%           0.161981         0.117389      0.140765\n",
       "50%           0.197402         0.140893      0.169683\n",
       "75%           0.254186         0.183066      0.218774\n",
       "max          12.596268        34.512769     17.367874"
      ]
     },
     "execution_count": 94,
     "metadata": {},
     "output_type": "execute_result"
    }
   ],
   "source": [
    "galaxies[['sii6717_h_alpha', 'sii6731_h_alpha', 'sii_h_alpha']].describe()"
   ]
  },
  {
   "cell_type": "code",
   "execution_count": 95,
   "metadata": {},
   "outputs": [],
   "source": [
    "plot_BPT(galaxies, 'sii_h_alpha_log', 'oiii_h_beta_log', 'BPT final', \n",
    "         r'log [SII] 6717, 6731 / H$\\alpha$', r'log [OIII] / H$\\beta$', \n",
    "         Kauffman=True, Kewley=True, density=True)#, save=True, save_name='BPT_sii67176731Ha_oiiiHb')"
   ]
  },
  {
   "attachments": {},
   "cell_type": "markdown",
   "metadata": {},
   "source": [
    "### [OIII]/H $\\beta$ vs [OI]/H $\\alpha$"
   ]
  },
  {
   "cell_type": "code",
   "execution_count": 96,
   "metadata": {},
   "outputs": [],
   "source": [
    "plot_BPT(galaxies, 'oi_h_alpha_log', 'oiii_h_beta_log', 'BPT final', \n",
    "         r'log [OI] / H$\\alpha$', r'log [OIII] / H$\\beta$', \n",
    "         Kauffman=True, Kewley=True, density=True)#, save=True, save_name='BPT_oiHa_oiiiHb')"
   ]
  },
  {
   "attachments": {},
   "cell_type": "markdown",
   "metadata": {},
   "source": [
    "## WHAN Diagram"
   ]
  },
  {
   "cell_type": "code",
   "execution_count": 14,
   "metadata": {},
   "outputs": [
    {
     "name": "stderr",
     "output_type": "stream",
     "text": [
      "/Users/nicolasgalvarinoguerravaras/anaconda3/lib/python3.7/site-packages/ipykernel_launcher.py:1: RuntimeWarning: invalid value encountered in log10\n",
      "  \"\"\"Entry point for launching an IPython kernel.\n",
      "/Users/nicolasgalvarinoguerravaras/anaconda3/lib/python3.7/site-packages/ipykernel_launcher.py:4: RuntimeWarning: invalid value encountered in log10\n",
      "  after removing the cwd from sys.path.\n"
     ]
    }
   ],
   "source": [
    "galaxies['h_alpha_reqw_log'] = galaxies.apply(lambda x: np.log10(x['h_alpha_reqw']), axis=1)\n",
    "galaxies['h_alpha_reqw_abs'] = galaxies.apply(lambda x: np.abs(x['h_alpha_reqw']), axis=1)\n",
    "\n",
    "galaxies['nii_6584_reqw_log'] = galaxies.apply(lambda x: np.log10(x['nii_6584_reqw']), axis=1)\n",
    "galaxies['nii_6584_reqw_abs'] = galaxies.apply(lambda x: np.abs(x['nii_6584_reqw']), axis=1)"
   ]
  },
  {
   "cell_type": "code",
   "execution_count": 15,
   "metadata": {},
   "outputs": [
    {
     "data": {
      "text/html": [
       "<div>\n",
       "<style scoped>\n",
       "    .dataframe tbody tr th:only-of-type {\n",
       "        vertical-align: middle;\n",
       "    }\n",
       "\n",
       "    .dataframe tbody tr th {\n",
       "        vertical-align: top;\n",
       "    }\n",
       "\n",
       "    .dataframe thead th {\n",
       "        text-align: right;\n",
       "    }\n",
       "</style>\n",
       "<table border=\"1\" class=\"dataframe\">\n",
       "  <thead>\n",
       "    <tr style=\"text-align: right;\">\n",
       "      <th></th>\n",
       "      <th>h_alpha_reqw</th>\n",
       "      <th>h_alpha_reqw_abs</th>\n",
       "      <th>h_alpha_reqw_log</th>\n",
       "    </tr>\n",
       "  </thead>\n",
       "  <tbody>\n",
       "    <tr>\n",
       "      <th>count</th>\n",
       "      <td>30000.000000</td>\n",
       "      <td>30000.000000</td>\n",
       "      <td>1045.000000</td>\n",
       "    </tr>\n",
       "    <tr>\n",
       "      <th>mean</th>\n",
       "      <td>-30.474006</td>\n",
       "      <td>30.505340</td>\n",
       "      <td>-0.502930</td>\n",
       "    </tr>\n",
       "    <tr>\n",
       "      <th>std</th>\n",
       "      <td>48.174737</td>\n",
       "      <td>48.154902</td>\n",
       "      <td>0.450692</td>\n",
       "    </tr>\n",
       "    <tr>\n",
       "      <th>min</th>\n",
       "      <td>-1986.580000</td>\n",
       "      <td>0.000136</td>\n",
       "      <td>-3.694147</td>\n",
       "    </tr>\n",
       "    <tr>\n",
       "      <th>25%</th>\n",
       "      <td>-38.240073</td>\n",
       "      <td>9.195223</td>\n",
       "      <td>-0.692584</td>\n",
       "    </tr>\n",
       "    <tr>\n",
       "      <th>50%</th>\n",
       "      <td>-21.499840</td>\n",
       "      <td>21.499840</td>\n",
       "      <td>-0.406230</td>\n",
       "    </tr>\n",
       "    <tr>\n",
       "      <th>75%</th>\n",
       "      <td>-9.195223</td>\n",
       "      <td>38.240073</td>\n",
       "      <td>-0.191100</td>\n",
       "    </tr>\n",
       "    <tr>\n",
       "      <th>max</th>\n",
       "      <td>2.084865</td>\n",
       "      <td>1986.580000</td>\n",
       "      <td>0.319078</td>\n",
       "    </tr>\n",
       "  </tbody>\n",
       "</table>\n",
       "</div>"
      ],
      "text/plain": [
       "       h_alpha_reqw  h_alpha_reqw_abs  h_alpha_reqw_log\n",
       "count  30000.000000      30000.000000       1045.000000\n",
       "mean     -30.474006         30.505340         -0.502930\n",
       "std       48.174737         48.154902          0.450692\n",
       "min    -1986.580000          0.000136         -3.694147\n",
       "25%      -38.240073          9.195223         -0.692584\n",
       "50%      -21.499840         21.499840         -0.406230\n",
       "75%       -9.195223         38.240073         -0.191100\n",
       "max        2.084865       1986.580000          0.319078"
      ]
     },
     "execution_count": 15,
     "metadata": {},
     "output_type": "execute_result"
    }
   ],
   "source": [
    "galaxies[['h_alpha_reqw', 'h_alpha_reqw_abs', 'h_alpha_reqw_log']].describe()"
   ]
  },
  {
   "cell_type": "code",
   "execution_count": 21,
   "metadata": {},
   "outputs": [
    {
     "data": {
      "text/html": [
       "<div>\n",
       "<style scoped>\n",
       "    .dataframe tbody tr th:only-of-type {\n",
       "        vertical-align: middle;\n",
       "    }\n",
       "\n",
       "    .dataframe tbody tr th {\n",
       "        vertical-align: top;\n",
       "    }\n",
       "\n",
       "    .dataframe thead th {\n",
       "        text-align: right;\n",
       "    }\n",
       "</style>\n",
       "<table border=\"1\" class=\"dataframe\">\n",
       "  <thead>\n",
       "    <tr style=\"text-align: right;\">\n",
       "      <th></th>\n",
       "      <th>specobjid</th>\n",
       "      <th>plate</th>\n",
       "      <th>mjd</th>\n",
       "      <th>fiberID</th>\n",
       "      <th>ra</th>\n",
       "      <th>dec</th>\n",
       "      <th>z</th>\n",
       "      <th>oiii_5007_flux</th>\n",
       "      <th>oiii_5007_flux_err</th>\n",
       "      <th>h_alpha_flux</th>\n",
       "      <th>...</th>\n",
       "      <th>sii6731_h_alpha</th>\n",
       "      <th>sii6731_h_alpha_log</th>\n",
       "      <th>oi_h_alpha</th>\n",
       "      <th>oi_h_alpha_log</th>\n",
       "      <th>sii_h_alpha</th>\n",
       "      <th>sii_h_alpha_log</th>\n",
       "      <th>h_alpha_reqw_log</th>\n",
       "      <th>h_alpha_reqw_abs</th>\n",
       "      <th>nii_6584_reqw_log</th>\n",
       "      <th>nii_6584_reqw_abs</th>\n",
       "    </tr>\n",
       "  </thead>\n",
       "  <tbody>\n",
       "    <tr>\n",
       "      <th>count</th>\n",
       "      <td>1.045000e+03</td>\n",
       "      <td>1045.000000</td>\n",
       "      <td>1045.000000</td>\n",
       "      <td>1045.000000</td>\n",
       "      <td>1045.000000</td>\n",
       "      <td>1045.000000</td>\n",
       "      <td>1045.000000</td>\n",
       "      <td>1045.000000</td>\n",
       "      <td>1045.000000</td>\n",
       "      <td>1045.000000</td>\n",
       "      <td>...</td>\n",
       "      <td>1045.000000</td>\n",
       "      <td>1045.000000</td>\n",
       "      <td>1045.000000</td>\n",
       "      <td>1045.000000</td>\n",
       "      <td>1045.000000</td>\n",
       "      <td>1045.000000</td>\n",
       "      <td>1045.000000</td>\n",
       "      <td>1045.000000</td>\n",
       "      <td>1.000000</td>\n",
       "      <td>1045.000000</td>\n",
       "    </tr>\n",
       "    <tr>\n",
       "      <th>mean</th>\n",
       "      <td>5.590824e+17</td>\n",
       "      <td>496.483254</td>\n",
       "      <td>52034.628708</td>\n",
       "      <td>334.523445</td>\n",
       "      <td>166.958153</td>\n",
       "      <td>19.823010</td>\n",
       "      <td>0.080622</td>\n",
       "      <td>21.843837</td>\n",
       "      <td>3.448558</td>\n",
       "      <td>37.918674</td>\n",
       "      <td>...</td>\n",
       "      <td>0.347009</td>\n",
       "      <td>-0.504068</td>\n",
       "      <td>0.218162</td>\n",
       "      <td>-0.713381</td>\n",
       "      <td>0.423804</td>\n",
       "      <td>-0.401692</td>\n",
       "      <td>-0.502930</td>\n",
       "      <td>0.449763</td>\n",
       "      <td>-1.871863</td>\n",
       "      <td>1.355300</td>\n",
       "    </tr>\n",
       "    <tr>\n",
       "      <th>std</th>\n",
       "      <td>1.840483e+17</td>\n",
       "      <td>163.466170</td>\n",
       "      <td>275.193676</td>\n",
       "      <td>182.409797</td>\n",
       "      <td>75.212961</td>\n",
       "      <td>26.058351</td>\n",
       "      <td>0.034426</td>\n",
       "      <td>15.737773</td>\n",
       "      <td>1.295537</td>\n",
       "      <td>45.592059</td>\n",
       "      <td>...</td>\n",
       "      <td>0.165165</td>\n",
       "      <td>0.202690</td>\n",
       "      <td>0.120937</td>\n",
       "      <td>0.210371</td>\n",
       "      <td>0.160293</td>\n",
       "      <td>0.163942</td>\n",
       "      <td>0.450692</td>\n",
       "      <td>0.316475</td>\n",
       "      <td>NaN</td>\n",
       "      <td>0.575454</td>\n",
       "    </tr>\n",
       "    <tr>\n",
       "      <th>min</th>\n",
       "      <td>2.995644e+17</td>\n",
       "      <td>266.000000</td>\n",
       "      <td>51602.000000</td>\n",
       "      <td>2.000000</td>\n",
       "      <td>0.318710</td>\n",
       "      <td>-11.060015</td>\n",
       "      <td>0.023996</td>\n",
       "      <td>2.537258</td>\n",
       "      <td>1.255746</td>\n",
       "      <td>3.802541</td>\n",
       "      <td>...</td>\n",
       "      <td>0.005154</td>\n",
       "      <td>-2.287842</td>\n",
       "      <td>0.008380</td>\n",
       "      <td>-2.076735</td>\n",
       "      <td>0.007343</td>\n",
       "      <td>-2.134135</td>\n",
       "      <td>-3.694147</td>\n",
       "      <td>0.000202</td>\n",
       "      <td>-1.871863</td>\n",
       "      <td>0.013432</td>\n",
       "    </tr>\n",
       "    <tr>\n",
       "      <th>25%</th>\n",
       "      <td>3.997704e+17</td>\n",
       "      <td>355.000000</td>\n",
       "      <td>51885.000000</td>\n",
       "      <td>180.000000</td>\n",
       "      <td>134.246060</td>\n",
       "      <td>0.226860</td>\n",
       "      <td>0.053978</td>\n",
       "      <td>10.907100</td>\n",
       "      <td>2.590546</td>\n",
       "      <td>20.112970</td>\n",
       "      <td>...</td>\n",
       "      <td>0.241291</td>\n",
       "      <td>-0.617459</td>\n",
       "      <td>0.140451</td>\n",
       "      <td>-0.852475</td>\n",
       "      <td>0.317787</td>\n",
       "      <td>-0.497864</td>\n",
       "      <td>-0.692584</td>\n",
       "      <td>0.202963</td>\n",
       "      <td>-1.871863</td>\n",
       "      <td>0.995097</td>\n",
       "    </tr>\n",
       "    <tr>\n",
       "      <th>50%</th>\n",
       "      <td>5.528842e+17</td>\n",
       "      <td>491.000000</td>\n",
       "      <td>51992.000000</td>\n",
       "      <td>344.000000</td>\n",
       "      <td>172.391140</td>\n",
       "      <td>3.083719</td>\n",
       "      <td>0.077414</td>\n",
       "      <td>17.202580</td>\n",
       "      <td>3.186370</td>\n",
       "      <td>29.554330</td>\n",
       "      <td>...</td>\n",
       "      <td>0.318718</td>\n",
       "      <td>-0.496593</td>\n",
       "      <td>0.190775</td>\n",
       "      <td>-0.719478</td>\n",
       "      <td>0.400719</td>\n",
       "      <td>-0.397160</td>\n",
       "      <td>-0.406230</td>\n",
       "      <td>0.392437</td>\n",
       "      <td>-1.871863</td>\n",
       "      <td>1.270384</td>\n",
       "    </tr>\n",
       "    <tr>\n",
       "      <th>75%</th>\n",
       "      <td>6.598953e+17</td>\n",
       "      <td>586.000000</td>\n",
       "      <td>52234.000000</td>\n",
       "      <td>497.000000</td>\n",
       "      <td>215.722990</td>\n",
       "      <td>48.348354</td>\n",
       "      <td>0.103077</td>\n",
       "      <td>27.991280</td>\n",
       "      <td>4.004079</td>\n",
       "      <td>45.078800</td>\n",
       "      <td>...</td>\n",
       "      <td>0.419680</td>\n",
       "      <td>-0.377082</td>\n",
       "      <td>0.263929</td>\n",
       "      <td>-0.578512</td>\n",
       "      <td>0.496223</td>\n",
       "      <td>-0.304323</td>\n",
       "      <td>-0.191100</td>\n",
       "      <td>0.644020</td>\n",
       "      <td>-1.871863</td>\n",
       "      <td>1.650767</td>\n",
       "    </tr>\n",
       "    <tr>\n",
       "      <th>max</th>\n",
       "      <td>1.186835e+18</td>\n",
       "      <td>1054.000000</td>\n",
       "      <td>54530.000000</td>\n",
       "      <td>640.000000</td>\n",
       "      <td>359.968180</td>\n",
       "      <td>68.386090</td>\n",
       "      <td>0.275342</td>\n",
       "      <td>143.438400</td>\n",
       "      <td>11.069600</td>\n",
       "      <td>1262.027000</td>\n",
       "      <td>...</td>\n",
       "      <td>1.967627</td>\n",
       "      <td>0.293943</td>\n",
       "      <td>1.348939</td>\n",
       "      <td>0.129992</td>\n",
       "      <td>1.564043</td>\n",
       "      <td>0.194249</td>\n",
       "      <td>0.319078</td>\n",
       "      <td>2.084865</td>\n",
       "      <td>-1.871863</td>\n",
       "      <td>5.534912</td>\n",
       "    </tr>\n",
       "  </tbody>\n",
       "</table>\n",
       "<p>8 rows × 51 columns</p>\n",
       "</div>"
      ],
      "text/plain": [
       "          specobjid        plate           mjd      fiberID           ra  \\\n",
       "count  1.045000e+03  1045.000000   1045.000000  1045.000000  1045.000000   \n",
       "mean   5.590824e+17   496.483254  52034.628708   334.523445   166.958153   \n",
       "std    1.840483e+17   163.466170    275.193676   182.409797    75.212961   \n",
       "min    2.995644e+17   266.000000  51602.000000     2.000000     0.318710   \n",
       "25%    3.997704e+17   355.000000  51885.000000   180.000000   134.246060   \n",
       "50%    5.528842e+17   491.000000  51992.000000   344.000000   172.391140   \n",
       "75%    6.598953e+17   586.000000  52234.000000   497.000000   215.722990   \n",
       "max    1.186835e+18  1054.000000  54530.000000   640.000000   359.968180   \n",
       "\n",
       "               dec            z  oiii_5007_flux  oiii_5007_flux_err  \\\n",
       "count  1045.000000  1045.000000     1045.000000         1045.000000   \n",
       "mean     19.823010     0.080622       21.843837            3.448558   \n",
       "std      26.058351     0.034426       15.737773            1.295537   \n",
       "min     -11.060015     0.023996        2.537258            1.255746   \n",
       "25%       0.226860     0.053978       10.907100            2.590546   \n",
       "50%       3.083719     0.077414       17.202580            3.186370   \n",
       "75%      48.348354     0.103077       27.991280            4.004079   \n",
       "max      68.386090     0.275342      143.438400           11.069600   \n",
       "\n",
       "       h_alpha_flux  ...  sii6731_h_alpha  sii6731_h_alpha_log   oi_h_alpha  \\\n",
       "count   1045.000000  ...      1045.000000          1045.000000  1045.000000   \n",
       "mean      37.918674  ...         0.347009            -0.504068     0.218162   \n",
       "std       45.592059  ...         0.165165             0.202690     0.120937   \n",
       "min        3.802541  ...         0.005154            -2.287842     0.008380   \n",
       "25%       20.112970  ...         0.241291            -0.617459     0.140451   \n",
       "50%       29.554330  ...         0.318718            -0.496593     0.190775   \n",
       "75%       45.078800  ...         0.419680            -0.377082     0.263929   \n",
       "max     1262.027000  ...         1.967627             0.293943     1.348939   \n",
       "\n",
       "       oi_h_alpha_log  sii_h_alpha  sii_h_alpha_log  h_alpha_reqw_log  \\\n",
       "count     1045.000000  1045.000000      1045.000000       1045.000000   \n",
       "mean        -0.713381     0.423804        -0.401692         -0.502930   \n",
       "std          0.210371     0.160293         0.163942          0.450692   \n",
       "min         -2.076735     0.007343        -2.134135         -3.694147   \n",
       "25%         -0.852475     0.317787        -0.497864         -0.692584   \n",
       "50%         -0.719478     0.400719        -0.397160         -0.406230   \n",
       "75%         -0.578512     0.496223        -0.304323         -0.191100   \n",
       "max          0.129992     1.564043         0.194249          0.319078   \n",
       "\n",
       "       h_alpha_reqw_abs  nii_6584_reqw_log  nii_6584_reqw_abs  \n",
       "count       1045.000000           1.000000        1045.000000  \n",
       "mean           0.449763          -1.871863           1.355300  \n",
       "std            0.316475                NaN           0.575454  \n",
       "min            0.000202          -1.871863           0.013432  \n",
       "25%            0.202963          -1.871863           0.995097  \n",
       "50%            0.392437          -1.871863           1.270384  \n",
       "75%            0.644020          -1.871863           1.650767  \n",
       "max            2.084865          -1.871863           5.534912  \n",
       "\n",
       "[8 rows x 51 columns]"
      ]
     },
     "execution_count": 21,
     "metadata": {},
     "output_type": "execute_result"
    }
   ],
   "source": [
    "galaxies[galaxies['h_alpha_reqw'] > 0].describe()"
   ]
  },
  {
   "cell_type": "code",
   "execution_count": 30,
   "metadata": {},
   "outputs": [
    {
     "data": {
      "text/html": [
       "<div>\n",
       "<style scoped>\n",
       "    .dataframe tbody tr th:only-of-type {\n",
       "        vertical-align: middle;\n",
       "    }\n",
       "\n",
       "    .dataframe tbody tr th {\n",
       "        vertical-align: top;\n",
       "    }\n",
       "\n",
       "    .dataframe thead th {\n",
       "        text-align: right;\n",
       "    }\n",
       "</style>\n",
       "<table border=\"1\" class=\"dataframe\">\n",
       "  <thead>\n",
       "    <tr style=\"text-align: right;\">\n",
       "      <th></th>\n",
       "      <th>h_alpha_reqw_abs</th>\n",
       "      <th>nii_6584_reqw_abs</th>\n",
       "    </tr>\n",
       "  </thead>\n",
       "  <tbody>\n",
       "    <tr>\n",
       "      <th>count</th>\n",
       "      <td>30000.000000</td>\n",
       "      <td>30000.000000</td>\n",
       "    </tr>\n",
       "    <tr>\n",
       "      <th>mean</th>\n",
       "      <td>30.505340</td>\n",
       "      <td>10.185328</td>\n",
       "    </tr>\n",
       "    <tr>\n",
       "      <th>std</th>\n",
       "      <td>48.154902</td>\n",
       "      <td>8.074209</td>\n",
       "    </tr>\n",
       "    <tr>\n",
       "      <th>min</th>\n",
       "      <td>0.000136</td>\n",
       "      <td>0.013432</td>\n",
       "    </tr>\n",
       "    <tr>\n",
       "      <th>25%</th>\n",
       "      <td>9.195223</td>\n",
       "      <td>4.763378</td>\n",
       "    </tr>\n",
       "    <tr>\n",
       "      <th>50%</th>\n",
       "      <td>21.499840</td>\n",
       "      <td>8.215543</td>\n",
       "    </tr>\n",
       "    <tr>\n",
       "      <th>75%</th>\n",
       "      <td>38.240073</td>\n",
       "      <td>13.268442</td>\n",
       "    </tr>\n",
       "    <tr>\n",
       "      <th>max</th>\n",
       "      <td>1986.580000</td>\n",
       "      <td>140.038800</td>\n",
       "    </tr>\n",
       "  </tbody>\n",
       "</table>\n",
       "</div>"
      ],
      "text/plain": [
       "       h_alpha_reqw_abs  nii_6584_reqw_abs\n",
       "count      30000.000000       30000.000000\n",
       "mean          30.505340          10.185328\n",
       "std           48.154902           8.074209\n",
       "min            0.000136           0.013432\n",
       "25%            9.195223           4.763378\n",
       "50%           21.499840           8.215543\n",
       "75%           38.240073          13.268442\n",
       "max         1986.580000         140.038800"
      ]
     },
     "execution_count": 30,
     "metadata": {},
     "output_type": "execute_result"
    }
   ],
   "source": [
    "galaxies[['h_alpha_reqw_abs', 'nii_6584_reqw_abs']].describe()"
   ]
  },
  {
   "cell_type": "code",
   "execution_count": 34,
   "metadata": {},
   "outputs": [],
   "source": [
    "def whan_label(nii_h_alpha_log, nii_6584_reqw, h_alpha_reqw):\n",
    "    if (h_alpha_reqw < 0.5) and (nii_6584_reqw < 0.5):\n",
    "        return 'Passive'\n",
    "    elif (nii_h_alpha_log < -0.4) and (h_alpha_reqw > 3):\n",
    "        return 'Star Forming'\n",
    "    elif (nii_h_alpha_log > -0.4) and (h_alpha_reqw > 6):\n",
    "        return 'Seyfert'\n",
    "    elif (nii_h_alpha_log > -0.4) and (h_alpha_reqw > 3) and (h_alpha_reqw < 6):\n",
    "        return 'Weak AGN'\n",
    "    elif (h_alpha_reqw < 3):\n",
    "        return 'RG'"
   ]
  },
  {
   "cell_type": "code",
   "execution_count": 35,
   "metadata": {},
   "outputs": [],
   "source": [
    "galaxies['WHAN label'] = galaxies.apply(lambda x: whan_label(x['nii_h_alpha_log'], x['nii_6584_reqw_abs'], \n",
    "                                                             x['h_alpha_reqw_abs']), axis=1)"
   ]
  },
  {
   "cell_type": "code",
   "execution_count": 36,
   "metadata": {},
   "outputs": [
    {
     "data": {
      "text/plain": [
       "Counter({'RG': 3756,\n",
       "         'Star Forming': 16321,\n",
       "         'Seyfert': 8333,\n",
       "         'Weak AGN': 1581,\n",
       "         'Passive': 9})"
      ]
     },
     "execution_count": 36,
     "metadata": {},
     "output_type": "execute_result"
    }
   ],
   "source": [
    "Counter(galaxies['WHAN label'])"
   ]
  },
  {
   "cell_type": "code",
   "execution_count": 45,
   "metadata": {},
   "outputs": [],
   "source": [
    "gals_eqw = galaxies.loc[((galaxies['h_alpha_reqw'] <= 0) & (galaxies['nii_6584_reqw'] <= 0))]"
   ]
  },
  {
   "cell_type": "code",
   "execution_count": 46,
   "metadata": {},
   "outputs": [
    {
     "data": {
      "text/plain": [
       "Counter({'RG': 2718,\n",
       "         'Star Forming': 16308,\n",
       "         'Seyfert': 8332,\n",
       "         'Weak AGN': 1580,\n",
       "         'Passive': 1})"
      ]
     },
     "execution_count": 46,
     "metadata": {},
     "output_type": "execute_result"
    }
   ],
   "source": [
    "Counter(gals_eqw['WHAN label'])"
   ]
  },
  {
   "cell_type": "code",
   "execution_count": 52,
   "metadata": {},
   "outputs": [],
   "source": [
    "plt.figure(figsize=(12, 8))\n",
    "\n",
    "sns.scatterplot(data=galaxies, x='nii_h_alpha', y='h_alpha_reqw_abs', palette='colorblind', \n",
    "                hue='WHAN label', style='WHAN label', size='WHAN label', sizes=(30, 15))\n",
    "\n",
    "sns.kdeplot(data=galaxies, x='nii_h_alpha', y='h_alpha_reqw_abs', levels=7, \n",
    "            alpha=0.5, cut=2, color='k', log_scale=True)\n",
    "\n",
    "plt.ylim(10**(-4.2), 10**(3.8))\n",
    "plt.xlim(10**(-2.5), 10)\n",
    "\n",
    "plt.vlines(10**(-0.4), 10**(-4.2), 10**(3.8), linewidth=1.0, alpha=0.8, colors='k', linestyle='solid', \n",
    "           label=r'[NII] / H$\\alpha = 0.4$')\n",
    "plt.hlines(6, 10**(-0.4), 10, linewidth=1.5, alpha=0.8, colors='k', linestyle='dashdot', \n",
    "           label=r'$W_{H_{\\alpha}} = 6$ [Ang], Kewley+2006')\n",
    "plt.hlines(3, 10**(-0.4), 10, linewidth=1.5, alpha=0.8, colors='k', linestyle='dashed', \n",
    "           label=r'$W_{H_{\\alpha}} = 3$ [Ang]')\n",
    "plt.hlines(0.5, 10**(-2.5), 10, linewidth=1.0, alpha=0.8, colors='k', linestyle='solid', \n",
    "           label=r'$W_{H_{\\alpha}} = 0.5$ [Ang]')\n",
    "\n",
    "plt.xlabel(r'log [NII] / H$\\alpha$', fontsize=13)\n",
    "plt.ylabel(r'log $W_{H_{\\alpha}}$ [Ang]', fontsize=13)\n",
    "\n",
    "plt.xscale('log')\n",
    "plt.yscale('log')\n",
    "\n",
    "plt.legend(loc='lower left', fontsize=10)\n",
    "\n",
    "# plt.savefig('WHAN_diagram_whan_label.pdf')\n",
    "\n",
    "plt.show()"
   ]
  },
  {
   "cell_type": "code",
   "execution_count": 53,
   "metadata": {},
   "outputs": [],
   "source": [
    "plt.figure(figsize=(12, 8))\n",
    "\n",
    "sns.scatterplot(data=galaxies, x='nii_h_alpha', y='h_alpha_reqw_abs', palette='colorblind', \n",
    "                hue='BPT final', style='BPT final', size='BPT final', sizes=(30, 15))\n",
    "\n",
    "sns.kdeplot(data=galaxies, x='nii_h_alpha', y='h_alpha_reqw_abs', levels=7, \n",
    "            alpha=0.5, cut=2, color='k', log_scale=True)\n",
    "\n",
    "plt.ylim(10**(-4.2), 10**(3.8))\n",
    "plt.xlim(10**(-2.5), 10)\n",
    "\n",
    "plt.vlines(10**(-0.4), 10**(-4.2), 10**(3.8), linewidth=1.0, alpha=0.8, colors='k', linestyle='solid', \n",
    "           label=r'[NII] / H$\\alpha = 0.4$')\n",
    "plt.hlines(6, 10**(-0.4), 10, linewidth=1.5, alpha=0.8, colors='k', linestyle='dashdot', \n",
    "           label=r'$W_{H_{\\alpha}} = 6$ [Ang], Kewley+2006')\n",
    "plt.hlines(3, 10**(-0.4), 10, linewidth=1.5, alpha=0.8, colors='k', linestyle='dashed', \n",
    "           label=r'$W_{H_{\\alpha}} = 3$ [Ang]')\n",
    "plt.hlines(0.5, 10**(-2.5), 10, linewidth=1.0, alpha=0.8, colors='k', linestyle='solid', \n",
    "           label=r'$W_{H_{\\alpha}} = 0.5$ [Ang]')\n",
    "\n",
    "plt.xlabel(r'log [NII] / H$\\alpha$', fontsize=13)\n",
    "plt.ylabel(r'log $W_{H_{\\alpha}}$ [Ang]', fontsize=13)\n",
    "\n",
    "plt.xscale('log')\n",
    "plt.yscale('log')\n",
    "\n",
    "plt.legend(loc='lower left', fontsize=10)\n",
    "\n",
    "# plt.savefig('WHAN_diagram.pdf')\n",
    "\n",
    "plt.show()"
   ]
  },
  {
   "attachments": {},
   "cell_type": "markdown",
   "metadata": {},
   "source": [
    "# Task 2"
   ]
  },
  {
   "cell_type": "code",
   "execution_count": 28,
   "metadata": {},
   "outputs": [],
   "source": [
    "# [NeIII] / [OII]\n",
    "galaxies['neiii_oii'] = galaxies.apply(lambda x: x['neiii_3869_flux'] / ((x['oii_3726_flux'] + x['oii_3729_flux']) / 2), axis=1)\n",
    "galaxies['neiii_oii_log'] = galaxies.apply(lambda x: np.log10(x['neiii_oii']), axis=1)"
   ]
  },
  {
   "attachments": {},
   "cell_type": "markdown",
   "metadata": {},
   "source": [
    "## Redshift k-Correction"
   ]
  },
  {
   "cell_type": "code",
   "execution_count": 29,
   "metadata": {},
   "outputs": [],
   "source": [
    "galaxies['g_z_color'] = galaxies['psfMag_g'] - galaxies['psfMag_z']"
   ]
  },
  {
   "cell_type": "code",
   "execution_count": 30,
   "metadata": {},
   "outputs": [],
   "source": [
    "galaxies['g_z_color_zkcorr'] = galaxies.apply(lambda x: calc_kcor.calc_kcor('z', x['z'], 'g - z', x['g_z_color']), axis=1)\n",
    "galaxies['g_z_color_gkcorr'] = galaxies.apply(lambda x: calc_kcor.calc_kcor('g', x['z'], 'g - z', x['g_z_color']), axis=1)"
   ]
  },
  {
   "cell_type": "code",
   "execution_count": 105,
   "metadata": {},
   "outputs": [
    {
     "data": {
      "text/html": [
       "<div>\n",
       "<style scoped>\n",
       "    .dataframe tbody tr th:only-of-type {\n",
       "        vertical-align: middle;\n",
       "    }\n",
       "\n",
       "    .dataframe tbody tr th {\n",
       "        vertical-align: top;\n",
       "    }\n",
       "\n",
       "    .dataframe thead th {\n",
       "        text-align: right;\n",
       "    }\n",
       "</style>\n",
       "<table border=\"1\" class=\"dataframe\">\n",
       "  <thead>\n",
       "    <tr style=\"text-align: right;\">\n",
       "      <th></th>\n",
       "      <th>g_z_color</th>\n",
       "      <th>g_z_color_gkcorr</th>\n",
       "      <th>g_z_color_zkcorr</th>\n",
       "    </tr>\n",
       "  </thead>\n",
       "  <tbody>\n",
       "    <tr>\n",
       "      <th>count</th>\n",
       "      <td>30000.000000</td>\n",
       "      <td>30000.000000</td>\n",
       "      <td>30000.000000</td>\n",
       "    </tr>\n",
       "    <tr>\n",
       "      <th>mean</th>\n",
       "      <td>1.295787</td>\n",
       "      <td>0.136611</td>\n",
       "      <td>0.000016</td>\n",
       "    </tr>\n",
       "    <tr>\n",
       "      <th>std</th>\n",
       "      <td>0.502889</td>\n",
       "      <td>1.836931</td>\n",
       "      <td>0.331340</td>\n",
       "    </tr>\n",
       "    <tr>\n",
       "      <th>min</th>\n",
       "      <td>-7.216440</td>\n",
       "      <td>-67.313476</td>\n",
       "      <td>-12.851880</td>\n",
       "    </tr>\n",
       "    <tr>\n",
       "      <th>25%</th>\n",
       "      <td>0.961345</td>\n",
       "      <td>0.050655</td>\n",
       "      <td>-0.007045</td>\n",
       "    </tr>\n",
       "    <tr>\n",
       "      <th>50%</th>\n",
       "      <td>1.356135</td>\n",
       "      <td>0.119674</td>\n",
       "      <td>0.007894</td>\n",
       "    </tr>\n",
       "    <tr>\n",
       "      <th>75%</th>\n",
       "      <td>1.644308</td>\n",
       "      <td>0.214731</td>\n",
       "      <td>0.019327</td>\n",
       "    </tr>\n",
       "    <tr>\n",
       "      <th>max</th>\n",
       "      <td>7.506230</td>\n",
       "      <td>249.856235</td>\n",
       "      <td>43.987654</td>\n",
       "    </tr>\n",
       "  </tbody>\n",
       "</table>\n",
       "</div>"
      ],
      "text/plain": [
       "          g_z_color  g_z_color_gkcorr  g_z_color_zkcorr\n",
       "count  30000.000000      30000.000000      30000.000000\n",
       "mean       1.295787          0.136611          0.000016\n",
       "std        0.502889          1.836931          0.331340\n",
       "min       -7.216440        -67.313476        -12.851880\n",
       "25%        0.961345          0.050655         -0.007045\n",
       "50%        1.356135          0.119674          0.007894\n",
       "75%        1.644308          0.214731          0.019327\n",
       "max        7.506230        249.856235         43.987654"
      ]
     },
     "execution_count": 105,
     "metadata": {},
     "output_type": "execute_result"
    }
   ],
   "source": [
    "galaxies[['g_z_color', 'g_z_color_gkcorr', 'g_z_color_zkcorr']].describe()"
   ]
  },
  {
   "attachments": {},
   "cell_type": "markdown",
   "metadata": {},
   "source": [
    "## Defining Sub-Sample"
   ]
  },
  {
   "cell_type": "code",
   "execution_count": 32,
   "metadata": {},
   "outputs": [
    {
     "data": {
      "text/plain": [
       "Index(['specobjid', 'plate', 'mjd', 'fiberID', 'ra', 'dec', 'subclass', 'z',\n",
       "       'oiii_5007_flux', 'oiii_5007_flux_err', 'h_alpha_flux',\n",
       "       'h_alpha_flux_err', 'h_beta_flux', 'h_beta_flux_err', 'nii_6584_flux',\n",
       "       'nii_6584_flux_err', 'sii_6717_flux', 'sii_6717_flux_err',\n",
       "       'sii_6731_flux', 'sii_6731_flux_err', 'oi_6300_flux',\n",
       "       'oi_6300_flux_err', 'h_alpha_reqw', 'h_alpha_reqw_err',\n",
       "       'neiii_3869_flux', 'neiii_3869_flux_err', 'oii_3726_flux',\n",
       "       'oii_3726_flux_err', 'oii_3729_flux', 'oii_3729_flux_err', 'psfMag_g',\n",
       "       'psfMagErr_g', 'psfMag_z', 'psfMagErr_z', 'nii_h_alpha',\n",
       "       'nii_h_alpha_log', 'oiii_h_beta', 'oiii_h_beta_log', 'sii6717_h_alpha',\n",
       "       'sii6717_h_alpha_log', 'sii6731_h_alpha', 'sii6731_h_alpha_log',\n",
       "       'oi_h_alpha', 'oi_h_alpha_log', 'BPT Kauffman', 'BPT Kewley',\n",
       "       'BPT final', 'sii_h_alpha', 'sii_h_alpha_log', 'h_alpha_reqw_log',\n",
       "       'h_alpha_reqw_abs', 'neiii_oii', 'neiii_oii_log', 'g_z_color',\n",
       "       'g_z_color_zkcorr', 'g_z_color_gkcorr'],\n",
       "      dtype='object')"
      ]
     },
     "execution_count": 32,
     "metadata": {},
     "output_type": "execute_result"
    }
   ],
   "source": [
    "galaxies.columns"
   ]
  },
  {
   "cell_type": "code",
   "execution_count": 33,
   "metadata": {},
   "outputs": [
    {
     "data": {
      "text/html": [
       "<div>\n",
       "<style scoped>\n",
       "    .dataframe tbody tr th:only-of-type {\n",
       "        vertical-align: middle;\n",
       "    }\n",
       "\n",
       "    .dataframe tbody tr th {\n",
       "        vertical-align: top;\n",
       "    }\n",
       "\n",
       "    .dataframe thead th {\n",
       "        text-align: right;\n",
       "    }\n",
       "</style>\n",
       "<table border=\"1\" class=\"dataframe\">\n",
       "  <thead>\n",
       "    <tr style=\"text-align: right;\">\n",
       "      <th></th>\n",
       "      <th>specobjid</th>\n",
       "      <th>plate</th>\n",
       "      <th>mjd</th>\n",
       "      <th>fiberID</th>\n",
       "      <th>ra</th>\n",
       "      <th>dec</th>\n",
       "      <th>subclass</th>\n",
       "      <th>z</th>\n",
       "      <th>oiii_5007_flux</th>\n",
       "      <th>oiii_5007_flux_err</th>\n",
       "      <th>...</th>\n",
       "      <th>BPT final</th>\n",
       "      <th>sii_h_alpha</th>\n",
       "      <th>sii_h_alpha_log</th>\n",
       "      <th>h_alpha_reqw_log</th>\n",
       "      <th>h_alpha_reqw_abs</th>\n",
       "      <th>neiii_oii</th>\n",
       "      <th>neiii_oii_log</th>\n",
       "      <th>g_z_color</th>\n",
       "      <th>g_z_color_zkcorr</th>\n",
       "      <th>g_z_color_gkcorr</th>\n",
       "    </tr>\n",
       "  </thead>\n",
       "  <tbody>\n",
       "    <tr>\n",
       "      <th>0</th>\n",
       "      <td>305174431683078144</td>\n",
       "      <td>271</td>\n",
       "      <td>51883</td>\n",
       "      <td>202</td>\n",
       "      <td>154.090130</td>\n",
       "      <td>-0.971407</td>\n",
       "      <td>STARBURST</td>\n",
       "      <td>0.063123</td>\n",
       "      <td>92.12244</td>\n",
       "      <td>2.618963</td>\n",
       "      <td>...</td>\n",
       "      <td>Star Forming</td>\n",
       "      <td>0.170181</td>\n",
       "      <td>-0.769089</td>\n",
       "      <td>NaN</td>\n",
       "      <td>47.24213</td>\n",
       "      <td>0.038690</td>\n",
       "      <td>-1.412404</td>\n",
       "      <td>0.63992</td>\n",
       "      <td>-0.015457</td>\n",
       "      <td>0.014659</td>\n",
       "    </tr>\n",
       "    <tr>\n",
       "      <th>1</th>\n",
       "      <td>305144744869128192</td>\n",
       "      <td>271</td>\n",
       "      <td>51883</td>\n",
       "      <td>94</td>\n",
       "      <td>154.637040</td>\n",
       "      <td>-0.909173</td>\n",
       "      <td>STARBURST</td>\n",
       "      <td>0.049476</td>\n",
       "      <td>76.97161</td>\n",
       "      <td>2.971411</td>\n",
       "      <td>...</td>\n",
       "      <td>Star Forming</td>\n",
       "      <td>0.126963</td>\n",
       "      <td>-0.896324</td>\n",
       "      <td>NaN</td>\n",
       "      <td>59.72261</td>\n",
       "      <td>0.066732</td>\n",
       "      <td>-1.175666</td>\n",
       "      <td>0.95311</td>\n",
       "      <td>0.001637</td>\n",
       "      <td>0.056677</td>\n",
       "    </tr>\n",
       "    <tr>\n",
       "      <th>2</th>\n",
       "      <td>305131275851687936</td>\n",
       "      <td>271</td>\n",
       "      <td>51883</td>\n",
       "      <td>45</td>\n",
       "      <td>154.786140</td>\n",
       "      <td>-1.029548</td>\n",
       "      <td>STARBURST</td>\n",
       "      <td>0.094921</td>\n",
       "      <td>56.61370</td>\n",
       "      <td>3.481388</td>\n",
       "      <td>...</td>\n",
       "      <td>Composite</td>\n",
       "      <td>0.145434</td>\n",
       "      <td>-0.837333</td>\n",
       "      <td>NaN</td>\n",
       "      <td>38.23195</td>\n",
       "      <td>0.113011</td>\n",
       "      <td>-0.946878</td>\n",
       "      <td>1.34757</td>\n",
       "      <td>0.005482</td>\n",
       "      <td>0.155068</td>\n",
       "    </tr>\n",
       "    <tr>\n",
       "      <th>3</th>\n",
       "      <td>306322322795554816</td>\n",
       "      <td>272</td>\n",
       "      <td>51941</td>\n",
       "      <td>282</td>\n",
       "      <td>154.955690</td>\n",
       "      <td>-1.022654</td>\n",
       "      <td>STARBURST</td>\n",
       "      <td>0.043465</td>\n",
       "      <td>60.38306</td>\n",
       "      <td>3.433703</td>\n",
       "      <td>...</td>\n",
       "      <td>Star Forming</td>\n",
       "      <td>0.115240</td>\n",
       "      <td>-0.938395</td>\n",
       "      <td>NaN</td>\n",
       "      <td>68.71297</td>\n",
       "      <td>0.076632</td>\n",
       "      <td>-1.115593</td>\n",
       "      <td>0.98121</td>\n",
       "      <td>0.004245</td>\n",
       "      <td>0.057867</td>\n",
       "    </tr>\n",
       "    <tr>\n",
       "      <th>4</th>\n",
       "      <td>305135124142385152</td>\n",
       "      <td>271</td>\n",
       "      <td>51883</td>\n",
       "      <td>59</td>\n",
       "      <td>154.961470</td>\n",
       "      <td>-1.050257</td>\n",
       "      <td>STARFORMING</td>\n",
       "      <td>0.060961</td>\n",
       "      <td>51.07178</td>\n",
       "      <td>2.564878</td>\n",
       "      <td>...</td>\n",
       "      <td>Star Forming</td>\n",
       "      <td>0.162920</td>\n",
       "      <td>-0.788026</td>\n",
       "      <td>NaN</td>\n",
       "      <td>33.10934</td>\n",
       "      <td>0.069462</td>\n",
       "      <td>-1.158253</td>\n",
       "      <td>0.88379</td>\n",
       "      <td>-0.005656</td>\n",
       "      <td>0.046400</td>\n",
       "    </tr>\n",
       "    <tr>\n",
       "      <th>...</th>\n",
       "      <td>...</td>\n",
       "      <td>...</td>\n",
       "      <td>...</td>\n",
       "      <td>...</td>\n",
       "      <td>...</td>\n",
       "      <td>...</td>\n",
       "      <td>...</td>\n",
       "      <td>...</td>\n",
       "      <td>...</td>\n",
       "      <td>...</td>\n",
       "      <td>...</td>\n",
       "      <td>...</td>\n",
       "      <td>...</td>\n",
       "      <td>...</td>\n",
       "      <td>...</td>\n",
       "      <td>...</td>\n",
       "      <td>...</td>\n",
       "      <td>...</td>\n",
       "      <td>...</td>\n",
       "      <td>...</td>\n",
       "      <td>...</td>\n",
       "    </tr>\n",
       "    <tr>\n",
       "      <th>29989</th>\n",
       "      <td>738689605850654720</td>\n",
       "      <td>656</td>\n",
       "      <td>52148</td>\n",
       "      <td>361</td>\n",
       "      <td>10.891932</td>\n",
       "      <td>-8.843627</td>\n",
       "      <td>STARFORMING</td>\n",
       "      <td>0.049873</td>\n",
       "      <td>140.80780</td>\n",
       "      <td>3.114323</td>\n",
       "      <td>...</td>\n",
       "      <td>Star Forming</td>\n",
       "      <td>0.162117</td>\n",
       "      <td>-0.790172</td>\n",
       "      <td>NaN</td>\n",
       "      <td>37.71205</td>\n",
       "      <td>0.081534</td>\n",
       "      <td>-1.088662</td>\n",
       "      <td>0.75038</td>\n",
       "      <td>-0.004859</td>\n",
       "      <td>0.033207</td>\n",
       "    </tr>\n",
       "    <tr>\n",
       "      <th>29991</th>\n",
       "      <td>738748154844833792</td>\n",
       "      <td>656</td>\n",
       "      <td>52148</td>\n",
       "      <td>574</td>\n",
       "      <td>12.363142</td>\n",
       "      <td>-8.714825</td>\n",
       "      <td>STARFORMING</td>\n",
       "      <td>0.086486</td>\n",
       "      <td>26.60374</td>\n",
       "      <td>2.297716</td>\n",
       "      <td>...</td>\n",
       "      <td>Star Forming</td>\n",
       "      <td>0.134484</td>\n",
       "      <td>-0.871329</td>\n",
       "      <td>NaN</td>\n",
       "      <td>22.52885</td>\n",
       "      <td>0.079881</td>\n",
       "      <td>-1.097555</td>\n",
       "      <td>1.32329</td>\n",
       "      <td>0.006440</td>\n",
       "      <td>0.141813</td>\n",
       "    </tr>\n",
       "    <tr>\n",
       "      <th>29997</th>\n",
       "      <td>471812015690639360</td>\n",
       "      <td>419</td>\n",
       "      <td>51868</td>\n",
       "      <td>218</td>\n",
       "      <td>10.900041</td>\n",
       "      <td>13.913361</td>\n",
       "      <td>STARFORMING</td>\n",
       "      <td>0.130237</td>\n",
       "      <td>13.93644</td>\n",
       "      <td>2.285449</td>\n",
       "      <td>...</td>\n",
       "      <td>Star Forming</td>\n",
       "      <td>0.111674</td>\n",
       "      <td>-0.952047</td>\n",
       "      <td>NaN</td>\n",
       "      <td>26.13622</td>\n",
       "      <td>0.191566</td>\n",
       "      <td>-0.717681</td>\n",
       "      <td>1.39337</td>\n",
       "      <td>-0.001937</td>\n",
       "      <td>0.197010</td>\n",
       "    </tr>\n",
       "    <tr>\n",
       "      <th>29998</th>\n",
       "      <td>471809541974026240</td>\n",
       "      <td>419</td>\n",
       "      <td>51879</td>\n",
       "      <td>209</td>\n",
       "      <td>10.900041</td>\n",
       "      <td>13.913361</td>\n",
       "      <td>STARFORMING</td>\n",
       "      <td>0.130228</td>\n",
       "      <td>11.90064</td>\n",
       "      <td>2.168367</td>\n",
       "      <td>...</td>\n",
       "      <td>Star Forming</td>\n",
       "      <td>0.125339</td>\n",
       "      <td>-0.901913</td>\n",
       "      <td>NaN</td>\n",
       "      <td>26.71813</td>\n",
       "      <td>0.278091</td>\n",
       "      <td>-0.555813</td>\n",
       "      <td>1.39337</td>\n",
       "      <td>-0.001934</td>\n",
       "      <td>0.197005</td>\n",
       "    </tr>\n",
       "    <tr>\n",
       "      <th>29999</th>\n",
       "      <td>471807341826697216</td>\n",
       "      <td>419</td>\n",
       "      <td>51812</td>\n",
       "      <td>201</td>\n",
       "      <td>10.900041</td>\n",
       "      <td>13.913361</td>\n",
       "      <td>STARFORMING</td>\n",
       "      <td>0.130223</td>\n",
       "      <td>16.05925</td>\n",
       "      <td>2.590671</td>\n",
       "      <td>...</td>\n",
       "      <td>Star Forming</td>\n",
       "      <td>0.139746</td>\n",
       "      <td>-0.854659</td>\n",
       "      <td>NaN</td>\n",
       "      <td>26.30682</td>\n",
       "      <td>0.222787</td>\n",
       "      <td>-0.652111</td>\n",
       "      <td>1.39337</td>\n",
       "      <td>-0.001932</td>\n",
       "      <td>0.197001</td>\n",
       "    </tr>\n",
       "  </tbody>\n",
       "</table>\n",
       "<p>14814 rows × 56 columns</p>\n",
       "</div>"
      ],
      "text/plain": [
       "                specobjid  plate    mjd  fiberID          ra        dec  \\\n",
       "0      305174431683078144    271  51883      202  154.090130  -0.971407   \n",
       "1      305144744869128192    271  51883       94  154.637040  -0.909173   \n",
       "2      305131275851687936    271  51883       45  154.786140  -1.029548   \n",
       "3      306322322795554816    272  51941      282  154.955690  -1.022654   \n",
       "4      305135124142385152    271  51883       59  154.961470  -1.050257   \n",
       "...                   ...    ...    ...      ...         ...        ...   \n",
       "29989  738689605850654720    656  52148      361   10.891932  -8.843627   \n",
       "29991  738748154844833792    656  52148      574   12.363142  -8.714825   \n",
       "29997  471812015690639360    419  51868      218   10.900041  13.913361   \n",
       "29998  471809541974026240    419  51879      209   10.900041  13.913361   \n",
       "29999  471807341826697216    419  51812      201   10.900041  13.913361   \n",
       "\n",
       "          subclass         z  oiii_5007_flux  oiii_5007_flux_err  ...  \\\n",
       "0        STARBURST  0.063123        92.12244            2.618963  ...   \n",
       "1        STARBURST  0.049476        76.97161            2.971411  ...   \n",
       "2        STARBURST  0.094921        56.61370            3.481388  ...   \n",
       "3        STARBURST  0.043465        60.38306            3.433703  ...   \n",
       "4      STARFORMING  0.060961        51.07178            2.564878  ...   \n",
       "...            ...       ...             ...                 ...  ...   \n",
       "29989  STARFORMING  0.049873       140.80780            3.114323  ...   \n",
       "29991  STARFORMING  0.086486        26.60374            2.297716  ...   \n",
       "29997  STARFORMING  0.130237        13.93644            2.285449  ...   \n",
       "29998  STARFORMING  0.130228        11.90064            2.168367  ...   \n",
       "29999  STARFORMING  0.130223        16.05925            2.590671  ...   \n",
       "\n",
       "          BPT final  sii_h_alpha  sii_h_alpha_log  h_alpha_reqw_log  \\\n",
       "0      Star Forming     0.170181        -0.769089               NaN   \n",
       "1      Star Forming     0.126963        -0.896324               NaN   \n",
       "2         Composite     0.145434        -0.837333               NaN   \n",
       "3      Star Forming     0.115240        -0.938395               NaN   \n",
       "4      Star Forming     0.162920        -0.788026               NaN   \n",
       "...             ...          ...              ...               ...   \n",
       "29989  Star Forming     0.162117        -0.790172               NaN   \n",
       "29991  Star Forming     0.134484        -0.871329               NaN   \n",
       "29997  Star Forming     0.111674        -0.952047               NaN   \n",
       "29998  Star Forming     0.125339        -0.901913               NaN   \n",
       "29999  Star Forming     0.139746        -0.854659               NaN   \n",
       "\n",
       "       h_alpha_reqw_abs  neiii_oii  neiii_oii_log  g_z_color  \\\n",
       "0              47.24213   0.038690      -1.412404    0.63992   \n",
       "1              59.72261   0.066732      -1.175666    0.95311   \n",
       "2              38.23195   0.113011      -0.946878    1.34757   \n",
       "3              68.71297   0.076632      -1.115593    0.98121   \n",
       "4              33.10934   0.069462      -1.158253    0.88379   \n",
       "...                 ...        ...            ...        ...   \n",
       "29989          37.71205   0.081534      -1.088662    0.75038   \n",
       "29991          22.52885   0.079881      -1.097555    1.32329   \n",
       "29997          26.13622   0.191566      -0.717681    1.39337   \n",
       "29998          26.71813   0.278091      -0.555813    1.39337   \n",
       "29999          26.30682   0.222787      -0.652111    1.39337   \n",
       "\n",
       "       g_z_color_zkcorr  g_z_color_gkcorr  \n",
       "0             -0.015457          0.014659  \n",
       "1              0.001637          0.056677  \n",
       "2              0.005482          0.155068  \n",
       "3              0.004245          0.057867  \n",
       "4             -0.005656          0.046400  \n",
       "...                 ...               ...  \n",
       "29989         -0.004859          0.033207  \n",
       "29991          0.006440          0.141813  \n",
       "29997         -0.001937          0.197010  \n",
       "29998         -0.001934          0.197005  \n",
       "29999         -0.001932          0.197001  \n",
       "\n",
       "[14814 rows x 56 columns]"
      ]
     },
     "execution_count": 33,
     "metadata": {},
     "output_type": "execute_result"
    }
   ],
   "source": [
    "# Signal to noise ratio of neiii_3869_flux, oii_3729_flux and oii_3726_flux >= 5\n",
    "# [O iii], \n",
    "# Hβ,\n",
    "# [Nii], \n",
    "# Hα, \n",
    "# and[Oii] with S/N > 5, but [Ne iii]has S/N < 5\n",
    "\n",
    "sub_gals = galaxies.loc[(galaxies['oii_3729_flux'] / galaxies['oii_3729_flux_err']) >= 5]\n",
    "sub_gals = sub_gals.loc[(sub_gals['oii_3726_flux'] / sub_gals['oii_3726_flux_err']) >= 5]\n",
    "sub_gals = sub_gals.loc[(sub_gals['oiii_5007_flux'] / sub_gals['oiii_5007_flux_err']) >= 5]\n",
    "sub_gals = sub_gals.loc[(sub_gals['h_alpha_flux'] / sub_gals['h_alpha_flux_err']) >= 5]\n",
    "sub_gals = sub_gals.loc[(sub_gals['h_beta_flux'] / sub_gals['h_beta_flux_err']) >= 5]\n",
    "sub_gals = sub_gals.loc[(sub_gals['nii_6584_flux'] / sub_gals['nii_6584_flux_err']) >= 5]\n",
    "sub_gals = sub_gals.loc[(sub_gals['neiii_3869_flux'] / sub_gals['neiii_3869_flux_err']) <= 5]\n",
    "sub_gals"
   ]
  },
  {
   "cell_type": "code",
   "execution_count": 34,
   "metadata": {},
   "outputs": [
    {
     "data": {
      "image/png": "[encoded data removed]",
      "text/plain": [
       "<Figure size 360x360 with 1 Axes>"
      ]
     },
     "metadata": {},
     "output_type": "display_data"
    }
   ],
   "source": [
    "sns.displot(data=sub_gals, x='g_z_color', log_scale=False, kde=True)\n",
    "\n",
    "plt.xlabel(r'$g-z$ Color')\n",
    "\n",
    " #plt.savefig('./data_histograms/distr_g_z_color.pdf')\n",
    "\n",
    "plt.show()"
   ]
  },
  {
   "cell_type": "code",
   "execution_count": 35,
   "metadata": {},
   "outputs": [
    {
     "data": {
      "image/png": "[encoded data removed]",
      "text/plain": [
       "<Figure size 360x360 with 1 Axes>"
      ]
     },
     "metadata": {},
     "output_type": "display_data"
    }
   ],
   "source": [
    "sns.displot(data=sub_gals, x='g_z_color_gkcorr', log_scale=False, kde=True)\n",
    "\n",
    "plt.xlabel(r'$g-z$ $k$-Corrected Color in $g$')\n",
    "\n",
    "# plt.savefig('./data_histograms/distr_g_z_color_gkcorr.pdf')\n",
    "\n",
    "plt.show()"
   ]
  },
  {
   "cell_type": "code",
   "execution_count": 36,
   "metadata": {},
   "outputs": [
    {
     "data": {
      "image/png": "[encoded data removed]",
      "text/plain": [
       "<Figure size 360x360 with 1 Axes>"
      ]
     },
     "metadata": {},
     "output_type": "display_data"
    }
   ],
   "source": [
    "sns.displot(data=sub_gals, x='g_z_color_zkcorr', log_scale=False, kde=True)\n",
    "\n",
    "plt.xlabel(r'$g-z$ $k$-Corrected Color in $z$')\n",
    "\n",
    "# plt.savefig('./data_histograms/distr_g_z_color_zkcorr.pdf')\n",
    "\n",
    "plt.show()"
   ]
  },
  {
   "attachments": {},
   "cell_type": "markdown",
   "metadata": {},
   "source": [
    "## BPT Diagram"
   ]
  },
  {
   "cell_type": "code",
   "execution_count": 37,
   "metadata": {},
   "outputs": [
    {
     "data": {
      "image/png": "[encoded data removed]",
      "text/plain": [
       "<Figure size 864x576 with 1 Axes>"
      ]
     },
     "metadata": {},
     "output_type": "display_data"
    }
   ],
   "source": [
    "plot_BPT(sub_gals, 'nii_h_alpha_log', 'oiii_h_beta_log', 'BPT final', \n",
    "         r'log [NII] / H$\\alpha$', r'log [OIII] / H$\\beta$', \n",
    "         Kauffman=True, Kewley=True)#, save=True, save_name='BPT_sub_niiHa_oiiiHb')"
   ]
  },
  {
   "attachments": {},
   "cell_type": "markdown",
   "metadata": {},
   "source": [
    "## TBT Diagram"
   ]
  },
  {
   "cell_type": "code",
   "execution_count": 38,
   "metadata": {},
   "outputs": [
    {
     "data": {
      "image/png": "[encoded data removed]",
      "text/plain": [
       "<Figure size 576x432 with 3 Axes>"
      ]
     },
     "metadata": {},
     "output_type": "display_data"
    }
   ],
   "source": [
    "# plt.figure(figsize=(12, 8))\n",
    "\n",
    "fig, (ax0, ax1, ax2) = plt.subplots(nrows=3, ncols=1, sharex=True,\n",
    "                                    figsize=(8, 6))\n",
    "\n",
    "ax0.scatter(sub_gals[sub_gals['BPT final']=='AGN']['neiii_oii_log'], \n",
    "            sub_gals[sub_gals['BPT final']=='AGN']['g_z_color_gkcorr'], \n",
    "            marker='s', s=22, c='#029e73', edgecolor='white', \n",
    "            label='AGN')\n",
    "\n",
    "ax1.scatter(sub_gals[sub_gals['BPT final']=='Composite']['neiii_oii_log'], \n",
    "            sub_gals[sub_gals['BPT final']=='Composite']['g_z_color_gkcorr'], \n",
    "            marker='X', s=27, c='#de8f05', edgecolor='white', \n",
    "            label='Composite')\n",
    "\n",
    "ax2.scatter(sub_gals[sub_gals['BPT final']=='Star Forming']['neiii_oii_log'], \n",
    "            sub_gals[sub_gals['BPT final']=='Star Forming']['g_z_color_gkcorr'], \n",
    "            marker='o', s=27, c='#0173b2', edgecolor='white', \n",
    "            label='Star Forming')\n",
    "\n",
    "x_to_plot = np.linspace(10**(-2.7), 10**(0.5), 50)\n",
    "ax0.plot(np.log10(x_to_plot), - 1.2 * np.log10(x_to_plot) - 0.4, \n",
    "         linewidth=1.2, alpha=0.8, c='k', linestyle='dashdot')\n",
    "ax1.plot(np.log10(x_to_plot), - 1.2 * np.log10(x_to_plot) - 0.4, \n",
    "         linewidth=1.2, alpha=0.8, c='k', linestyle='dashdot')\n",
    "ax2.plot(np.log10(x_to_plot), - 1.2 * np.log10(x_to_plot) - 0.4, \n",
    "         linewidth=1.2, alpha=0.8, c='k', linestyle='dashdot')\n",
    "\n",
    "plt.xlabel(r'log [NeIII] / [OII]', fontsize=11)\n",
    "\n",
    "for ax in [ax0, ax1, ax2]:\n",
    "    ax.set_ylabel(r'$^0$(g-z)', fontsize=11)\n",
    "    ax.set_xlim(-2, 0)\n",
    "    ax.set_ylim(-0.7, 2.0)\n",
    "    ax.legend()\n",
    "\n",
    "# plt.legend(loc='upper right', fontsize=10)\n",
    "# lines_labels = [ax.get_legend_handles_labels() for ax in fig.axes]\n",
    "# lines, labels = [sum(lol, []) for lol in zip(*lines_labels)]\n",
    "\n",
    "# fig.legend(lines, labels, bbox_to_anchor=(0.6, 1.02), fontsize=10)\n",
    "\n",
    "# plt.savefig('TBT_sub_diagrams.pdf')\n",
    "\n",
    "plt.show()"
   ]
  },
  {
   "attachments": {},
   "cell_type": "markdown",
   "metadata": {},
   "source": [
    "# Task 3: WISE"
   ]
  },
  {
   "cell_type": "code",
   "execution_count": 2,
   "metadata": {},
   "outputs": [
    {
     "data": {
      "text/plain": [
       "Index(['specobjid_1', 'plate_1', 'mjd_1', 'fiberID_1', 'ra_1', 'dec_1',\n",
       "       'subclass_1', 'z_1', 'oiii_5007_flux', 'oiii_5007_flux_err',\n",
       "       'h_alpha_flux', 'h_alpha_flux_err', 'h_beta_flux', 'h_beta_flux_err',\n",
       "       'nii_6584_flux', 'nii_6584_flux_err', 'sii_6717_flux',\n",
       "       'sii_6717_flux_err', 'sii_6731_flux', 'sii_6731_flux_err',\n",
       "       'oi_6300_flux', 'oi_6300_flux_err', 'h_alpha_reqw', 'h_alpha_reqw_err',\n",
       "       'neiii_3869_flux', 'neiii_3869_flux_err', 'oii_3726_flux',\n",
       "       'oii_3726_flux_err', 'oii_3729_flux', 'oii_3729_flux_err', 'psfMag_g',\n",
       "       'psfMagErr_g', 'psfMag_z', 'psfMagErr_z', 'specobjid_2', 'plate_2',\n",
       "       'mjd_2', 'fiberID_2', 'ra_2', 'dec_2', 'subclass_2', 'z_2', 'w1', 'w2',\n",
       "       'w3', 'w1sigmpro', 'w2sigmpro', 'w3sigmpro', 'w1flux', 'w2flux',\n",
       "       'w3flux', 'w1sigflux', 'w2sigflux', 'w3sigflux', 'GroupID', 'GroupSize',\n",
       "       'Separation'],\n",
       "      dtype='object')"
      ]
     },
     "execution_count": 2,
     "metadata": {},
     "output_type": "execute_result"
    }
   ],
   "source": [
    "wise_sub = pd.read_csv('wise_subsample.csv')\n",
    "wise_sub.columns"
   ]
  },
  {
   "cell_type": "code",
   "execution_count": 3,
   "metadata": {},
   "outputs": [
    {
     "data": {
      "text/plain": [
       "(28212, 57)"
      ]
     },
     "execution_count": 3,
     "metadata": {},
     "output_type": "execute_result"
    }
   ],
   "source": [
    "wise_sub.shape"
   ]
  },
  {
   "attachments": {},
   "cell_type": "markdown",
   "metadata": {},
   "source": [
    "## Distribution of Data"
   ]
  },
  {
   "cell_type": "code",
   "execution_count": 4,
   "metadata": {},
   "outputs": [],
   "source": [
    "cols = ['w1', 'w2', 'w3']\n",
    "\n",
    "for col in cols:\n",
    "    sns.displot(data=wise_sub, x=col, log_scale=False, kde=True)\n",
    "\n",
    "    plt.xlabel(col + r' [mag]')\n",
    "\n",
    "    #plt.savefig('./wise_data_histograms/distr_' + col + '.pdf')\n",
    "\n",
    "    plt.show()"
   ]
  },
  {
   "cell_type": "code",
   "execution_count": 5,
   "metadata": {},
   "outputs": [],
   "source": [
    "cols = ['w1flux', 'w2flux', 'w3flux']\n",
    "\n",
    "for col in cols:\n",
    "    sns.displot(data=wise_sub, x=col, log_scale=True, kde=True)\n",
    "\n",
    "    plt.xlabel(col)\n",
    "\n",
    "    # plt.savefig('./wise_data_histograms/distr_' + col + '.pdf')\n",
    "\n",
    "    plt.show()"
   ]
  },
  {
   "attachments": {},
   "cell_type": "markdown",
   "metadata": {},
   "source": [
    "## WISE Labels"
   ]
  },
  {
   "cell_type": "code",
   "execution_count": 6,
   "metadata": {},
   "outputs": [],
   "source": [
    "def wise_color_color(w1, w2, w3):\n",
    "    '''\n",
    "    Returns the class according to Figure 11b in Jarret et al. 2017\n",
    "    '''\n",
    "    color_x = w2 - w3\n",
    "    color_y = w1 - w2\n",
    "\n",
    "    if color_y >= 0.8:\n",
    "        return 'AGN & (u)LIRGs'\n",
    "    elif color_y < 0.8 and color_x < 2.0:\n",
    "        return 'Spheroids'\n",
    "    elif color_y < 0.8 and color_x > 3.5:\n",
    "        return 'SF Disks'\n",
    "    else:\n",
    "        return 'Inter. Disks'"
   ]
  },
  {
   "cell_type": "code",
   "execution_count": 7,
   "metadata": {},
   "outputs": [
    {
     "data": {
      "text/plain": [
       "Counter({'SF Disks': 13212,\n",
       "         'Inter. Disks': 12119,\n",
       "         'Spheroids': 2297,\n",
       "         'AGN & (u)LIRGs': 584})"
      ]
     },
     "execution_count": 7,
     "metadata": {},
     "output_type": "execute_result"
    }
   ],
   "source": [
    "wise_sub['wise class'] = wise_sub.apply(lambda x: wise_color_color(x['w1'], x['w2'], x['w3']), axis=1)\n",
    "Counter(wise_sub['wise class'])"
   ]
  },
  {
   "cell_type": "code",
   "execution_count": 8,
   "metadata": {},
   "outputs": [],
   "source": [
    "wise_sub['w1-w2'] = wise_sub.apply(lambda x: x['w1'] - x['w2'], axis=1)\n",
    "wise_sub['w2-w3'] = wise_sub.apply(lambda x: x['w2'] - x['w3'], axis=1)\n",
    "\n",
    "# 3.4 um = W1\n",
    "# 4.6 um = W2\n",
    "# 12  um = W3\n",
    "wise_sub['flux2/flux1'] = wise_sub.apply(lambda x: x['w2flux'] / x['w1flux'], axis=1)\n",
    "wise_sub['flux2/flux1_log'] = wise_sub.apply(lambda x: np.log10(x['flux2/flux1']), axis=1)\n",
    "wise_sub['flux3/flux2'] = wise_sub.apply(lambda x: x['w3flux'] / x['w2flux'], axis=1)\n",
    "wise_sub['flux3/flux2_log'] = wise_sub.apply(lambda x: np.log10(x['flux3/flux2']), axis=1)"
   ]
  },
  {
   "cell_type": "code",
   "execution_count": 11,
   "metadata": {},
   "outputs": [],
   "source": [
    "sns.displot(data=wise_sub, x='flux3/flux2', log_scale=True, kde=True)\n",
    "plt.xlabel(r'log $ \\left ( f_{12} / f_{4.6} \\right ) $')\n",
    "\n",
    "# plt.savefig('./wise_data_histograms/distr_flux3_flux2.pdf')\n",
    "\n",
    "plt.show()"
   ]
  },
  {
   "cell_type": "code",
   "execution_count": 12,
   "metadata": {},
   "outputs": [],
   "source": [
    "sns.displot(data=wise_sub, x='flux2/flux1', log_scale=True, kde=True)\n",
    "plt.xlabel(r'log $ \\left ( f_{4.6} / f_{3.4} \\right ) $')\n",
    "\n",
    "# plt.savefig('./wise_data_histograms/distr_flux2_flux1.pdf')\n",
    "\n",
    "plt.show()"
   ]
  },
  {
   "attachments": {},
   "cell_type": "markdown",
   "metadata": {},
   "source": [
    "## Color-Color Diagram"
   ]
  },
  {
   "cell_type": "code",
   "execution_count": 7,
   "metadata": {},
   "outputs": [],
   "source": [
    "fig, ax = plt.subplots(figsize=(10, 8))\n",
    "\n",
    "plt.ylim(-1.1, 2.4)\n",
    "plt.xlim(-0.5, 6.2)\n",
    "\n",
    "sns.scatterplot(data=wise_sub, x='w2-w3', y='w1-w2', palette='colorblind', \n",
    "                hue='wise class', style='wise class', size='wise class', sizes=(70, 20))\n",
    "\n",
    "plt.vlines([2.0, 3.5], -1.1, 0.8, \n",
    "           linestyles='dashdot', color='k', alpha=0.7, linewidth=1.7)\n",
    "plt.hlines(0.8, -0.5, 6.2, linestyles='dashdot', color='k', alpha=0.7, linewidth=1.7)\n",
    "\n",
    "props = dict(boxstyle='round', color='#d55e00', alpha=0.8)\n",
    "ax.text(0.8, 0.9, 'AGN & (u)LIRGs', transform=ax.transAxes, fontsize=11,\n",
    "        verticalalignment='top', bbox=props, color='white')\n",
    "\n",
    "props_1 = dict(boxstyle='round', color='#de8f05', alpha=0.8)\n",
    "ax.text(0.41, 0.1, 'Intermediate Disks', transform=ax.transAxes, fontsize=11,\n",
    "        verticalalignment='top', bbox=props_1, color='white')\n",
    "\n",
    "props_2 = dict(boxstyle='round', color='#029e73', alpha=0.8)\n",
    "ax.text(0.15, 0.1, 'Spheroids', transform=ax.transAxes, fontsize=11,\n",
    "       verticalalignment='top', bbox=props_2, color='white')\n",
    "\n",
    "props_3 = dict(boxstyle='round', color='#0173b2', alpha=0.9)\n",
    "ax.text(0.8, 0.1, 'SF Disks', transform=ax.transAxes, fontsize=11,\n",
    "        verticalalignment='top', bbox=props_3, color='white')\n",
    "\n",
    "plt.xlabel(r'W2 - W3 [mag]', fontsize=13)\n",
    "plt.ylabel(r'W1 - W2 [mag]', fontsize=13)\n",
    "\n",
    "plt.legend(loc='upper left', fontsize=11)\n",
    "\n",
    "# plt.savefig('./WISE_plots/wise_color_color.pdf')\n",
    "\n",
    "plt.show()"
   ]
  },
  {
   "attachments": {},
   "cell_type": "markdown",
   "metadata": {},
   "source": [
    "## Fluxes Diagram"
   ]
  },
  {
   "cell_type": "code",
   "execution_count": null,
   "metadata": {},
   "outputs": [],
   "source": [
    "def wise_label_Mateos(fluxw1, fluxw2, fluxw3):\n",
    "    '''\n",
    "    Returns the class according to Figure 11b in Jarret et al. 2017\n",
    "    '''\n",
    "    flux_x = np.log10(fluxw3 / fluxw2)\n",
    "    flux_y = np.log10(fluxw2 / fluxw1)\n",
    "\n",
    "    if color_y >= 0.8:\n",
    "        return 'AGN & (u)LIRGs'\n",
    "    elif color_y < 0.8 and color_x < 2.0:\n",
    "        return 'Spheroids'\n",
    "    elif color_y < 0.8 and color_x > 3.5:\n",
    "        return 'SF Disks'\n",
    "    else:\n",
    "        return 'Inter. Disks'   "
   ]
  },
  {
   "cell_type": "code",
   "execution_count": 14,
   "metadata": {},
   "outputs": [
    {
     "name": "stderr",
     "output_type": "stream",
     "text": [
      "No artists with labels found to put in legend.  Note that artists whose label start with an underscore are ignored when legend() is called with no argument.\n"
     ]
    }
   ],
   "source": [
    "# 3.4 um = W1\n",
    "# 4.6 um = W2\n",
    "# 12  um = W3\n",
    "fig, ax = plt.subplots(figsize=(10, 8))\n",
    "\n",
    "# plt.ylim(-1.1, 2.4)\n",
    "# plt.xlim(-0.3, 6.2)\n",
    "\n",
    "sns.scatterplot(data=wise_sub, y='flux3/flux2_log', x='flux2/flux1_log')#, palette='colorblind', \n",
    "#                hue='wise class', style='wise class', size='wise class', sizes=(30, 15))\n",
    "\n",
    "plt.xlabel(r'log $ \\left ( f_{12} / f_{4.6} \\right ) $', fontsize=13)\n",
    "plt.ylabel(r'log $ \\left ( f_{4.6} / f_{3.4} \\right ) $', fontsize=13)\n",
    "\n",
    "plt.legend(loc='upper left', fontsize=11)\n",
    "\n",
    "plt.savefig('./WISE_plots/wise_color_color_fluxes.pdf')\n",
    "\n",
    "plt.show()"
   ]
  },
  {
   "cell_type": "code",
   "execution_count": null,
   "metadata": {},
   "outputs": [],
   "source": []
  }
 ],
 "metadata": {
  "kernelspec": {
   "display_name": "base",
   "language": "python",
   "name": "python3"
  },
  "language_info": {
   "codemirror_mode": {
    "name": "ipython",
    "version": 3
   },
   "file_extension": ".py",
   "mimetype": "text/x-python",
   "name": "python",
   "nbconvert_exporter": "python",
   "pygments_lexer": "ipython3",
   "version": "3.7.6"
  },
  "orig_nbformat": 4
 },
 "nbformat": 4,
 "nbformat_minor": 2
}
