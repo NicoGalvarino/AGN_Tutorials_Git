{
 "cells": [
  {
   "cell_type": "markdown",
   "id": "a61bd9c0",
   "metadata": {
    "toc": true
   },
   "source": [
    "<h1>Table of Contents<span class=\"tocSkip\"></span></h1>\n",
    "<div class=\"toc\"><ul class=\"toc-item\"><li><span><a href=\"#Reading-data\" data-toc-modified-id=\"Reading-data-1\"><span class=\"toc-item-num\">1&nbsp;&nbsp;</span>Reading data</a></span></li><li><span><a href=\"#Prepartion-of-the-spectra\" data-toc-modified-id=\"Prepartion-of-the-spectra-2\"><span class=\"toc-item-num\">2&nbsp;&nbsp;</span>Prepartion of the spectra</a></span></li><li><span><a href=\"#Host-galaxy-subtraction\" data-toc-modified-id=\"Host-galaxy-subtraction-3\"><span class=\"toc-item-num\">3&nbsp;&nbsp;</span>Host-galaxy subtraction</a></span></li><li><span><a href=\"#Creation-of-the-predefined-lists-of-emission-lines\" data-toc-modified-id=\"Creation-of-the-predefined-lists-of-emission-lines-4\"><span class=\"toc-item-num\">4&nbsp;&nbsp;</span>Creation of the predefined lists of emission lines</a></span></li><li><span><a href=\"#Defining-the-fitting-model\" data-toc-modified-id=\"Defining-the-fitting-model-5\"><span class=\"toc-item-num\">5&nbsp;&nbsp;</span>Defining the fitting model</a></span></li><li><span><a href=\"#Fittings\" data-toc-modified-id=\"Fittings-6\"><span class=\"toc-item-num\">6&nbsp;&nbsp;</span>Fittings</a></span></li><li><span><a href=\"#Plotting-the-results\" data-toc-modified-id=\"Plotting-the-results-7\"><span class=\"toc-item-num\">7&nbsp;&nbsp;</span>Plotting the results</a></span></li><li><span><a href=\"#Inspecting-&amp;-saving-the-plotting-results\" data-toc-modified-id=\"Inspecting-&amp;-saving-the-plotting-results-8\"><span class=\"toc-item-num\">8&nbsp;&nbsp;</span>Inspecting &amp; saving the plotting results</a></span></li><li><span><a href=\"#Simple-analysis\" data-toc-modified-id=\"Simple-analysis-9\"><span class=\"toc-item-num\">9&nbsp;&nbsp;</span>Simple analysis</a></span></li></ul></div>"
   ]
  },
  {
   "attachments": {},
   "cell_type": "markdown",
   "id": "4d2a5f19",
   "metadata": {},
   "source": [
    "**Nicolás Guerra-Varas**\n",
    "\n",
    "Prof. Dragana Ilić\n",
    "\n",
    "Tutor Isidora Jankov\n",
    "\n",
    "# FANTASY Tutorial\n",
    "\n",
    "The goal of this tutorial is to learn how to use __[`fantasy`](https://fantasy-agn.readthedocs.io/en/latest/index.html)__ to model AGN spectra."
   ]
  },
  {
   "attachments": {},
   "cell_type": "markdown",
   "id": "37553031",
   "metadata": {},
   "source": [
    "## Imports"
   ]
  },
  {
   "cell_type": "code",
   "execution_count": null,
   "id": "8d850b9e",
   "metadata": {},
   "outputs": [],
   "source": [
    "%matplotlib\n",
    "import matplotlib.pyplot as plt\n",
    "import matplotlib as mpl\n",
    "from matplotlib.ticker import (MultipleLocator, FormatStrFormatter, AutoMinorLocator)\n",
    "\n",
    "import numpy as np\n",
    "import pandas as pd\n",
    "\n",
    "import glob"
   ]
  },
  {
   "cell_type": "code",
   "execution_count": null,
   "id": "c9fc0a2c",
   "metadata": {},
   "outputs": [],
   "source": [
    "# additional imports\n",
    "import math as m\n",
    "import csv\n",
    "import astropy.coordinates as coord\n",
    "import astropy.units as u\n",
    "from astropy.io import ascii\n",
    "from astropy.coordinates import SkyCoord\n",
    "from astropy.io import fits\n",
    "from astropy.utils.data import get_pkg_data_filename\n",
    "from astropy.table import Table"
   ]
  },
  {
   "cell_type": "code",
   "execution_count": null,
   "id": "4d156279",
   "metadata": {},
   "outputs": [],
   "source": [
    "from fantasy_agn.tools import read_sdss, read_text, read_gama_fits\n",
    "\n",
    "from fantasy_agn.models import (create_input_folder, create_feii_model, create_model, \n",
    "                               create_tied_model, continuum, create_line, create_fixed_model)"
   ]
  },
  {
   "attachments": {},
   "cell_type": "markdown",
   "id": "afa63d00",
   "metadata": {},
   "source": [
    "# Replicate Procedure"
   ]
  },
  {
   "attachments": {},
   "cell_type": "markdown",
   "id": "50a428a6",
   "metadata": {},
   "source": [
    "## Read spectrum"
   ]
  },
  {
   "cell_type": "code",
   "execution_count": null,
   "id": "45c366d2",
   "metadata": {},
   "outputs": [],
   "source": [
    "# assigned spectrum\n",
    "s = read_sdss('spec-0572-52289-0442.fits')\n",
    "s_or = read_sdss('spec-0572-52289-0442.fits')\n",
    "# saving original spectrum to see how it changes through the procedure\n",
    "\n",
    "# these are the parameters that the spectrum has\n",
    "# s.z redshift\n",
    "# s.ra\n",
    "# s.dec\n",
    "# s.mjd\n",
    "# s.plate\n",
    "# s.fiber\n",
    "# s.name\n",
    "# s.err\n",
    "# s.flux\n",
    "# s.wave\n",
    "# s.fwhm\n",
    "# s.velscale"
   ]
  },
  {
   "attachments": {},
   "cell_type": "markdown",
   "id": "48e675f7",
   "metadata": {},
   "source": [
    "First I took a quick look into the spectrum."
   ]
  },
  {
   "cell_type": "code",
   "execution_count": null,
   "id": "87c244be",
   "metadata": {},
   "outputs": [],
   "source": [
    "plt.style.context(['nature', 'notebook'])\n",
    "plt.figure(figsize=(12,5))\n",
    "\n",
    "plt.plot(s.wave, s.flux, color='navy', label='Obs', lw=1)\n",
    "\n",
    "plt.legend(loc='upper right', prop={'size': 15}, frameon=False, ncol=2)\n",
    "plt.xlabel(r'Wavelength [Ang]')\n",
    "plt.ylabel(r'Flux [$10^{-7}$ erg / s / cm$^2$ / Ang]')\n",
    "\n",
    "# plt.savefig('spectrum_original.pdf')\n",
    "\n",
    "plt.show()"
   ]
  },
  {
   "attachments": {},
   "cell_type": "markdown",
   "id": "2cdd0389",
   "metadata": {},
   "source": [
    "I looked it up on SDSS/SIMBAD to get more information on this object."
   ]
  },
  {
   "cell_type": "code",
   "execution_count": null,
   "id": "539b3f4d",
   "metadata": {},
   "outputs": [],
   "source": [
    "print(s.plate, s.mjd, s.fiber)"
   ]
  },
  {
   "attachments": {},
   "cell_type": "markdown",
   "id": "941e804e",
   "metadata": {},
   "source": [
    "Here's an image of the object from the __[SDSS viewer](https://skyserver.sdss.org/dr18/VisualTools/explore/summary?plate=0572&mjd=52289&fiber=442)__\n",
    "\n",
    "<img src='sdss_viewer.jpg' width=\"400\" height=\"400\">"
   ]
  },
  {
   "attachments": {},
   "cell_type": "markdown",
   "id": "039898e3",
   "metadata": {},
   "source": [
    "Then I wanted to see where in the sky this is."
   ]
  },
  {
   "cell_type": "code",
   "execution_count": null,
   "id": "19f864f4",
   "metadata": {},
   "outputs": [],
   "source": [
    "ra = s.ra\n",
    "dec = s.dec\n",
    "eq = SkyCoord(ra, dec, frame='galactic', unit=u.deg)\n",
    "gal = eq.galactic\n",
    "\n",
    "plt.style.use('ggplot')\n",
    "\n",
    "fig = plt.figure(figsize=(6,5))\n",
    "plt.subplot(111, projection='aitoff')\n",
    "\n",
    "plt.plot(gal.l.wrap_at(180*u.deg), gal.b.wrap_at(180*u.deg), linestyle='None')\n",
    "plt.scatter(gal.l.wrap_at('180d').radian, gal.b.radian, marker='*', color='navy', s=150)\n",
    "\n",
    "plt.grid(True, alpha=0.5)\n",
    "\n",
    "plt.tick_params(axis='both', which='major', labelsize=5)\n",
    "\n",
    "# plt.savefig('map_qso.pdf')\n",
    "\n",
    "plt.show()"
   ]
  },
  {
   "attachments": {},
   "cell_type": "markdown",
   "id": "c53900bb",
   "metadata": {},
   "source": [
    "It is along the galactic plane. Maybe it will have significant Galactic absorption."
   ]
  },
  {
   "cell_type": "code",
   "execution_count": null,
   "id": "2567e1cf",
   "metadata": {},
   "outputs": [],
   "source": [
    "print('Redshift =', s.z)"
   ]
  },
  {
   "attachments": {},
   "cell_type": "markdown",
   "id": "cdc484a5",
   "metadata": {},
   "source": [
    "Finally, I checked its redshift, which indicates it is a distant object."
   ]
  },
  {
   "attachments": {},
   "cell_type": "markdown",
   "id": "59ff6c43",
   "metadata": {},
   "source": [
    "## Prepare spectra"
   ]
  },
  {
   "cell_type": "code",
   "execution_count": null,
   "id": "96164293-9a34-485d-aefd-ebc762d9ea6a",
   "metadata": {},
   "outputs": [],
   "source": [
    "s.DeRedden()  # correct for Galactic extinction\n",
    "s.CorRed()  # correct for cosmological redshift"
   ]
  },
  {
   "attachments": {},
   "cell_type": "markdown",
   "id": "813d0052",
   "metadata": {},
   "source": [
    "I corrected for redshift and extinction and plotted against the unchanged data to see how it changes."
   ]
  },
  {
   "cell_type": "code",
   "execution_count": null,
   "id": "4be446b3",
   "metadata": {},
   "outputs": [],
   "source": [
    "plt.style.context(['nature', 'notebook'])\n",
    "plt.figure(figsize=(12,5))\n",
    "\n",
    "plt.plot(s_or.wave, s_or.flux, '--', color='steelblue', label='Obs Original', lw=1)\n",
    "plt.plot(s.wave, s.flux, color='navy', label='Obs Corrected', lw=1)\n",
    "\n",
    "plt.legend(loc='upper right', prop={'size': 15}, frameon=False, ncol=1)\n",
    "plt.xlabel(r'Wavelength [Ang]')\n",
    "plt.ylabel(r'Flux [$10^{-7}$ erg / s / cm$^2$ / Ang]')\n",
    "\n",
    "# plt.savefig('spectrum_pre_post_corrections.pdf')\n",
    "\n",
    "plt.show()"
   ]
  },
  {
   "cell_type": "markdown",
   "id": "2683de07",
   "metadata": {},
   "source": [
    "## Host-galaxy subtraction"
   ]
  },
  {
   "cell_type": "code",
   "execution_count": null,
   "id": "04e71697",
   "metadata": {},
   "outputs": [],
   "source": [
    "# s.restore()\n",
    "s.fit_host_sdss()  # fits for the host galaxy and AGN contibutions separately\n",
    "\n",
    "s.host_no_mask = s.host  # saving the host\n",
    "\n",
    "plt.legend(fontsize=12)\n",
    "plt.xlabel(r'Wavelength [Ang]')\n",
    "plt.ylabel(r'Flux [$10^{-7}$ erg / s / cm$^2$ / Ang]')\n",
    "plt.title('Unmasked Host')\n",
    "\n",
    "# plt.savefig('fit_host_sdss_default.pdf')\n",
    "\n",
    "plt.show()"
   ]
  },
  {
   "attachments": {},
   "cell_type": "markdown",
   "id": "dbcc49cc",
   "metadata": {},
   "source": [
    "Here, the spectrum in red corresponds to the data. The blue and purple spectra are the fits to the host galaxy and the AGN respectively. Their summed spectrum gives the fit to the observations, which is quite good. The contribution of the host galaxy in this case is not negligible."
   ]
  },
  {
   "cell_type": "code",
   "execution_count": null,
   "id": "82b771c1",
   "metadata": {},
   "outputs": [],
   "source": [
    "s.restore()\n",
    "s.fit_host_sdss(mask_host=True, custom=False)\n",
    "\n",
    "s.host_masked = s.host  # saving the host\n",
    "\n",
    "plt.legend(fontsize=12)\n",
    "plt.xlabel(r'Wavelength [Ang]')\n",
    "plt.ylabel(r'Flux [$10^{-7}$ erg / s / cm$^2$ / Ang]')\n",
    "plt.title('Masked Host')\n",
    "\n",
    "# plt.savefig('fit_host_sdss_masked.pdf')\n",
    "\n",
    "plt.show()"
   ]
  },
  {
   "attachments": {},
   "cell_type": "markdown",
   "id": "980b1c45",
   "metadata": {},
   "source": [
    "I tried the host subtraction again, but now masking the main emission lines from the host galaxy ([O III], [N II], [S II]). The code does this by interpolating between the two edges of the lines instead of going through the line itself. The result was very different (see above). Now, the contribution of the host seems much less significant. The fit overall seems very good, just like the first try."
   ]
  },
  {
   "cell_type": "code",
   "execution_count": null,
   "id": "9f057aca",
   "metadata": {},
   "outputs": [],
   "source": [
    "plt.style.context(['nature', 'notebook'])\n",
    "plt.figure(figsize=(12,5))\n",
    "\n",
    "plt.plot(s.wave, s.flux, color='navy', label='Obs Corrected', lw=1)\n",
    "\n",
    "plt.legend(loc='upper left', prop={'size': 15}, frameon=False, ncol=1)\n",
    "plt.xlabel(r'Wavelength [Ang]')\n",
    "plt.ylabel(r'Flux [$10^{-7}$ erg / s / cm$^2$ / Ang]')\n",
    "\n",
    "# plt.savefig('spectrum_post_host_sub.pdf')\n",
    "\n",
    "plt.show()"
   ]
  },
  {
   "cell_type": "code",
   "execution_count": null,
   "id": "1c90cc30",
   "metadata": {},
   "outputs": [],
   "source": [
    "plt.style.context(['nature', 'notebook'])\n",
    "plt.figure(figsize=(12, 5))\n",
    "\n",
    "plt.plot(s.wave, s.flux+s.host, color='navy', label='Obs' , lw=1.5)\n",
    "plt.plot(s.wave, s.host_no_mask, color=\"#F10C45\", label='Host: not masked', lw=1.0)\n",
    "plt.plot(s.wave, s.host, color=\"green\", label='Host: masked', lw=1.0)\n",
    "\n",
    "plt.legend(loc='upper left', prop={'size': 10}, frameon=False)\n",
    "plt.xlabel(r'Wavelength [Ang]')\n",
    "plt.ylabel(r'Flux [$10^{-7}$ erg / s / cm$^2$ / Ang]')\n",
    "\n",
    "# plt.savefig('spectrum_host_masked_vs_not.pdf')\n",
    "\n",
    "plt.show()"
   ]
  },
  {
   "attachments": {},
   "cell_type": "markdown",
   "id": "e7459519",
   "metadata": {},
   "source": [
    "In this plot, it is clear that the difference between both host fits are the lines."
   ]
  },
  {
   "cell_type": "markdown",
   "id": "00fe532f",
   "metadata": {},
   "source": [
    "## Creation of the predefined lists of emission lines"
   ]
  },
  {
   "cell_type": "code",
   "execution_count": null,
   "id": "67d687c5",
   "metadata": {},
   "outputs": [],
   "source": [
    "# this is the minimum wavelength found in the spectrum\n",
    "np.min(s.wave)"
   ]
  },
  {
   "cell_type": "code",
   "execution_count": null,
   "id": "c09d354a",
   "metadata": {},
   "outputs": [],
   "source": [
    "# the information of the lines will be saved in the 'lines' folder\n",
    "create_input_folder(xmin=np.min(s.wave), xmax=np.max(s.wave), path_to_folder='lines/', overwrite=True)"
   ]
  },
  {
   "attachments": {},
   "cell_type": "markdown",
   "id": "69a24837",
   "metadata": {},
   "source": [
    "In this folder, there's a file for each of these lines, commonly found in AGN spectra: Balmer series [FeII], He, narrow lines, broad lines, [OIII], and others such as a broad and narrow line model."
   ]
  },
  {
   "cell_type": "code",
   "execution_count": null,
   "id": "23f31a42",
   "metadata": {},
   "outputs": [],
   "source": [
    "# cropping to a certain wavelength range\n",
    "\n",
    "# I won't crop it initially\n",
    "# s.crop(np.min(s.wave), np.max(s.wave))\n",
    "\n",
    "# I'm cropping it for the 2nd attempt on\n",
    "s.crop(3575, np.max(s.wave))"
   ]
  },
  {
   "attachments": {},
   "cell_type": "markdown",
   "id": "0fa7e891",
   "metadata": {},
   "source": [
    "### Wavelengths of the lines"
   ]
  },
  {
   "cell_type": "code",
   "execution_count": null,
   "id": "2b8f8d82",
   "metadata": {},
   "outputs": [],
   "source": [
    "H_lines = pd.read_csv('lines/hydrogen.csv')\n",
    "O_N_lines = pd.read_csv('lines/oiii_nii.csv')\n",
    "narrow_lines = pd.read_csv('lines/narrow_basic.csv')\n",
    "narrowP = pd.read_csv('lines/narrow_plus.csv')"
   ]
  },
  {
   "cell_type": "code",
   "execution_count": null,
   "id": "e6ae4d59",
   "metadata": {},
   "outputs": [],
   "source": [
    "H_alpha = np.float64(H_lines.loc[H_lines['line']=='Ha']['position'])\n",
    "H_beta = np.float64(H_lines.loc[H_lines['line']=='Hb']['position'])\n",
    "\n",
    "OIII_1 = np.float64(O_N_lines.loc[O_N_lines['line']=='[OIII]']['position'][0])\n",
    "OIII_2 = np.float64(O_N_lines.loc[O_N_lines['line']=='[OIII]']['position'][1])\n",
    "OIII_narrow = np.float64(narrow_lines.loc[narrow_lines['line']=='[OIII]']['position'])\n",
    "\n",
    "NII_1 = np.float64(O_N_lines.loc[O_N_lines['line']=='[NII]']['position'][2])\n",
    "NII_2 = np.float64(O_N_lines.loc[O_N_lines['line']=='[NII]']['position'][3])\n",
    "\n",
    "SII_narrow_1 = np.float64(narrow_lines.loc[narrow_lines['line']=='[SII]']['position'][6])\n",
    "SII_narrow_2 = np.float64(narrow_lines.loc[narrow_lines['line']=='[SII]']['position'][7])\n",
    "SII_narrowP_1 = np.float64(narrowP.loc[narrowP['line']=='[SII]1F']['position'][7])\n",
    "SII_narrowP_2 = np.float64(narrowP.loc[narrowP['line']=='[SII]1F']['position'][8])"
   ]
  },
  {
   "cell_type": "markdown",
   "id": "b511cd9c",
   "metadata": {},
   "source": [
    "## Defining the fitting model"
   ]
  },
  {
   "cell_type": "markdown",
   "id": "c147d62b",
   "metadata": {},
   "source": [
    "            index    -0.7   dimensionless constant that defines the slope of the power law above 5000 Angstroms; it is equal to -0.7 in our fit to UVES spectra from Vestergaard & Peterson 1991 ApJ 374, 344; this value was changed from -0.5 to account for higher resolution data from Keck Observatories since that paper was published (see Section 2 of Smith et al 2006 ApJS 164, 508).  This parameter can be set between 0 and 3 inclusive with a limit placed on its value by requiring that it must be greater than or equal to min_index when evaluated at max_refer and less than or equal to max_index when evaluated at min_refer; see below for more details on these parameters which control"
   ]
  },
  {
   "cell_type": "code",
   "execution_count": null,
   "id": "85f304c7",
   "metadata": {},
   "outputs": [],
   "source": [
    "# continumm\n",
    "cont_1 = continuum(s, min_refer=5690, refer=5700, max_refer=5710)\n",
    "cont_2 = continuum(s, \n",
    "                   # min_refer=4040, refer=4050, max_refer=4060, \n",
    "                   min_refer=4190, refer=4200, max_refer=4210, # best\n",
    "                   # index1=-1.0, \n",
    "                   # index2=-1.5, min_index2=-2.5, max_index2=-0.5)\n",
    "                   # index2=-2, min_index2=-3, max_index2=-1)\n",
    "                   index2=-2.5, min_index2=-3.5, max_index2=-1.5)  # best\n",
    "                   # index2=-3, min_index2=-4, max_index2=-2)\n",
    "\n",
    "# default parameters:\n",
    "# refer=5500, min_refer=5400, max_refer=7000, \n",
    "# index1=-1.7, min_index1=-3, max_index1=0, \n",
    "# index2=0, min_index2=-1, max_index2=1\n",
    "\n",
    "# index1: sets the power law of the continuum\n",
    "# index2: makes the continuum flat => I modified it"
   ]
  },
  {
   "cell_type": "code",
   "execution_count": null,
   "id": "5fe5c66b",
   "metadata": {},
   "outputs": [],
   "source": [
    "# broad line component\n",
    "broad_1 = create_fixed_model(['hydrogen.csv'], name='Broad')"
   ]
  },
  {
   "cell_type": "code",
   "execution_count": null,
   "id": "bfa9744a",
   "metadata": {},
   "outputs": [],
   "source": [
    "# narrow line component\n",
    "narrow_1 = create_tied_model(name='OIII5007', \n",
    "                           files=['narrow_basic.csv', 'hydrogen.csv'], \n",
    "                           prefix='nr', \n",
    "                           fwhm=1000, \n",
    "                           min_offset=0, \n",
    "                           max_offset=300, \n",
    "                           min_fwhm=900, \n",
    "                           max_fwhm=1200, \n",
    "                           fix_oiii_ratio=True, \n",
    "                           position=5006.803341, \n",
    "                           included=True, \n",
    "                           min_amplitude=0.2)"
   ]
  },
  {
   "cell_type": "code",
   "execution_count": null,
   "id": "7039aa8a",
   "metadata": {},
   "outputs": [],
   "source": [
    "# helium\n",
    "he_1 = create_fixed_model(['helium.csv'], name='He', fwhm=3000, min_fwhm=1000, max_fwhm=5000)\n",
    "\n",
    "# He.amp_HeI_4144 is at its minimum boundary 0.0\n",
    "# He.amp_HeI_4471 is at its minimum boundary 0.0\n",
    "# He.fwhm is at its maximum boundary 5000.0"
   ]
  },
  {
   "cell_type": "code",
   "execution_count": null,
   "id": "1a080276",
   "metadata": {
    "scrolled": false
   },
   "outputs": [],
   "source": [
    "# iron\n",
    "fe_1 = create_feii_model(name='feii', \n",
    "                       fwhm=1800, \n",
    "                       min_fwhm=1000, \n",
    "                       max_fwhm=2000, \n",
    "                       offset=0,\n",
    "                       min_offset=-3000, \n",
    "                       max_offset=3000)\n",
    "\n",
    "'''fe_2 = create_feii_model(name='feii', \n",
    "                       fwhm=2200, \n",
    "                       min_fwhm=1000, \n",
    "                       max_fwhm=2500, \n",
    "                       offset=0,\n",
    "                       min_offset=-3000, \n",
    "                       max_offset=3000)'''"
   ]
  },
  {
   "cell_type": "code",
   "execution_count": null,
   "id": "39b93cf6-3363-4243-a755-98d179be0fae",
   "metadata": {},
   "outputs": [],
   "source": [
    "# Code fits simultaneously all features.\n",
    "model_1st = cont_1 + broad_1 + narrow_1 + fe_1 + he_1\n",
    "model_2nd = cont_2 + broad_1 + narrow_1 + fe_1 + he_1"
   ]
  },
  {
   "attachments": {},
   "cell_type": "markdown",
   "id": "1cc7502f",
   "metadata": {},
   "source": [
    "So, I am trying different attempts:\n",
    "1. No modifications\n",
    "2. Fixing the continuum\n",
    "3. Fixing the iron lines"
   ]
  },
  {
   "attachments": {},
   "cell_type": "markdown",
   "id": "e23be022",
   "metadata": {},
   "source": [
    "## Fitting"
   ]
  },
  {
   "cell_type": "code",
   "execution_count": null,
   "id": "f48d2be4-2bc0-4b7d-8467-5ea7f6ab541c",
   "metadata": {},
   "outputs": [],
   "source": [
    "# 1st attempt\n",
    "# s.fit(model_1st, ntrial=2)\n",
    "\n",
    "# 2nd attempt\n",
    "s.fit(model_2nd, ntrial=2)"
   ]
  },
  {
   "cell_type": "code",
   "execution_count": null,
   "id": "a70a9db3",
   "metadata": {},
   "outputs": [],
   "source": [
    "# it converged\n",
    "print(s.gres.succeeded)"
   ]
  },
  {
   "cell_type": "code",
   "execution_count": null,
   "id": "e53dd472",
   "metadata": {},
   "outputs": [],
   "source": [
    "# saving info on each fit attempt\n",
    "attempts = {'chi2 1st': 124.23362044251917, 'iters 1st': 2, \n",
    "            'chi2 2nd': 5.209570577933846 # 0.1569414121840964\n",
    "            , 'iters 2nd': 2\n",
    "            }\n",
    "\n",
    "# 5.209570577933846 with index2 = -2.5 & refer 4200"
   ]
  },
  {
   "cell_type": "markdown",
   "id": "b33f53ed",
   "metadata": {},
   "source": [
    "##  Inspecting & saving the plotting results"
   ]
  },
  {
   "attachments": {},
   "cell_type": "markdown",
   "id": "8df6dbf4",
   "metadata": {},
   "source": [
    "__[`sherpa`](https://sherpa.readthedocs.io/en/4.15.0/)__ saves the model's output into `gres`"
   ]
  },
  {
   "cell_type": "code",
   "execution_count": null,
   "id": "9b81cd57",
   "metadata": {},
   "outputs": [],
   "source": [
    "arr = np.stack([np.asarray(s.gres.parnames), np.asarray(s.gres.parvals)], axis=-1)\n",
    "columns = ['parnames', 'parvalues']\n",
    "\n",
    "fit_result = pd.DataFrame(arr, columns=columns)\n",
    "fit_result"
   ]
  },
  {
   "cell_type": "code",
   "execution_count": null,
   "id": "717d33a3",
   "metadata": {},
   "outputs": [],
   "source": [
    "# model_1st\n",
    "model_2nd"
   ]
  },
  {
   "cell_type": "code",
   "execution_count": null,
   "id": "a5dc7485",
   "metadata": {},
   "outputs": [],
   "source": [
    "# To see the fitting results, one can use standard outputs from Sherpa package, such as:\n",
    "# gres - to list all fitting results\n",
    "# gres.parnames - to list all parameters\n",
    "# save_json() - to save the results\n",
    "\n",
    "print(s.gres.format())\n",
    "s.save_json() #saving parameters "
   ]
  },
  {
   "attachments": {},
   "cell_type": "markdown",
   "id": "c718319c",
   "metadata": {},
   "source": [
    "In the first try, I didn't modify the parameters of the model. I got some warnings:\n",
    "```\n",
    "WARNING: parameter value feii.fwhm is at its maximum boundary 2000.0\n",
    "WARNING: parameter value He.amp_HeI_4144 is at its minimum boundary 0.0\n",
    "WARNING: parameter value He.amp_HeI_4471 is at its minimum boundary 0.0\n",
    "WARNING: parameter value He.fwhm is at its maximum boundary 5000.0\n",
    "```\n",
    "\n",
    "I tried tuned the parameters of the model until they were resolved. Warning of the same type also came up during the second attempt.\n",
    "\n",
    "---\n",
    "\n",
    "I plotted the spectra with spectral lines indicated to get a better understanding of how well the model is fitting the data."
   ]
  },
  {
   "cell_type": "markdown",
   "id": "fa66f807",
   "metadata": {},
   "source": [
    "## Plotting the results"
   ]
  },
  {
   "cell_type": "code",
   "execution_count": null,
   "id": "777f4c58",
   "metadata": {},
   "outputs": [],
   "source": [
    "'''plt.style.context(['nature', 'notebook'])\n",
    "plt.figure(figsize=(18,8))\n",
    "\n",
    "plt.plot(s.wave, s.flux, color=\"#929591\", label='Obs', lw=2)\n",
    "plt.plot(s.wave, model_1st(s.wave), color=\"#F10C45\", label='Model', lw=3)\n",
    "plt.plot(s.wave, model_1st(s.wave)-s.flux-70, '-', color=\"#929591\", label='Residual', lw=2)\n",
    "plt.axhline(y=-70, color='deepskyblue', linestyle='--', lw=2)\n",
    "\n",
    "plt.plot(s.wave, cont_1(s.wave),'--', color=\"#042E60\", label='Continuum', lw=1.5)\n",
    "plt.plot(s.wave, narrow_1(s.wave), label='Narrow', color=\"#25A36F\", lw=3)\n",
    "plt.plot(s.wave, broad_1(s.wave), label='Broad H', lw=3, color=\"#2E5A88\")\n",
    "plt.plot(s.wave, he_1(s.wave), label='Broad He I', lw=3, color=\"orange\")\n",
    "plt.plot(s.wave, fe_1(s.wave), '-', color=\"#CB416B\", label='Fe II model', lw=3)\n",
    "\n",
    "plt.xlabel(r'Wavelength [Ang]', fontsize=15)\n",
    "plt.ylabel(r'Flux [$10^{-7}$ erg / s / cm$^2$ / Ang]', fontsize=15)\n",
    "\n",
    "plt.xlim(np.min(s.wave), np.max(s.wave))\n",
    "plt.tick_params(which='both', direction=\"in\")\n",
    "plt.yticks(fontsize=15)\n",
    "plt.xticks(np.arange(4000, 7000, step=500), fontsize=15)\n",
    "plt.title('Fantasy Fit: 1st Attempt (Iters: ' + str(attempts['iters 1st']) + r', $ \\chi ^2 $ = ' + str(np.round(attempts['chi2 1st'], 3)) + ')')\n",
    "\n",
    "plt.legend(loc='upper left',  prop={'size': 12}, frameon=False, ncol=2)\n",
    "\n",
    "# plt.savefig('1st_attempt_fantasy_fit.pdf')\n",
    "\n",
    "plt.show()'''"
   ]
  },
  {
   "cell_type": "code",
   "execution_count": null,
   "id": "dd013eb5",
   "metadata": {},
   "outputs": [],
   "source": [
    "plt.style.context(['nature', 'notebook'])\n",
    "plt.figure(figsize=(18,8))\n",
    "\n",
    "plt.plot(s.wave, s.flux, color=\"#929591\", label='Obs', lw=2)\n",
    "plt.plot(s.wave, model_2nd(s.wave), color=\"#F10C45\", label='Model', lw=3)\n",
    "plt.plot(s.wave, model_2nd(s.wave)-s.flux-70, '-', color=\"#929591\", label='Residual', lw=2)\n",
    "plt.axhline(y=-70, color='deepskyblue', linestyle='--', lw=2)\n",
    "\n",
    "plt.plot(s.wave, cont_2(s.wave),'--', color=\"#042E60\", label='Continuum', lw=1.5)\n",
    "plt.plot(s.wave, narrow_1(s.wave), label='Narrow', color=\"#25A36F\", lw=3)\n",
    "plt.plot(s.wave, broad_1(s.wave), label='Broad H', lw=3, color=\"#2E5A88\")\n",
    "plt.plot(s.wave, he_1(s.wave), label='Broad He I', lw=3, color=\"orange\")\n",
    "plt.plot(s.wave, fe_1(s.wave), '-', color=\"#CB416B\", label='Fe II model', lw=3)\n",
    "\n",
    "plt.xlabel(r'Wavelength [Ang]', fontsize=15)\n",
    "plt.ylabel(r'Flux [$10^{-7}$ erg / s / cm$^2$ / Ang]', fontsize=15)\n",
    "\n",
    "plt.xlim(np.min(s.wave), np.max(s.wave))\n",
    "plt.tick_params(which='both', direction=\"in\")\n",
    "plt.yticks(fontsize=15)\n",
    "plt.xticks(np.arange(4000, 7000, step=500), fontsize=15)\n",
    "plt.title('Fantasy Fit: 2nd Attempt (Iters: ' + str(attempts['iters 2nd']) + r', $ \\chi ^2 $ = ' + str(np.round(attempts['chi2 2nd'], 3)) + ')')\n",
    "\n",
    "plt.legend(loc='upper left',  prop={'size': 12}, frameon=False, ncol=2)\n",
    "\n",
    "plt.savefig('2nd_attempt_fantasy_fit.pdf')\n",
    "\n",
    "plt.show()"
   ]
  },
  {
   "attachments": {},
   "cell_type": "markdown",
   "id": "f08fb345",
   "metadata": {},
   "source": [
    "Next, I created an interactive plot so that I can zoom in and see how the lines are fitting in more detail."
   ]
  },
  {
   "cell_type": "code",
   "execution_count": null,
   "id": "d1b66b35",
   "metadata": {},
   "outputs": [],
   "source": [
    "wavelengths = dict({SII_narrowP_1:'[SII] Narrow+, 1', \n",
    "                    SII_narrowP_2:'[SII] Narrow+, 2', \n",
    "                    OIII_narrow:'[OIII] Narrow', \n",
    "                    OIII_1:'[OIII], 1', \n",
    "                    OIII_2:'[OIII], 2', \n",
    "                    SII_narrow_1:'[SII] Narrow, 1', \n",
    "                    SII_narrow_2:'[SII] Narrow, 2',\n",
    "                    NII_1:'[NII], 1', \n",
    "                    NII_2:'[NII], 2', \n",
    "                    H_alpha:'H alpha', \n",
    "                    H_beta:'H beta'})\n",
    "\n",
    "colors = ['darkgreen', 'crimson', 'teal', 'goldenrod', 'slateblue', 'darkviolet', 'darkorange', 'royalblue', \n",
    "          'magenta', 'darkolivegreen', 'brown']"
   ]
  },
  {
   "cell_type": "code",
   "execution_count": null,
   "id": "39c7ed20",
   "metadata": {},
   "outputs": [],
   "source": [
    "plt.style.context(['nature', 'notebook'])\n",
    "fig = plt.figure(figsize=(15, 8))\n",
    "ax = fig.add_subplot()\n",
    "fig.subplots_adjust(top=0.85)\n",
    "\n",
    "for i in range(len(wavelengths)):\n",
    "    ax.text(list(wavelengths.keys())[i], -200, list(wavelengths.values())[i], fontsize=10, rotation='vertical')\n",
    "    ax.vlines(list(wavelengths.keys())[i], -100, 350, linestyles='dashed', label=list(wavelengths.values())[i], colors=colors[i])\n",
    "\n",
    "plt.ion()\n",
    "\n",
    "plt.plot(s.wave, s.flux, color=\"#929591\", label='Obs', lw=2)\n",
    "plt.plot(s.wave, model_1st(s.wave), color=\"#F10C45\", label='Model', lw=3)\n",
    "plt.plot(s.wave, model_1st(s.wave)-s.flux-70, '-', color=\"#929591\", label='Residual', lw=2)\n",
    "plt.axhline(y=-70, color='deepskyblue', linestyle='--', lw=2)\n",
    "\n",
    "plt.plot(s.wave, cont_1(s.wave),'--', color=\"#042E60\", label='Continuum', lw=1.5)\n",
    "plt.plot(s.wave, narrow_1(s.wave), label='Narrow', color=\"#25A36F\", lw=3)\n",
    "plt.plot(s.wave, broad_1(s.wave), label='Broad H', lw=3, color=\"#2E5A88\")\n",
    "plt.plot(s.wave, he_1(s.wave), label='Broad He I', lw=3, color=\"orange\")\n",
    "plt.plot(s.wave, fe_1(s.wave), '-', color=\"#CB416B\", label='Fe II model', lw=3)\n",
    "\n",
    "plt.xlabel(r'Wavelength [Ang]', fontsize=15)\n",
    "plt.ylabel(r'Flux [$10^{-7}$ erg / s / cm$^2$ / Ang]', fontsize=15)\n",
    "\n",
    "plt.xlim(np.min(s.wave), np.max(s.wave))\n",
    "plt.ylim(-220, 350)\n",
    "plt.tick_params(which='both', direction=\"in\")\n",
    "plt.yticks(fontsize=15)\n",
    "plt.xticks(np.arange(4000, 7000, step=500), fontsize=15)\n",
    "\n",
    "plt.title('Fantasy Fit: 1st Attempt (Iters: ' + str(attempts['iters 1st']) + r', $ \\chi ^2 $ = ' + str(np.round(attempts['chi2 1st'], 3)) + ')')\n",
    "\n",
    "plt.legend(bbox_to_anchor=(1.0, 0.8), prop={'size': 10}, frameon=False, ncol=1)\n",
    "\n",
    "plt.show()"
   ]
  },
  {
   "attachments": {},
   "cell_type": "markdown",
   "id": "ddabd5c5",
   "metadata": {},
   "source": [
    "After the first attempt, the lines that need better fitting are:\n",
    "* Continuum: below 4500 Ang, the continuum isn't steep enough\n",
    "* [OIII] 1 and 2: the iron model doesn't have intense enough lines\n",
    "\n",
    "### First Attempt\n",
    "The first time I ran the model just the way it was to have a starting point. I believe the most important thing to fix is the continuum. The $\\chi^2$ was equal to \n",
    "\n",
    "### Second Attempt\n",
    "I focused on fixing the continuum. I changed the breakpoint of the power law (`refer`) and I made the left side of it steeper with the (`index2`)."
   ]
  },
  {
   "attachments": {},
   "cell_type": "markdown",
   "id": "72b8a8e6",
   "metadata": {},
   "source": [
    "# Measuring Lines\n",
    "\n",
    "Narrow Ha, Hb, [OIII], [NII] and [SII] lines if present; Broad Ha, Hb."
   ]
  },
  {
   "cell_type": "code",
   "execution_count": null,
   "id": "0ed0a1bf",
   "metadata": {},
   "outputs": [],
   "source": [
    "'''cont(s.wave)\n",
    "narrow(s.wave)\n",
    "broad(s.wave)\n",
    "he(s.wave)\n",
    "fe(s.wave)'''"
   ]
  },
  {
   "cell_type": "code",
   "execution_count": null,
   "id": "32a6b331",
   "metadata": {},
   "outputs": [],
   "source": [
    "# measuring iron\n",
    "flux_feII = np.sum(fe(s.wave))\n",
    "flux_Ha_broad = np.sum\n",
    "print(flux_feII)"
   ]
  },
  {
   "attachments": {},
   "cell_type": "markdown",
   "id": "74196217",
   "metadata": {},
   "source": [
    "# Calculating Line Ratios"
   ]
  },
  {
   "attachments": {},
   "cell_type": "markdown",
   "id": "b997476c",
   "metadata": {},
   "source": [
    "## [NII]6583 / H $\\alpha$"
   ]
  },
  {
   "cell_type": "code",
   "execution_count": null,
   "id": "84ff98c9",
   "metadata": {},
   "outputs": [],
   "source": []
  },
  {
   "attachments": {},
   "cell_type": "markdown",
   "id": "1c4e3adb",
   "metadata": {},
   "source": [
    "## [OIII]5007 / H $\\beta$"
   ]
  },
  {
   "cell_type": "code",
   "execution_count": null,
   "id": "5104bab2",
   "metadata": {},
   "outputs": [],
   "source": []
  },
  {
   "attachments": {},
   "cell_type": "markdown",
   "id": "f984586c",
   "metadata": {},
   "source": [
    "## H $\\alpha$ / H $\\beta$"
   ]
  },
  {
   "cell_type": "code",
   "execution_count": null,
   "id": "cea6b97e",
   "metadata": {},
   "outputs": [],
   "source": []
  },
  {
   "cell_type": "code",
   "execution_count": null,
   "id": "0c7680b5",
   "metadata": {},
   "outputs": [],
   "source": []
  },
  {
   "cell_type": "markdown",
   "id": "6acfd8a5",
   "metadata": {},
   "source": [
    "**References**\n",
    "\n",
    "1. [Rakic, N., 2022, MNRAS, 516, 1624](https://ui.adsabs.harvard.edu/abs/2022MNRAS.516.1624R/abstract)\n",
    "2. [Ilic, D. et al. 2020, A&A, 638, 13](https://ui.adsabs.harvard.edu/abs/2020A%26A...638A..13I/abstract)\n",
    "3. [Kovacevic, J. et al. 2010, ApJS, 189, 15](https://ui.adsabs.harvard.edu/abs/2010ApJS..189...15K/abstract)\n",
    "4. [Shapovalova, A. I. et al. 2012, ApJS, 202, 10](https://ui.adsabs.harvard.edu/abs/2012ApJS..202...10S/abstract)\n",
    "5. Ilic, D., Rakic, N., Popovic, L. C., 2023, submitted"
   ]
  },
  {
   "cell_type": "code",
   "execution_count": null,
   "id": "e52099e8",
   "metadata": {},
   "outputs": [],
   "source": []
  }
 ],
 "metadata": {
  "kernelspec": {
   "display_name": "Python 3 (ipykernel)",
   "language": "python",
   "name": "python3"
  },
  "language_info": {
   "codemirror_mode": {
    "name": "ipython",
    "version": 3
   },
   "file_extension": ".py",
   "mimetype": "text/x-python",
   "name": "python",
   "nbconvert_exporter": "python",
   "pygments_lexer": "ipython3",
   "version": "3.8.16"
  },
  "toc": {
   "base_numbering": 1,
   "nav_menu": {},
   "number_sections": true,
   "sideBar": true,
   "skip_h1_title": true,
   "title_cell": "Table of Contents",
   "title_sidebar": "Contents",
   "toc_cell": true,
   "toc_position": {},
   "toc_section_display": true,
   "toc_window_display": true
  }
 },
 "nbformat": 4,
 "nbformat_minor": 5
}
