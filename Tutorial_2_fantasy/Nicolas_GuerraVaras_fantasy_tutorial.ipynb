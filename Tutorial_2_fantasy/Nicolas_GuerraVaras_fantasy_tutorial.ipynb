{
 "cells": [
  {
   "cell_type": "markdown",
   "id": "a61bd9c0",
   "metadata": {
    "toc": true
   },
   "source": [
    "<h1>Table of Contents<span class=\"tocSkip\"></span></h1>\n",
    "<div class=\"toc\"><ul class=\"toc-item\"><li><span><a href=\"#Reading-data\" data-toc-modified-id=\"Reading-data-1\"><span class=\"toc-item-num\">1&nbsp;&nbsp;</span>Reading data</a></span></li><li><span><a href=\"#Prepartion-of-the-spectra\" data-toc-modified-id=\"Prepartion-of-the-spectra-2\"><span class=\"toc-item-num\">2&nbsp;&nbsp;</span>Prepartion of the spectra</a></span></li><li><span><a href=\"#Host-galaxy-subtraction\" data-toc-modified-id=\"Host-galaxy-subtraction-3\"><span class=\"toc-item-num\">3&nbsp;&nbsp;</span>Host-galaxy subtraction</a></span></li><li><span><a href=\"#Creation-of-the-predefined-lists-of-emission-lines\" data-toc-modified-id=\"Creation-of-the-predefined-lists-of-emission-lines-4\"><span class=\"toc-item-num\">4&nbsp;&nbsp;</span>Creation of the predefined lists of emission lines</a></span></li><li><span><a href=\"#Defining-the-fitting-model\" data-toc-modified-id=\"Defining-the-fitting-model-5\"><span class=\"toc-item-num\">5&nbsp;&nbsp;</span>Defining the fitting model</a></span></li><li><span><a href=\"#Fittings\" data-toc-modified-id=\"Fittings-6\"><span class=\"toc-item-num\">6&nbsp;&nbsp;</span>Fittings</a></span></li><li><span><a href=\"#Plotting-the-results\" data-toc-modified-id=\"Plotting-the-results-7\"><span class=\"toc-item-num\">7&nbsp;&nbsp;</span>Plotting the results</a></span></li><li><span><a href=\"#Inspecting-&amp;-saving-the-plotting-results\" data-toc-modified-id=\"Inspecting-&amp;-saving-the-plotting-results-8\"><span class=\"toc-item-num\">8&nbsp;&nbsp;</span>Inspecting &amp; saving the plotting results</a></span></li><li><span><a href=\"#Simple-analysis\" data-toc-modified-id=\"Simple-analysis-9\"><span class=\"toc-item-num\">9&nbsp;&nbsp;</span>Simple analysis</a></span></li></ul></div>"
   ]
  },
  {
   "attachments": {},
   "cell_type": "markdown",
   "id": "4d2a5f19",
   "metadata": {},
   "source": [
    "**Nicolás Guerra-Varas**\n",
    "\n",
    "Prof. Dragana Ilić\n",
    "\n",
    "Tutor Isidora Jankov\n",
    "\n",
    "# FANTASY Tutorial\n",
    "\n",
    "The goal of this tutorial is to learn how to use __[`fantasy`](https://fantasy-agn.readthedocs.io/en/latest/index.html)__ to model AGN spectra."
   ]
  },
  {
   "attachments": {},
   "cell_type": "markdown",
   "id": "37553031",
   "metadata": {},
   "source": [
    "## Imports"
   ]
  },
  {
   "cell_type": "code",
   "execution_count": 1,
   "id": "8d850b9e",
   "metadata": {},
   "outputs": [
    {
     "name": "stdout",
     "output_type": "stream",
     "text": [
      "Using matplotlib backend: MacOSX\n"
     ]
    }
   ],
   "source": [
    "%matplotlib\n",
    "import matplotlib.pyplot as plt\n",
    "import matplotlib as mpl\n",
    "from matplotlib.ticker import (MultipleLocator, FormatStrFormatter, AutoMinorLocator)\n",
    "\n",
    "import numpy as np\n",
    "import pandas as pd\n",
    "\n",
    "import glob"
   ]
  },
  {
   "cell_type": "code",
   "execution_count": 2,
   "id": "c9fc0a2c",
   "metadata": {},
   "outputs": [],
   "source": [
    "# additional imports\n",
    "import math as m\n",
    "import csv\n",
    "import astropy.coordinates as coord\n",
    "import astropy.units as u\n",
    "from astropy.io import ascii\n",
    "from astropy.coordinates import SkyCoord\n",
    "from astropy.io import fits\n",
    "from astropy.utils.data import get_pkg_data_filename\n",
    "from astropy.table import Table"
   ]
  },
  {
   "cell_type": "code",
   "execution_count": 3,
   "id": "4d156279",
   "metadata": {},
   "outputs": [],
   "source": [
    "from fantasy_agn.tools import read_sdss, read_text, read_gama_fits\n",
    "\n",
    "from fantasy_agn.models import (create_input_folder, create_feii_model, create_model, \n",
    "                               create_tied_model, continuum, create_line, create_fixed_model)"
   ]
  },
  {
   "attachments": {},
   "cell_type": "markdown",
   "id": "afa63d00",
   "metadata": {},
   "source": [
    "# Replicate Procedure"
   ]
  },
  {
   "attachments": {},
   "cell_type": "markdown",
   "id": "50a428a6",
   "metadata": {},
   "source": [
    "## Read spectrum"
   ]
  },
  {
   "cell_type": "code",
   "execution_count": 4,
   "id": "45c366d2",
   "metadata": {},
   "outputs": [],
   "source": [
    "# assigned spectrum\n",
    "s = read_sdss('spec-0572-52289-0442.fits')\n",
    "s_or = read_sdss('spec-0572-52289-0442.fits')\n",
    "# saving original spectrum to see how it changes through the procedure\n",
    "\n",
    "# these are the parameters that the spectrum has\n",
    "# s.z redshift\n",
    "# s.ra\n",
    "# s.dec\n",
    "# s.mjd\n",
    "# s.plate\n",
    "# s.fiber\n",
    "# s.name\n",
    "# s.err\n",
    "# s.flux\n",
    "# s.wave\n",
    "# s.fwhm\n",
    "# s.velscale"
   ]
  },
  {
   "attachments": {},
   "cell_type": "markdown",
   "id": "48e675f7",
   "metadata": {},
   "source": [
    "First I took a quick look into the spectrum."
   ]
  },
  {
   "cell_type": "code",
   "execution_count": 5,
   "id": "87c244be",
   "metadata": {},
   "outputs": [],
   "source": [
    "plt.style.context(['nature', 'notebook'])\n",
    "plt.figure(figsize=(12,5))\n",
    "\n",
    "plt.plot(s.wave, s.flux, color='navy', label='Obs', lw=1)\n",
    "\n",
    "plt.legend(loc='upper right', prop={'size': 15}, frameon=False, ncol=2)\n",
    "plt.xlabel(r'Wavelength [Ang]')\n",
    "plt.ylabel(r'Flux [$10^{-7}$ erg / s / cm$^2$ / Ang]')\n",
    "\n",
    "# plt.savefig('spectrum_original.pdf')\n",
    "\n",
    "plt.show()"
   ]
  },
  {
   "attachments": {},
   "cell_type": "markdown",
   "id": "2cdd0389",
   "metadata": {},
   "source": [
    "I looked it up on SDSS/SIMBAD to get more information on this object."
   ]
  },
  {
   "cell_type": "code",
   "execution_count": 6,
   "id": "539b3f4d",
   "metadata": {},
   "outputs": [
    {
     "name": "stdout",
     "output_type": "stream",
     "text": [
      "572 52289 442\n"
     ]
    }
   ],
   "source": [
    "print(s.plate, s.mjd, s.fiber)"
   ]
  },
  {
   "attachments": {},
   "cell_type": "markdown",
   "id": "941e804e",
   "metadata": {},
   "source": [
    "Here's an image of the object from the __[SDSS viewer](https://skyserver.sdss.org/dr18/VisualTools/explore/summary?plate=0572&mjd=52289&fiber=442)__\n",
    "\n",
    "<img src='sdss_viewer.jpg' width=\"400\" height=\"400\">"
   ]
  },
  {
   "attachments": {},
   "cell_type": "markdown",
   "id": "039898e3",
   "metadata": {},
   "source": [
    "Then I wanted to see where in the sky this is."
   ]
  },
  {
   "cell_type": "code",
   "execution_count": 7,
   "id": "19f864f4",
   "metadata": {},
   "outputs": [],
   "source": [
    "ra = s.ra\n",
    "dec = s.dec\n",
    "eq = SkyCoord(ra, dec, frame='galactic', unit=u.deg)\n",
    "gal = eq.galactic\n",
    "\n",
    "plt.style.use('ggplot')\n",
    "\n",
    "fig = plt.figure(figsize=(6,5))\n",
    "plt.subplot(111, projection='aitoff')\n",
    "\n",
    "plt.plot(gal.l.wrap_at(180*u.deg), gal.b.wrap_at(180*u.deg), linestyle='None')\n",
    "plt.scatter(gal.l.wrap_at('180d').radian, gal.b.radian, marker='*', color='navy', s=150)\n",
    "\n",
    "plt.grid(True, alpha=0.5)\n",
    "\n",
    "plt.tick_params(axis='both', which='major', labelsize=5)\n",
    "\n",
    "# plt.savefig('map_qso.pdf')\n",
    "\n",
    "plt.show()"
   ]
  },
  {
   "attachments": {},
   "cell_type": "markdown",
   "id": "c53900bb",
   "metadata": {},
   "source": [
    "It is along the galactic plane. Maybe it will have significant Galactic absorption."
   ]
  },
  {
   "cell_type": "code",
   "execution_count": 8,
   "id": "2567e1cf",
   "metadata": {},
   "outputs": [
    {
     "name": "stdout",
     "output_type": "stream",
     "text": [
      "Redshift = 0.16176972\n"
     ]
    }
   ],
   "source": [
    "print('Redshift =', s.z)"
   ]
  },
  {
   "attachments": {},
   "cell_type": "markdown",
   "id": "cdc484a5",
   "metadata": {},
   "source": [
    "Finally, I checked its redshift, which indicates it is a distant object."
   ]
  },
  {
   "attachments": {},
   "cell_type": "markdown",
   "id": "59ff6c43",
   "metadata": {},
   "source": [
    "## Prepare spectra"
   ]
  },
  {
   "cell_type": "code",
   "execution_count": 9,
   "id": "96164293-9a34-485d-aefd-ebc762d9ea6a",
   "metadata": {},
   "outputs": [],
   "source": [
    "s.DeRedden()  # correct for Galactic extinction\n",
    "s.CorRed()  # correct for cosmological redshift"
   ]
  },
  {
   "attachments": {},
   "cell_type": "markdown",
   "id": "813d0052",
   "metadata": {},
   "source": [
    "I corrected for redshift and extinction and plotted against the unchanged data to see how it changes."
   ]
  },
  {
   "cell_type": "code",
   "execution_count": 10,
   "id": "4be446b3",
   "metadata": {},
   "outputs": [],
   "source": [
    "plt.style.context(['nature', 'notebook'])\n",
    "plt.figure(figsize=(12,5))\n",
    "\n",
    "plt.plot(s_or.wave, s_or.flux, '--', color='steelblue', label='Obs Original', lw=1)\n",
    "plt.plot(s.wave, s.flux, color='navy', label='Obs Corrected', lw=1)\n",
    "\n",
    "plt.legend(loc='upper right', prop={'size': 15}, frameon=False, ncol=1)\n",
    "plt.xlabel(r'Wavelength [Ang]')\n",
    "plt.ylabel(r'Flux [$10^{-7}$ erg / s / cm$^2$ / Ang]')\n",
    "\n",
    "# plt.savefig('spectrum_pre_post_corrections.pdf')\n",
    "\n",
    "plt.show()"
   ]
  },
  {
   "cell_type": "markdown",
   "id": "2683de07",
   "metadata": {},
   "source": [
    "## Host-galaxy subtraction"
   ]
  },
  {
   "cell_type": "code",
   "execution_count": 11,
   "id": "04e71697",
   "metadata": {},
   "outputs": [],
   "source": [
    "# s.restore()\n",
    "s.fit_host_sdss()  # fits for the host galaxy and AGN contibutions separately\n",
    "\n",
    "s.host_no_mask = s.host  # saving the host\n",
    "\n",
    "plt.legend(fontsize=12)\n",
    "plt.xlabel(r'Wavelength [Ang]')\n",
    "plt.ylabel(r'Flux [$10^{-7}$ erg / s / cm$^2$ / Ang]')\n",
    "plt.title('Unmasked Host')\n",
    "\n",
    "# plt.savefig('fit_host_sdss_default.pdf')\n",
    "\n",
    "plt.show()"
   ]
  },
  {
   "attachments": {},
   "cell_type": "markdown",
   "id": "dbcc49cc",
   "metadata": {},
   "source": [
    "Here, the spectrum in red corresponds to the data. The blue and purple spectra are the fits to the host galaxy and the AGN respectively. Their summed spectrum gives the fit to the observations, which is quite good. The contribution of the host galaxy in this case is not negligible."
   ]
  },
  {
   "cell_type": "code",
   "execution_count": 12,
   "id": "82b771c1",
   "metadata": {},
   "outputs": [],
   "source": [
    "s.restore()\n",
    "s.fit_host_sdss(mask_host=True, custom=False)\n",
    "\n",
    "s.host_masked = s.host  # saving the host\n",
    "\n",
    "plt.legend(fontsize=12)\n",
    "plt.xlabel(r'Wavelength [Ang]')\n",
    "plt.ylabel(r'Flux [$10^{-7}$ erg / s / cm$^2$ / Ang]')\n",
    "plt.title('Masked Host')\n",
    "\n",
    "# plt.savefig('fit_host_sdss_masked.pdf')\n",
    "\n",
    "plt.show()"
   ]
  },
  {
   "attachments": {},
   "cell_type": "markdown",
   "id": "980b1c45",
   "metadata": {},
   "source": [
    "I tried the host subtraction again, but now masking the main emission lines from the host galaxy ([O III], [N II], [S II]). The code does this by interpolating between the two edges of the lines instead of going through the line itself. The result was very different (see above). Now, the contribution of the host seems much less significant. The fit overall seems very good, just like the first try."
   ]
  },
  {
   "cell_type": "code",
   "execution_count": 13,
   "id": "9f057aca",
   "metadata": {},
   "outputs": [],
   "source": [
    "plt.style.context(['nature', 'notebook'])\n",
    "plt.figure(figsize=(12,5))\n",
    "\n",
    "plt.plot(s.wave, s.flux, color='navy', label='Obs Corrected', lw=1)\n",
    "\n",
    "plt.legend(loc='upper left', prop={'size': 15}, frameon=False, ncol=1)\n",
    "plt.xlabel(r'Wavelength [Ang]')\n",
    "plt.ylabel(r'Flux [$10^{-7}$ erg / s / cm$^2$ / Ang]')\n",
    "\n",
    "# plt.savefig('spectrum_post_host_sub.pdf')\n",
    "\n",
    "plt.show()"
   ]
  },
  {
   "cell_type": "code",
   "execution_count": 14,
   "id": "1c90cc30",
   "metadata": {},
   "outputs": [],
   "source": [
    "plt.style.context(['nature', 'notebook'])\n",
    "plt.figure(figsize=(12, 5))\n",
    "\n",
    "plt.plot(s.wave, s.flux+s.host, color='navy', label='Obs' , lw=1.5)\n",
    "plt.plot(s.wave, s.host_no_mask, color=\"#F10C45\", label='Host: not masked', lw=1.0)\n",
    "plt.plot(s.wave, s.host, color=\"green\", label='Host: masked', lw=1.0)\n",
    "\n",
    "plt.legend(loc='upper left', prop={'size': 10}, frameon=False)\n",
    "plt.xlabel(r'Wavelength [Ang]')\n",
    "plt.ylabel(r'Flux [$10^{-7}$ erg / s / cm$^2$ / Ang]')\n",
    "\n",
    "# plt.savefig('spectrum_host_masked_vs_not.pdf')\n",
    "\n",
    "plt.show()"
   ]
  },
  {
   "attachments": {},
   "cell_type": "markdown",
   "id": "e7459519",
   "metadata": {},
   "source": [
    "In this plot, it is clear that the difference between both host fits are the lines."
   ]
  },
  {
   "cell_type": "markdown",
   "id": "00fe532f",
   "metadata": {},
   "source": [
    "## Creation of the predefined lists of emission lines"
   ]
  },
  {
   "cell_type": "code",
   "execution_count": 15,
   "id": "67d687c5",
   "metadata": {},
   "outputs": [
    {
     "data": {
      "text/plain": [
       "3450.3032"
      ]
     },
     "execution_count": 15,
     "metadata": {},
     "output_type": "execute_result"
    }
   ],
   "source": [
    "# this is the minimum wavelength found in the spectrum\n",
    "np.min(s.wave)"
   ]
  },
  {
   "cell_type": "code",
   "execution_count": 16,
   "id": "c09d354a",
   "metadata": {},
   "outputs": [
    {
     "name": "stdout",
     "output_type": "stream",
     "text": [
      "Directory  lines/  already exists\n"
     ]
    }
   ],
   "source": [
    "# the information of the lines will be saved in the 'lines' folder\n",
    "create_input_folder(xmin=np.min(s.wave), xmax=np.max(s.wave), path_to_folder='lines/', overwrite=True)"
   ]
  },
  {
   "attachments": {},
   "cell_type": "markdown",
   "id": "69a24837",
   "metadata": {},
   "source": [
    "In this folder, there's a file for each of these lines, commonly found in AGN spectra: Balmer series [FeII], He, narrow lines, broad lines, [OIII], and others such as a broad and narrow line model."
   ]
  },
  {
   "cell_type": "code",
   "execution_count": 17,
   "id": "23f31a42",
   "metadata": {},
   "outputs": [],
   "source": [
    "# cropping to a certain wavelength range\n",
    "\n",
    "# I won't crop it initially\n",
    "# s.crop(np.min(s.wave), np.max(s.wave))\n",
    "\n",
    "# I'm cropping it for the 2nd attempt on\n",
    "s.crop(3575, np.max(s.wave))"
   ]
  },
  {
   "attachments": {},
   "cell_type": "markdown",
   "id": "0fa7e891",
   "metadata": {},
   "source": [
    "### Wavelengths of the lines"
   ]
  },
  {
   "cell_type": "code",
   "execution_count": 18,
   "id": "2b8f8d82",
   "metadata": {},
   "outputs": [],
   "source": [
    "H_lines = pd.read_csv('lines/hydrogen.csv')\n",
    "O_N_lines = pd.read_csv('lines/oiii_nii.csv')\n",
    "narrow_lines = pd.read_csv('lines/narrow_basic.csv')\n",
    "narrowP = pd.read_csv('lines/narrow_plus.csv')"
   ]
  },
  {
   "cell_type": "code",
   "execution_count": 19,
   "id": "e6ae4d59",
   "metadata": {},
   "outputs": [],
   "source": [
    "H_alpha = np.float64(H_lines.loc[H_lines['line']=='Ha']['position'])\n",
    "H_beta = np.float64(H_lines.loc[H_lines['line']=='Hb']['position'])\n",
    "\n",
    "OIII_1 = np.float64(O_N_lines.loc[O_N_lines['line']=='[OIII]']['position'][0])\n",
    "OIII_2 = np.float64(O_N_lines.loc[O_N_lines['line']=='[OIII]']['position'][1])\n",
    "OIII_narrow = np.float64(narrow_lines.loc[narrow_lines['line']=='[OIII]']['position'])\n",
    "\n",
    "NII_1 = np.float64(O_N_lines.loc[O_N_lines['line']=='[NII]']['position'][2])\n",
    "NII_2 = np.float64(O_N_lines.loc[O_N_lines['line']=='[NII]']['position'][3])\n",
    "\n",
    "SII_narrow_1 = np.float64(narrow_lines.loc[narrow_lines['line']=='[SII]']['position'][6])\n",
    "SII_narrow_2 = np.float64(narrow_lines.loc[narrow_lines['line']=='[SII]']['position'][7])\n",
    "SII_narrowP_1 = np.float64(narrowP.loc[narrowP['line']=='[SII]1F']['position'][7])\n",
    "SII_narrowP_2 = np.float64(narrowP.loc[narrowP['line']=='[SII]1F']['position'][8])"
   ]
  },
  {
   "cell_type": "markdown",
   "id": "b511cd9c",
   "metadata": {},
   "source": [
    "## Defining the fitting model"
   ]
  },
  {
   "cell_type": "code",
   "execution_count": 20,
   "id": "85f304c7",
   "metadata": {},
   "outputs": [],
   "source": [
    "# continumm\n",
    "cont_1 = continuum(s, min_refer=5690, refer=5700, max_refer=5710)\n",
    "\n",
    "cont_2 = continuum(s, \n",
    "                   # min_refer=4040, refer=4050, max_refer=4060, \n",
    "                   min_refer=4190, refer=4200, max_refer=4210, # best\n",
    "                   # index1=-1.0, \n",
    "                   # index2=-1.5, min_index2=-2.5, max_index2=-0.5)\n",
    "                   # index2=-2, min_index2=-3, max_index2=-1)\n",
    "                   index2=-2.5, min_index2=-3.5, max_index2=-1.5)  # best\n",
    "                   # index2=-3, min_index2=-4, max_index2=-2)\n",
    "\n",
    "# default parameters:\n",
    "# refer=5500, min_refer=5400, max_refer=7000\n",
    "# index1=-1.7, min_index1=-3, max_index1=0\n",
    "# index2=0, min_index2=-1, max_index2=1\n",
    "\n",
    "# index1: sets the power law of the continuum\n",
    "# index2: makes the continuum flat => I modified it"
   ]
  },
  {
   "cell_type": "code",
   "execution_count": 21,
   "id": "5fe5c66b",
   "metadata": {},
   "outputs": [],
   "source": [
    "# broad line component\n",
    "broad_1 = create_fixed_model(['hydrogen.csv'], name='Broad')"
   ]
  },
  {
   "cell_type": "code",
   "execution_count": 22,
   "id": "bfa9744a",
   "metadata": {},
   "outputs": [],
   "source": [
    "# narrow line component\n",
    "narrow_1 = create_tied_model(name='OIII5007', \n",
    "                           files=['narrow_basic.csv', 'hydrogen.csv'], \n",
    "                           prefix='nr', \n",
    "                           fwhm=1000, \n",
    "                           min_offset=0, \n",
    "                           max_offset=300, \n",
    "                           min_fwhm=900, \n",
    "                           max_fwhm=1200, \n",
    "                           fix_oiii_ratio=True, \n",
    "                           position=5006.803341, \n",
    "                           included=True, \n",
    "                           min_amplitude=0.2)"
   ]
  },
  {
   "cell_type": "code",
   "execution_count": 23,
   "id": "7039aa8a",
   "metadata": {},
   "outputs": [],
   "source": [
    "# helium\n",
    "he_1 = create_fixed_model(['helium.csv'], name='He', fwhm=3000, min_fwhm=1000, max_fwhm=5000)\n",
    "\n",
    "# He.amp_HeI_4144 is at its minimum boundary 0.0\n",
    "# He.amp_HeI_4471 is at its minimum boundary 0.0\n",
    "# He.fwhm is at its maximum boundary 5000.0"
   ]
  },
  {
   "cell_type": "code",
   "execution_count": 24,
   "id": "1a080276",
   "metadata": {
    "scrolled": false
   },
   "outputs": [
    {
     "data": {
      "text/plain": [
       "\"fe_2 = create_feii_model(name='feii', \\n                       fwhm=2200, \\n                       min_fwhm=1000, \\n                       max_fwhm=2500, \\n                       offset=0,\\n                       min_offset=-3000, \\n                       max_offset=3000)\""
      ]
     },
     "execution_count": 24,
     "metadata": {},
     "output_type": "execute_result"
    }
   ],
   "source": [
    "# iron\n",
    "fe_1 = create_feii_model(name='feii', \n",
    "                       fwhm=1800, \n",
    "                       min_fwhm=1000, \n",
    "                       max_fwhm=2000, \n",
    "                       offset=0,\n",
    "                       min_offset=-3000, \n",
    "                       max_offset=3000)\n",
    "\n",
    "'''fe_2 = create_feii_model(name='feii', \n",
    "                       fwhm=2200, \n",
    "                       min_fwhm=1000, \n",
    "                       max_fwhm=2500, \n",
    "                       offset=0,\n",
    "                       min_offset=-3000, \n",
    "                       max_offset=3000)'''"
   ]
  },
  {
   "cell_type": "code",
   "execution_count": 25,
   "id": "39b93cf6-3363-4243-a755-98d179be0fae",
   "metadata": {},
   "outputs": [],
   "source": [
    "# Code fits simultaneously all features.\n",
    "model_1st = cont_1 + broad_1 + narrow_1 + fe_1 + he_1\n",
    "model_2nd = cont_2 + broad_1 + narrow_1 + fe_1 + he_1"
   ]
  },
  {
   "attachments": {},
   "cell_type": "markdown",
   "id": "1cc7502f",
   "metadata": {},
   "source": [
    "So, I am trying different attempts:\n",
    "1. No modifications\n",
    "2. Fixing the continuum\n",
    "3. Fixing the iron lines"
   ]
  },
  {
   "attachments": {},
   "cell_type": "markdown",
   "id": "e23be022",
   "metadata": {},
   "source": [
    "## Fitting"
   ]
  },
  {
   "cell_type": "code",
   "execution_count": 26,
   "id": "f48d2be4-2bc0-4b7d-8467-5ea7f6ab541c",
   "metadata": {},
   "outputs": [
    {
     "name": "stdout",
     "output_type": "stream",
     "text": [
      "stati 215766.68258662004\n",
      "1 iter stat:  21.789155964735983\n",
      "2 iter stat:  9.352082320914633\n",
      "3 iter stat:  3.6474814654284273\n"
     ]
    }
   ],
   "source": [
    "# 1st attempt\n",
    "# s.fit(model_1st, ntrial=2)\n",
    "\n",
    "# 2nd attempt\n",
    "s.fit(model_2nd, ntrial=3)"
   ]
  },
  {
   "cell_type": "code",
   "execution_count": 27,
   "id": "a70a9db3",
   "metadata": {},
   "outputs": [
    {
     "name": "stdout",
     "output_type": "stream",
     "text": [
      "True\n"
     ]
    }
   ],
   "source": [
    "# it converged\n",
    "print(s.gres.succeeded)"
   ]
  },
  {
   "cell_type": "code",
   "execution_count": 28,
   "id": "e53dd472",
   "metadata": {},
   "outputs": [],
   "source": [
    "# saving info on each fit attempt\n",
    "attempts = {'chi2 1st': 124.23362044251917, 'iters 1st': 2, \n",
    "            'chi2 2nd': 3.6474814654284273, 'iters 2nd': 3\n",
    "            }\n",
    "\n",
    "# 5.209570577933846 with index2 = -2.5 & refer 4200"
   ]
  },
  {
   "cell_type": "markdown",
   "id": "b33f53ed",
   "metadata": {},
   "source": [
    "##  Inspecting & saving the plotting results"
   ]
  },
  {
   "attachments": {},
   "cell_type": "markdown",
   "id": "8df6dbf4",
   "metadata": {},
   "source": [
    "__[`sherpa`](https://sherpa.readthedocs.io/en/4.15.0/)__ saves the model's output into `gres`"
   ]
  },
  {
   "cell_type": "code",
   "execution_count": 29,
   "id": "9b81cd57",
   "metadata": {},
   "outputs": [
    {
     "data": {
      "text/html": [
       "<div>\n",
       "<style scoped>\n",
       "    .dataframe tbody tr th:only-of-type {\n",
       "        vertical-align: middle;\n",
       "    }\n",
       "\n",
       "    .dataframe tbody tr th {\n",
       "        vertical-align: top;\n",
       "    }\n",
       "\n",
       "    .dataframe thead th {\n",
       "        text-align: right;\n",
       "    }\n",
       "</style>\n",
       "<table border=\"1\" class=\"dataframe\">\n",
       "  <thead>\n",
       "    <tr style=\"text-align: right;\">\n",
       "      <th></th>\n",
       "      <th>parnames</th>\n",
       "      <th>parvalues</th>\n",
       "    </tr>\n",
       "  </thead>\n",
       "  <tbody>\n",
       "    <tr>\n",
       "      <th>0</th>\n",
       "      <td>brokenpowerlaw.refer</td>\n",
       "      <td>4190.0</td>\n",
       "    </tr>\n",
       "    <tr>\n",
       "      <th>1</th>\n",
       "      <td>brokenpowerlaw.ampl</td>\n",
       "      <td>66.89933785899836</td>\n",
       "    </tr>\n",
       "    <tr>\n",
       "      <th>2</th>\n",
       "      <td>brokenpowerlaw.index1</td>\n",
       "      <td>-2.0814485916365566</td>\n",
       "    </tr>\n",
       "    <tr>\n",
       "      <th>3</th>\n",
       "      <td>brokenpowerlaw.index2</td>\n",
       "      <td>-3.2625150365051088</td>\n",
       "    </tr>\n",
       "    <tr>\n",
       "      <th>4</th>\n",
       "      <td>Broad.amp_Heps_3970</td>\n",
       "      <td>0.0</td>\n",
       "    </tr>\n",
       "    <tr>\n",
       "      <th>5</th>\n",
       "      <td>Broad.amp_Hd_4102</td>\n",
       "      <td>11.452525529955604</td>\n",
       "    </tr>\n",
       "    <tr>\n",
       "      <th>6</th>\n",
       "      <td>Broad.amp_Hg_4340</td>\n",
       "      <td>31.131592468174816</td>\n",
       "    </tr>\n",
       "    <tr>\n",
       "      <th>7</th>\n",
       "      <td>Broad.amp_Hb_4861</td>\n",
       "      <td>59.73341506864181</td>\n",
       "    </tr>\n",
       "    <tr>\n",
       "      <th>8</th>\n",
       "      <td>Broad.amp_Ha_6563</td>\n",
       "      <td>106.61496522886051</td>\n",
       "    </tr>\n",
       "    <tr>\n",
       "      <th>9</th>\n",
       "      <td>Broad.offs_kms</td>\n",
       "      <td>178.23154597486453</td>\n",
       "    </tr>\n",
       "    <tr>\n",
       "      <th>10</th>\n",
       "      <td>Broad.fwhm</td>\n",
       "      <td>4915.844546619634</td>\n",
       "    </tr>\n",
       "    <tr>\n",
       "      <th>11</th>\n",
       "      <td>nr_OIII5007.ampl</td>\n",
       "      <td>39.91403544818788</td>\n",
       "    </tr>\n",
       "    <tr>\n",
       "      <th>12</th>\n",
       "      <td>nr_OIII5007.offs_kms</td>\n",
       "      <td>0.0</td>\n",
       "    </tr>\n",
       "    <tr>\n",
       "      <th>13</th>\n",
       "      <td>nr_OIII5007.fwhm</td>\n",
       "      <td>1200.0</td>\n",
       "    </tr>\n",
       "    <tr>\n",
       "      <th>14</th>\n",
       "      <td>nr_NII6584.ampl</td>\n",
       "      <td>66.27493276550473</td>\n",
       "    </tr>\n",
       "    <tr>\n",
       "      <th>15</th>\n",
       "      <td>nr_[OII]_3726.ampl</td>\n",
       "      <td>0.0</td>\n",
       "    </tr>\n",
       "    <tr>\n",
       "      <th>16</th>\n",
       "      <td>nr_[OII]_3728.ampl</td>\n",
       "      <td>12.651266268349316</td>\n",
       "    </tr>\n",
       "    <tr>\n",
       "      <th>17</th>\n",
       "      <td>nr_[NeIII]_3868.ampl</td>\n",
       "      <td>14.683266321141016</td>\n",
       "    </tr>\n",
       "    <tr>\n",
       "      <th>18</th>\n",
       "      <td>nr_[OIII]_4363.ampl</td>\n",
       "      <td>6.909155000555089</td>\n",
       "    </tr>\n",
       "    <tr>\n",
       "      <th>19</th>\n",
       "      <td>nr_[OI]_6300.ampl</td>\n",
       "      <td>1.487524824996699</td>\n",
       "    </tr>\n",
       "    <tr>\n",
       "      <th>20</th>\n",
       "      <td>nr_[OI]_6363.ampl</td>\n",
       "      <td>4.829270541290843</td>\n",
       "    </tr>\n",
       "    <tr>\n",
       "      <th>21</th>\n",
       "      <td>nr_[SII]_6716.ampl</td>\n",
       "      <td>7.120570377268093</td>\n",
       "    </tr>\n",
       "    <tr>\n",
       "      <th>22</th>\n",
       "      <td>nr_[SII]_6730.ampl</td>\n",
       "      <td>3.024625494326718</td>\n",
       "    </tr>\n",
       "    <tr>\n",
       "      <th>23</th>\n",
       "      <td>nr_Heps_3970.ampl</td>\n",
       "      <td>14.876569950918459</td>\n",
       "    </tr>\n",
       "    <tr>\n",
       "      <th>24</th>\n",
       "      <td>nr_Hd_4101.ampl</td>\n",
       "      <td>9.4745901554752</td>\n",
       "    </tr>\n",
       "    <tr>\n",
       "      <th>25</th>\n",
       "      <td>nr_Hg_4340.ampl</td>\n",
       "      <td>13.001207601268753</td>\n",
       "    </tr>\n",
       "    <tr>\n",
       "      <th>26</th>\n",
       "      <td>nr_Hb_4861.ampl</td>\n",
       "      <td>41.636863324442686</td>\n",
       "    </tr>\n",
       "    <tr>\n",
       "      <th>27</th>\n",
       "      <td>nr_Ha_6562.ampl</td>\n",
       "      <td>151.40959155994702</td>\n",
       "    </tr>\n",
       "    <tr>\n",
       "      <th>28</th>\n",
       "      <td>feii.amp_a2D2</td>\n",
       "      <td>0.7200646934875046</td>\n",
       "    </tr>\n",
       "    <tr>\n",
       "      <th>29</th>\n",
       "      <td>feii.amp_a4G</td>\n",
       "      <td>2.0784203595757536</td>\n",
       "    </tr>\n",
       "    <tr>\n",
       "      <th>30</th>\n",
       "      <td>feii.amp_a4H</td>\n",
       "      <td>0.8537655414548733</td>\n",
       "    </tr>\n",
       "    <tr>\n",
       "      <th>31</th>\n",
       "      <td>feii.amp_a6S</td>\n",
       "      <td>6.082934224034679</td>\n",
       "    </tr>\n",
       "    <tr>\n",
       "      <th>32</th>\n",
       "      <td>feii.amp_b2H</td>\n",
       "      <td>0.0</td>\n",
       "    </tr>\n",
       "    <tr>\n",
       "      <th>33</th>\n",
       "      <td>feii.amp_b4D</td>\n",
       "      <td>3.0730283337213313</td>\n",
       "    </tr>\n",
       "    <tr>\n",
       "      <th>34</th>\n",
       "      <td>feii.amp_b4F</td>\n",
       "      <td>3.820673892824294</td>\n",
       "    </tr>\n",
       "    <tr>\n",
       "      <th>35</th>\n",
       "      <td>feii.amp_b4P</td>\n",
       "      <td>4.60813917959172</td>\n",
       "    </tr>\n",
       "    <tr>\n",
       "      <th>36</th>\n",
       "      <td>feii.amp_z4D</td>\n",
       "      <td>4.6944401065686865</td>\n",
       "    </tr>\n",
       "    <tr>\n",
       "      <th>37</th>\n",
       "      <td>feii.amp_z4F</td>\n",
       "      <td>11.152817657183386</td>\n",
       "    </tr>\n",
       "    <tr>\n",
       "      <th>38</th>\n",
       "      <td>feii.amp_y4G</td>\n",
       "      <td>0.789972328630265</td>\n",
       "    </tr>\n",
       "    <tr>\n",
       "      <th>39</th>\n",
       "      <td>feii.amp_b4G</td>\n",
       "      <td>0.0</td>\n",
       "    </tr>\n",
       "    <tr>\n",
       "      <th>40</th>\n",
       "      <td>feii.amp_x4D</td>\n",
       "      <td>3.354152650913357</td>\n",
       "    </tr>\n",
       "    <tr>\n",
       "      <th>41</th>\n",
       "      <td>feii.amp_y4P</td>\n",
       "      <td>1.063015489327261</td>\n",
       "    </tr>\n",
       "    <tr>\n",
       "      <th>42</th>\n",
       "      <td>feii.offs_kms</td>\n",
       "      <td>243.39748570058774</td>\n",
       "    </tr>\n",
       "    <tr>\n",
       "      <th>43</th>\n",
       "      <td>feii.fwhm</td>\n",
       "      <td>2000.0</td>\n",
       "    </tr>\n",
       "    <tr>\n",
       "      <th>44</th>\n",
       "      <td>He.amp_HeI_4144</td>\n",
       "      <td>1.282931850249912</td>\n",
       "    </tr>\n",
       "    <tr>\n",
       "      <th>45</th>\n",
       "      <td>He.amp_HeI_4471</td>\n",
       "      <td>1.7888462866780355</td>\n",
       "    </tr>\n",
       "    <tr>\n",
       "      <th>46</th>\n",
       "      <td>He.amp_HeII_4686</td>\n",
       "      <td>14.509722775610218</td>\n",
       "    </tr>\n",
       "    <tr>\n",
       "      <th>47</th>\n",
       "      <td>He.amp_HeI_5877</td>\n",
       "      <td>9.25243777244922</td>\n",
       "    </tr>\n",
       "    <tr>\n",
       "      <th>48</th>\n",
       "      <td>He.amp_HeI_7065</td>\n",
       "      <td>3.081343060418458</td>\n",
       "    </tr>\n",
       "    <tr>\n",
       "      <th>49</th>\n",
       "      <td>He.offs_kms</td>\n",
       "      <td>432.2279575641212</td>\n",
       "    </tr>\n",
       "    <tr>\n",
       "      <th>50</th>\n",
       "      <td>He.fwhm</td>\n",
       "      <td>5000.0</td>\n",
       "    </tr>\n",
       "  </tbody>\n",
       "</table>\n",
       "</div>"
      ],
      "text/plain": [
       "                 parnames            parvalues\n",
       "0    brokenpowerlaw.refer               4190.0\n",
       "1     brokenpowerlaw.ampl    66.89933785899836\n",
       "2   brokenpowerlaw.index1  -2.0814485916365566\n",
       "3   brokenpowerlaw.index2  -3.2625150365051088\n",
       "4     Broad.amp_Heps_3970                  0.0\n",
       "5       Broad.amp_Hd_4102   11.452525529955604\n",
       "6       Broad.amp_Hg_4340   31.131592468174816\n",
       "7       Broad.amp_Hb_4861    59.73341506864181\n",
       "8       Broad.amp_Ha_6563   106.61496522886051\n",
       "9          Broad.offs_kms   178.23154597486453\n",
       "10             Broad.fwhm    4915.844546619634\n",
       "11       nr_OIII5007.ampl    39.91403544818788\n",
       "12   nr_OIII5007.offs_kms                  0.0\n",
       "13       nr_OIII5007.fwhm               1200.0\n",
       "14        nr_NII6584.ampl    66.27493276550473\n",
       "15     nr_[OII]_3726.ampl                  0.0\n",
       "16     nr_[OII]_3728.ampl   12.651266268349316\n",
       "17   nr_[NeIII]_3868.ampl   14.683266321141016\n",
       "18    nr_[OIII]_4363.ampl    6.909155000555089\n",
       "19      nr_[OI]_6300.ampl    1.487524824996699\n",
       "20      nr_[OI]_6363.ampl    4.829270541290843\n",
       "21     nr_[SII]_6716.ampl    7.120570377268093\n",
       "22     nr_[SII]_6730.ampl    3.024625494326718\n",
       "23      nr_Heps_3970.ampl   14.876569950918459\n",
       "24        nr_Hd_4101.ampl      9.4745901554752\n",
       "25        nr_Hg_4340.ampl   13.001207601268753\n",
       "26        nr_Hb_4861.ampl   41.636863324442686\n",
       "27        nr_Ha_6562.ampl   151.40959155994702\n",
       "28          feii.amp_a2D2   0.7200646934875046\n",
       "29           feii.amp_a4G   2.0784203595757536\n",
       "30           feii.amp_a4H   0.8537655414548733\n",
       "31           feii.amp_a6S    6.082934224034679\n",
       "32           feii.amp_b2H                  0.0\n",
       "33           feii.amp_b4D   3.0730283337213313\n",
       "34           feii.amp_b4F    3.820673892824294\n",
       "35           feii.amp_b4P     4.60813917959172\n",
       "36           feii.amp_z4D   4.6944401065686865\n",
       "37           feii.amp_z4F   11.152817657183386\n",
       "38           feii.amp_y4G    0.789972328630265\n",
       "39           feii.amp_b4G                  0.0\n",
       "40           feii.amp_x4D    3.354152650913357\n",
       "41           feii.amp_y4P    1.063015489327261\n",
       "42          feii.offs_kms   243.39748570058774\n",
       "43              feii.fwhm               2000.0\n",
       "44        He.amp_HeI_4144    1.282931850249912\n",
       "45        He.amp_HeI_4471   1.7888462866780355\n",
       "46       He.amp_HeII_4686   14.509722775610218\n",
       "47        He.amp_HeI_5877     9.25243777244922\n",
       "48        He.amp_HeI_7065    3.081343060418458\n",
       "49            He.offs_kms    432.2279575641212\n",
       "50                He.fwhm               5000.0"
      ]
     },
     "execution_count": 29,
     "metadata": {},
     "output_type": "execute_result"
    }
   ],
   "source": [
    "arr = np.stack([np.asarray(s.gres.parnames), np.asarray(s.gres.parvals)], axis=-1)\n",
    "columns = ['parnames', 'parvalues']\n",
    "\n",
    "fit_result = pd.DataFrame(arr, columns=columns)\n",
    "fit_result"
   ]
  },
  {
   "cell_type": "code",
   "execution_count": 30,
   "id": "717d33a3",
   "metadata": {},
   "outputs": [
    {
     "data": {
      "text/html": [
       "<style>/*\n",
       "Copyright (C) 2020  Smithsonian Astrophysical Observatory\n",
       "\n",
       "\n",
       " This program is free software; you can redistribute it and/or modify\n",
       " it under the terms of the GNU General Public License as published by\n",
       " the Free Software Foundation; either version 3 of the License, or\n",
       " (at your option) any later version.\n",
       "\n",
       " This program is distributed in the hope that it will be useful,\n",
       " but WITHOUT ANY WARRANTY; without even the implied warranty of\n",
       " MERCHANTABILITY or FITNESS FOR A PARTICULAR PURPOSE.  See the\n",
       " GNU General Public License for more details.\n",
       "\n",
       " You should have received a copy of the GNU General Public License along\n",
       " with this program; if not, write to the Free Software Foundation, Inc.,\n",
       " 51 Franklin Street, Fifth Floor, Boston, MA 02110-1301 USA.\n",
       "\n",
       "*/\n",
       "\n",
       ":root {\n",
       "  --sherpa-border-color: var(--jp-border-color2, #e0e0e0);\n",
       "  --sherpa-background-color: var(--jp-layout-color0, white);\n",
       "  --sherpa-background-color-row-even: var(--jp-layout-color1, white);\n",
       "  --sherpa-background-color-row-odd: var(--jp-layout-color2, #eeeeee);\n",
       "\n",
       "  /* https://medium.com/ge-design/iot-cool-gray-is-a-great-background-color-for-data-visualization-ebf18c318418 */\n",
       "  --sherpa-background-color-dark1: #EBEFF2;\n",
       "  --sherpa-background-color-dark2: #D8E0E5;\n",
       "}\n",
       "\n",
       "div.sherpa-text-fallback {\n",
       "    display: none;\n",
       "}\n",
       "\n",
       "div.sherpa {\n",
       "    display: block;\n",
       "}\n",
       "\n",
       "div.sherpa details summary {\n",
       "    display: list-item;  /* needed for notebook, not lab */\n",
       "    font-size: larger;\n",
       "}\n",
       "\n",
       "div.sherpa details div.datavals {\n",
       "    display: grid;\n",
       "    grid-template-columns: 1fr 3fr;\n",
       "    column-gap: 0.5em;\n",
       "}\n",
       "\n",
       "div.sherpa div.dataname {\n",
       "    font-weight: bold;\n",
       "    border-right: 1px solid var(--sherpa-border-color);\n",
       "}\n",
       "\n",
       "div.sherpa div.dataval { }\n",
       "\n",
       "div.sherpa div.datavals div:nth-child(4n + 1) ,\n",
       "div.sherpa div.datavals div:nth-child(4n + 2) {\n",
       "    background: var(--sherpa-background-color-row-odd);\n",
       "}\n",
       "\n",
       "div.sherpa table.model tbody {\n",
       "    border-bottom: 1px solid var(--sherpa-border-color);\n",
       "}\n",
       "\n",
       "div.sherpa table.model tr.block {\n",
       "    border-top: 1px solid var(--sherpa-border-color);\n",
       "}\n",
       "\n",
       "div.sherpa table.model th.model-odd ,\n",
       "div.sherpa table.model th.model-even {\n",
       "    border-right: 1px solid var(--sherpa-border-color);\n",
       "}\n",
       "\n",
       "div.sherpa table.model th.model-odd {\n",
       "    background: var(--sherpa-background-color-dark1);\n",
       "}\n",
       "\n",
       "div.sherpa table.model th.model-even {\n",
       "    background: var(--sherpa-background-color-dark2);\n",
       "}\n",
       "\n",
       "div.sherpa .failed {\n",
       "    background: orange;\n",
       "    font-size: large;\n",
       "    padding: 1em;\n",
       "}\n",
       "</style><div class=\"sherpa-text-fallback\">&lt;BinaryOpModel model instance &#x27;((((brokenpowerlaw + Broad) + ((((((((((((((((nr_OIII5007 + nr_OIII4958) + nr_NII6584) + nr_NIII6548) + nr_[OII]_3726) + nr_[OII]_3728) + nr_[NeIII]_3868) + nr_[OIII]_4363) + nr_[OI]_6300) + nr_[OI]_6363) + nr_[SII]_6716) + nr_[SII]_6730) + nr_Heps_3970) + nr_Hd_4101) + nr_Hg_4340) + nr_Hb_4861) + nr_Ha_6562)) + feii) + He)&#x27;&gt;</div><div hidden class=\"sherpa\"><details open><summary>Model</summary><table class=\"model\"><caption>Expression: (((brokenpowerlaw + Broad) + ((((((((((((((((nr_OIII5007 + nr_OIII4958) + nr_NII6584) + nr_NIII6548) + nr_[OII]_3726) + nr_[OII]_3728) + nr_[NeIII]_3868) + nr_[OIII]_4363) + nr_[OI]_6300) + nr_[OI]_6363) + nr_[SII]_6716) + nr_[SII]_6730) + nr_Heps_3970) + nr_Hd_4101) + nr_Hg_4340) + nr_Hb_4861) + nr_Ha_6562)) + feii) + He</caption><thead><tr><th>Component</th><th>Parameter</th><th>Thawed</th><th>Value</th><th>Min</th><th>Max</th><th>Units</th></tr></thead><tbody><tr><th class=\"model-odd\" scope=\"rowgroup\" rowspan=4>brokenpowerlaw</th><td>refer</td><td><input disabled type=\"checkbox\" checked></input></td><td>4190.0</td><td>4190.0</td><td>4210.0</td><td>angstroms</td></tr><tr><td>ampl</td><td><input disabled type=\"checkbox\" checked></input></td><td>66.89933785899836</td><td>63.914686950129436</td><td>70.6425487343536</td><td>angstroms</td></tr><tr><td>index1</td><td><input disabled type=\"checkbox\" checked></input></td><td>-2.0814485916365566</td><td>-3.0</td><td>0.0</td><td></td></tr><tr><td>index2</td><td><input disabled type=\"checkbox\" checked></input></td><td>-3.2625150365051088</td><td>-3.5</td><td>-1.5</td><td></td></tr><tr class=\"block\"><th class=\"model-even\" scope=\"rowgroup\" rowspan=7>Broad</th><td>amp_Heps_3970</td><td><input disabled type=\"checkbox\" checked></input></td><td>0.0</td><td>0.0</td><td>600.0</td><td></td></tr><tr><td>amp_Hd_4102</td><td><input disabled type=\"checkbox\" checked></input></td><td>11.452525529955604</td><td>0.0</td><td>600.0</td><td></td></tr><tr><td>amp_Hg_4340</td><td><input disabled type=\"checkbox\" checked></input></td><td>31.131592468174816</td><td>0.0</td><td>600.0</td><td></td></tr><tr><td>amp_Hb_4861</td><td><input disabled type=\"checkbox\" checked></input></td><td>59.73341506864181</td><td>0.0</td><td>600.0</td><td></td></tr><tr><td>amp_Ha_6563</td><td><input disabled type=\"checkbox\" checked></input></td><td>106.61496522886051</td><td>0.0</td><td>600.0</td><td></td></tr><tr><td>offs_kms</td><td><input disabled type=\"checkbox\" checked></input></td><td>178.23154597486453</td><td>-3000.0</td><td>3000.0</td><td>km/s</td></tr><tr><td>fwhm</td><td><input disabled type=\"checkbox\" checked></input></td><td>4915.844546619634</td><td>100.0</td><td>7000.0</td><td>km/s</td></tr><tr class=\"block\"><th class=\"model-odd\" scope=\"rowgroup\" rowspan=4>nr_OIII5007</th><td>ampl</td><td><input disabled type=\"checkbox\" checked></input></td><td>39.91403544818788</td><td>0.2</td><td>1000.0</td><td></td></tr><tr><td>pos</td><td><input disabled type=\"checkbox\"></input></td><td>5006.803341</td><td>0.0</td><td>MAX</td><td>angstroms</td></tr><tr><td>offs_kms</td><td><input disabled type=\"checkbox\" checked></input></td><td>0.0</td><td>0.0</td><td>300.0</td><td>km/s</td></tr><tr><td>fwhm</td><td><input disabled type=\"checkbox\" checked></input></td><td>1200.0</td><td>900.0</td><td>1200.0</td><td>km/s</td></tr><tr class=\"block\"><th class=\"model-even\" scope=\"rowgroup\" rowspan=4>nr_OIII4958</th><td>ampl</td><td>linked</td><td>13.304678482729294</td><td colspan=2>&#8656; nr_OIII5007.ampl / 3.0</td><td></td></tr><tr><td>pos</td><td><input disabled type=\"checkbox\"></input></td><td>4958.896072</td><td>0.0</td><td>MAX</td><td>angstroms</td></tr><tr><td>offs_kms</td><td>linked</td><td>0.0</td><td colspan=2>&#8656; nr_OIII5007.offs_kms</td><td>km/s</td></tr><tr><td>fwhm</td><td>linked</td><td>1200.0</td><td colspan=2>&#8656; nr_OIII5007.fwhm</td><td>km/s</td></tr><tr class=\"block\"><th class=\"model-odd\" scope=\"rowgroup\" rowspan=4>nr_NII6584</th><td>ampl</td><td><input disabled type=\"checkbox\" checked></input></td><td>66.27493276550473</td><td>0.0</td><td>500.0</td><td></td></tr><tr><td>pos</td><td><input disabled type=\"checkbox\"></input></td><td>6583.46</td><td>0.0</td><td>MAX</td><td>angstroms</td></tr><tr><td>offs_kms</td><td>linked</td><td>0.0</td><td colspan=2>&#8656; nr_OIII5007.offs_kms</td><td>km/s</td></tr><tr><td>fwhm</td><td>linked</td><td>1200.0</td><td colspan=2>&#8656; nr_OIII5007.fwhm</td><td>km/s</td></tr><tr class=\"block\"><th class=\"model-even\" scope=\"rowgroup\" rowspan=4>nr_NIII6548</th><td>ampl</td><td>linked</td><td>22.091644255168244</td><td colspan=2>&#8656; nr_NII6584.ampl / 3.0</td><td></td></tr><tr><td>pos</td><td><input disabled type=\"checkbox\"></input></td><td>6548.05</td><td>0.0</td><td>MAX</td><td>angstroms</td></tr><tr><td>offs_kms</td><td>linked</td><td>0.0</td><td colspan=2>&#8656; nr_OIII5007.offs_kms</td><td>km/s</td></tr><tr><td>fwhm</td><td>linked</td><td>1200.0</td><td colspan=2>&#8656; nr_OIII5007.fwhm</td><td>km/s</td></tr><tr class=\"block\"><th class=\"model-odd\" scope=\"rowgroup\" rowspan=4>nr_[OII]_3726</th><td>ampl</td><td><input disabled type=\"checkbox\" checked></input></td><td>0.0</td><td>0.0</td><td>500.0</td><td></td></tr><tr><td>pos</td><td><input disabled type=\"checkbox\"></input></td><td>3726.032</td><td>0.0</td><td>MAX</td><td>angstroms</td></tr><tr><td>offs_kms</td><td>linked</td><td>0.0</td><td colspan=2>&#8656; nr_OIII5007.offs_kms</td><td>km/s</td></tr><tr><td>fwhm</td><td>linked</td><td>1200.0</td><td colspan=2>&#8656; nr_OIII5007.fwhm</td><td>km/s</td></tr><tr class=\"block\"><th class=\"model-even\" scope=\"rowgroup\" rowspan=4>nr_[OII]_3728</th><td>ampl</td><td><input disabled type=\"checkbox\" checked></input></td><td>12.651266268349316</td><td>0.0</td><td>500.0</td><td></td></tr><tr><td>pos</td><td><input disabled type=\"checkbox\"></input></td><td>3728.815</td><td>0.0</td><td>MAX</td><td>angstroms</td></tr><tr><td>offs_kms</td><td>linked</td><td>0.0</td><td colspan=2>&#8656; nr_OIII5007.offs_kms</td><td>km/s</td></tr><tr><td>fwhm</td><td>linked</td><td>1200.0</td><td colspan=2>&#8656; nr_OIII5007.fwhm</td><td>km/s</td></tr><tr class=\"block\"><th class=\"model-odd\" scope=\"rowgroup\" rowspan=4>nr_[NeIII]_3868</th><td>ampl</td><td><input disabled type=\"checkbox\" checked></input></td><td>14.683266321141016</td><td>0.0</td><td>500.0</td><td></td></tr><tr><td>pos</td><td><input disabled type=\"checkbox\"></input></td><td>3868.76</td><td>0.0</td><td>MAX</td><td>angstroms</td></tr><tr><td>offs_kms</td><td>linked</td><td>0.0</td><td colspan=2>&#8656; nr_OIII5007.offs_kms</td><td>km/s</td></tr><tr><td>fwhm</td><td>linked</td><td>1200.0</td><td colspan=2>&#8656; nr_OIII5007.fwhm</td><td>km/s</td></tr><tr class=\"block\"><th class=\"model-even\" scope=\"rowgroup\" rowspan=4>nr_[OIII]_4363</th><td>ampl</td><td><input disabled type=\"checkbox\" checked></input></td><td>6.909155000555089</td><td>0.0</td><td>500.0</td><td></td></tr><tr><td>pos</td><td><input disabled type=\"checkbox\"></input></td><td>4363.213686</td><td>0.0</td><td>MAX</td><td>angstroms</td></tr><tr><td>offs_kms</td><td>linked</td><td>0.0</td><td colspan=2>&#8656; nr_OIII5007.offs_kms</td><td>km/s</td></tr><tr><td>fwhm</td><td>linked</td><td>1200.0</td><td colspan=2>&#8656; nr_OIII5007.fwhm</td><td>km/s</td></tr><tr class=\"block\"><th class=\"model-odd\" scope=\"rowgroup\" rowspan=4>nr_[OI]_6300</th><td>ampl</td><td><input disabled type=\"checkbox\" checked></input></td><td>1.487524824996699</td><td>0.0</td><td>500.0</td><td></td></tr><tr><td>pos</td><td><input disabled type=\"checkbox\"></input></td><td>6300.304</td><td>0.0</td><td>MAX</td><td>angstroms</td></tr><tr><td>offs_kms</td><td>linked</td><td>0.0</td><td colspan=2>&#8656; nr_OIII5007.offs_kms</td><td>km/s</td></tr><tr><td>fwhm</td><td>linked</td><td>1200.0</td><td colspan=2>&#8656; nr_OIII5007.fwhm</td><td>km/s</td></tr><tr class=\"block\"><th class=\"model-even\" scope=\"rowgroup\" rowspan=4>nr_[OI]_6363</th><td>ampl</td><td><input disabled type=\"checkbox\" checked></input></td><td>4.829270541290843</td><td>0.0</td><td>500.0</td><td></td></tr><tr><td>pos</td><td><input disabled type=\"checkbox\"></input></td><td>6363.8</td><td>0.0</td><td>MAX</td><td>angstroms</td></tr><tr><td>offs_kms</td><td>linked</td><td>0.0</td><td colspan=2>&#8656; nr_OIII5007.offs_kms</td><td>km/s</td></tr><tr><td>fwhm</td><td>linked</td><td>1200.0</td><td colspan=2>&#8656; nr_OIII5007.fwhm</td><td>km/s</td></tr><tr class=\"block\"><th class=\"model-odd\" scope=\"rowgroup\" rowspan=4>nr_[SII]_6716</th><td>ampl</td><td><input disabled type=\"checkbox\" checked></input></td><td>7.120570377268093</td><td>0.0</td><td>500.0</td><td></td></tr><tr><td>pos</td><td><input disabled type=\"checkbox\"></input></td><td>6716.44</td><td>0.0</td><td>MAX</td><td>angstroms</td></tr><tr><td>offs_kms</td><td>linked</td><td>0.0</td><td colspan=2>&#8656; nr_OIII5007.offs_kms</td><td>km/s</td></tr><tr><td>fwhm</td><td>linked</td><td>1200.0</td><td colspan=2>&#8656; nr_OIII5007.fwhm</td><td>km/s</td></tr><tr class=\"block\"><th class=\"model-even\" scope=\"rowgroup\" rowspan=4>nr_[SII]_6730</th><td>ampl</td><td><input disabled type=\"checkbox\" checked></input></td><td>3.024625494326718</td><td>0.0</td><td>500.0</td><td></td></tr><tr><td>pos</td><td><input disabled type=\"checkbox\"></input></td><td>6730.81</td><td>0.0</td><td>MAX</td><td>angstroms</td></tr><tr><td>offs_kms</td><td>linked</td><td>0.0</td><td colspan=2>&#8656; nr_OIII5007.offs_kms</td><td>km/s</td></tr><tr><td>fwhm</td><td>linked</td><td>1200.0</td><td colspan=2>&#8656; nr_OIII5007.fwhm</td><td>km/s</td></tr><tr class=\"block\"><th class=\"model-odd\" scope=\"rowgroup\" rowspan=4>nr_Heps_3970</th><td>ampl</td><td><input disabled type=\"checkbox\" checked></input></td><td>14.876569950918459</td><td>0.0</td><td>500.0</td><td></td></tr><tr><td>pos</td><td><input disabled type=\"checkbox\"></input></td><td>3970.079</td><td>0.0</td><td>MAX</td><td>angstroms</td></tr><tr><td>offs_kms</td><td>linked</td><td>0.0</td><td colspan=2>&#8656; nr_OIII5007.offs_kms</td><td>km/s</td></tr><tr><td>fwhm</td><td>linked</td><td>1200.0</td><td colspan=2>&#8656; nr_OIII5007.fwhm</td><td>km/s</td></tr><tr class=\"block\"><th class=\"model-even\" scope=\"rowgroup\" rowspan=4>nr_Hd_4101</th><td>ampl</td><td><input disabled type=\"checkbox\" checked></input></td><td>9.4745901554752</td><td>0.0</td><td>500.0</td><td></td></tr><tr><td>pos</td><td><input disabled type=\"checkbox\"></input></td><td>4101.742</td><td>0.0</td><td>MAX</td><td>angstroms</td></tr><tr><td>offs_kms</td><td>linked</td><td>0.0</td><td colspan=2>&#8656; nr_OIII5007.offs_kms</td><td>km/s</td></tr><tr><td>fwhm</td><td>linked</td><td>1200.0</td><td colspan=2>&#8656; nr_OIII5007.fwhm</td><td>km/s</td></tr><tr class=\"block\"><th class=\"model-odd\" scope=\"rowgroup\" rowspan=4>nr_Hg_4340</th><td>ampl</td><td><input disabled type=\"checkbox\" checked></input></td><td>13.001207601268753</td><td>0.0</td><td>500.0</td><td></td></tr><tr><td>pos</td><td><input disabled type=\"checkbox\"></input></td><td>4340.471</td><td>0.0</td><td>MAX</td><td>angstroms</td></tr><tr><td>offs_kms</td><td>linked</td><td>0.0</td><td colspan=2>&#8656; nr_OIII5007.offs_kms</td><td>km/s</td></tr><tr><td>fwhm</td><td>linked</td><td>1200.0</td><td colspan=2>&#8656; nr_OIII5007.fwhm</td><td>km/s</td></tr><tr class=\"block\"><th class=\"model-even\" scope=\"rowgroup\" rowspan=4>nr_Hb_4861</th><td>ampl</td><td><input disabled type=\"checkbox\" checked></input></td><td>41.636863324442686</td><td>0.0</td><td>500.0</td><td></td></tr><tr><td>pos</td><td><input disabled type=\"checkbox\"></input></td><td>4861.333</td><td>0.0</td><td>MAX</td><td>angstroms</td></tr><tr><td>offs_kms</td><td>linked</td><td>0.0</td><td colspan=2>&#8656; nr_OIII5007.offs_kms</td><td>km/s</td></tr><tr><td>fwhm</td><td>linked</td><td>1200.0</td><td colspan=2>&#8656; nr_OIII5007.fwhm</td><td>km/s</td></tr><tr class=\"block\"><th class=\"model-odd\" scope=\"rowgroup\" rowspan=4>nr_Ha_6562</th><td>ampl</td><td><input disabled type=\"checkbox\" checked></input></td><td>151.40959155994702</td><td>0.0</td><td>500.0</td><td></td></tr><tr><td>pos</td><td><input disabled type=\"checkbox\"></input></td><td>6562.82</td><td>0.0</td><td>MAX</td><td>angstroms</td></tr><tr><td>offs_kms</td><td>linked</td><td>0.0</td><td colspan=2>&#8656; nr_OIII5007.offs_kms</td><td>km/s</td></tr><tr><td>fwhm</td><td>linked</td><td>1200.0</td><td colspan=2>&#8656; nr_OIII5007.fwhm</td><td>km/s</td></tr><tr class=\"block\"><th class=\"model-even\" scope=\"rowgroup\" rowspan=16>feii</th><td>amp_a2D2</td><td><input disabled type=\"checkbox\" checked></input></td><td>0.7200646934875046</td><td>0.0</td><td>1000.0</td><td></td></tr><tr><td>amp_a4G</td><td><input disabled type=\"checkbox\" checked></input></td><td>2.0784203595757536</td><td>0.0</td><td>1000.0</td><td></td></tr><tr><td>amp_a4H</td><td><input disabled type=\"checkbox\" checked></input></td><td>0.8537655414548733</td><td>0.0</td><td>1000.0</td><td></td></tr><tr><td>amp_a6S</td><td><input disabled type=\"checkbox\" checked></input></td><td>6.082934224034679</td><td>0.0</td><td>1000.0</td><td></td></tr><tr><td>amp_b2H</td><td><input disabled type=\"checkbox\" checked></input></td><td>0.0</td><td>0.0</td><td>1000.0</td><td></td></tr><tr><td>amp_b4D</td><td><input disabled type=\"checkbox\" checked></input></td><td>3.0730283337213313</td><td>0.0</td><td>1000.0</td><td></td></tr><tr><td>amp_b4F</td><td><input disabled type=\"checkbox\" checked></input></td><td>3.820673892824294</td><td>0.0</td><td>1000.0</td><td></td></tr><tr><td>amp_b4P</td><td><input disabled type=\"checkbox\" checked></input></td><td>4.60813917959172</td><td>0.0</td><td>1000.0</td><td></td></tr><tr><td>amp_z4D</td><td><input disabled type=\"checkbox\" checked></input></td><td>4.6944401065686865</td><td>0.0</td><td>1000.0</td><td></td></tr><tr><td>amp_z4F</td><td><input disabled type=\"checkbox\" checked></input></td><td>11.152817657183386</td><td>0.0</td><td>1000.0</td><td></td></tr><tr><td>amp_y4G</td><td><input disabled type=\"checkbox\" checked></input></td><td>0.789972328630265</td><td>0.0</td><td>1000.0</td><td></td></tr><tr><td>amp_b4G</td><td><input disabled type=\"checkbox\" checked></input></td><td>0.0</td><td>0.0</td><td>1000.0</td><td></td></tr><tr><td>amp_x4D</td><td><input disabled type=\"checkbox\" checked></input></td><td>3.354152650913357</td><td>0.0</td><td>1000.0</td><td></td></tr><tr><td>amp_y4P</td><td><input disabled type=\"checkbox\" checked></input></td><td>1.063015489327261</td><td>0.0</td><td>1000.0</td><td></td></tr><tr><td>offs_kms</td><td><input disabled type=\"checkbox\" checked></input></td><td>243.39748570058774</td><td>-3000.0</td><td>3000.0</td><td></td></tr><tr><td>fwhm</td><td><input disabled type=\"checkbox\" checked></input></td><td>2000.0</td><td>1000.0</td><td>2000.0</td><td></td></tr><tr class=\"block\"><th class=\"model-odd\" scope=\"rowgroup\" rowspan=7>He</th><td>amp_HeI_4144</td><td><input disabled type=\"checkbox\" checked></input></td><td>1.282931850249912</td><td>0.0</td><td>600.0</td><td></td></tr><tr><td>amp_HeI_4471</td><td><input disabled type=\"checkbox\" checked></input></td><td>1.7888462866780355</td><td>0.0</td><td>600.0</td><td></td></tr><tr><td>amp_HeII_4686</td><td><input disabled type=\"checkbox\" checked></input></td><td>14.509722775610218</td><td>0.0</td><td>600.0</td><td></td></tr><tr><td>amp_HeI_5877</td><td><input disabled type=\"checkbox\" checked></input></td><td>9.25243777244922</td><td>0.0</td><td>600.0</td><td></td></tr><tr><td>amp_HeI_7065</td><td><input disabled type=\"checkbox\" checked></input></td><td>3.081343060418458</td><td>0.0</td><td>600.0</td><td></td></tr><tr><td>offs_kms</td><td><input disabled type=\"checkbox\" checked></input></td><td>432.2279575641212</td><td>-3000.0</td><td>3000.0</td><td>km/s</td></tr><tr><td>fwhm</td><td><input disabled type=\"checkbox\" checked></input></td><td>5000.0</td><td>1000.0</td><td>5000.0</td><td>km/s</td></tr></tbody></table></details></div>"
      ],
      "text/plain": [
       "<BinaryOpModel model instance '((((brokenpowerlaw + Broad) + ((((((((((((((((nr_OIII5007 + nr_OIII4958) + nr_NII6584) + nr_NIII6548) + nr_[OII]_3726) + nr_[OII]_3728) + nr_[NeIII]_3868) + nr_[OIII]_4363) + nr_[OI]_6300) + nr_[OI]_6363) + nr_[SII]_6716) + nr_[SII]_6730) + nr_Heps_3970) + nr_Hd_4101) + nr_Hg_4340) + nr_Hb_4861) + nr_Ha_6562)) + feii) + He)'>"
      ]
     },
     "execution_count": 30,
     "metadata": {},
     "output_type": "execute_result"
    }
   ],
   "source": [
    "# model_1st\n",
    "model_2nd"
   ]
  },
  {
   "cell_type": "code",
   "execution_count": 31,
   "id": "a5dc7485",
   "metadata": {},
   "outputs": [
    {
     "name": "stdout",
     "output_type": "stream",
     "text": [
      "Method                = levmar\n",
      "Statistic             = chi2\n",
      "Initial fit statistic = 8785.41\n",
      "Final fit statistic   = 8781.76 at function evaluation 776\n",
      "Data points           = 3033\n",
      "Degrees of freedom    = 2982\n",
      "Probability [Q-value] = 0\n",
      "Reduced statistic     = 2.94492\n",
      "Change in statistic   = 3.64748\n",
      "   brokenpowerlaw.refer   4190         +/- 6.68989     \n",
      "   brokenpowerlaw.ampl   66.8993      +/- 0.398713    \n",
      "   brokenpowerlaw.index1   -2.08145     +/- 0.0104931   \n",
      "   brokenpowerlaw.index2   -3.26252     +/- 0.0404787   \n",
      "   Broad.amp_Heps_3970   0            +/- 0.587836    \n",
      "   Broad.amp_Hd_4102   11.4525      +/- 0.620442    \n",
      "   Broad.amp_Hg_4340   31.1316      +/- 1.09275     \n",
      "   Broad.amp_Hb_4861   59.7334      +/- 0.539296    \n",
      "   Broad.amp_Ha_6563   106.615      +/- 1.04637     \n",
      "   Broad.offs_kms   178.232      +/- 6.87746     \n",
      "   Broad.fwhm     4915.84      +/- 22.3923     \n",
      "   nr_OIII5007.ampl   39.914       +/- 0.697938    \n",
      "   nr_OIII5007.offs_kms   0            +/- 5.25448     \n",
      "   nr_OIII5007.fwhm   1200         +/- 14.6752     \n",
      "   nr_NII6584.ampl   66.2749      +/- 2.00236     \n",
      "   nr_[OII]_3726.ampl   0            +/- 2.88657     \n",
      "   nr_[OII]_3728.ampl   12.6513      +/- 2.88077     \n",
      "   nr_[NeIII]_3868.ampl   14.6833      +/- 0.789442    \n",
      "   nr_[OIII]_4363.ampl   6.90916      +/- 1.08933     \n",
      "   nr_[OI]_6300.ampl   1.48752      +/- 0.410097    \n",
      "   nr_[OI]_6363.ampl   4.82927      +/- 0.385139    \n",
      "   nr_[SII]_6716.ampl   7.12057      +/- 0.484635    \n",
      "   nr_[SII]_6730.ampl   3.02463      +/- 0.485554    \n",
      "   nr_Heps_3970.ampl   14.8766      +/- 0.915165    \n",
      "   nr_Hd_4101.ampl   9.47459      +/- 0.944264    \n",
      "   nr_Hg_4340.ampl   13.0012      +/- 1.28468     \n",
      "   nr_Hb_4861.ampl   41.6369      +/- 1.07392     \n",
      "   nr_Ha_6562.ampl   151.41       +/- 1.84731     \n",
      "   feii.amp_a2D2   0.720065     +/- 0.594474    \n",
      "   feii.amp_a4G   2.07842      +/- 0.16045     \n",
      "   feii.amp_a4H   0.853766     +/- 0.580034    \n",
      "   feii.amp_a6S   6.08293      +/- 0.242661    \n",
      "   feii.amp_b2H   0            +/- 0.302448    \n",
      "   feii.amp_b4D   3.07303      +/- 0.356956    \n",
      "   feii.amp_b4F   3.82067      +/- 0.170841    \n",
      "   feii.amp_b4P   4.60814      +/- 0.506121    \n",
      "   feii.amp_z4D   4.69444      +/- 0.258422    \n",
      "   feii.amp_z4F   11.1528      +/- 2.81563     \n",
      "   feii.amp_y4G   0.789972     +/- 0.497499    \n",
      "   feii.amp_b4G   0            +/- 0.270821    \n",
      "   feii.amp_x4D   3.35415      +/- 0.214673    \n",
      "   feii.amp_y4P   1.06302      +/- 0.297342    \n",
      "   feii.offs_kms   243.397      +/- 31.6218     \n",
      "   feii.fwhm      2000         +/- 56.0811     \n",
      "   He.amp_HeI_4144   1.28293      +/- 0.42184     \n",
      "   He.amp_HeI_4471   1.78885      +/- 0.57751     \n",
      "   He.amp_HeII_4686   14.5097      +/- 0.312023    \n",
      "   He.amp_HeI_5877   9.25244      +/- 0.19155     \n",
      "   He.amp_HeI_7065   3.08134      +/- 0.182409    \n",
      "   He.offs_kms    432.228      +/- 39.9528     \n",
      "   He.fwhm        5000         +/- 98.7924     \n",
      "WARNING: parameter value brokenpowerlaw.refer is at its minimum boundary 4190.0\n",
      "WARNING: parameter value Broad.amp_Heps_3970 is at its minimum boundary 0.0\n",
      "WARNING: parameter value nr_OIII5007.offs_kms is at its minimum boundary 0.0\n",
      "WARNING: parameter value nr_OIII5007.fwhm is at its maximum boundary 1200.0\n",
      "WARNING: parameter value nr_[OII]_3726.ampl is at its minimum boundary 0.0\n",
      "WARNING: parameter value feii.amp_b2H is at its minimum boundary 0.0\n",
      "WARNING: parameter value feii.amp_b4G is at its minimum boundary 0.0\n",
      "WARNING: parameter value feii.fwhm is at its maximum boundary 2000.0\n",
      "WARNING: parameter value He.fwhm is at its maximum boundary 5000.0\n"
     ]
    }
   ],
   "source": [
    "# To see the fitting results, one can use standard outputs from Sherpa package, such as:\n",
    "# gres - to list all fitting results\n",
    "# gres.parnames - to list all parameters\n",
    "# save_json() - to save the results\n",
    "\n",
    "print(s.gres.format())\n",
    "s.save_json() #saving parameters "
   ]
  },
  {
   "attachments": {},
   "cell_type": "markdown",
   "id": "c718319c",
   "metadata": {},
   "source": [
    "In the first try, I didn't modify the parameters of the model. I got some warnings:\n",
    "```\n",
    "WARNING: parameter value feii.fwhm is at its maximum boundary 2000.0\n",
    "WARNING: parameter value He.amp_HeI_4144 is at its minimum boundary 0.0\n",
    "WARNING: parameter value He.amp_HeI_4471 is at its minimum boundary 0.0\n",
    "WARNING: parameter value He.fwhm is at its maximum boundary 5000.0\n",
    "```\n",
    "\n",
    "I tried tuned the parameters of the model until they were resolved. Warning of the same type also came up during the second attempt.\n",
    "\n",
    "---\n",
    "\n",
    "I plotted the spectra with spectral lines indicated to get a better understanding of how well the model is fitting the data."
   ]
  },
  {
   "cell_type": "markdown",
   "id": "fa66f807",
   "metadata": {},
   "source": [
    "## Plotting the results"
   ]
  },
  {
   "cell_type": "code",
   "execution_count": 32,
   "id": "777f4c58",
   "metadata": {},
   "outputs": [],
   "source": [
    "'''plt.style.context(['nature', 'notebook'])\n",
    "plt.figure(figsize=(18,8))\n",
    "\n",
    "plt.plot(s.wave, s.flux, color=\"#929591\", label='Obs', lw=2)\n",
    "plt.plot(s.wave, model_1st(s.wave), color=\"#F10C45\", label='Model', lw=3)\n",
    "plt.plot(s.wave, model_1st(s.wave)-s.flux-70, '-', color=\"#929591\", label='Residual', lw=2)\n",
    "plt.axhline(y=-70, color='deepskyblue', linestyle='--', lw=2)\n",
    "\n",
    "plt.plot(s.wave, cont_1(s.wave),'--', color=\"#042E60\", label='Continuum', lw=1.5)\n",
    "plt.plot(s.wave, narrow_1(s.wave), label='Narrow', color=\"#25A36F\", lw=3)\n",
    "plt.plot(s.wave, broad_1(s.wave), label='Broad H', lw=3, color=\"#2E5A88\")\n",
    "plt.plot(s.wave, he_1(s.wave), label='Broad He I', lw=3, color=\"orange\")\n",
    "plt.plot(s.wave, fe_1(s.wave), '-', color=\"#CB416B\", label='Fe II model', lw=3)\n",
    "\n",
    "plt.xlabel(r'Wavelength [Ang]', fontsize=15)\n",
    "plt.ylabel(r'Flux [$10^{-7}$ erg / s / cm$^2$ / Ang]', fontsize=15)\n",
    "\n",
    "plt.xlim(np.min(s.wave), np.max(s.wave))\n",
    "plt.tick_params(which='both', direction=\"in\")\n",
    "plt.yticks(fontsize=15)\n",
    "plt.xticks(np.arange(4000, 7000, step=500), fontsize=15)\n",
    "plt.title('Fantasy Fit: 1st Attempt (Iters: ' + str(attempts['iters 1st']) + r', $ \\chi ^2 $ = ' + str(np.round(attempts['chi2 1st'], 3)) + ')')\n",
    "\n",
    "plt.legend(loc='upper left',  prop={'size': 12}, frameon=False, ncol=2)\n",
    "\n",
    "# plt.savefig('1st_attempt_fantasy_fit.pdf')\n",
    "\n",
    "plt.show()''';"
   ]
  },
  {
   "cell_type": "code",
   "execution_count": 34,
   "id": "dd013eb5",
   "metadata": {},
   "outputs": [],
   "source": [
    "plt.style.context(['nature', 'notebook'])\n",
    "plt.figure(figsize=(18,8))\n",
    "\n",
    "plt.plot(s.wave, s.flux, color=\"#929591\", label='Obs', lw=2)\n",
    "plt.plot(s.wave, model_2nd(s.wave), color=\"#F10C45\", label='Model', lw=3)\n",
    "plt.plot(s.wave, model_2nd(s.wave)-s.flux-70, '-', color=\"#929591\", label='Residual', lw=2)\n",
    "plt.axhline(y=-70, color='deepskyblue', linestyle='--', lw=2)\n",
    "\n",
    "plt.plot(s.wave, cont_2(s.wave),'--', color=\"#042E60\", label='Continuum', lw=1.5)\n",
    "plt.plot(s.wave, narrow_1(s.wave), label='Narrow', color=\"#25A36F\", lw=3)\n",
    "plt.plot(s.wave, broad_1(s.wave), label='Broad H', lw=3, color=\"#2E5A88\")\n",
    "plt.plot(s.wave, he_1(s.wave), label='Broad He I', lw=3, color=\"orange\")\n",
    "plt.plot(s.wave, fe_1(s.wave), '-', color=\"#CB416B\", label='Fe II model', lw=3)\n",
    "\n",
    "plt.xlabel(r'Wavelength [Ang]', fontsize=15)\n",
    "plt.ylabel(r'Flux [$10^{-7}$ erg / s / cm$^2$ / Ang]', fontsize=15)\n",
    "\n",
    "plt.xlim(np.min(s.wave), np.max(s.wave))\n",
    "plt.tick_params(which='both', direction=\"in\")\n",
    "plt.yticks(fontsize=15)\n",
    "plt.xticks(np.arange(4000, 7000, step=500), fontsize=15)\n",
    "plt.title('Fantasy Fit: 2nd Attempt (Iters: ' + str(attempts['iters 2nd']) + r', $ \\chi ^2 $ = ' + str(np.round(attempts['chi2 2nd'], 3)) + ')')\n",
    "\n",
    "plt.legend(loc='upper left',  prop={'size': 12}, frameon=False, ncol=2)\n",
    "\n",
    "# plt.savefig('2nd_attempt_fantasy_fit.pdf')\n",
    "\n",
    "plt.show()"
   ]
  },
  {
   "cell_type": "code",
   "execution_count": null,
   "id": "5972116f",
   "metadata": {},
   "outputs": [],
   "source": [
    "'''plt.style.context(['nature', 'notebook'])\n",
    "plt.figure(figsize=(18,8))\n",
    "\n",
    "plt.plot(s.wave, s.flux, color=\"#929591\", label='Obs', lw=2)\n",
    "plt.plot(s.wave, model_2nd(s.wave), color=\"#F10C45\", label='Model', lw=3)\n",
    "plt.plot(s.wave, model_2nd(s.wave)-s.flux-70, '-', color=\"#929591\", label='Residual', lw=2)\n",
    "plt.axhline(y=-70, color='deepskyblue', linestyle='--', lw=2)\n",
    "\n",
    "plt.plot(s.wave, cont_2(s.wave),'--', color=\"#042E60\", label='Continuum', lw=1.5)\n",
    "plt.plot(s.wave, narrow_1(s.wave), label='Narrow', color=\"#25A36F\", lw=3)\n",
    "plt.plot(s.wave, broad_1(s.wave), label='Broad H', lw=3, color=\"#2E5A88\")\n",
    "plt.plot(s.wave, he_1(s.wave), label='Broad He I', lw=3, color=\"orange\")\n",
    "plt.plot(s.wave, fe_1(s.wave), '-', color=\"#CB416B\", label='Fe II model', lw=3)\n",
    "\n",
    "plt.xlabel(r'Wavelength [Ang]', fontsize=15)\n",
    "plt.ylabel(r'Flux [$10^{-7}$ erg / s / cm$^2$ / Ang]', fontsize=15)\n",
    "\n",
    "plt.xlim(np.min(s.wave), np.max(s.wave))\n",
    "plt.tick_params(which='both', direction=\"in\")\n",
    "plt.yticks(fontsize=15)\n",
    "plt.xticks(np.arange(4000, 7000, step=500), fontsize=15)\n",
    "plt.title('Fantasy Fit: 2nd Attempt (Iters: ' + str(attempts['iters 2nd']) + r', $ \\chi ^2 $ = ' + str(np.round(attempts['chi2 2nd'], 3)) + ')')\n",
    "\n",
    "plt.legend(loc='upper left',  prop={'size': 12}, frameon=False, ncol=2)\n",
    "\n",
    "plt.savefig('2nd_attempt_fantasy_fit.pdf')\n",
    "\n",
    "plt.show()'''"
   ]
  },
  {
   "attachments": {},
   "cell_type": "markdown",
   "id": "f08fb345",
   "metadata": {},
   "source": [
    "Next, I created an interactive plot marking the spectral lines so that I can zoom in and see how they are fitting in more detail."
   ]
  },
  {
   "cell_type": "code",
   "execution_count": null,
   "id": "d1b66b35",
   "metadata": {},
   "outputs": [],
   "source": [
    "wavelengths = dict({SII_narrowP_1:'[SII] Narrow+, 1', \n",
    "                    SII_narrowP_2:'[SII] Narrow+, 2', \n",
    "                    OIII_narrow:'[OIII] Narrow', \n",
    "                    OIII_1:'[OIII], 1', \n",
    "                    OIII_2:'[OIII], 2', \n",
    "                    SII_narrow_1:'[SII] Narrow, 1', \n",
    "                    SII_narrow_2:'[SII] Narrow, 2',\n",
    "                    NII_1:'[NII], 1', \n",
    "                    NII_2:'[NII], 2', \n",
    "                    H_alpha:'H alpha', \n",
    "                    H_beta:'H beta'})\n",
    "\n",
    "colors = ['darkgreen', 'crimson', 'teal', 'goldenrod', 'slateblue', 'darkviolet', 'darkorange', 'royalblue', \n",
    "          'magenta', 'darkolivegreen', 'brown']"
   ]
  },
  {
   "cell_type": "code",
   "execution_count": null,
   "id": "39c7ed20",
   "metadata": {},
   "outputs": [],
   "source": [
    "'''plt.style.context(['nature', 'notebook'])\n",
    "fig = plt.figure(figsize=(15, 8))\n",
    "ax = fig.add_subplot()\n",
    "fig.subplots_adjust(top=0.85)\n",
    "\n",
    "for i in range(len(wavelengths)):\n",
    "    ax.text(list(wavelengths.keys())[i], -200, list(wavelengths.values())[i], fontsize=10, rotation='vertical')\n",
    "    ax.vlines(list(wavelengths.keys())[i], -100, 350, linestyles='dashed', label=list(wavelengths.values())[i], colors=colors[i])\n",
    "\n",
    "plt.ion()\n",
    "\n",
    "plt.plot(s.wave, s.flux, color=\"#929591\", label='Obs', lw=2)\n",
    "plt.plot(s.wave, model_1st(s.wave), color=\"#F10C45\", label='Model', lw=3)\n",
    "plt.plot(s.wave, model_1st(s.wave)-s.flux-70, '-', color=\"#929591\", label='Residual', lw=2)\n",
    "plt.axhline(y=-70, color='deepskyblue', linestyle='--', lw=2)\n",
    "\n",
    "plt.plot(s.wave, cont_1(s.wave),'--', color=\"#042E60\", label='Continuum', lw=1.5)\n",
    "plt.plot(s.wave, narrow_1(s.wave), label='Narrow', color=\"#25A36F\", lw=3)\n",
    "plt.plot(s.wave, broad_1(s.wave), label='Broad H', lw=3, color=\"#2E5A88\")\n",
    "plt.plot(s.wave, he_1(s.wave), label='Broad He I', lw=3, color=\"orange\")\n",
    "plt.plot(s.wave, fe_1(s.wave), '-', color=\"#CB416B\", label='Fe II model', lw=3)\n",
    "\n",
    "plt.xlabel(r'Wavelength [Ang]', fontsize=15)\n",
    "plt.ylabel(r'Flux [$10^{-7}$ erg / s / cm$^2$ / Ang]', fontsize=15)\n",
    "\n",
    "plt.xlim(np.min(s.wave), np.max(s.wave))\n",
    "plt.ylim(-220, 350)\n",
    "plt.tick_params(which='both', direction=\"in\")\n",
    "plt.yticks(fontsize=15)\n",
    "plt.xticks(np.arange(4000, 7000, step=500), fontsize=15)\n",
    "\n",
    "plt.title('Fantasy Fit: 1st Attempt (Iters: ' + str(attempts['iters 1st']) + r', $ \\chi ^2 $ = ' + str(np.round(attempts['chi2 1st'], 3)) + ')')\n",
    "\n",
    "plt.legend(bbox_to_anchor=(1.0, 0.8), prop={'size': 10}, frameon=False, ncol=1)\n",
    "\n",
    "plt.show()'''"
   ]
  },
  {
   "cell_type": "code",
   "execution_count": null,
   "id": "9f931082",
   "metadata": {},
   "outputs": [],
   "source": [
    "attempts"
   ]
  },
  {
   "attachments": {},
   "cell_type": "markdown",
   "id": "ddabd5c5",
   "metadata": {},
   "source": [
    "## Comments on each attempt\n",
    "\n",
    "After the first attempt, the lines that need better fitting are:\n",
    "* Continuum: below 4500 Ang, the continuum isn't steep enough\n",
    "* [OIII] 1 and 2: the iron model doesn't have intense enough lines\n",
    "\n",
    "### First Attempt\n",
    "The first time I ran the model just the way it was to have a starting point. I believe the most important thing to fix is the continuum. The $\\chi^2$ was equal to $124.234$.\n",
    "\n",
    "### Second Attempt\n",
    "I focused on fixing the continuum. I changed the breakpoint of the power law (`refer`) and I made the left side of it steeper with the (`index2`). The result is much better, it has a $\\chi^2$ of $5.210$."
   ]
  },
  {
   "attachments": {},
   "cell_type": "markdown",
   "id": "72b8a8e6",
   "metadata": {},
   "source": [
    "# Measuring Lines\n",
    "\n",
    "Narrow Ha, Hb, [OIII], [NII] and [SII] lines if present; Broad Ha, Hb."
   ]
  },
  {
   "cell_type": "code",
   "execution_count": null,
   "id": "0ed0a1bf",
   "metadata": {},
   "outputs": [],
   "source": [
    "'''cont(s.wave)\n",
    "narrow(s.wave)\n",
    "broad(s.wave)\n",
    "he(s.wave)\n",
    "fe(s.wave)'''"
   ]
  },
  {
   "cell_type": "code",
   "execution_count": null,
   "id": "32a6b331",
   "metadata": {},
   "outputs": [],
   "source": [
    "# measuring iron\n",
    "flux_feII = np.sum(fe(s.wave))\n",
    "flux_Ha_broad = np.sum\n",
    "print(flux_feII)"
   ]
  },
  {
   "attachments": {},
   "cell_type": "markdown",
   "id": "74196217",
   "metadata": {},
   "source": [
    "# Calculating Line Ratios"
   ]
  },
  {
   "attachments": {},
   "cell_type": "markdown",
   "id": "b997476c",
   "metadata": {},
   "source": [
    "## [NII]6583 / H $\\alpha$"
   ]
  },
  {
   "cell_type": "code",
   "execution_count": null,
   "id": "84ff98c9",
   "metadata": {},
   "outputs": [],
   "source": []
  },
  {
   "attachments": {},
   "cell_type": "markdown",
   "id": "1c4e3adb",
   "metadata": {},
   "source": [
    "## [OIII]5007 / H $\\beta$"
   ]
  },
  {
   "cell_type": "code",
   "execution_count": null,
   "id": "5104bab2",
   "metadata": {},
   "outputs": [],
   "source": []
  },
  {
   "attachments": {},
   "cell_type": "markdown",
   "id": "f984586c",
   "metadata": {},
   "source": [
    "## H $\\alpha$ / H $\\beta$"
   ]
  },
  {
   "cell_type": "code",
   "execution_count": null,
   "id": "cea6b97e",
   "metadata": {},
   "outputs": [],
   "source": []
  },
  {
   "cell_type": "code",
   "execution_count": null,
   "id": "0c7680b5",
   "metadata": {},
   "outputs": [],
   "source": []
  },
  {
   "cell_type": "markdown",
   "id": "6acfd8a5",
   "metadata": {},
   "source": [
    "**References**\n",
    "\n",
    "1. [Rakic, N., 2022, MNRAS, 516, 1624](https://ui.adsabs.harvard.edu/abs/2022MNRAS.516.1624R/abstract)\n",
    "2. [Ilic, D. et al. 2020, A&A, 638, 13](https://ui.adsabs.harvard.edu/abs/2020A%26A...638A..13I/abstract)\n",
    "3. [Kovacevic, J. et al. 2010, ApJS, 189, 15](https://ui.adsabs.harvard.edu/abs/2010ApJS..189...15K/abstract)\n",
    "4. [Shapovalova, A. I. et al. 2012, ApJS, 202, 10](https://ui.adsabs.harvard.edu/abs/2012ApJS..202...10S/abstract)\n",
    "5. Ilic, D., Rakic, N., Popovic, L. C., 2023, submitted"
   ]
  },
  {
   "cell_type": "code",
   "execution_count": null,
   "id": "e52099e8",
   "metadata": {},
   "outputs": [],
   "source": []
  }
 ],
 "metadata": {
  "kernelspec": {
   "display_name": "Python 3 (ipykernel)",
   "language": "python",
   "name": "python3"
  },
  "language_info": {
   "codemirror_mode": {
    "name": "ipython",
    "version": 3
   },
   "file_extension": ".py",
   "mimetype": "text/x-python",
   "name": "python",
   "nbconvert_exporter": "python",
   "pygments_lexer": "ipython3",
   "version": "3.8.16"
  },
  "toc": {
   "base_numbering": 1,
   "nav_menu": {},
   "number_sections": true,
   "sideBar": true,
   "skip_h1_title": true,
   "title_cell": "Table of Contents",
   "title_sidebar": "Contents",
   "toc_cell": true,
   "toc_position": {},
   "toc_section_display": true,
   "toc_window_display": true
  }
 },
 "nbformat": 4,
 "nbformat_minor": 5
}
