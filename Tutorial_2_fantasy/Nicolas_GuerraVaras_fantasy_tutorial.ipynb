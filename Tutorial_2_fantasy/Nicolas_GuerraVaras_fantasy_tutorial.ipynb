{
 "cells": [
  {
   "cell_type": "markdown",
   "id": "a61bd9c0",
   "metadata": {
    "toc": true
   },
   "source": [
    "<h1>Table of Contents<span class=\"tocSkip\"></span></h1>\n",
    "<div class=\"toc\"><ul class=\"toc-item\"><li><span><a href=\"#Reading-data\" data-toc-modified-id=\"Reading-data-1\"><span class=\"toc-item-num\">1&nbsp;&nbsp;</span>Reading data</a></span></li><li><span><a href=\"#Prepartion-of-the-spectra\" data-toc-modified-id=\"Prepartion-of-the-spectra-2\"><span class=\"toc-item-num\">2&nbsp;&nbsp;</span>Prepartion of the spectra</a></span></li><li><span><a href=\"#Host-galaxy-subtraction\" data-toc-modified-id=\"Host-galaxy-subtraction-3\"><span class=\"toc-item-num\">3&nbsp;&nbsp;</span>Host-galaxy subtraction</a></span></li><li><span><a href=\"#Creation-of-the-predefined-lists-of-emission-lines\" data-toc-modified-id=\"Creation-of-the-predefined-lists-of-emission-lines-4\"><span class=\"toc-item-num\">4&nbsp;&nbsp;</span>Creation of the predefined lists of emission lines</a></span></li><li><span><a href=\"#Defining-the-fitting-model\" data-toc-modified-id=\"Defining-the-fitting-model-5\"><span class=\"toc-item-num\">5&nbsp;&nbsp;</span>Defining the fitting model</a></span></li><li><span><a href=\"#Fittings\" data-toc-modified-id=\"Fittings-6\"><span class=\"toc-item-num\">6&nbsp;&nbsp;</span>Fittings</a></span></li><li><span><a href=\"#Plotting-the-results\" data-toc-modified-id=\"Plotting-the-results-7\"><span class=\"toc-item-num\">7&nbsp;&nbsp;</span>Plotting the results</a></span></li><li><span><a href=\"#Inspecting-&amp;-saving-the-plotting-results\" data-toc-modified-id=\"Inspecting-&amp;-saving-the-plotting-results-8\"><span class=\"toc-item-num\">8&nbsp;&nbsp;</span>Inspecting &amp; saving the plotting results</a></span></li><li><span><a href=\"#Simple-analysis\" data-toc-modified-id=\"Simple-analysis-9\"><span class=\"toc-item-num\">9&nbsp;&nbsp;</span>Simple analysis</a></span></li></ul></div>"
   ]
  },
  {
   "attachments": {},
   "cell_type": "markdown",
   "id": "4d2a5f19",
   "metadata": {},
   "source": [
    "**Nicolás Guerra-Varas**\n",
    "\n",
    "Prof. Dragana Ilić\n",
    "\n",
    "Tutor Isidora Jankov\n",
    "\n",
    "# FANTASY Tutorial\n",
    "\n",
    "The goal of this tutorial is to learn how to use __[`fantasy`](https://fantasy-agn.readthedocs.io/en/latest/index.html)__ to model AGN spectra."
   ]
  },
  {
   "attachments": {},
   "cell_type": "markdown",
   "id": "37553031",
   "metadata": {},
   "source": [
    "## Imports"
   ]
  },
  {
   "cell_type": "code",
   "execution_count": 121,
   "id": "8d850b9e",
   "metadata": {},
   "outputs": [],
   "source": [
    "%matplotlib\n",
    "import matplotlib.pyplot as plt\n",
    "import matplotlib as mpl\n",
    "from matplotlib.ticker import (MultipleLocator, FormatStrFormatter, AutoMinorLocator)\n",
    "\n",
    "import numpy as np\n",
    "import pandas as pd\n",
    "\n",
    "import glob"
   ]
  },
  {
   "cell_type": "code",
   "execution_count": 122,
   "id": "c9fc0a2c",
   "metadata": {},
   "outputs": [],
   "source": [
    "# additional imports\n",
    "import math as m\n",
    "import csv\n",
    "import astropy.coordinates as coord\n",
    "import astropy.units as u\n",
    "from astropy.io import ascii\n",
    "from astropy.coordinates import SkyCoord\n",
    "from astropy.io import fits\n",
    "from astropy.utils.data import get_pkg_data_filename\n",
    "from astropy.table import Table"
   ]
  },
  {
   "cell_type": "code",
   "execution_count": 123,
   "id": "4d156279",
   "metadata": {},
   "outputs": [],
   "source": [
    "from fantasy_agn.tools import read_sdss, read_text, read_gama_fits\n",
    "\n",
    "from fantasy_agn.models import (create_input_folder, create_feii_model, create_model, \n",
    "                               create_tied_model, continuum, create_line, create_fixed_model)"
   ]
  },
  {
   "attachments": {},
   "cell_type": "markdown",
   "id": "afa63d00",
   "metadata": {},
   "source": [
    "# Replicate Procedure"
   ]
  },
  {
   "attachments": {},
   "cell_type": "markdown",
   "id": "50a428a6",
   "metadata": {},
   "source": [
    "## Read spectrum"
   ]
  },
  {
   "cell_type": "code",
   "execution_count": 124,
   "id": "45c366d2",
   "metadata": {},
   "outputs": [],
   "source": [
    "# assigned spectrum\n",
    "s = read_sdss('spec-0572-52289-0442.fits')\n",
    "s_or = read_sdss('spec-0572-52289-0442.fits')\n",
    "# saving original spectrum to see how it changes through the procedure\n",
    "\n",
    "# these are the parameters that the spectrum has\n",
    "# s.z redshift\n",
    "# s.ra\n",
    "# s.dec\n",
    "# s.mjd\n",
    "# s.plate\n",
    "# s.fiber\n",
    "# s.name\n",
    "# s.err\n",
    "# s.flux\n",
    "# s.wave\n",
    "# s.fwhm\n",
    "# s.velscale"
   ]
  },
  {
   "attachments": {},
   "cell_type": "markdown",
   "id": "48e675f7",
   "metadata": {},
   "source": [
    "First I took a quick look into the spectrum."
   ]
  },
  {
   "cell_type": "code",
   "execution_count": 125,
   "id": "87c244be",
   "metadata": {},
   "outputs": [],
   "source": [
    "plt.style.context(['nature', 'notebook'])\n",
    "plt.figure(figsize=(12,5))\n",
    "\n",
    "plt.plot(s.wave, s.flux, color='navy', label='Obs', lw=1)\n",
    "\n",
    "plt.legend(loc='upper right', prop={'size': 15}, frameon=False, ncol=2)\n",
    "plt.xlabel(r'Wavelength [Ang]')\n",
    "plt.ylabel(r'Flux [$10^{-7}$ erg / s / cm$^2$ / Ang]')\n",
    "\n",
    "# plt.savefig('spectrum_original.pdf')\n",
    "\n",
    "plt.show()"
   ]
  },
  {
   "attachments": {},
   "cell_type": "markdown",
   "id": "2cdd0389",
   "metadata": {},
   "source": [
    "I looked it up on SDSS/SIMBAD to get more information on this object."
   ]
  },
  {
   "cell_type": "code",
   "execution_count": 126,
   "id": "539b3f4d",
   "metadata": {},
   "outputs": [
    {
     "name": "stdout",
     "output_type": "stream",
     "text": [
      "572 52289 442\n"
     ]
    }
   ],
   "source": [
    "print(s.plate, s.mjd, s.fiber)"
   ]
  },
  {
   "attachments": {},
   "cell_type": "markdown",
   "id": "941e804e",
   "metadata": {},
   "source": [
    "Here's an image of the object from the __[SDSS viewer](https://skyserver.sdss.org/dr18/VisualTools/explore/summary?plate=0572&mjd=52289&fiber=442)__\n",
    "\n",
    "<img src='sdss_viewer.jpg' width=\"400\" height=\"400\">"
   ]
  },
  {
   "attachments": {},
   "cell_type": "markdown",
   "id": "039898e3",
   "metadata": {},
   "source": [
    "Then I wanted to see where in the sky this is."
   ]
  },
  {
   "cell_type": "code",
   "execution_count": 127,
   "id": "19f864f4",
   "metadata": {},
   "outputs": [],
   "source": [
    "ra = s.ra\n",
    "dec = s.dec\n",
    "eq = SkyCoord(ra, dec, frame='galactic', unit=u.deg)\n",
    "gal = eq.galactic\n",
    "\n",
    "plt.style.use('ggplot')\n",
    "\n",
    "fig = plt.figure(figsize=(6,5))\n",
    "plt.subplot(111, projection='aitoff')\n",
    "\n",
    "plt.plot(gal.l.wrap_at(180*u.deg), gal.b.wrap_at(180*u.deg), linestyle='None')\n",
    "plt.scatter(gal.l.wrap_at('180d').radian, gal.b.radian, marker='*', color='navy', s=150)\n",
    "\n",
    "plt.grid(True, alpha=0.5)\n",
    "\n",
    "plt.tick_params(axis='both', which='major', labelsize=5)\n",
    "\n",
    "# plt.savefig('map_qso.pdf')\n",
    "\n",
    "plt.show()"
   ]
  },
  {
   "attachments": {},
   "cell_type": "markdown",
   "id": "c53900bb",
   "metadata": {},
   "source": [
    "It is along the galactic plane. Maybe it will have significant Galactic absorption."
   ]
  },
  {
   "cell_type": "code",
   "execution_count": 128,
   "id": "2567e1cf",
   "metadata": {},
   "outputs": [
    {
     "name": "stdout",
     "output_type": "stream",
     "text": [
      "Redshift = 0.16176972\n"
     ]
    }
   ],
   "source": [
    "print('Redshift =', s.z)"
   ]
  },
  {
   "attachments": {},
   "cell_type": "markdown",
   "id": "cdc484a5",
   "metadata": {},
   "source": [
    "Finally, I checked its redshift, which indicates it is a distant object."
   ]
  },
  {
   "attachments": {},
   "cell_type": "markdown",
   "id": "59ff6c43",
   "metadata": {},
   "source": [
    "## Prepare spectra"
   ]
  },
  {
   "cell_type": "code",
   "execution_count": 129,
   "id": "96164293-9a34-485d-aefd-ebc762d9ea6a",
   "metadata": {},
   "outputs": [],
   "source": [
    "s.DeRedden()  # correct for Galactic extinction\n",
    "s.CorRed()  # correct for cosmological redshift"
   ]
  },
  {
   "attachments": {},
   "cell_type": "markdown",
   "id": "813d0052",
   "metadata": {},
   "source": [
    "I corrected for redshift and extinction and plotted against the unchanged data to see how it changes."
   ]
  },
  {
   "cell_type": "code",
   "execution_count": 130,
   "id": "4be446b3",
   "metadata": {},
   "outputs": [],
   "source": [
    "plt.style.context(['nature', 'notebook'])\n",
    "plt.figure(figsize=(12,5))\n",
    "\n",
    "plt.plot(s_or.wave, s_or.flux, '--', color='steelblue', label='Obs Original', lw=1)\n",
    "plt.plot(s.wave, s.flux, color='navy', label='Obs Corrected', lw=1)\n",
    "\n",
    "plt.legend(loc='upper right', prop={'size': 15}, frameon=False, ncol=1)\n",
    "plt.xlabel(r'Wavelength [Ang]')\n",
    "plt.ylabel(r'Flux [$10^{-7}$ erg / s / cm$^2$ / Ang]')\n",
    "\n",
    "# plt.savefig('spectrum_pre_post_corrections.pdf')\n",
    "\n",
    "plt.show()"
   ]
  },
  {
   "cell_type": "markdown",
   "id": "2683de07",
   "metadata": {},
   "source": [
    "## Host-galaxy subtraction"
   ]
  },
  {
   "cell_type": "code",
   "execution_count": 131,
   "id": "04e71697",
   "metadata": {},
   "outputs": [],
   "source": [
    "# s.restore()\n",
    "s.fit_host_sdss()  # fits for the host galaxy and AGN contibutions separately\n",
    "\n",
    "s.host_no_mask = s.host  # saving the host\n",
    "\n",
    "plt.legend(fontsize=12)\n",
    "plt.xlabel(r'Wavelength [Ang]')\n",
    "plt.ylabel(r'Flux [$10^{-7}$ erg / s / cm$^2$ / Ang]')\n",
    "plt.title('Unmasked Host')\n",
    "\n",
    "# plt.savefig('fit_host_sdss_default.pdf')\n",
    "\n",
    "plt.show()"
   ]
  },
  {
   "attachments": {},
   "cell_type": "markdown",
   "id": "dbcc49cc",
   "metadata": {},
   "source": [
    "Here, the spectrum in red corresponds to the data. The blue and purple spectra are the fits to the host galaxy and the AGN respectively. Their summed spectrum gives the fit to the observations, which is quite good. The contribution of the host galaxy in this case is not negligible."
   ]
  },
  {
   "cell_type": "code",
   "execution_count": 132,
   "id": "82b771c1",
   "metadata": {},
   "outputs": [],
   "source": [
    "s.restore()\n",
    "s.fit_host_sdss(mask_host=True, custom=False)\n",
    "\n",
    "s.host_masked = s.host  # saving the host\n",
    "\n",
    "plt.legend(fontsize=12)\n",
    "plt.xlabel(r'Wavelength [Ang]')\n",
    "plt.ylabel(r'Flux [$10^{-7}$ erg / s / cm$^2$ / Ang]')\n",
    "plt.title('Masked Host')\n",
    "\n",
    "# plt.savefig('fit_host_sdss_masked.pdf')\n",
    "\n",
    "plt.show()"
   ]
  },
  {
   "attachments": {},
   "cell_type": "markdown",
   "id": "980b1c45",
   "metadata": {},
   "source": [
    "I tried the host subtraction again, but now masking the main emission lines from the host galaxy ([O III], [N II], [S II]). The code does this by interpolating between the two edges of the lines instead of going through the line itself. The result was very different (see above). Now, the contribution of the host seems much less significant. The fit overall seems very good, just like the first try."
   ]
  },
  {
   "cell_type": "code",
   "execution_count": 133,
   "id": "9f057aca",
   "metadata": {},
   "outputs": [],
   "source": [
    "plt.style.context(['nature', 'notebook'])\n",
    "plt.figure(figsize=(12,5))\n",
    "\n",
    "plt.plot(s.wave, s.flux, color='navy', label='Obs Corrected', lw=1)\n",
    "\n",
    "plt.legend(loc='upper left', prop={'size': 15}, frameon=False, ncol=1)\n",
    "plt.xlabel(r'Wavelength [Ang]')\n",
    "plt.ylabel(r'Flux [$10^{-7}$ erg / s / cm$^2$ / Ang]')\n",
    "\n",
    "# plt.savefig('spectrum_post_host_sub.pdf')\n",
    "\n",
    "plt.show()"
   ]
  },
  {
   "cell_type": "code",
   "execution_count": 134,
   "id": "1c90cc30",
   "metadata": {},
   "outputs": [],
   "source": [
    "plt.style.context(['nature', 'notebook'])\n",
    "plt.figure(figsize=(12, 5))\n",
    "\n",
    "plt.plot(s.wave, s.flux+s.host, color='navy', label='Obs' , lw=1.5)\n",
    "plt.plot(s.wave, s.host_no_mask, color=\"#F10C45\", label='Host: not masked', lw=1.0)\n",
    "plt.plot(s.wave, s.host, color=\"green\", label='Host: masked', lw=1.0)\n",
    "\n",
    "plt.legend(loc='upper left', prop={'size': 10}, frameon=False)\n",
    "plt.xlabel(r'Wavelength [Ang]')\n",
    "plt.ylabel(r'Flux [$10^{-7}$ erg / s / cm$^2$ / Ang]')\n",
    "\n",
    "# plt.savefig('spectrum_host_masked_vs_not.pdf')\n",
    "\n",
    "plt.show()"
   ]
  },
  {
   "attachments": {},
   "cell_type": "markdown",
   "id": "e7459519",
   "metadata": {},
   "source": [
    "In this plot, it is clear that the difference between both host fits are the lines."
   ]
  },
  {
   "cell_type": "markdown",
   "id": "00fe532f",
   "metadata": {},
   "source": [
    "## Creation of the predefined lists of emission lines"
   ]
  },
  {
   "cell_type": "code",
   "execution_count": 135,
   "id": "67d687c5",
   "metadata": {},
   "outputs": [
    {
     "data": {
      "text/plain": [
       "3450.3032"
      ]
     },
     "execution_count": 135,
     "metadata": {},
     "output_type": "execute_result"
    }
   ],
   "source": [
    "# this is the minimum wavelength found in the spectrum\n",
    "np.min(s.wave)"
   ]
  },
  {
   "cell_type": "code",
   "execution_count": 136,
   "id": "c09d354a",
   "metadata": {},
   "outputs": [
    {
     "name": "stdout",
     "output_type": "stream",
     "text": [
      "Directory  lines/  already exists\n"
     ]
    }
   ],
   "source": [
    "# the information of the lines will be saved in the 'lines' folder\n",
    "create_input_folder(xmin=np.min(s.wave), xmax=np.max(s.wave), path_to_folder='lines/', overwrite=True)"
   ]
  },
  {
   "attachments": {},
   "cell_type": "markdown",
   "id": "69a24837",
   "metadata": {},
   "source": [
    "In this folder, there's a file for each of these lines, commonly found in AGN spectra: Balmer series [FeII], He, narrow lines, broad lines, [OIII], and others such as a broad and narrow line model."
   ]
  },
  {
   "cell_type": "code",
   "execution_count": 137,
   "id": "23f31a42",
   "metadata": {},
   "outputs": [],
   "source": [
    "# cropping to a certain wavelength range\n",
    "# I won't crop it initially\n",
    "# s.crop(np.min(s.wave), np.max(s.wave))"
   ]
  },
  {
   "attachments": {},
   "cell_type": "markdown",
   "id": "0fa7e891",
   "metadata": {},
   "source": [
    "### Wavelengths of the lines"
   ]
  },
  {
   "cell_type": "code",
   "execution_count": 138,
   "id": "2b8f8d82",
   "metadata": {},
   "outputs": [],
   "source": [
    "H_lines = pd.read_csv('lines/hydrogen.csv')\n",
    "O_N_lines = pd.read_csv('lines/oiii_nii.csv')\n",
    "narrow_lines = pd.read_csv('lines/narrow_basic.csv')\n",
    "narrowP = pd.read_csv('lines/narrow_plus.csv')"
   ]
  },
  {
   "cell_type": "code",
   "execution_count": 139,
   "id": "e6ae4d59",
   "metadata": {},
   "outputs": [],
   "source": [
    "H_alpha = np.float64(H_lines.loc[H_lines['line']=='Ha']['position'])\n",
    "H_beta = np.float64(H_lines.loc[H_lines['line']=='Hb']['position'])\n",
    "\n",
    "OIII_1 = np.float64(O_N_lines.loc[O_N_lines['line']=='[OIII]']['position'][0])\n",
    "OIII_2 = np.float64(O_N_lines.loc[O_N_lines['line']=='[OIII]']['position'][1])\n",
    "OIII_narrow = np.float64(narrow_lines.loc[narrow_lines['line']=='[OIII]']['position'])\n",
    "\n",
    "NII_1 = np.float64(O_N_lines.loc[O_N_lines['line']=='[NII]']['position'][2])\n",
    "NII_2 = np.float64(O_N_lines.loc[O_N_lines['line']=='[NII]']['position'][3])\n",
    "\n",
    "SII_narrow_1 = np.float64(narrow_lines.loc[narrow_lines['line']=='[SII]']['position'][6])\n",
    "SII_narrow_2 = np.float64(narrow_lines.loc[narrow_lines['line']=='[SII]']['position'][7])\n",
    "SII_narrowP_1 = np.float64(narrowP.loc[narrowP['line']=='[SII]1F']['position'][7])\n",
    "SII_narrowP_2 = np.float64(narrowP.loc[narrowP['line']=='[SII]1F']['position'][8])"
   ]
  },
  {
   "cell_type": "markdown",
   "id": "b511cd9c",
   "metadata": {},
   "source": [
    "## Defining the fitting model"
   ]
  },
  {
   "cell_type": "code",
   "execution_count": 140,
   "id": "85f304c7",
   "metadata": {},
   "outputs": [],
   "source": [
    "# continumm\n",
    "cont_1 = continuum(s, min_refer=5690, refer=5700, max_refer=5710)\n",
    "cont_2 = continuum(s, min_refer=4090, refer=5000, max_refer=5010, index1=-1.7, index2=1.0)"
   ]
  },
  {
   "cell_type": "code",
   "execution_count": 141,
   "id": "5fe5c66b",
   "metadata": {},
   "outputs": [],
   "source": [
    "# broad line component\n",
    "broad_1 = create_fixed_model(['hydrogen.csv'], name='Broad')"
   ]
  },
  {
   "cell_type": "code",
   "execution_count": 142,
   "id": "bfa9744a",
   "metadata": {},
   "outputs": [],
   "source": [
    "# narrow line component\n",
    "narrow_1 = create_tied_model(name='OIII5007', \n",
    "                           files=['narrow_basic.csv', 'hydrogen.csv'], \n",
    "                           prefix='nr', \n",
    "                           fwhm=1000, \n",
    "                           min_offset=0, \n",
    "                           max_offset=300, \n",
    "                           min_fwhm=900, \n",
    "                           max_fwhm=1200, \n",
    "                           fix_oiii_ratio=True, \n",
    "                           position=5006.803341, \n",
    "                           included=True, \n",
    "                           min_amplitude=0.2)"
   ]
  },
  {
   "cell_type": "code",
   "execution_count": 143,
   "id": "7039aa8a",
   "metadata": {},
   "outputs": [],
   "source": [
    "# helium\n",
    "he_1 = create_fixed_model(['helium.csv'], name='He', fwhm=3000, min_fwhm=1000, max_fwhm=5000)\n",
    "\n",
    "# He.amp_HeI_4144 is at its minimum boundary 0.0\n",
    "# He.amp_HeI_4471 is at its minimum boundary 0.0\n",
    "# He.fwhm is at its maximum boundary 5000.0"
   ]
  },
  {
   "cell_type": "code",
   "execution_count": 144,
   "id": "1a080276",
   "metadata": {
    "scrolled": false
   },
   "outputs": [],
   "source": [
    "# iron\n",
    "fe_1 = create_feii_model(name='feii', \n",
    "                       fwhm=1800, \n",
    "                       min_fwhm=1000, \n",
    "                       max_fwhm=2000, \n",
    "                       offset=0,\n",
    "                       min_offset=-3000, \n",
    "                       max_offset=3000)"
   ]
  },
  {
   "cell_type": "code",
   "execution_count": 145,
   "id": "39b93cf6-3363-4243-a755-98d179be0fae",
   "metadata": {},
   "outputs": [],
   "source": [
    "# Code fits simultaneously all features.\n",
    "model_1st = cont_1 + broad_1 + narrow_1 + fe_1 + he_1\n",
    "model_2_cont = cont_2 + broad_1 + narrow_1 + fe_1 + he_1"
   ]
  },
  {
   "attachments": {},
   "cell_type": "markdown",
   "id": "e23be022",
   "metadata": {},
   "source": [
    "## Fitting"
   ]
  },
  {
   "cell_type": "code",
   "execution_count": 146,
   "id": "f48d2be4-2bc0-4b7d-8467-5ea7f6ab541c",
   "metadata": {},
   "outputs": [
    {
     "name": "stdout",
     "output_type": "stream",
     "text": [
      "stati 841343.3523133079\n",
      "1 iter stat:  652.4011974422028\n",
      "2 iter stat:  189.52855385374278\n"
     ]
    }
   ],
   "source": [
    "# s.fit(model_1st, ntrial=2)\n",
    "s.fit(model_2_cont, ntrial=2)"
   ]
  },
  {
   "cell_type": "code",
   "execution_count": 147,
   "id": "a70a9db3",
   "metadata": {},
   "outputs": [
    {
     "name": "stdout",
     "output_type": "stream",
     "text": [
      "True\n"
     ]
    }
   ],
   "source": [
    "# it converged\n",
    "print(s.gres.succeeded)"
   ]
  },
  {
   "cell_type": "code",
   "execution_count": 148,
   "id": "e53dd472",
   "metadata": {},
   "outputs": [],
   "source": [
    "# saving info on each fit attempt\n",
    "attempts = {'chi2 1st': 124.23362044251917, 'iters 1st': 2, 'chi2 2nd': 189.52855385374278, 'iters 2nd': 2}"
   ]
  },
  {
   "cell_type": "markdown",
   "id": "b33f53ed",
   "metadata": {},
   "source": [
    "##  Inspecting & saving the plotting results"
   ]
  },
  {
   "attachments": {},
   "cell_type": "markdown",
   "id": "8df6dbf4",
   "metadata": {},
   "source": [
    "__[`sherpa`](https://sherpa.readthedocs.io/en/4.15.0/)__ saves the model's output into `gres`"
   ]
  },
  {
   "cell_type": "code",
   "execution_count": null,
   "id": "9b81cd57",
   "metadata": {},
   "outputs": [],
   "source": [
    "arr = np.stack([np.asarray(s.gres.parnames), np.asarray(s.gres.parvals)], axis=-1)\n",
    "columns = ['parnames', 'parvalues']\n",
    "\n",
    "fit_result = pd.DataFrame(arr, columns=columns)\n",
    "fit_result"
   ]
  },
  {
   "cell_type": "code",
   "execution_count": 149,
   "id": "717d33a3",
   "metadata": {},
   "outputs": [
    {
     "data": {
      "text/html": [
       "<style>/*\n",
       "Copyright (C) 2020  Smithsonian Astrophysical Observatory\n",
       "\n",
       "\n",
       " This program is free software; you can redistribute it and/or modify\n",
       " it under the terms of the GNU General Public License as published by\n",
       " the Free Software Foundation; either version 3 of the License, or\n",
       " (at your option) any later version.\n",
       "\n",
       " This program is distributed in the hope that it will be useful,\n",
       " but WITHOUT ANY WARRANTY; without even the implied warranty of\n",
       " MERCHANTABILITY or FITNESS FOR A PARTICULAR PURPOSE.  See the\n",
       " GNU General Public License for more details.\n",
       "\n",
       " You should have received a copy of the GNU General Public License along\n",
       " with this program; if not, write to the Free Software Foundation, Inc.,\n",
       " 51 Franklin Street, Fifth Floor, Boston, MA 02110-1301 USA.\n",
       "\n",
       "*/\n",
       "\n",
       ":root {\n",
       "  --sherpa-border-color: var(--jp-border-color2, #e0e0e0);\n",
       "  --sherpa-background-color: var(--jp-layout-color0, white);\n",
       "  --sherpa-background-color-row-even: var(--jp-layout-color1, white);\n",
       "  --sherpa-background-color-row-odd: var(--jp-layout-color2, #eeeeee);\n",
       "\n",
       "  /* https://medium.com/ge-design/iot-cool-gray-is-a-great-background-color-for-data-visualization-ebf18c318418 */\n",
       "  --sherpa-background-color-dark1: #EBEFF2;\n",
       "  --sherpa-background-color-dark2: #D8E0E5;\n",
       "}\n",
       "\n",
       "div.sherpa-text-fallback {\n",
       "    display: none;\n",
       "}\n",
       "\n",
       "div.sherpa {\n",
       "    display: block;\n",
       "}\n",
       "\n",
       "div.sherpa details summary {\n",
       "    display: list-item;  /* needed for notebook, not lab */\n",
       "    font-size: larger;\n",
       "}\n",
       "\n",
       "div.sherpa details div.datavals {\n",
       "    display: grid;\n",
       "    grid-template-columns: 1fr 3fr;\n",
       "    column-gap: 0.5em;\n",
       "}\n",
       "\n",
       "div.sherpa div.dataname {\n",
       "    font-weight: bold;\n",
       "    border-right: 1px solid var(--sherpa-border-color);\n",
       "}\n",
       "\n",
       "div.sherpa div.dataval { }\n",
       "\n",
       "div.sherpa div.datavals div:nth-child(4n + 1) ,\n",
       "div.sherpa div.datavals div:nth-child(4n + 2) {\n",
       "    background: var(--sherpa-background-color-row-odd);\n",
       "}\n",
       "\n",
       "div.sherpa table.model tbody {\n",
       "    border-bottom: 1px solid var(--sherpa-border-color);\n",
       "}\n",
       "\n",
       "div.sherpa table.model tr.block {\n",
       "    border-top: 1px solid var(--sherpa-border-color);\n",
       "}\n",
       "\n",
       "div.sherpa table.model th.model-odd ,\n",
       "div.sherpa table.model th.model-even {\n",
       "    border-right: 1px solid var(--sherpa-border-color);\n",
       "}\n",
       "\n",
       "div.sherpa table.model th.model-odd {\n",
       "    background: var(--sherpa-background-color-dark1);\n",
       "}\n",
       "\n",
       "div.sherpa table.model th.model-even {\n",
       "    background: var(--sherpa-background-color-dark2);\n",
       "}\n",
       "\n",
       "div.sherpa .failed {\n",
       "    background: orange;\n",
       "    font-size: large;\n",
       "    padding: 1em;\n",
       "}\n",
       "</style><div class=\"sherpa-text-fallback\">&lt;BinaryOpModel model instance &#x27;((((brokenpowerlaw + Broad) + ((((((((((((((((nr_OIII5007 + nr_OIII4958) + nr_NII6584) + nr_NIII6548) + nr_[OII]_3726) + nr_[OII]_3728) + nr_[NeIII]_3868) + nr_[OIII]_4363) + nr_[OI]_6300) + nr_[OI]_6363) + nr_[SII]_6716) + nr_[SII]_6730) + nr_Heps_3970) + nr_Hd_4101) + nr_Hg_4340) + nr_Hb_4861) + nr_Ha_6562)) + feii) + He)&#x27;&gt;</div><div hidden class=\"sherpa\"><details open><summary>Model</summary><table class=\"model\"><caption>Expression: (((brokenpowerlaw + Broad) + ((((((((((((((((nr_OIII5007 + nr_OIII4958) + nr_NII6584) + nr_NIII6548) + nr_[OII]_3726) + nr_[OII]_3728) + nr_[NeIII]_3868) + nr_[OIII]_4363) + nr_[OI]_6300) + nr_[OI]_6363) + nr_[SII]_6716) + nr_[SII]_6730) + nr_Heps_3970) + nr_Hd_4101) + nr_Hg_4340) + nr_Hb_4861) + nr_Ha_6562)) + feii) + He</caption><thead><tr><th>Component</th><th>Parameter</th><th>Thawed</th><th>Value</th><th>Min</th><th>Max</th><th>Units</th></tr></thead><tbody><tr><th class=\"model-odd\" scope=\"rowgroup\" rowspan=4>brokenpowerlaw</th><td>refer</td><td><input disabled type=\"checkbox\" checked></input></td><td>4521.216746390585</td><td>4090.0</td><td>5010.0</td><td>angstroms</td></tr><tr><td>ampl</td><td><input disabled type=\"checkbox\" checked></input></td><td>63.792464034988505</td><td>63.342455389873166</td><td>70.01008227301772</td><td>angstroms</td></tr><tr><td>index1</td><td><input disabled type=\"checkbox\" checked></input></td><td>-3.0</td><td>-3.0</td><td>0.0</td><td></td></tr><tr><td>index2</td><td><input disabled type=\"checkbox\" checked></input></td><td>0.5470236071410502</td><td>-1.0</td><td>1.0</td><td></td></tr><tr class=\"block\"><th class=\"model-even\" scope=\"rowgroup\" rowspan=7>Broad</th><td>amp_Heps_3970</td><td><input disabled type=\"checkbox\" checked></input></td><td>0.0</td><td>0.0</td><td>600.0</td><td></td></tr><tr><td>amp_Hd_4102</td><td><input disabled type=\"checkbox\" checked></input></td><td>0.0</td><td>0.0</td><td>600.0</td><td></td></tr><tr><td>amp_Hg_4340</td><td><input disabled type=\"checkbox\" checked></input></td><td>17.984825564562293</td><td>0.0</td><td>600.0</td><td></td></tr><tr><td>amp_Hb_4861</td><td><input disabled type=\"checkbox\" checked></input></td><td>53.15484247779361</td><td>0.0</td><td>600.0</td><td></td></tr><tr><td>amp_Ha_6563</td><td><input disabled type=\"checkbox\" checked></input></td><td>109.9670114896827</td><td>0.0</td><td>600.0</td><td></td></tr><tr><td>offs_kms</td><td><input disabled type=\"checkbox\" checked></input></td><td>206.61491756043745</td><td>-3000.0</td><td>3000.0</td><td>km/s</td></tr><tr><td>fwhm</td><td><input disabled type=\"checkbox\" checked></input></td><td>4831.1407764912965</td><td>100.0</td><td>7000.0</td><td>km/s</td></tr><tr class=\"block\"><th class=\"model-odd\" scope=\"rowgroup\" rowspan=4>nr_OIII5007</th><td>ampl</td><td><input disabled type=\"checkbox\" checked></input></td><td>35.93915707362918</td><td>0.2</td><td>1000.0</td><td></td></tr><tr><td>pos</td><td><input disabled type=\"checkbox\"></input></td><td>5006.803341</td><td>0.0</td><td>MAX</td><td>angstroms</td></tr><tr><td>offs_kms</td><td><input disabled type=\"checkbox\" checked></input></td><td>0.0006406298271276162</td><td>0.0</td><td>300.0</td><td>km/s</td></tr><tr><td>fwhm</td><td><input disabled type=\"checkbox\" checked></input></td><td>1200.0</td><td>900.0</td><td>1200.0</td><td>km/s</td></tr><tr class=\"block\"><th class=\"model-even\" scope=\"rowgroup\" rowspan=4>nr_OIII4958</th><td>ampl</td><td>linked</td><td>11.97971902454306</td><td colspan=2>&#8656; nr_OIII5007.ampl / 3.0</td><td></td></tr><tr><td>pos</td><td><input disabled type=\"checkbox\"></input></td><td>4958.896072</td><td>0.0</td><td>MAX</td><td>angstroms</td></tr><tr><td>offs_kms</td><td>linked</td><td>0.0006406298271276162</td><td colspan=2>&#8656; nr_OIII5007.offs_kms</td><td>km/s</td></tr><tr><td>fwhm</td><td>linked</td><td>1200.0</td><td colspan=2>&#8656; nr_OIII5007.fwhm</td><td>km/s</td></tr><tr class=\"block\"><th class=\"model-odd\" scope=\"rowgroup\" rowspan=4>nr_NII6584</th><td>ampl</td><td><input disabled type=\"checkbox\" checked></input></td><td>62.043027273981664</td><td>0.0</td><td>500.0</td><td></td></tr><tr><td>pos</td><td><input disabled type=\"checkbox\"></input></td><td>6583.46</td><td>0.0</td><td>MAX</td><td>angstroms</td></tr><tr><td>offs_kms</td><td>linked</td><td>0.0006406298271276162</td><td colspan=2>&#8656; nr_OIII5007.offs_kms</td><td>km/s</td></tr><tr><td>fwhm</td><td>linked</td><td>1200.0</td><td colspan=2>&#8656; nr_OIII5007.fwhm</td><td>km/s</td></tr><tr class=\"block\"><th class=\"model-even\" scope=\"rowgroup\" rowspan=4>nr_NIII6548</th><td>ampl</td><td>linked</td><td>20.681009091327223</td><td colspan=2>&#8656; nr_NII6584.ampl / 3.0</td><td></td></tr><tr><td>pos</td><td><input disabled type=\"checkbox\"></input></td><td>6548.05</td><td>0.0</td><td>MAX</td><td>angstroms</td></tr><tr><td>offs_kms</td><td>linked</td><td>0.0006406298271276162</td><td colspan=2>&#8656; nr_OIII5007.offs_kms</td><td>km/s</td></tr><tr><td>fwhm</td><td>linked</td><td>1200.0</td><td colspan=2>&#8656; nr_OIII5007.fwhm</td><td>km/s</td></tr><tr class=\"block\"><th class=\"model-odd\" scope=\"rowgroup\" rowspan=4>nr_[OII]_3726</th><td>ampl</td><td><input disabled type=\"checkbox\" checked></input></td><td>6.317944222450338</td><td>0.0</td><td>500.0</td><td></td></tr><tr><td>pos</td><td><input disabled type=\"checkbox\"></input></td><td>3726.032</td><td>0.0</td><td>MAX</td><td>angstroms</td></tr><tr><td>offs_kms</td><td>linked</td><td>0.0006406298271276162</td><td colspan=2>&#8656; nr_OIII5007.offs_kms</td><td>km/s</td></tr><tr><td>fwhm</td><td>linked</td><td>1200.0</td><td colspan=2>&#8656; nr_OIII5007.fwhm</td><td>km/s</td></tr><tr class=\"block\"><th class=\"model-even\" scope=\"rowgroup\" rowspan=4>nr_[OII]_3728</th><td>ampl</td><td><input disabled type=\"checkbox\" checked></input></td><td>22.698006981016192</td><td>0.0</td><td>500.0</td><td></td></tr><tr><td>pos</td><td><input disabled type=\"checkbox\"></input></td><td>3728.815</td><td>0.0</td><td>MAX</td><td>angstroms</td></tr><tr><td>offs_kms</td><td>linked</td><td>0.0006406298271276162</td><td colspan=2>&#8656; nr_OIII5007.offs_kms</td><td>km/s</td></tr><tr><td>fwhm</td><td>linked</td><td>1200.0</td><td colspan=2>&#8656; nr_OIII5007.fwhm</td><td>km/s</td></tr><tr class=\"block\"><th class=\"model-odd\" scope=\"rowgroup\" rowspan=4>nr_[NeIII]_3868</th><td>ampl</td><td><input disabled type=\"checkbox\" checked></input></td><td>15.856099937323341</td><td>0.0</td><td>500.0</td><td></td></tr><tr><td>pos</td><td><input disabled type=\"checkbox\"></input></td><td>3868.76</td><td>0.0</td><td>MAX</td><td>angstroms</td></tr><tr><td>offs_kms</td><td>linked</td><td>0.0006406298271276162</td><td colspan=2>&#8656; nr_OIII5007.offs_kms</td><td>km/s</td></tr><tr><td>fwhm</td><td>linked</td><td>1200.0</td><td colspan=2>&#8656; nr_OIII5007.fwhm</td><td>km/s</td></tr><tr class=\"block\"><th class=\"model-even\" scope=\"rowgroup\" rowspan=4>nr_[OIII]_4363</th><td>ampl</td><td><input disabled type=\"checkbox\" checked></input></td><td>8.165325958382192</td><td>0.0</td><td>500.0</td><td></td></tr><tr><td>pos</td><td><input disabled type=\"checkbox\"></input></td><td>4363.213686</td><td>0.0</td><td>MAX</td><td>angstroms</td></tr><tr><td>offs_kms</td><td>linked</td><td>0.0006406298271276162</td><td colspan=2>&#8656; nr_OIII5007.offs_kms</td><td>km/s</td></tr><tr><td>fwhm</td><td>linked</td><td>1200.0</td><td colspan=2>&#8656; nr_OIII5007.fwhm</td><td>km/s</td></tr><tr class=\"block\"><th class=\"model-odd\" scope=\"rowgroup\" rowspan=4>nr_[OI]_6300</th><td>ampl</td><td><input disabled type=\"checkbox\" checked></input></td><td>1.6201088188291533</td><td>0.0</td><td>500.0</td><td></td></tr><tr><td>pos</td><td><input disabled type=\"checkbox\"></input></td><td>6300.304</td><td>0.0</td><td>MAX</td><td>angstroms</td></tr><tr><td>offs_kms</td><td>linked</td><td>0.0006406298271276162</td><td colspan=2>&#8656; nr_OIII5007.offs_kms</td><td>km/s</td></tr><tr><td>fwhm</td><td>linked</td><td>1200.0</td><td colspan=2>&#8656; nr_OIII5007.fwhm</td><td>km/s</td></tr><tr class=\"block\"><th class=\"model-even\" scope=\"rowgroup\" rowspan=4>nr_[OI]_6363</th><td>ampl</td><td><input disabled type=\"checkbox\" checked></input></td><td>4.785436669711694</td><td>0.0</td><td>500.0</td><td></td></tr><tr><td>pos</td><td><input disabled type=\"checkbox\"></input></td><td>6363.8</td><td>0.0</td><td>MAX</td><td>angstroms</td></tr><tr><td>offs_kms</td><td>linked</td><td>0.0006406298271276162</td><td colspan=2>&#8656; nr_OIII5007.offs_kms</td><td>km/s</td></tr><tr><td>fwhm</td><td>linked</td><td>1200.0</td><td colspan=2>&#8656; nr_OIII5007.fwhm</td><td>km/s</td></tr><tr class=\"block\"><th class=\"model-odd\" scope=\"rowgroup\" rowspan=4>nr_[SII]_6716</th><td>ampl</td><td><input disabled type=\"checkbox\" checked></input></td><td>7.967269388528259</td><td>0.0</td><td>500.0</td><td></td></tr><tr><td>pos</td><td><input disabled type=\"checkbox\"></input></td><td>6716.44</td><td>0.0</td><td>MAX</td><td>angstroms</td></tr><tr><td>offs_kms</td><td>linked</td><td>0.0006406298271276162</td><td colspan=2>&#8656; nr_OIII5007.offs_kms</td><td>km/s</td></tr><tr><td>fwhm</td><td>linked</td><td>1200.0</td><td colspan=2>&#8656; nr_OIII5007.fwhm</td><td>km/s</td></tr><tr class=\"block\"><th class=\"model-even\" scope=\"rowgroup\" rowspan=4>nr_[SII]_6730</th><td>ampl</td><td><input disabled type=\"checkbox\" checked></input></td><td>3.914150366472106</td><td>0.0</td><td>500.0</td><td></td></tr><tr><td>pos</td><td><input disabled type=\"checkbox\"></input></td><td>6730.81</td><td>0.0</td><td>MAX</td><td>angstroms</td></tr><tr><td>offs_kms</td><td>linked</td><td>0.0006406298271276162</td><td colspan=2>&#8656; nr_OIII5007.offs_kms</td><td>km/s</td></tr><tr><td>fwhm</td><td>linked</td><td>1200.0</td><td colspan=2>&#8656; nr_OIII5007.fwhm</td><td>km/s</td></tr><tr class=\"block\"><th class=\"model-odd\" scope=\"rowgroup\" rowspan=4>nr_Heps_3970</th><td>ampl</td><td><input disabled type=\"checkbox\" checked></input></td><td>9.812507683845494</td><td>0.0</td><td>500.0</td><td></td></tr><tr><td>pos</td><td><input disabled type=\"checkbox\"></input></td><td>3970.079</td><td>0.0</td><td>MAX</td><td>angstroms</td></tr><tr><td>offs_kms</td><td>linked</td><td>0.0006406298271276162</td><td colspan=2>&#8656; nr_OIII5007.offs_kms</td><td>km/s</td></tr><tr><td>fwhm</td><td>linked</td><td>1200.0</td><td colspan=2>&#8656; nr_OIII5007.fwhm</td><td>km/s</td></tr><tr class=\"block\"><th class=\"model-even\" scope=\"rowgroup\" rowspan=4>nr_Hd_4101</th><td>ampl</td><td><input disabled type=\"checkbox\" checked></input></td><td>11.809199234391293</td><td>0.0</td><td>500.0</td><td></td></tr><tr><td>pos</td><td><input disabled type=\"checkbox\"></input></td><td>4101.742</td><td>0.0</td><td>MAX</td><td>angstroms</td></tr><tr><td>offs_kms</td><td>linked</td><td>0.0006406298271276162</td><td colspan=2>&#8656; nr_OIII5007.offs_kms</td><td>km/s</td></tr><tr><td>fwhm</td><td>linked</td><td>1200.0</td><td colspan=2>&#8656; nr_OIII5007.fwhm</td><td>km/s</td></tr><tr class=\"block\"><th class=\"model-odd\" scope=\"rowgroup\" rowspan=4>nr_Hg_4340</th><td>ampl</td><td><input disabled type=\"checkbox\" checked></input></td><td>17.092385759694775</td><td>0.0</td><td>500.0</td><td></td></tr><tr><td>pos</td><td><input disabled type=\"checkbox\"></input></td><td>4340.471</td><td>0.0</td><td>MAX</td><td>angstroms</td></tr><tr><td>offs_kms</td><td>linked</td><td>0.0006406298271276162</td><td colspan=2>&#8656; nr_OIII5007.offs_kms</td><td>km/s</td></tr><tr><td>fwhm</td><td>linked</td><td>1200.0</td><td colspan=2>&#8656; nr_OIII5007.fwhm</td><td>km/s</td></tr><tr class=\"block\"><th class=\"model-even\" scope=\"rowgroup\" rowspan=4>nr_Hb_4861</th><td>ampl</td><td><input disabled type=\"checkbox\" checked></input></td><td>44.97535092064106</td><td>0.0</td><td>500.0</td><td></td></tr><tr><td>pos</td><td><input disabled type=\"checkbox\"></input></td><td>4861.333</td><td>0.0</td><td>MAX</td><td>angstroms</td></tr><tr><td>offs_kms</td><td>linked</td><td>0.0006406298271276162</td><td colspan=2>&#8656; nr_OIII5007.offs_kms</td><td>km/s</td></tr><tr><td>fwhm</td><td>linked</td><td>1200.0</td><td colspan=2>&#8656; nr_OIII5007.fwhm</td><td>km/s</td></tr><tr class=\"block\"><th class=\"model-odd\" scope=\"rowgroup\" rowspan=4>nr_Ha_6562</th><td>ampl</td><td><input disabled type=\"checkbox\" checked></input></td><td>150.50687254592262</td><td>0.0</td><td>500.0</td><td></td></tr><tr><td>pos</td><td><input disabled type=\"checkbox\"></input></td><td>6562.82</td><td>0.0</td><td>MAX</td><td>angstroms</td></tr><tr><td>offs_kms</td><td>linked</td><td>0.0006406298271276162</td><td colspan=2>&#8656; nr_OIII5007.offs_kms</td><td>km/s</td></tr><tr><td>fwhm</td><td>linked</td><td>1200.0</td><td colspan=2>&#8656; nr_OIII5007.fwhm</td><td>km/s</td></tr><tr class=\"block\"><th class=\"model-even\" scope=\"rowgroup\" rowspan=16>feii</th><td>amp_a2D2</td><td><input disabled type=\"checkbox\" checked></input></td><td>0.0</td><td>0.0</td><td>1000.0</td><td></td></tr><tr><td>amp_a4G</td><td><input disabled type=\"checkbox\" checked></input></td><td>0.0</td><td>0.0</td><td>1000.0</td><td></td></tr><tr><td>amp_a4H</td><td><input disabled type=\"checkbox\" checked></input></td><td>0.0</td><td>0.0</td><td>1000.0</td><td></td></tr><tr><td>amp_a6S</td><td><input disabled type=\"checkbox\" checked></input></td><td>3.0272709407678944</td><td>0.0</td><td>1000.0</td><td></td></tr><tr><td>amp_b2H</td><td><input disabled type=\"checkbox\" checked></input></td><td>0.0</td><td>0.0</td><td>1000.0</td><td></td></tr><tr><td>amp_b4D</td><td><input disabled type=\"checkbox\" checked></input></td><td>3.0273983505058424</td><td>0.0</td><td>1000.0</td><td></td></tr><tr><td>amp_b4F</td><td><input disabled type=\"checkbox\" checked></input></td><td>0.13060822562884083</td><td>0.0</td><td>1000.0</td><td></td></tr><tr><td>amp_b4P</td><td><input disabled type=\"checkbox\" checked></input></td><td>0.0</td><td>0.0</td><td>1000.0</td><td></td></tr><tr><td>amp_z4D</td><td><input disabled type=\"checkbox\" checked></input></td><td>5.400083301496495</td><td>0.0</td><td>1000.0</td><td></td></tr><tr><td>amp_z4F</td><td><input disabled type=\"checkbox\" checked></input></td><td>18.815200528884233</td><td>0.0</td><td>1000.0</td><td></td></tr><tr><td>amp_y4G</td><td><input disabled type=\"checkbox\" checked></input></td><td>0.0</td><td>0.0</td><td>1000.0</td><td></td></tr><tr><td>amp_b4G</td><td><input disabled type=\"checkbox\" checked></input></td><td>0.0</td><td>0.0</td><td>1000.0</td><td></td></tr><tr><td>amp_x4D</td><td><input disabled type=\"checkbox\" checked></input></td><td>1.8606696942360064</td><td>0.0</td><td>1000.0</td><td></td></tr><tr><td>amp_y4P</td><td><input disabled type=\"checkbox\" checked></input></td><td>0.0</td><td>0.0</td><td>1000.0</td><td></td></tr><tr><td>offs_kms</td><td><input disabled type=\"checkbox\" checked></input></td><td>256.72941195473555</td><td>-3000.0</td><td>3000.0</td><td></td></tr><tr><td>fwhm</td><td><input disabled type=\"checkbox\" checked></input></td><td>2000.0</td><td>1000.0</td><td>2000.0</td><td></td></tr><tr class=\"block\"><th class=\"model-odd\" scope=\"rowgroup\" rowspan=7>He</th><td>amp_HeI_4144</td><td><input disabled type=\"checkbox\" checked></input></td><td>0.0</td><td>0.0</td><td>600.0</td><td></td></tr><tr><td>amp_HeI_4471</td><td><input disabled type=\"checkbox\" checked></input></td><td>0.0</td><td>0.0</td><td>600.0</td><td></td></tr><tr><td>amp_HeII_4686</td><td><input disabled type=\"checkbox\" checked></input></td><td>8.845454231299591</td><td>0.0</td><td>600.0</td><td></td></tr><tr><td>amp_HeI_5877</td><td><input disabled type=\"checkbox\" checked></input></td><td>9.761134933603712</td><td>0.0</td><td>600.0</td><td></td></tr><tr><td>amp_HeI_7065</td><td><input disabled type=\"checkbox\" checked></input></td><td>5.180661008359108</td><td>0.0</td><td>600.0</td><td></td></tr><tr><td>offs_kms</td><td><input disabled type=\"checkbox\" checked></input></td><td>259.0609158012922</td><td>-3000.0</td><td>3000.0</td><td>km/s</td></tr><tr><td>fwhm</td><td><input disabled type=\"checkbox\" checked></input></td><td>4238.486512696177</td><td>1000.0</td><td>5000.0</td><td>km/s</td></tr></tbody></table></details></div>"
      ],
      "text/plain": [
       "<BinaryOpModel model instance '((((brokenpowerlaw + Broad) + ((((((((((((((((nr_OIII5007 + nr_OIII4958) + nr_NII6584) + nr_NIII6548) + nr_[OII]_3726) + nr_[OII]_3728) + nr_[NeIII]_3868) + nr_[OIII]_4363) + nr_[OI]_6300) + nr_[OI]_6363) + nr_[SII]_6716) + nr_[SII]_6730) + nr_Heps_3970) + nr_Hd_4101) + nr_Hg_4340) + nr_Hb_4861) + nr_Ha_6562)) + feii) + He)'>"
      ]
     },
     "execution_count": 149,
     "metadata": {},
     "output_type": "execute_result"
    }
   ],
   "source": [
    "# model_1st\n",
    "model_2_cont"
   ]
  },
  {
   "cell_type": "code",
   "execution_count": 150,
   "id": "a5dc7485",
   "metadata": {},
   "outputs": [
    {
     "name": "stdout",
     "output_type": "stream",
     "text": [
      "Method                = levmar\n",
      "Statistic             = chi2\n",
      "Initial fit statistic = 26839.1\n",
      "Final fit statistic   = 26649.5 at function evaluation 995\n",
      "Data points           = 3189\n",
      "Degrees of freedom    = 3138\n",
      "Probability [Q-value] = 0\n",
      "Reduced statistic     = 8.49252\n",
      "Change in statistic   = 189.529\n",
      "   brokenpowerlaw.refer   4521.22      +/- 41.8843     \n",
      "   brokenpowerlaw.ampl   63.7925      +/- 1.56464     \n",
      "   brokenpowerlaw.index1   -3           +/- 0.021127    \n",
      "   brokenpowerlaw.index2   0.547024     +/- 0.0252039   \n",
      "   Broad.amp_Heps_3970   0            +/- 0.52344     \n",
      "   Broad.amp_Hd_4102   0            +/- 0.63019     \n",
      "   Broad.amp_Hg_4340   17.9848      +/- 1.11085     \n",
      "   Broad.amp_Hb_4861   53.1548      +/- 0.556521    \n",
      "   Broad.amp_Ha_6563   109.967      +/- 1.13412     \n",
      "   Broad.offs_kms   206.615      +/- 6.82423     \n",
      "   Broad.fwhm     4831.14      +/- 22.8486     \n",
      "   nr_OIII5007.ampl   35.9392      +/- 0.68036     \n",
      "   nr_OIII5007.offs_kms   0.00064063   +/- 0           \n",
      "   nr_OIII5007.fwhm   1200         +/- 14.3125     \n",
      "   nr_NII6584.ampl   62.043       +/- 1.77302     \n",
      "   nr_[OII]_3726.ampl   6.31794      +/- 2.86896     \n",
      "   nr_[OII]_3728.ampl   22.698       +/- 2.86361     \n",
      "   nr_[NeIII]_3868.ampl   15.8561      +/- 0.770541    \n",
      "   nr_[OIII]_4363.ampl   8.16533      +/- 1.11088     \n",
      "   nr_[OI]_6300.ampl   1.62011      +/- 0.455759    \n",
      "   nr_[OI]_6363.ampl   4.78544      +/- 0.40573     \n",
      "   nr_[SII]_6716.ampl   7.96727      +/- 0.482092    \n",
      "   nr_[SII]_6730.ampl   3.91415      +/- 0.479328    \n",
      "   nr_Heps_3970.ampl   9.81251      +/- 0.906887    \n",
      "   nr_Hd_4101.ampl   11.8092      +/- 0.968502    \n",
      "   nr_Hg_4340.ampl   17.0924      +/- 1.30125     \n",
      "   nr_Hb_4861.ampl   44.9754      +/- 1.07418     \n",
      "   nr_Ha_6562.ampl   150.507      +/- 1.8136      \n",
      "   feii.amp_a2D2   0            +/- 0.589644    \n",
      "   feii.amp_a4G   0            +/- 0.158587    \n",
      "   feii.amp_a4H   0            +/- 0.600072    \n",
      "   feii.amp_a6S   3.02727      +/- 0.238068    \n",
      "   feii.amp_b2H   0            +/- 0.302357    \n",
      "   feii.amp_b4D   3.0274       +/- 0.388001    \n",
      "   feii.amp_b4F   0.130608     +/- 0.159814    \n",
      "   feii.amp_b4P   0            +/- 0.516289    \n",
      "   feii.amp_z4D   5.40008      +/- 0.265071    \n",
      "   feii.amp_z4F   18.8152      +/- 3.1914      \n",
      "   feii.amp_y4G   0            +/- 0.471191    \n",
      "   feii.amp_b4G   0            +/- 0.270775    \n",
      "   feii.amp_x4D   1.86067      +/- 0.189422    \n",
      "   feii.amp_y4P   0            +/- 0.295819    \n",
      "   feii.offs_kms   256.729      +/- 43.9792     \n",
      "   feii.fwhm      2000         +/- 67.9227     \n",
      "   He.amp_HeI_4144   0            +/- 0.423247    \n",
      "   He.amp_HeI_4471   0            +/- 0.564629    \n",
      "   He.amp_HeII_4686   8.84545      +/- 0.344487    \n",
      "   He.amp_HeI_5877   9.76113      +/- 0.209269    \n",
      "   He.amp_HeI_7065   5.18066      +/- 0.198452    \n",
      "   He.offs_kms    259.061      +/- 36.6978     \n",
      "   He.fwhm        4238.49      +/- 91.4227     \n",
      "WARNING: parameter value brokenpowerlaw.index1 is at its minimum boundary -3.0\n",
      "WARNING: parameter value Broad.amp_Heps_3970 is at its minimum boundary 0.0\n",
      "WARNING: parameter value Broad.amp_Hd_4102 is at its minimum boundary 0.0\n",
      "WARNING: parameter value nr_OIII5007.fwhm is at its maximum boundary 1200.0\n",
      "WARNING: parameter value feii.amp_a2D2 is at its minimum boundary 0.0\n",
      "WARNING: parameter value feii.amp_a4G is at its minimum boundary 0.0\n",
      "WARNING: parameter value feii.amp_a4H is at its minimum boundary 0.0\n",
      "WARNING: parameter value feii.amp_b2H is at its minimum boundary 0.0\n",
      "WARNING: parameter value feii.amp_b4P is at its minimum boundary 0.0\n",
      "WARNING: parameter value feii.amp_y4G is at its minimum boundary 0.0\n",
      "WARNING: parameter value feii.amp_b4G is at its minimum boundary 0.0\n",
      "WARNING: parameter value feii.amp_y4P is at its minimum boundary 0.0\n",
      "WARNING: parameter value feii.fwhm is at its maximum boundary 2000.0\n",
      "WARNING: parameter value He.amp_HeI_4144 is at its minimum boundary 0.0\n",
      "WARNING: parameter value He.amp_HeI_4471 is at its minimum boundary 0.0\n"
     ]
    }
   ],
   "source": [
    "# To see the fitting results, one can use standard outputs from Sherpa package, such as:\n",
    "# gres - to list all fitting results\n",
    "# gres.parnames - to list all parameters\n",
    "# save_json() - to save the results\n",
    "\n",
    "print(s.gres.format())\n",
    "s.save_json() #saving parameters "
   ]
  },
  {
   "attachments": {},
   "cell_type": "markdown",
   "id": "c718319c",
   "metadata": {},
   "source": [
    "In the first try, I didn't modify the parameters of the model. I got some warnings:\n",
    "```\n",
    "WARNING: parameter value feii.fwhm is at its maximum boundary 2000.0\n",
    "WARNING: parameter value He.amp_HeI_4144 is at its minimum boundary 0.0\n",
    "WARNING: parameter value He.amp_HeI_4471 is at its minimum boundary 0.0\n",
    "WARNING: parameter value He.fwhm is at its maximum boundary 5000.0\n",
    "```\n",
    "\n",
    "I tried tuned the parameters of the model until they were resolved. Warning of the same type also came up during the second attempt.\n",
    "\n",
    "---\n",
    "\n",
    "I plotted the spectra with spectral lines indicated to get a better understanding of how well the model is fitting the data."
   ]
  },
  {
   "cell_type": "markdown",
   "id": "fa66f807",
   "metadata": {},
   "source": [
    "## Plotting the results"
   ]
  },
  {
   "cell_type": "code",
   "execution_count": null,
   "id": "777f4c58",
   "metadata": {},
   "outputs": [],
   "source": [
    "plt.style.context(['nature', 'notebook'])\n",
    "plt.figure(figsize=(18,8))\n",
    "\n",
    "plt.plot(s.wave, s.flux, color=\"#929591\", label='Obs', lw=2)\n",
    "plt.plot(s.wave, model_1st(s.wave), color=\"#F10C45\", label='Model', lw=3)\n",
    "plt.plot(s.wave, model_1st(s.wave)-s.flux-70, '-', color=\"#929591\", label='Residual', lw=2)\n",
    "plt.axhline(y=-70, color='deepskyblue', linestyle='--', lw=2)\n",
    "\n",
    "plt.plot(s.wave, cont_1(s.wave),'--', color=\"#042E60\", label='Continuum', lw=1.5)\n",
    "plt.plot(s.wave, narrow_1(s.wave), label='Narrow', color=\"#25A36F\", lw=3)\n",
    "plt.plot(s.wave, broad_1(s.wave), label='Broad H', lw=3, color=\"#2E5A88\")\n",
    "plt.plot(s.wave, he_1(s.wave), label='Broad He I', lw=3, color=\"orange\")\n",
    "plt.plot(s.wave, fe_1(s.wave), '-', color=\"#CB416B\", label='Fe II model', lw=3)\n",
    "\n",
    "plt.xlabel(r'Wavelength [Ang]', fontsize=15)\n",
    "plt.ylabel(r'Flux [$10^{-7}$ erg / s / cm$^2$ / Ang]', fontsize=15)\n",
    "\n",
    "plt.xlim(np.min(s.wave), np.max(s.wave))\n",
    "plt.tick_params(which='both', direction=\"in\")\n",
    "plt.yticks(fontsize=15)\n",
    "plt.xticks(np.arange(4000, 7000, step=500), fontsize=15)\n",
    "plt.title('Fantasy Fit: 1st Attempt (Iters: ' + str(attempts['iters 1st']) + r', $ \\chi ^2 $ = ' + str(np.round(attempts['chi2 1st'], 3)) + ')')\n",
    "\n",
    "plt.legend(loc='upper left',  prop={'size': 12}, frameon=False, ncol=2)\n",
    "\n",
    "# plt.savefig('fantasy_fit_1st_attempt.pdf')\n",
    "\n",
    "plt.show()"
   ]
  },
  {
   "cell_type": "code",
   "execution_count": 152,
   "id": "dd013eb5",
   "metadata": {},
   "outputs": [],
   "source": [
    "model_2_cont\n",
    "plt.style.context(['nature', 'notebook'])\n",
    "plt.figure(figsize=(18,8))\n",
    "\n",
    "plt.plot(s.wave, s.flux, color=\"#929591\", label='Obs', lw=2)\n",
    "plt.plot(s.wave, model_2_cont(s.wave), color=\"#F10C45\", label='Model', lw=3)\n",
    "plt.plot(s.wave, model_2_cont(s.wave)-s.flux-70, '-', color=\"#929591\", label='Residual', lw=2)\n",
    "plt.axhline(y=-70, color='deepskyblue', linestyle='--', lw=2)\n",
    "\n",
    "plt.plot(s.wave, cont_2(s.wave),'--', color=\"#042E60\", label='Continuum', lw=1.5)\n",
    "plt.plot(s.wave, narrow_1(s.wave), label='Narrow', color=\"#25A36F\", lw=3)\n",
    "plt.plot(s.wave, broad_1(s.wave), label='Broad H', lw=3, color=\"#2E5A88\")\n",
    "plt.plot(s.wave, he_1(s.wave), label='Broad He I', lw=3, color=\"orange\")\n",
    "plt.plot(s.wave, fe_1(s.wave), '-', color=\"#CB416B\", label='Fe II model', lw=3)\n",
    "\n",
    "plt.xlabel(r'Wavelength [Ang]', fontsize=15)\n",
    "plt.ylabel(r'Flux [$10^{-7}$ erg / s / cm$^2$ / Ang]', fontsize=15)\n",
    "\n",
    "plt.xlim(np.min(s.wave), np.max(s.wave))\n",
    "plt.tick_params(which='both', direction=\"in\")\n",
    "plt.yticks(fontsize=15)\n",
    "plt.xticks(np.arange(4000, 7000, step=500), fontsize=15)\n",
    "plt.title('Fantasy Fit: 2nd Attempt (Iters: ' + str(attempts['iters 2nd']) + r', $ \\chi ^2 $ = ' + str(np.round(attempts['chi2 2nd'], 3)) + ')')\n",
    "\n",
    "plt.legend(loc='upper left',  prop={'size': 12}, frameon=False, ncol=2)\n",
    "\n",
    "plt.savefig('fantasy_fit_2nd_attempt.pdf')\n",
    "\n",
    "plt.show()"
   ]
  },
  {
   "attachments": {},
   "cell_type": "markdown",
   "id": "f08fb345",
   "metadata": {},
   "source": [
    "Next, I created an interactive plot so that I can zoom in and see how the lines are fitting in more detail."
   ]
  },
  {
   "cell_type": "code",
   "execution_count": null,
   "id": "d1b66b35",
   "metadata": {},
   "outputs": [],
   "source": [
    "wavelengths = dict({SII_narrowP_1:'[SII] Narrow+, 1', \n",
    "                    SII_narrowP_2:'[SII] Narrow+, 2', \n",
    "                    OIII_narrow:'[OIII] Narrow', \n",
    "                    OIII_1:'[OIII], 1', \n",
    "                    OIII_2:'[OIII], 2', \n",
    "                    SII_narrow_1:'[SII] Narrow, 1', \n",
    "                    SII_narrow_2:'[SII] Narrow, 2',\n",
    "                    NII_1:'[NII], 1', \n",
    "                    NII_2:'[NII], 2', \n",
    "                    H_alpha:'H alpha', \n",
    "                    H_beta:'H beta'})\n",
    "\n",
    "colors = ['darkgreen', 'crimson', 'teal', 'goldenrod', 'slateblue', 'darkviolet', 'darkorange', 'royalblue', \n",
    "          'magenta', 'darkolivegreen', 'brown']"
   ]
  },
  {
   "cell_type": "code",
   "execution_count": null,
   "id": "39c7ed20",
   "metadata": {},
   "outputs": [],
   "source": [
    "plt.style.context(['nature', 'notebook'])\n",
    "fig = plt.figure(figsize=(15, 8))\n",
    "ax = fig.add_subplot()\n",
    "fig.subplots_adjust(top=0.85)\n",
    "\n",
    "for i in range(len(wavelengths)):\n",
    "    ax.text(list(wavelengths.keys())[i], -200, list(wavelengths.values())[i], fontsize=10, rotation='vertical')\n",
    "    ax.vlines(list(wavelengths.keys())[i], -100, 350, linestyles='dashed', label=list(wavelengths.values())[i], colors=colors[i])\n",
    "\n",
    "plt.ion()\n",
    "\n",
    "plt.plot(s.wave, s.flux, color=\"#929591\", label='Obs', lw=2)\n",
    "plt.plot(s.wave, model_1st(s.wave), color=\"#F10C45\", label='Model', lw=3)\n",
    "plt.plot(s.wave, model_1st(s.wave)-s.flux-70, '-', color=\"#929591\", label='Residual', lw=2)\n",
    "plt.axhline(y=-70, color='deepskyblue', linestyle='--', lw=2)\n",
    "\n",
    "plt.plot(s.wave, cont_1(s.wave),'--', color=\"#042E60\", label='Continuum', lw=1.5)\n",
    "plt.plot(s.wave, narrow_1(s.wave), label='Narrow', color=\"#25A36F\", lw=3)\n",
    "plt.plot(s.wave, broad_1(s.wave), label='Broad H', lw=3, color=\"#2E5A88\")\n",
    "plt.plot(s.wave, he_1(s.wave), label='Broad He I', lw=3, color=\"orange\")\n",
    "plt.plot(s.wave, fe_1(s.wave), '-', color=\"#CB416B\", label='Fe II model', lw=3)\n",
    "\n",
    "plt.xlabel(r'Wavelength [Ang]', fontsize=15)\n",
    "plt.ylabel(r'Flux [$10^{-7}$ erg / s / cm$^2$ / Ang]', fontsize=15)\n",
    "\n",
    "plt.xlim(np.min(s.wave), np.max(s.wave))\n",
    "plt.ylim(-220, 350)\n",
    "plt.tick_params(which='both', direction=\"in\")\n",
    "plt.yticks(fontsize=15)\n",
    "plt.xticks(np.arange(4000, 7000, step=500), fontsize=15)\n",
    "\n",
    "plt.title('Fantasy Fit: 1st Attempt (Iters: ' + str(attempts['iters 1st']) + r', $ \\chi ^2 $ = ' + str(np.round(attempts['chi2 1st'], 3)) + ')')\n",
    "\n",
    "plt.legend(bbox_to_anchor=(1.0, 0.8), prop={'size': 10}, frameon=False, ncol=1)\n",
    "\n",
    "plt.show()"
   ]
  },
  {
   "attachments": {},
   "cell_type": "markdown",
   "id": "ddabd5c5",
   "metadata": {},
   "source": [
    "After the first attempt, the lines that need better fitting are:\n",
    "* Continuum: below 4500 Ang, the continuum isn't steep enough\n",
    "* [OIII] 1 and 2: the iron model doesn't have intense enough lines\n",
    "\n"
   ]
  },
  {
   "cell_type": "code",
   "execution_count": null,
   "id": "72cbc374",
   "metadata": {},
   "outputs": [],
   "source": []
  },
  {
   "attachments": {},
   "cell_type": "markdown",
   "id": "72b8a8e6",
   "metadata": {},
   "source": [
    "# Measuring Lines\n",
    "\n",
    "Narrow Ha, Hb, [OIII], [NII] and [SII] lines if present; Broad Ha, Hb."
   ]
  },
  {
   "cell_type": "code",
   "execution_count": null,
   "id": "0ed0a1bf",
   "metadata": {},
   "outputs": [],
   "source": [
    "'''cont(s.wave)\n",
    "narrow(s.wave)\n",
    "broad(s.wave)\n",
    "he(s.wave)\n",
    "fe(s.wave)'''"
   ]
  },
  {
   "cell_type": "code",
   "execution_count": null,
   "id": "32a6b331",
   "metadata": {},
   "outputs": [],
   "source": [
    "# measuring iron\n",
    "flux_feII = np.sum(fe(s.wave))\n",
    "flux_Ha_broad = np.sum\n",
    "print(flux_feII)"
   ]
  },
  {
   "attachments": {},
   "cell_type": "markdown",
   "id": "74196217",
   "metadata": {},
   "source": [
    "# Calculating Line Ratios"
   ]
  },
  {
   "attachments": {},
   "cell_type": "markdown",
   "id": "b997476c",
   "metadata": {},
   "source": [
    "## [NII]6583 / H $\\alpha$"
   ]
  },
  {
   "cell_type": "code",
   "execution_count": null,
   "id": "84ff98c9",
   "metadata": {},
   "outputs": [],
   "source": []
  },
  {
   "attachments": {},
   "cell_type": "markdown",
   "id": "1c4e3adb",
   "metadata": {},
   "source": [
    "## [OIII]5007 / H $\\beta$"
   ]
  },
  {
   "cell_type": "code",
   "execution_count": null,
   "id": "5104bab2",
   "metadata": {},
   "outputs": [],
   "source": []
  },
  {
   "attachments": {},
   "cell_type": "markdown",
   "id": "f984586c",
   "metadata": {},
   "source": [
    "## H $\\alpha$ / H $\\beta$"
   ]
  },
  {
   "cell_type": "code",
   "execution_count": null,
   "id": "cea6b97e",
   "metadata": {},
   "outputs": [],
   "source": []
  },
  {
   "cell_type": "code",
   "execution_count": null,
   "id": "0c7680b5",
   "metadata": {},
   "outputs": [],
   "source": []
  },
  {
   "cell_type": "markdown",
   "id": "6acfd8a5",
   "metadata": {},
   "source": [
    "**References**\n",
    "\n",
    "1. [Rakic, N., 2022, MNRAS, 516, 1624](https://ui.adsabs.harvard.edu/abs/2022MNRAS.516.1624R/abstract)\n",
    "2. [Ilic, D. et al. 2020, A&A, 638, 13](https://ui.adsabs.harvard.edu/abs/2020A%26A...638A..13I/abstract)\n",
    "3. [Kovacevic, J. et al. 2010, ApJS, 189, 15](https://ui.adsabs.harvard.edu/abs/2010ApJS..189...15K/abstract)\n",
    "4. [Shapovalova, A. I. et al. 2012, ApJS, 202, 10](https://ui.adsabs.harvard.edu/abs/2012ApJS..202...10S/abstract)\n",
    "5. Ilic, D., Rakic, N., Popovic, L. C., 2023, submitted"
   ]
  },
  {
   "cell_type": "code",
   "execution_count": null,
   "id": "e52099e8",
   "metadata": {},
   "outputs": [],
   "source": []
  }
 ],
 "metadata": {
  "kernelspec": {
   "display_name": "Python 3 (ipykernel)",
   "language": "python",
   "name": "python3"
  },
  "language_info": {
   "codemirror_mode": {
    "name": "ipython",
    "version": 3
   },
   "file_extension": ".py",
   "mimetype": "text/x-python",
   "name": "python",
   "nbconvert_exporter": "python",
   "pygments_lexer": "ipython3",
   "version": "3.8.16"
  },
  "toc": {
   "base_numbering": 1,
   "nav_menu": {},
   "number_sections": true,
   "sideBar": true,
   "skip_h1_title": true,
   "title_cell": "Table of Contents",
   "title_sidebar": "Contents",
   "toc_cell": true,
   "toc_position": {},
   "toc_section_display": true,
   "toc_window_display": true
  }
 },
 "nbformat": 4,
 "nbformat_minor": 5
}
