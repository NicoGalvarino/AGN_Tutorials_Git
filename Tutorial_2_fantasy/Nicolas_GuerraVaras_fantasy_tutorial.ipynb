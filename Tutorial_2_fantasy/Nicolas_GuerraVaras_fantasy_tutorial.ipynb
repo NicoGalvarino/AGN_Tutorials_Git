{
 "cells": [
  {
   "cell_type": "markdown",
   "id": "a61bd9c0",
   "metadata": {
    "toc": true
   },
   "source": [
    "<h1>Table of Contents<span class=\"tocSkip\"></span></h1>\n",
    "<div class=\"toc\"><ul class=\"toc-item\"><li><span><a href=\"#Reading-data\" data-toc-modified-id=\"Reading-data-1\"><span class=\"toc-item-num\">1&nbsp;&nbsp;</span>Reading data</a></span></li><li><span><a href=\"#Prepartion-of-the-spectra\" data-toc-modified-id=\"Prepartion-of-the-spectra-2\"><span class=\"toc-item-num\">2&nbsp;&nbsp;</span>Prepartion of the spectra</a></span></li><li><span><a href=\"#Host-galaxy-subtraction\" data-toc-modified-id=\"Host-galaxy-subtraction-3\"><span class=\"toc-item-num\">3&nbsp;&nbsp;</span>Host-galaxy subtraction</a></span></li><li><span><a href=\"#Creation-of-the-predefined-lists-of-emission-lines\" data-toc-modified-id=\"Creation-of-the-predefined-lists-of-emission-lines-4\"><span class=\"toc-item-num\">4&nbsp;&nbsp;</span>Creation of the predefined lists of emission lines</a></span></li><li><span><a href=\"#Defining-the-fitting-model\" data-toc-modified-id=\"Defining-the-fitting-model-5\"><span class=\"toc-item-num\">5&nbsp;&nbsp;</span>Defining the fitting model</a></span></li><li><span><a href=\"#Fittings\" data-toc-modified-id=\"Fittings-6\"><span class=\"toc-item-num\">6&nbsp;&nbsp;</span>Fittings</a></span></li><li><span><a href=\"#Plotting-the-results\" data-toc-modified-id=\"Plotting-the-results-7\"><span class=\"toc-item-num\">7&nbsp;&nbsp;</span>Plotting the results</a></span></li><li><span><a href=\"#Inspecting-&amp;-saving-the-plotting-results\" data-toc-modified-id=\"Inspecting-&amp;-saving-the-plotting-results-8\"><span class=\"toc-item-num\">8&nbsp;&nbsp;</span>Inspecting &amp; saving the plotting results</a></span></li><li><span><a href=\"#Simple-analysis\" data-toc-modified-id=\"Simple-analysis-9\"><span class=\"toc-item-num\">9&nbsp;&nbsp;</span>Simple analysis</a></span></li></ul></div>"
   ]
  },
  {
   "attachments": {},
   "cell_type": "markdown",
   "id": "4d2a5f19",
   "metadata": {},
   "source": [
    "**Nicolás Guerra-Varas**\n",
    "\n",
    "Prof. Dragana Ilić\n",
    "\n",
    "Tutor Isidora Jankov\n",
    "\n",
    "# FANTASY Tutorial\n",
    "\n",
    "The goal of this tutorial is to learn how to use __[`fantasy`](https://fantasy-agn.readthedocs.io/en/latest/index.html)__ to model AGN spectra."
   ]
  },
  {
   "attachments": {},
   "cell_type": "markdown",
   "id": "37553031",
   "metadata": {},
   "source": [
    "## Imports"
   ]
  },
  {
   "cell_type": "code",
   "execution_count": 1,
   "id": "8d850b9e",
   "metadata": {},
   "outputs": [
    {
     "name": "stdout",
     "output_type": "stream",
     "text": [
      "Using matplotlib backend: MacOSX\n"
     ]
    }
   ],
   "source": [
    "%matplotlib\n",
    "import matplotlib.pyplot as plt\n",
    "import matplotlib as mpl\n",
    "from matplotlib.ticker import (MultipleLocator, FormatStrFormatter, AutoMinorLocator)\n",
    "\n",
    "import numpy as np\n",
    "import pandas as pd\n",
    "\n",
    "import glob"
   ]
  },
  {
   "cell_type": "code",
   "execution_count": 2,
   "id": "c9fc0a2c",
   "metadata": {},
   "outputs": [],
   "source": [
    "# additional imports\n",
    "import math as m\n",
    "import csv\n",
    "import astropy.coordinates as coord\n",
    "import astropy.units as u\n",
    "from astropy.io import ascii\n",
    "from astropy.coordinates import SkyCoord\n",
    "from astropy.io import fits\n",
    "from astropy.utils.data import get_pkg_data_filename\n",
    "from astropy.table import Table"
   ]
  },
  {
   "cell_type": "code",
   "execution_count": 3,
   "id": "4d156279",
   "metadata": {},
   "outputs": [],
   "source": [
    "from fantasy_agn.tools import read_sdss, read_text, read_gama_fits\n",
    "\n",
    "from fantasy_agn.models import (create_input_folder, create_feii_model, create_model, \n",
    "                               create_tied_model, continuum, create_line, create_fixed_model)"
   ]
  },
  {
   "attachments": {},
   "cell_type": "markdown",
   "id": "afa63d00",
   "metadata": {},
   "source": [
    "# Replicate Procedure"
   ]
  },
  {
   "attachments": {},
   "cell_type": "markdown",
   "id": "50a428a6",
   "metadata": {},
   "source": [
    "## Read spectrum"
   ]
  },
  {
   "cell_type": "code",
   "execution_count": 4,
   "id": "45c366d2",
   "metadata": {},
   "outputs": [],
   "source": [
    "# assigned spectrum\n",
    "s = read_sdss('spec-0572-52289-0442.fits')\n",
    "s_or = read_sdss('spec-0572-52289-0442.fits')\n",
    "# saving original spectrum to see how it changes through the procedure\n",
    "\n",
    "# these are the parameters that the spectrum has\n",
    "# s.z redshift\n",
    "# s.ra\n",
    "# s.dec\n",
    "# s.mjd\n",
    "# s.plate\n",
    "# s.fiber\n",
    "# s.name\n",
    "# s.err\n",
    "# s.flux\n",
    "# s.wave\n",
    "# s.fwhm\n",
    "# s.velscale"
   ]
  },
  {
   "attachments": {},
   "cell_type": "markdown",
   "id": "48e675f7",
   "metadata": {},
   "source": [
    "First I took a quick look into the spectrum."
   ]
  },
  {
   "cell_type": "code",
   "execution_count": 5,
   "id": "87c244be",
   "metadata": {},
   "outputs": [],
   "source": [
    "plt.style.context(['nature', 'notebook'])\n",
    "plt.figure(figsize=(12,5))\n",
    "\n",
    "plt.plot(s.wave, s.flux, color='navy', label='Obs', lw=1)\n",
    "\n",
    "plt.legend(loc='upper right', prop={'size': 15}, frameon=False, ncol=2)\n",
    "plt.xlabel(r'Wavelength [Ang]')\n",
    "plt.ylabel(r'Flux [$10^{-7}$ erg / s / cm$^2$ / Ang]')\n",
    "\n",
    "# plt.savefig('spectrum_original.pdf')\n",
    "\n",
    "plt.show()"
   ]
  },
  {
   "attachments": {},
   "cell_type": "markdown",
   "id": "2cdd0389",
   "metadata": {},
   "source": [
    "I looked it up on SDSS/SIMBAD to get more information on this object."
   ]
  },
  {
   "cell_type": "code",
   "execution_count": 6,
   "id": "539b3f4d",
   "metadata": {},
   "outputs": [
    {
     "name": "stdout",
     "output_type": "stream",
     "text": [
      "572 52289 442\n"
     ]
    }
   ],
   "source": [
    "print(s.plate, s.mjd, s.fiber)"
   ]
  },
  {
   "attachments": {},
   "cell_type": "markdown",
   "id": "941e804e",
   "metadata": {},
   "source": [
    "Here's an image of the object from the __[SDSS viewer](https://skyserver.sdss.org/dr18/VisualTools/explore/summary?plate=0572&mjd=52289&fiber=442)__\n",
    "\n",
    "<img src='sdss_viewer.jpg' width=\"400\" height=\"400\">"
   ]
  },
  {
   "attachments": {},
   "cell_type": "markdown",
   "id": "039898e3",
   "metadata": {},
   "source": [
    "Then I wanted to see where in the sky this is."
   ]
  },
  {
   "cell_type": "code",
   "execution_count": 7,
   "id": "19f864f4",
   "metadata": {},
   "outputs": [],
   "source": [
    "ra = s.ra\n",
    "dec = s.dec\n",
    "eq = SkyCoord(ra, dec, frame='galactic', unit=u.deg)\n",
    "gal = eq.galactic\n",
    "\n",
    "plt.style.use('ggplot')\n",
    "\n",
    "fig = plt.figure(figsize=(6,5))\n",
    "plt.subplot(111, projection='aitoff')\n",
    "\n",
    "plt.plot(gal.l.wrap_at(180*u.deg), gal.b.wrap_at(180*u.deg), linestyle='None')\n",
    "plt.scatter(gal.l.wrap_at('180d').radian, gal.b.radian, marker='*', color='navy', s=150)\n",
    "\n",
    "plt.grid(True, alpha=0.5)\n",
    "\n",
    "plt.tick_params(axis='both', which='major', labelsize=5)\n",
    "\n",
    "# plt.savefig('map_qso.pdf')\n",
    "\n",
    "plt.show()"
   ]
  },
  {
   "attachments": {},
   "cell_type": "markdown",
   "id": "c53900bb",
   "metadata": {},
   "source": [
    "It is along the galactic plane. Maybe it will have significant Galactic absorption."
   ]
  },
  {
   "cell_type": "code",
   "execution_count": 8,
   "id": "2567e1cf",
   "metadata": {},
   "outputs": [
    {
     "name": "stdout",
     "output_type": "stream",
     "text": [
      "Redshift = 0.16176972\n"
     ]
    }
   ],
   "source": [
    "print('Redshift =', s.z)"
   ]
  },
  {
   "attachments": {},
   "cell_type": "markdown",
   "id": "cdc484a5",
   "metadata": {},
   "source": [
    "Finally, I checked its redshift, which indicates it is a distant object."
   ]
  },
  {
   "attachments": {},
   "cell_type": "markdown",
   "id": "59ff6c43",
   "metadata": {},
   "source": [
    "## Prepare spectra"
   ]
  },
  {
   "cell_type": "code",
   "execution_count": 9,
   "id": "96164293-9a34-485d-aefd-ebc762d9ea6a",
   "metadata": {},
   "outputs": [],
   "source": [
    "s.DeRedden()  # correct for Galactic extinction\n",
    "s.CorRed()  # correct for cosmological redshift"
   ]
  },
  {
   "attachments": {},
   "cell_type": "markdown",
   "id": "813d0052",
   "metadata": {},
   "source": [
    "I corrected for redshift and extinction and plotted against the unchanged data to see how it changes."
   ]
  },
  {
   "cell_type": "code",
   "execution_count": 10,
   "id": "4be446b3",
   "metadata": {},
   "outputs": [],
   "source": [
    "plt.style.context(['nature', 'notebook'])\n",
    "plt.figure(figsize=(12,5))\n",
    "\n",
    "plt.plot(s_or.wave, s_or.flux, '--', color='steelblue', label='Obs Original', lw=1)\n",
    "plt.plot(s.wave, s.flux, color='navy', label='Obs Corrected', lw=1)\n",
    "\n",
    "plt.legend(loc='upper right', prop={'size': 15}, frameon=False, ncol=1)\n",
    "plt.xlabel(r'Wavelength [Ang]')\n",
    "plt.ylabel(r'Flux [$10^{-7}$ erg / s / cm$^2$ / Ang]')\n",
    "\n",
    "# plt.savefig('spectrum_pre_post_corrections.pdf')\n",
    "\n",
    "plt.show()"
   ]
  },
  {
   "cell_type": "markdown",
   "id": "2683de07",
   "metadata": {},
   "source": [
    "## Host-galaxy subtraction"
   ]
  },
  {
   "cell_type": "code",
   "execution_count": 11,
   "id": "04e71697",
   "metadata": {},
   "outputs": [],
   "source": [
    "# s.restore()\n",
    "s.fit_host_sdss()  # fits for the host galaxy and AGN contibutions separately\n",
    "\n",
    "s.host_no_mask = s.host  # saving the host\n",
    "\n",
    "plt.legend(fontsize=12)\n",
    "plt.xlabel(r'Wavelength [Ang]')\n",
    "plt.ylabel(r'Flux [$10^{-7}$ erg / s / cm$^2$ / Ang]')\n",
    "plt.title('Unmasked Host')\n",
    "\n",
    "# plt.savefig('fit_host_sdss_default.pdf')\n",
    "\n",
    "plt.show()"
   ]
  },
  {
   "attachments": {},
   "cell_type": "markdown",
   "id": "dbcc49cc",
   "metadata": {},
   "source": [
    "Here, the spectrum in red corresponds to the data. The blue and purple spectra are the fits to the host galaxy and the AGN respectively. Their summed spectrum gives the fit to the observations, which is quite good. The contribution of the host galaxy in this case is not negligible."
   ]
  },
  {
   "cell_type": "code",
   "execution_count": 12,
   "id": "82b771c1",
   "metadata": {},
   "outputs": [],
   "source": [
    "s.restore()\n",
    "s.fit_host_sdss(mask_host=True, custom=False)\n",
    "\n",
    "s.host_masked = s.host  # saving the host\n",
    "\n",
    "plt.legend(fontsize=12)\n",
    "plt.xlabel(r'Wavelength [Ang]')\n",
    "plt.ylabel(r'Flux [$10^{-7}$ erg / s / cm$^2$ / Ang]')\n",
    "plt.title('Masked Host')\n",
    "\n",
    "# plt.savefig('fit_host_sdss_masked.pdf')\n",
    "\n",
    "plt.show()"
   ]
  },
  {
   "attachments": {},
   "cell_type": "markdown",
   "id": "980b1c45",
   "metadata": {},
   "source": [
    "I tried the host subtraction again, but now masking the main emission lines from the host galaxy ([O III], [N II], [S II]). The code does this by interpolating between the two edges of the lines instead of going through the line itself. The result was very different (see above). Now, the contribution of the host seems much less significant. The fit overall seems very good, just like the first try."
   ]
  },
  {
   "cell_type": "code",
   "execution_count": 13,
   "id": "9f057aca",
   "metadata": {},
   "outputs": [],
   "source": [
    "plt.style.context(['nature', 'notebook'])\n",
    "plt.figure(figsize=(12,5))\n",
    "\n",
    "plt.plot(s.wave, s.flux, color='navy', label='Obs Corrected', lw=1)\n",
    "\n",
    "plt.legend(loc='upper left', prop={'size': 15}, frameon=False, ncol=1)\n",
    "plt.xlabel(r'Wavelength [Ang]')\n",
    "plt.ylabel(r'Flux [$10^{-7}$ erg / s / cm$^2$ / Ang]')\n",
    "\n",
    "# plt.savefig('spectrum_post_host_sub.pdf')\n",
    "\n",
    "plt.show()"
   ]
  },
  {
   "cell_type": "code",
   "execution_count": 14,
   "id": "1c90cc30",
   "metadata": {},
   "outputs": [],
   "source": [
    "plt.style.context(['nature', 'notebook'])\n",
    "plt.figure(figsize=(12, 5))\n",
    "\n",
    "plt.plot(s.wave, s.flux+s.host, color='navy', label='Obs' , lw=1.5)\n",
    "plt.plot(s.wave, s.host_no_mask, color=\"#F10C45\", label='Host: not masked', lw=1.0)\n",
    "plt.plot(s.wave, s.host, color=\"green\", label='Host: masked', lw=1.0)\n",
    "\n",
    "plt.legend(loc='upper left', prop={'size': 10}, frameon=False)\n",
    "plt.xlabel(r'Wavelength [Ang]')\n",
    "plt.ylabel(r'Flux [$10^{-7}$ erg / s / cm$^2$ / Ang]')\n",
    "\n",
    "# plt.savefig('spectrum_host_masked_vs_not.pdf')\n",
    "\n",
    "plt.show()"
   ]
  },
  {
   "attachments": {},
   "cell_type": "markdown",
   "id": "e7459519",
   "metadata": {},
   "source": [
    "In this plot, it is clear that the difference between both host fits are the lines."
   ]
  },
  {
   "cell_type": "markdown",
   "id": "00fe532f",
   "metadata": {},
   "source": [
    "## Creation of the predefined lists of emission lines"
   ]
  },
  {
   "cell_type": "code",
   "execution_count": 15,
   "id": "67d687c5",
   "metadata": {},
   "outputs": [
    {
     "data": {
      "text/plain": [
       "3450.3032"
      ]
     },
     "execution_count": 15,
     "metadata": {},
     "output_type": "execute_result"
    }
   ],
   "source": [
    "# this is the minimum wavelength found in the spectrum\n",
    "np.min(s.wave)"
   ]
  },
  {
   "cell_type": "code",
   "execution_count": 16,
   "id": "c09d354a",
   "metadata": {},
   "outputs": [
    {
     "name": "stdout",
     "output_type": "stream",
     "text": [
      "Directory  lines/  already exists\n"
     ]
    }
   ],
   "source": [
    "# the information of the lines will be saved in the 'lines' folder\n",
    "create_input_folder(xmin=np.min(s.wave), xmax=np.max(s.wave), path_to_folder='lines/', overwrite=True)"
   ]
  },
  {
   "attachments": {},
   "cell_type": "markdown",
   "id": "69a24837",
   "metadata": {},
   "source": [
    "In this folder, there's a file for each of these lines, commonly found in AGN spectra: Balmer series [FeII], He, narrow lines, broad lines, [OIII], and others such as a broad and narrow line model."
   ]
  },
  {
   "cell_type": "code",
   "execution_count": 17,
   "id": "23f31a42",
   "metadata": {},
   "outputs": [],
   "source": [
    "# cropping to a certain wavelength range\n",
    "\n",
    "# I won't crop it initially\n",
    "# s.crop(np.min(s.wave), np.max(s.wave))\n",
    "\n",
    "# I'm cropping it for the 2nd attempt on\n",
    "s.crop(3575, np.max(s.wave))"
   ]
  },
  {
   "attachments": {},
   "cell_type": "markdown",
   "id": "0fa7e891",
   "metadata": {},
   "source": [
    "### Wavelengths of the lines"
   ]
  },
  {
   "cell_type": "code",
   "execution_count": 18,
   "id": "2b8f8d82",
   "metadata": {},
   "outputs": [],
   "source": [
    "H_lines = pd.read_csv('lines/hydrogen.csv')\n",
    "O_N_lines = pd.read_csv('lines/oiii_nii.csv')\n",
    "narrow_lines = pd.read_csv('lines/narrow_basic.csv')\n",
    "narrowP = pd.read_csv('lines/narrow_plus.csv')"
   ]
  },
  {
   "cell_type": "code",
   "execution_count": 19,
   "id": "e6ae4d59",
   "metadata": {},
   "outputs": [],
   "source": [
    "H_alpha = np.float64(H_lines.loc[H_lines['line']=='Ha']['position'])\n",
    "H_beta = np.float64(H_lines.loc[H_lines['line']=='Hb']['position'])\n",
    "\n",
    "OIII_1 = np.float64(O_N_lines.loc[O_N_lines['line']=='[OIII]']['position'][0])\n",
    "OIII_2 = np.float64(O_N_lines.loc[O_N_lines['line']=='[OIII]']['position'][1])\n",
    "OIII_narrow = np.float64(narrow_lines.loc[narrow_lines['line']=='[OIII]']['position'])\n",
    "\n",
    "NII_1 = np.float64(O_N_lines.loc[O_N_lines['line']=='[NII]']['position'][2])\n",
    "NII_2 = np.float64(O_N_lines.loc[O_N_lines['line']=='[NII]']['position'][3])\n",
    "\n",
    "SII_narrow_1 = np.float64(narrow_lines.loc[narrow_lines['line']=='[SII]']['position'][6])\n",
    "SII_narrow_2 = np.float64(narrow_lines.loc[narrow_lines['line']=='[SII]']['position'][7])\n",
    "SII_narrowP_1 = np.float64(narrowP.loc[narrowP['line']=='[SII]1F']['position'][7])\n",
    "SII_narrowP_2 = np.float64(narrowP.loc[narrowP['line']=='[SII]1F']['position'][8])"
   ]
  },
  {
   "cell_type": "markdown",
   "id": "b511cd9c",
   "metadata": {},
   "source": [
    "## Defining the fitting model"
   ]
  },
  {
   "cell_type": "code",
   "execution_count": 20,
   "id": "85f304c7",
   "metadata": {},
   "outputs": [],
   "source": [
    "# continumm\n",
    "cont_1 = continuum(s, min_refer=5690, refer=5700, max_refer=5710)\n",
    "\n",
    "cont_2 = continuum(s, \n",
    "                   # min_refer=4040, refer=4050, max_refer=4060, \n",
    "                   min_refer=4190, refer=4200, max_refer=4210, # best\n",
    "                   # index1=-1.0, \n",
    "                   # index2=-1.5, min_index2=-2.5, max_index2=-0.5)\n",
    "                   # index2=-2, min_index2=-3, max_index2=-1)\n",
    "                   index2=-2.5, min_index2=-3.5, max_index2=-1.5)  # best\n",
    "                   # index2=-3, min_index2=-4, max_index2=-2)\n",
    "\n",
    "# default parameters:\n",
    "# refer=5500, min_refer=5400, max_refer=7000\n",
    "# index1=-1.7, min_index1=-3, max_index1=0\n",
    "# index2=0, min_index2=-1, max_index2=1\n",
    "\n",
    "# index1: sets the power law of the continuum\n",
    "# index2: makes the continuum flat => I modified it"
   ]
  },
  {
   "cell_type": "code",
   "execution_count": 21,
   "id": "5fe5c66b",
   "metadata": {},
   "outputs": [],
   "source": [
    "# broad line component\n",
    "broad_1 = create_fixed_model(['hydrogen.csv'], name='Broad')"
   ]
  },
  {
   "cell_type": "code",
   "execution_count": 22,
   "id": "bfa9744a",
   "metadata": {},
   "outputs": [],
   "source": [
    "# narrow line component\n",
    "narrow_1 = create_tied_model(name='OIII5007', \n",
    "                           files=['narrow_basic.csv', 'hydrogen.csv'], \n",
    "                           prefix='nr', \n",
    "                           fwhm=1000, \n",
    "                           min_offset=0, \n",
    "                           max_offset=300, \n",
    "                           min_fwhm=900, \n",
    "                           max_fwhm=1200, \n",
    "                           fix_oiii_ratio=True, \n",
    "                           position=5006.803341, \n",
    "                           included=True, \n",
    "                           min_amplitude=0.2)"
   ]
  },
  {
   "cell_type": "code",
   "execution_count": 23,
   "id": "7039aa8a",
   "metadata": {},
   "outputs": [],
   "source": [
    "# helium\n",
    "he_1 = create_fixed_model(['helium.csv'], name='He', fwhm=3000, min_fwhm=1000, max_fwhm=5000)\n",
    "\n",
    "# He.amp_HeI_4144 is at its minimum boundary 0.0\n",
    "# He.amp_HeI_4471 is at its minimum boundary 0.0\n",
    "# He.fwhm is at its maximum boundary 5000.0"
   ]
  },
  {
   "cell_type": "code",
   "execution_count": 24,
   "id": "1a080276",
   "metadata": {
    "scrolled": false
   },
   "outputs": [],
   "source": [
    "# iron\n",
    "fe_1 = create_feii_model(name='feii', \n",
    "                         fwhm=1800, \n",
    "                         min_fwhm=1000, \n",
    "                         max_fwhm=2000, \n",
    "                         offset=0,\n",
    "                         min_offset=-3000, \n",
    "                         max_offset=3000)\n",
    "\n",
    "fe_2 = create_feii_model(name='feii', \n",
    "                         fwhm=4000,  # best\n",
    "                         # fwhm=1800, \n",
    "                         # fwhm=2200, \n",
    "                         min_fwhm=1000, \n",
    "                         max_fwhm=8000, \n",
    "                         offset=0,  # best\n",
    "                         # offset=20,\n",
    "                         min_offset=-3000, \n",
    "                         max_offset=3000)"
   ]
  },
  {
   "cell_type": "code",
   "execution_count": 25,
   "id": "39b93cf6-3363-4243-a755-98d179be0fae",
   "metadata": {},
   "outputs": [],
   "source": [
    "# Code fits simultaneously all features.\n",
    "model_1st = cont_1 + broad_1 + narrow_1 + fe_1 + he_1\n",
    "model_2nd = cont_2 + broad_1 + narrow_1 + fe_1 + he_1\n",
    "model_3rd = cont_2 + broad_1 + narrow_1 + fe_2 + he_1"
   ]
  },
  {
   "attachments": {},
   "cell_type": "markdown",
   "id": "1cc7502f",
   "metadata": {},
   "source": [
    "So, I am trying different attempts:\n",
    "1. No modifications\n",
    "2. Fixing the continuum\n",
    "3. Fixing the iron lines"
   ]
  },
  {
   "attachments": {},
   "cell_type": "markdown",
   "id": "e23be022",
   "metadata": {},
   "source": [
    "## Fitting"
   ]
  },
  {
   "cell_type": "code",
   "execution_count": 26,
   "id": "f48d2be4-2bc0-4b7d-8467-5ea7f6ab541c",
   "metadata": {},
   "outputs": [
    {
     "name": "stdout",
     "output_type": "stream",
     "text": [
      "stati 217854.71219723186\n",
      "1 iter stat:  11.320828548572536\n",
      "2 iter stat:  3.8425007299410936\n",
      "3 iter stat:  1.680778738716981\n"
     ]
    }
   ],
   "source": [
    "# 1st attempt\n",
    "# s.fit(model_1st, ntrial=2)\n",
    "\n",
    "# 2nd attempt: fixing continuum\n",
    "# s.fit(model_2nd, ntrial=3)\n",
    "\n",
    "# 3rd attempt: fixing lines\n",
    "s.fit(model_3rd, ntrial=3)"
   ]
  },
  {
   "cell_type": "code",
   "execution_count": 27,
   "id": "a70a9db3",
   "metadata": {},
   "outputs": [
    {
     "name": "stdout",
     "output_type": "stream",
     "text": [
      "True\n"
     ]
    }
   ],
   "source": [
    "# it converged\n",
    "print(s.gres.succeeded)"
   ]
  },
  {
   "cell_type": "code",
   "execution_count": 28,
   "id": "e53dd472",
   "metadata": {},
   "outputs": [],
   "source": [
    "# saving info on each fit attempt\n",
    "attempts = {'chi2 1st': 124.23362044251917, 'iters 1st': 2, \n",
    "            'chi2 2nd': 3.6474814654284273, 'iters 2nd': 3, \n",
    "            'chi2 3rd': 1.680778738716981, 'iters 3rd': 3,\n",
    "            }"
   ]
  },
  {
   "attachments": {},
   "cell_type": "markdown",
   "id": "b33f53ed",
   "metadata": {},
   "source": [
    "##  Inspecting & saving the plotting results\n",
    "\n",
    "__[`sherpa`](https://sherpa.readthedocs.io/en/4.15.0/)__ saves the model's output into `gres`"
   ]
  },
  {
   "cell_type": "code",
   "execution_count": 29,
   "id": "9b81cd57",
   "metadata": {},
   "outputs": [
    {
     "data": {
      "text/html": [
       "<div>\n",
       "<style scoped>\n",
       "    .dataframe tbody tr th:only-of-type {\n",
       "        vertical-align: middle;\n",
       "    }\n",
       "\n",
       "    .dataframe tbody tr th {\n",
       "        vertical-align: top;\n",
       "    }\n",
       "\n",
       "    .dataframe thead th {\n",
       "        text-align: right;\n",
       "    }\n",
       "</style>\n",
       "<table border=\"1\" class=\"dataframe\">\n",
       "  <thead>\n",
       "    <tr style=\"text-align: right;\">\n",
       "      <th></th>\n",
       "      <th>parnames</th>\n",
       "      <th>parvalues</th>\n",
       "    </tr>\n",
       "  </thead>\n",
       "  <tbody>\n",
       "    <tr>\n",
       "      <th>0</th>\n",
       "      <td>brokenpowerlaw.refer</td>\n",
       "      <td>4190.0</td>\n",
       "    </tr>\n",
       "    <tr>\n",
       "      <th>1</th>\n",
       "      <td>brokenpowerlaw.ampl</td>\n",
       "      <td>66.18675958054816</td>\n",
       "    </tr>\n",
       "    <tr>\n",
       "      <th>2</th>\n",
       "      <td>brokenpowerlaw.index1</td>\n",
       "      <td>-2.057828498535581</td>\n",
       "    </tr>\n",
       "    <tr>\n",
       "      <th>3</th>\n",
       "      <td>brokenpowerlaw.index2</td>\n",
       "      <td>-3.3775181230255793</td>\n",
       "    </tr>\n",
       "    <tr>\n",
       "      <th>4</th>\n",
       "      <td>Broad.amp_Heps_3970</td>\n",
       "      <td>0.0</td>\n",
       "    </tr>\n",
       "    <tr>\n",
       "      <th>5</th>\n",
       "      <td>Broad.amp_Hd_4102</td>\n",
       "      <td>12.732502498874283</td>\n",
       "    </tr>\n",
       "    <tr>\n",
       "      <th>6</th>\n",
       "      <td>Broad.amp_Hg_4340</td>\n",
       "      <td>31.07817992852238</td>\n",
       "    </tr>\n",
       "    <tr>\n",
       "      <th>7</th>\n",
       "      <td>Broad.amp_Hb_4861</td>\n",
       "      <td>61.387900230920486</td>\n",
       "    </tr>\n",
       "    <tr>\n",
       "      <th>8</th>\n",
       "      <td>Broad.amp_Ha_6563</td>\n",
       "      <td>104.59213829824655</td>\n",
       "    </tr>\n",
       "    <tr>\n",
       "      <th>9</th>\n",
       "      <td>Broad.offs_kms</td>\n",
       "      <td>178.9540263118911</td>\n",
       "    </tr>\n",
       "    <tr>\n",
       "      <th>10</th>\n",
       "      <td>Broad.fwhm</td>\n",
       "      <td>4880.100666922538</td>\n",
       "    </tr>\n",
       "    <tr>\n",
       "      <th>11</th>\n",
       "      <td>nr_OIII5007.ampl</td>\n",
       "      <td>41.692030386044806</td>\n",
       "    </tr>\n",
       "    <tr>\n",
       "      <th>12</th>\n",
       "      <td>nr_OIII5007.offs_kms</td>\n",
       "      <td>15.352009545262188</td>\n",
       "    </tr>\n",
       "    <tr>\n",
       "      <th>13</th>\n",
       "      <td>nr_OIII5007.fwhm</td>\n",
       "      <td>1200.0</td>\n",
       "    </tr>\n",
       "    <tr>\n",
       "      <th>14</th>\n",
       "      <td>nr_NII6584.ampl</td>\n",
       "      <td>64.26043991707984</td>\n",
       "    </tr>\n",
       "    <tr>\n",
       "      <th>15</th>\n",
       "      <td>nr_[OII]_3726.ampl</td>\n",
       "      <td>0.0</td>\n",
       "    </tr>\n",
       "    <tr>\n",
       "      <th>16</th>\n",
       "      <td>nr_[OII]_3728.ampl</td>\n",
       "      <td>12.745914976420446</td>\n",
       "    </tr>\n",
       "    <tr>\n",
       "      <th>17</th>\n",
       "      <td>nr_[NeIII]_3868.ampl</td>\n",
       "      <td>15.235941296291497</td>\n",
       "    </tr>\n",
       "    <tr>\n",
       "      <th>18</th>\n",
       "      <td>nr_[OIII]_4363.ampl</td>\n",
       "      <td>6.691985873408664</td>\n",
       "    </tr>\n",
       "    <tr>\n",
       "      <th>19</th>\n",
       "      <td>nr_[OI]_6300.ampl</td>\n",
       "      <td>0.0</td>\n",
       "    </tr>\n",
       "    <tr>\n",
       "      <th>20</th>\n",
       "      <td>nr_[OI]_6363.ampl</td>\n",
       "      <td>0.0</td>\n",
       "    </tr>\n",
       "    <tr>\n",
       "      <th>21</th>\n",
       "      <td>nr_[SII]_6716.ampl</td>\n",
       "      <td>7.07618773480307</td>\n",
       "    </tr>\n",
       "    <tr>\n",
       "      <th>22</th>\n",
       "      <td>nr_[SII]_6730.ampl</td>\n",
       "      <td>2.9370294525024705</td>\n",
       "    </tr>\n",
       "    <tr>\n",
       "      <th>23</th>\n",
       "      <td>nr_Heps_3970.ampl</td>\n",
       "      <td>15.417815091545254</td>\n",
       "    </tr>\n",
       "    <tr>\n",
       "      <th>24</th>\n",
       "      <td>nr_Hd_4101.ampl</td>\n",
       "      <td>8.673117320452903</td>\n",
       "    </tr>\n",
       "    <tr>\n",
       "      <th>25</th>\n",
       "      <td>nr_Hg_4340.ampl</td>\n",
       "      <td>12.188297964361618</td>\n",
       "    </tr>\n",
       "    <tr>\n",
       "      <th>26</th>\n",
       "      <td>nr_Hb_4861.ampl</td>\n",
       "      <td>39.733302512904096</td>\n",
       "    </tr>\n",
       "    <tr>\n",
       "      <th>27</th>\n",
       "      <td>nr_Ha_6562.ampl</td>\n",
       "      <td>151.77511533113824</td>\n",
       "    </tr>\n",
       "    <tr>\n",
       "      <th>28</th>\n",
       "      <td>feii.amp_a2D2</td>\n",
       "      <td>0.06149846475188742</td>\n",
       "    </tr>\n",
       "    <tr>\n",
       "      <th>29</th>\n",
       "      <td>feii.amp_a4G</td>\n",
       "      <td>0.48624592296982994</td>\n",
       "    </tr>\n",
       "    <tr>\n",
       "      <th>30</th>\n",
       "      <td>feii.amp_a4H</td>\n",
       "      <td>0.87334746751271</td>\n",
       "    </tr>\n",
       "    <tr>\n",
       "      <th>31</th>\n",
       "      <td>feii.amp_a6S</td>\n",
       "      <td>3.8036540427731413</td>\n",
       "    </tr>\n",
       "    <tr>\n",
       "      <th>32</th>\n",
       "      <td>feii.amp_b2H</td>\n",
       "      <td>0.0</td>\n",
       "    </tr>\n",
       "    <tr>\n",
       "      <th>33</th>\n",
       "      <td>feii.amp_b4D</td>\n",
       "      <td>0.09266743099328444</td>\n",
       "    </tr>\n",
       "    <tr>\n",
       "      <th>34</th>\n",
       "      <td>feii.amp_b4F</td>\n",
       "      <td>2.6506756099128164</td>\n",
       "    </tr>\n",
       "    <tr>\n",
       "      <th>35</th>\n",
       "      <td>feii.amp_b4P</td>\n",
       "      <td>4.1964866899736375</td>\n",
       "    </tr>\n",
       "    <tr>\n",
       "      <th>36</th>\n",
       "      <td>feii.amp_z4D</td>\n",
       "      <td>5.205133283033646</td>\n",
       "    </tr>\n",
       "    <tr>\n",
       "      <th>37</th>\n",
       "      <td>feii.amp_z4F</td>\n",
       "      <td>11.961639145528553</td>\n",
       "    </tr>\n",
       "    <tr>\n",
       "      <th>38</th>\n",
       "      <td>feii.amp_y4G</td>\n",
       "      <td>0.0</td>\n",
       "    </tr>\n",
       "    <tr>\n",
       "      <th>39</th>\n",
       "      <td>feii.amp_b4G</td>\n",
       "      <td>0.0</td>\n",
       "    </tr>\n",
       "    <tr>\n",
       "      <th>40</th>\n",
       "      <td>feii.amp_x4D</td>\n",
       "      <td>1.5280037449640802</td>\n",
       "    </tr>\n",
       "    <tr>\n",
       "      <th>41</th>\n",
       "      <td>feii.amp_y4P</td>\n",
       "      <td>2.0444630898381804</td>\n",
       "    </tr>\n",
       "    <tr>\n",
       "      <th>42</th>\n",
       "      <td>feii.offs_kms</td>\n",
       "      <td>1518.0608277069284</td>\n",
       "    </tr>\n",
       "    <tr>\n",
       "      <th>43</th>\n",
       "      <td>feii.fwhm</td>\n",
       "      <td>3903.6933840136658</td>\n",
       "    </tr>\n",
       "    <tr>\n",
       "      <th>44</th>\n",
       "      <td>He.amp_HeI_4144</td>\n",
       "      <td>1.7452166993277292</td>\n",
       "    </tr>\n",
       "    <tr>\n",
       "      <th>45</th>\n",
       "      <td>He.amp_HeI_4471</td>\n",
       "      <td>3.2449402168953636</td>\n",
       "    </tr>\n",
       "    <tr>\n",
       "      <th>46</th>\n",
       "      <td>He.amp_HeII_4686</td>\n",
       "      <td>13.18885898193239</td>\n",
       "    </tr>\n",
       "    <tr>\n",
       "      <th>47</th>\n",
       "      <td>He.amp_HeI_5877</td>\n",
       "      <td>9.318592536138294</td>\n",
       "    </tr>\n",
       "    <tr>\n",
       "      <th>48</th>\n",
       "      <td>He.amp_HeI_7065</td>\n",
       "      <td>3.0140337450290504</td>\n",
       "    </tr>\n",
       "    <tr>\n",
       "      <th>49</th>\n",
       "      <td>He.offs_kms</td>\n",
       "      <td>484.44917933796285</td>\n",
       "    </tr>\n",
       "    <tr>\n",
       "      <th>50</th>\n",
       "      <td>He.fwhm</td>\n",
       "      <td>5000.0</td>\n",
       "    </tr>\n",
       "  </tbody>\n",
       "</table>\n",
       "</div>"
      ],
      "text/plain": [
       "                 parnames            parvalues\n",
       "0    brokenpowerlaw.refer               4190.0\n",
       "1     brokenpowerlaw.ampl    66.18675958054816\n",
       "2   brokenpowerlaw.index1   -2.057828498535581\n",
       "3   brokenpowerlaw.index2  -3.3775181230255793\n",
       "4     Broad.amp_Heps_3970                  0.0\n",
       "5       Broad.amp_Hd_4102   12.732502498874283\n",
       "6       Broad.amp_Hg_4340    31.07817992852238\n",
       "7       Broad.amp_Hb_4861   61.387900230920486\n",
       "8       Broad.amp_Ha_6563   104.59213829824655\n",
       "9          Broad.offs_kms    178.9540263118911\n",
       "10             Broad.fwhm    4880.100666922538\n",
       "11       nr_OIII5007.ampl   41.692030386044806\n",
       "12   nr_OIII5007.offs_kms   15.352009545262188\n",
       "13       nr_OIII5007.fwhm               1200.0\n",
       "14        nr_NII6584.ampl    64.26043991707984\n",
       "15     nr_[OII]_3726.ampl                  0.0\n",
       "16     nr_[OII]_3728.ampl   12.745914976420446\n",
       "17   nr_[NeIII]_3868.ampl   15.235941296291497\n",
       "18    nr_[OIII]_4363.ampl    6.691985873408664\n",
       "19      nr_[OI]_6300.ampl                  0.0\n",
       "20      nr_[OI]_6363.ampl                  0.0\n",
       "21     nr_[SII]_6716.ampl     7.07618773480307\n",
       "22     nr_[SII]_6730.ampl   2.9370294525024705\n",
       "23      nr_Heps_3970.ampl   15.417815091545254\n",
       "24        nr_Hd_4101.ampl    8.673117320452903\n",
       "25        nr_Hg_4340.ampl   12.188297964361618\n",
       "26        nr_Hb_4861.ampl   39.733302512904096\n",
       "27        nr_Ha_6562.ampl   151.77511533113824\n",
       "28          feii.amp_a2D2  0.06149846475188742\n",
       "29           feii.amp_a4G  0.48624592296982994\n",
       "30           feii.amp_a4H     0.87334746751271\n",
       "31           feii.amp_a6S   3.8036540427731413\n",
       "32           feii.amp_b2H                  0.0\n",
       "33           feii.amp_b4D  0.09266743099328444\n",
       "34           feii.amp_b4F   2.6506756099128164\n",
       "35           feii.amp_b4P   4.1964866899736375\n",
       "36           feii.amp_z4D    5.205133283033646\n",
       "37           feii.amp_z4F   11.961639145528553\n",
       "38           feii.amp_y4G                  0.0\n",
       "39           feii.amp_b4G                  0.0\n",
       "40           feii.amp_x4D   1.5280037449640802\n",
       "41           feii.amp_y4P   2.0444630898381804\n",
       "42          feii.offs_kms   1518.0608277069284\n",
       "43              feii.fwhm   3903.6933840136658\n",
       "44        He.amp_HeI_4144   1.7452166993277292\n",
       "45        He.amp_HeI_4471   3.2449402168953636\n",
       "46       He.amp_HeII_4686    13.18885898193239\n",
       "47        He.amp_HeI_5877    9.318592536138294\n",
       "48        He.amp_HeI_7065   3.0140337450290504\n",
       "49            He.offs_kms   484.44917933796285\n",
       "50                He.fwhm               5000.0"
      ]
     },
     "execution_count": 29,
     "metadata": {},
     "output_type": "execute_result"
    }
   ],
   "source": [
    "arr = np.stack([np.asarray(s.gres.parnames), np.asarray(s.gres.parvals)], axis=-1)\n",
    "columns = ['parnames', 'parvalues']\n",
    "\n",
    "fit_result = pd.DataFrame(arr, columns=columns)\n",
    "fit_result"
   ]
  },
  {
   "cell_type": "code",
   "execution_count": 30,
   "id": "717d33a3",
   "metadata": {},
   "outputs": [
    {
     "data": {
      "text/html": [
       "<style>/*\n",
       "Copyright (C) 2020  Smithsonian Astrophysical Observatory\n",
       "\n",
       "\n",
       " This program is free software; you can redistribute it and/or modify\n",
       " it under the terms of the GNU General Public License as published by\n",
       " the Free Software Foundation; either version 3 of the License, or\n",
       " (at your option) any later version.\n",
       "\n",
       " This program is distributed in the hope that it will be useful,\n",
       " but WITHOUT ANY WARRANTY; without even the implied warranty of\n",
       " MERCHANTABILITY or FITNESS FOR A PARTICULAR PURPOSE.  See the\n",
       " GNU General Public License for more details.\n",
       "\n",
       " You should have received a copy of the GNU General Public License along\n",
       " with this program; if not, write to the Free Software Foundation, Inc.,\n",
       " 51 Franklin Street, Fifth Floor, Boston, MA 02110-1301 USA.\n",
       "\n",
       "*/\n",
       "\n",
       ":root {\n",
       "  --sherpa-border-color: var(--jp-border-color2, #e0e0e0);\n",
       "  --sherpa-background-color: var(--jp-layout-color0, white);\n",
       "  --sherpa-background-color-row-even: var(--jp-layout-color1, white);\n",
       "  --sherpa-background-color-row-odd: var(--jp-layout-color2, #eeeeee);\n",
       "\n",
       "  /* https://medium.com/ge-design/iot-cool-gray-is-a-great-background-color-for-data-visualization-ebf18c318418 */\n",
       "  --sherpa-background-color-dark1: #EBEFF2;\n",
       "  --sherpa-background-color-dark2: #D8E0E5;\n",
       "}\n",
       "\n",
       "div.sherpa-text-fallback {\n",
       "    display: none;\n",
       "}\n",
       "\n",
       "div.sherpa {\n",
       "    display: block;\n",
       "}\n",
       "\n",
       "div.sherpa details summary {\n",
       "    display: list-item;  /* needed for notebook, not lab */\n",
       "    font-size: larger;\n",
       "}\n",
       "\n",
       "div.sherpa details div.datavals {\n",
       "    display: grid;\n",
       "    grid-template-columns: 1fr 3fr;\n",
       "    column-gap: 0.5em;\n",
       "}\n",
       "\n",
       "div.sherpa div.dataname {\n",
       "    font-weight: bold;\n",
       "    border-right: 1px solid var(--sherpa-border-color);\n",
       "}\n",
       "\n",
       "div.sherpa div.dataval { }\n",
       "\n",
       "div.sherpa div.datavals div:nth-child(4n + 1) ,\n",
       "div.sherpa div.datavals div:nth-child(4n + 2) {\n",
       "    background: var(--sherpa-background-color-row-odd);\n",
       "}\n",
       "\n",
       "div.sherpa table.model tbody {\n",
       "    border-bottom: 1px solid var(--sherpa-border-color);\n",
       "}\n",
       "\n",
       "div.sherpa table.model tr.block {\n",
       "    border-top: 1px solid var(--sherpa-border-color);\n",
       "}\n",
       "\n",
       "div.sherpa table.model th.model-odd ,\n",
       "div.sherpa table.model th.model-even {\n",
       "    border-right: 1px solid var(--sherpa-border-color);\n",
       "}\n",
       "\n",
       "div.sherpa table.model th.model-odd {\n",
       "    background: var(--sherpa-background-color-dark1);\n",
       "}\n",
       "\n",
       "div.sherpa table.model th.model-even {\n",
       "    background: var(--sherpa-background-color-dark2);\n",
       "}\n",
       "\n",
       "div.sherpa .failed {\n",
       "    background: orange;\n",
       "    font-size: large;\n",
       "    padding: 1em;\n",
       "}\n",
       "</style><div class=\"sherpa-text-fallback\">&lt;BinaryOpModel model instance &#x27;((((brokenpowerlaw + Broad) + ((((((((((((((((nr_OIII5007 + nr_OIII4958) + nr_NII6584) + nr_NIII6548) + nr_[OII]_3726) + nr_[OII]_3728) + nr_[NeIII]_3868) + nr_[OIII]_4363) + nr_[OI]_6300) + nr_[OI]_6363) + nr_[SII]_6716) + nr_[SII]_6730) + nr_Heps_3970) + nr_Hd_4101) + nr_Hg_4340) + nr_Hb_4861) + nr_Ha_6562)) + feii) + He)&#x27;&gt;</div><div hidden class=\"sherpa\"><details open><summary>Model</summary><table class=\"model\"><caption>Expression: (((brokenpowerlaw + Broad) + ((((((((((((((((nr_OIII5007 + nr_OIII4958) + nr_NII6584) + nr_NIII6548) + nr_[OII]_3726) + nr_[OII]_3728) + nr_[NeIII]_3868) + nr_[OIII]_4363) + nr_[OI]_6300) + nr_[OI]_6363) + nr_[SII]_6716) + nr_[SII]_6730) + nr_Heps_3970) + nr_Hd_4101) + nr_Hg_4340) + nr_Hb_4861) + nr_Ha_6562)) + feii) + He</caption><thead><tr><th>Component</th><th>Parameter</th><th>Thawed</th><th>Value</th><th>Min</th><th>Max</th><th>Units</th></tr></thead><tbody><tr><th class=\"model-odd\" scope=\"rowgroup\" rowspan=4>brokenpowerlaw</th><td>refer</td><td><input disabled type=\"checkbox\" checked></input></td><td>4190.0</td><td>4190.0</td><td>4210.0</td><td>angstroms</td></tr><tr><td>ampl</td><td><input disabled type=\"checkbox\" checked></input></td><td>66.18675958054816</td><td>63.914686950129436</td><td>70.6425487343536</td><td>angstroms</td></tr><tr><td>index1</td><td><input disabled type=\"checkbox\" checked></input></td><td>-2.057828498535581</td><td>-3.0</td><td>0.0</td><td></td></tr><tr><td>index2</td><td><input disabled type=\"checkbox\" checked></input></td><td>-3.3775181230255793</td><td>-3.5</td><td>-1.5</td><td></td></tr><tr class=\"block\"><th class=\"model-even\" scope=\"rowgroup\" rowspan=7>Broad</th><td>amp_Heps_3970</td><td><input disabled type=\"checkbox\" checked></input></td><td>0.0</td><td>0.0</td><td>600.0</td><td></td></tr><tr><td>amp_Hd_4102</td><td><input disabled type=\"checkbox\" checked></input></td><td>12.732502498874283</td><td>0.0</td><td>600.0</td><td></td></tr><tr><td>amp_Hg_4340</td><td><input disabled type=\"checkbox\" checked></input></td><td>31.07817992852238</td><td>0.0</td><td>600.0</td><td></td></tr><tr><td>amp_Hb_4861</td><td><input disabled type=\"checkbox\" checked></input></td><td>61.387900230920486</td><td>0.0</td><td>600.0</td><td></td></tr><tr><td>amp_Ha_6563</td><td><input disabled type=\"checkbox\" checked></input></td><td>104.59213829824655</td><td>0.0</td><td>600.0</td><td></td></tr><tr><td>offs_kms</td><td><input disabled type=\"checkbox\" checked></input></td><td>178.9540263118911</td><td>-3000.0</td><td>3000.0</td><td>km/s</td></tr><tr><td>fwhm</td><td><input disabled type=\"checkbox\" checked></input></td><td>4880.100666922538</td><td>100.0</td><td>7000.0</td><td>km/s</td></tr><tr class=\"block\"><th class=\"model-odd\" scope=\"rowgroup\" rowspan=4>nr_OIII5007</th><td>ampl</td><td><input disabled type=\"checkbox\" checked></input></td><td>41.692030386044806</td><td>0.2</td><td>1000.0</td><td></td></tr><tr><td>pos</td><td><input disabled type=\"checkbox\"></input></td><td>5006.803341</td><td>0.0</td><td>MAX</td><td>angstroms</td></tr><tr><td>offs_kms</td><td><input disabled type=\"checkbox\" checked></input></td><td>15.352009545262188</td><td>0.0</td><td>300.0</td><td>km/s</td></tr><tr><td>fwhm</td><td><input disabled type=\"checkbox\" checked></input></td><td>1200.0</td><td>900.0</td><td>1200.0</td><td>km/s</td></tr><tr class=\"block\"><th class=\"model-even\" scope=\"rowgroup\" rowspan=4>nr_OIII4958</th><td>ampl</td><td>linked</td><td>13.897343462014936</td><td colspan=2>&#8656; nr_OIII5007.ampl / 3.0</td><td></td></tr><tr><td>pos</td><td><input disabled type=\"checkbox\"></input></td><td>4958.896072</td><td>0.0</td><td>MAX</td><td>angstroms</td></tr><tr><td>offs_kms</td><td>linked</td><td>15.352009545262188</td><td colspan=2>&#8656; nr_OIII5007.offs_kms</td><td>km/s</td></tr><tr><td>fwhm</td><td>linked</td><td>1200.0</td><td colspan=2>&#8656; nr_OIII5007.fwhm</td><td>km/s</td></tr><tr class=\"block\"><th class=\"model-odd\" scope=\"rowgroup\" rowspan=4>nr_NII6584</th><td>ampl</td><td><input disabled type=\"checkbox\" checked></input></td><td>64.26043991707984</td><td>0.0</td><td>500.0</td><td></td></tr><tr><td>pos</td><td><input disabled type=\"checkbox\"></input></td><td>6583.46</td><td>0.0</td><td>MAX</td><td>angstroms</td></tr><tr><td>offs_kms</td><td>linked</td><td>15.352009545262188</td><td colspan=2>&#8656; nr_OIII5007.offs_kms</td><td>km/s</td></tr><tr><td>fwhm</td><td>linked</td><td>1200.0</td><td colspan=2>&#8656; nr_OIII5007.fwhm</td><td>km/s</td></tr><tr class=\"block\"><th class=\"model-even\" scope=\"rowgroup\" rowspan=4>nr_NIII6548</th><td>ampl</td><td>linked</td><td>21.420146639026612</td><td colspan=2>&#8656; nr_NII6584.ampl / 3.0</td><td></td></tr><tr><td>pos</td><td><input disabled type=\"checkbox\"></input></td><td>6548.05</td><td>0.0</td><td>MAX</td><td>angstroms</td></tr><tr><td>offs_kms</td><td>linked</td><td>15.352009545262188</td><td colspan=2>&#8656; nr_OIII5007.offs_kms</td><td>km/s</td></tr><tr><td>fwhm</td><td>linked</td><td>1200.0</td><td colspan=2>&#8656; nr_OIII5007.fwhm</td><td>km/s</td></tr><tr class=\"block\"><th class=\"model-odd\" scope=\"rowgroup\" rowspan=4>nr_[OII]_3726</th><td>ampl</td><td><input disabled type=\"checkbox\" checked></input></td><td>0.0</td><td>0.0</td><td>500.0</td><td></td></tr><tr><td>pos</td><td><input disabled type=\"checkbox\"></input></td><td>3726.032</td><td>0.0</td><td>MAX</td><td>angstroms</td></tr><tr><td>offs_kms</td><td>linked</td><td>15.352009545262188</td><td colspan=2>&#8656; nr_OIII5007.offs_kms</td><td>km/s</td></tr><tr><td>fwhm</td><td>linked</td><td>1200.0</td><td colspan=2>&#8656; nr_OIII5007.fwhm</td><td>km/s</td></tr><tr class=\"block\"><th class=\"model-even\" scope=\"rowgroup\" rowspan=4>nr_[OII]_3728</th><td>ampl</td><td><input disabled type=\"checkbox\" checked></input></td><td>12.745914976420446</td><td>0.0</td><td>500.0</td><td></td></tr><tr><td>pos</td><td><input disabled type=\"checkbox\"></input></td><td>3728.815</td><td>0.0</td><td>MAX</td><td>angstroms</td></tr><tr><td>offs_kms</td><td>linked</td><td>15.352009545262188</td><td colspan=2>&#8656; nr_OIII5007.offs_kms</td><td>km/s</td></tr><tr><td>fwhm</td><td>linked</td><td>1200.0</td><td colspan=2>&#8656; nr_OIII5007.fwhm</td><td>km/s</td></tr><tr class=\"block\"><th class=\"model-odd\" scope=\"rowgroup\" rowspan=4>nr_[NeIII]_3868</th><td>ampl</td><td><input disabled type=\"checkbox\" checked></input></td><td>15.235941296291497</td><td>0.0</td><td>500.0</td><td></td></tr><tr><td>pos</td><td><input disabled type=\"checkbox\"></input></td><td>3868.76</td><td>0.0</td><td>MAX</td><td>angstroms</td></tr><tr><td>offs_kms</td><td>linked</td><td>15.352009545262188</td><td colspan=2>&#8656; nr_OIII5007.offs_kms</td><td>km/s</td></tr><tr><td>fwhm</td><td>linked</td><td>1200.0</td><td colspan=2>&#8656; nr_OIII5007.fwhm</td><td>km/s</td></tr><tr class=\"block\"><th class=\"model-even\" scope=\"rowgroup\" rowspan=4>nr_[OIII]_4363</th><td>ampl</td><td><input disabled type=\"checkbox\" checked></input></td><td>6.691985873408664</td><td>0.0</td><td>500.0</td><td></td></tr><tr><td>pos</td><td><input disabled type=\"checkbox\"></input></td><td>4363.213686</td><td>0.0</td><td>MAX</td><td>angstroms</td></tr><tr><td>offs_kms</td><td>linked</td><td>15.352009545262188</td><td colspan=2>&#8656; nr_OIII5007.offs_kms</td><td>km/s</td></tr><tr><td>fwhm</td><td>linked</td><td>1200.0</td><td colspan=2>&#8656; nr_OIII5007.fwhm</td><td>km/s</td></tr><tr class=\"block\"><th class=\"model-odd\" scope=\"rowgroup\" rowspan=4>nr_[OI]_6300</th><td>ampl</td><td><input disabled type=\"checkbox\" checked></input></td><td>0.0</td><td>0.0</td><td>500.0</td><td></td></tr><tr><td>pos</td><td><input disabled type=\"checkbox\"></input></td><td>6300.304</td><td>0.0</td><td>MAX</td><td>angstroms</td></tr><tr><td>offs_kms</td><td>linked</td><td>15.352009545262188</td><td colspan=2>&#8656; nr_OIII5007.offs_kms</td><td>km/s</td></tr><tr><td>fwhm</td><td>linked</td><td>1200.0</td><td colspan=2>&#8656; nr_OIII5007.fwhm</td><td>km/s</td></tr><tr class=\"block\"><th class=\"model-even\" scope=\"rowgroup\" rowspan=4>nr_[OI]_6363</th><td>ampl</td><td><input disabled type=\"checkbox\" checked></input></td><td>0.0</td><td>0.0</td><td>500.0</td><td></td></tr><tr><td>pos</td><td><input disabled type=\"checkbox\"></input></td><td>6363.8</td><td>0.0</td><td>MAX</td><td>angstroms</td></tr><tr><td>offs_kms</td><td>linked</td><td>15.352009545262188</td><td colspan=2>&#8656; nr_OIII5007.offs_kms</td><td>km/s</td></tr><tr><td>fwhm</td><td>linked</td><td>1200.0</td><td colspan=2>&#8656; nr_OIII5007.fwhm</td><td>km/s</td></tr><tr class=\"block\"><th class=\"model-odd\" scope=\"rowgroup\" rowspan=4>nr_[SII]_6716</th><td>ampl</td><td><input disabled type=\"checkbox\" checked></input></td><td>7.07618773480307</td><td>0.0</td><td>500.0</td><td></td></tr><tr><td>pos</td><td><input disabled type=\"checkbox\"></input></td><td>6716.44</td><td>0.0</td><td>MAX</td><td>angstroms</td></tr><tr><td>offs_kms</td><td>linked</td><td>15.352009545262188</td><td colspan=2>&#8656; nr_OIII5007.offs_kms</td><td>km/s</td></tr><tr><td>fwhm</td><td>linked</td><td>1200.0</td><td colspan=2>&#8656; nr_OIII5007.fwhm</td><td>km/s</td></tr><tr class=\"block\"><th class=\"model-even\" scope=\"rowgroup\" rowspan=4>nr_[SII]_6730</th><td>ampl</td><td><input disabled type=\"checkbox\" checked></input></td><td>2.9370294525024705</td><td>0.0</td><td>500.0</td><td></td></tr><tr><td>pos</td><td><input disabled type=\"checkbox\"></input></td><td>6730.81</td><td>0.0</td><td>MAX</td><td>angstroms</td></tr><tr><td>offs_kms</td><td>linked</td><td>15.352009545262188</td><td colspan=2>&#8656; nr_OIII5007.offs_kms</td><td>km/s</td></tr><tr><td>fwhm</td><td>linked</td><td>1200.0</td><td colspan=2>&#8656; nr_OIII5007.fwhm</td><td>km/s</td></tr><tr class=\"block\"><th class=\"model-odd\" scope=\"rowgroup\" rowspan=4>nr_Heps_3970</th><td>ampl</td><td><input disabled type=\"checkbox\" checked></input></td><td>15.417815091545254</td><td>0.0</td><td>500.0</td><td></td></tr><tr><td>pos</td><td><input disabled type=\"checkbox\"></input></td><td>3970.079</td><td>0.0</td><td>MAX</td><td>angstroms</td></tr><tr><td>offs_kms</td><td>linked</td><td>15.352009545262188</td><td colspan=2>&#8656; nr_OIII5007.offs_kms</td><td>km/s</td></tr><tr><td>fwhm</td><td>linked</td><td>1200.0</td><td colspan=2>&#8656; nr_OIII5007.fwhm</td><td>km/s</td></tr><tr class=\"block\"><th class=\"model-even\" scope=\"rowgroup\" rowspan=4>nr_Hd_4101</th><td>ampl</td><td><input disabled type=\"checkbox\" checked></input></td><td>8.673117320452903</td><td>0.0</td><td>500.0</td><td></td></tr><tr><td>pos</td><td><input disabled type=\"checkbox\"></input></td><td>4101.742</td><td>0.0</td><td>MAX</td><td>angstroms</td></tr><tr><td>offs_kms</td><td>linked</td><td>15.352009545262188</td><td colspan=2>&#8656; nr_OIII5007.offs_kms</td><td>km/s</td></tr><tr><td>fwhm</td><td>linked</td><td>1200.0</td><td colspan=2>&#8656; nr_OIII5007.fwhm</td><td>km/s</td></tr><tr class=\"block\"><th class=\"model-odd\" scope=\"rowgroup\" rowspan=4>nr_Hg_4340</th><td>ampl</td><td><input disabled type=\"checkbox\" checked></input></td><td>12.188297964361618</td><td>0.0</td><td>500.0</td><td></td></tr><tr><td>pos</td><td><input disabled type=\"checkbox\"></input></td><td>4340.471</td><td>0.0</td><td>MAX</td><td>angstroms</td></tr><tr><td>offs_kms</td><td>linked</td><td>15.352009545262188</td><td colspan=2>&#8656; nr_OIII5007.offs_kms</td><td>km/s</td></tr><tr><td>fwhm</td><td>linked</td><td>1200.0</td><td colspan=2>&#8656; nr_OIII5007.fwhm</td><td>km/s</td></tr><tr class=\"block\"><th class=\"model-even\" scope=\"rowgroup\" rowspan=4>nr_Hb_4861</th><td>ampl</td><td><input disabled type=\"checkbox\" checked></input></td><td>39.733302512904096</td><td>0.0</td><td>500.0</td><td></td></tr><tr><td>pos</td><td><input disabled type=\"checkbox\"></input></td><td>4861.333</td><td>0.0</td><td>MAX</td><td>angstroms</td></tr><tr><td>offs_kms</td><td>linked</td><td>15.352009545262188</td><td colspan=2>&#8656; nr_OIII5007.offs_kms</td><td>km/s</td></tr><tr><td>fwhm</td><td>linked</td><td>1200.0</td><td colspan=2>&#8656; nr_OIII5007.fwhm</td><td>km/s</td></tr><tr class=\"block\"><th class=\"model-odd\" scope=\"rowgroup\" rowspan=4>nr_Ha_6562</th><td>ampl</td><td><input disabled type=\"checkbox\" checked></input></td><td>151.77511533113824</td><td>0.0</td><td>500.0</td><td></td></tr><tr><td>pos</td><td><input disabled type=\"checkbox\"></input></td><td>6562.82</td><td>0.0</td><td>MAX</td><td>angstroms</td></tr><tr><td>offs_kms</td><td>linked</td><td>15.352009545262188</td><td colspan=2>&#8656; nr_OIII5007.offs_kms</td><td>km/s</td></tr><tr><td>fwhm</td><td>linked</td><td>1200.0</td><td colspan=2>&#8656; nr_OIII5007.fwhm</td><td>km/s</td></tr><tr class=\"block\"><th class=\"model-even\" scope=\"rowgroup\" rowspan=16>feii</th><td>amp_a2D2</td><td><input disabled type=\"checkbox\" checked></input></td><td>0.06149846475188742</td><td>0.0</td><td>1000.0</td><td></td></tr><tr><td>amp_a4G</td><td><input disabled type=\"checkbox\" checked></input></td><td>0.48624592296982994</td><td>0.0</td><td>1000.0</td><td></td></tr><tr><td>amp_a4H</td><td><input disabled type=\"checkbox\" checked></input></td><td>0.87334746751271</td><td>0.0</td><td>1000.0</td><td></td></tr><tr><td>amp_a6S</td><td><input disabled type=\"checkbox\" checked></input></td><td>3.8036540427731413</td><td>0.0</td><td>1000.0</td><td></td></tr><tr><td>amp_b2H</td><td><input disabled type=\"checkbox\" checked></input></td><td>0.0</td><td>0.0</td><td>1000.0</td><td></td></tr><tr><td>amp_b4D</td><td><input disabled type=\"checkbox\" checked></input></td><td>0.09266743099328444</td><td>0.0</td><td>1000.0</td><td></td></tr><tr><td>amp_b4F</td><td><input disabled type=\"checkbox\" checked></input></td><td>2.6506756099128164</td><td>0.0</td><td>1000.0</td><td></td></tr><tr><td>amp_b4P</td><td><input disabled type=\"checkbox\" checked></input></td><td>4.1964866899736375</td><td>0.0</td><td>1000.0</td><td></td></tr><tr><td>amp_z4D</td><td><input disabled type=\"checkbox\" checked></input></td><td>5.205133283033646</td><td>0.0</td><td>1000.0</td><td></td></tr><tr><td>amp_z4F</td><td><input disabled type=\"checkbox\" checked></input></td><td>11.961639145528553</td><td>0.0</td><td>1000.0</td><td></td></tr><tr><td>amp_y4G</td><td><input disabled type=\"checkbox\" checked></input></td><td>0.0</td><td>0.0</td><td>1000.0</td><td></td></tr><tr><td>amp_b4G</td><td><input disabled type=\"checkbox\" checked></input></td><td>0.0</td><td>0.0</td><td>1000.0</td><td></td></tr><tr><td>amp_x4D</td><td><input disabled type=\"checkbox\" checked></input></td><td>1.5280037449640802</td><td>0.0</td><td>1000.0</td><td></td></tr><tr><td>amp_y4P</td><td><input disabled type=\"checkbox\" checked></input></td><td>2.0444630898381804</td><td>0.0</td><td>1000.0</td><td></td></tr><tr><td>offs_kms</td><td><input disabled type=\"checkbox\" checked></input></td><td>1518.0608277069284</td><td>-3000.0</td><td>3000.0</td><td></td></tr><tr><td>fwhm</td><td><input disabled type=\"checkbox\" checked></input></td><td>3903.6933840136658</td><td>1000.0</td><td>8000.0</td><td></td></tr><tr class=\"block\"><th class=\"model-odd\" scope=\"rowgroup\" rowspan=7>He</th><td>amp_HeI_4144</td><td><input disabled type=\"checkbox\" checked></input></td><td>1.7452166993277292</td><td>0.0</td><td>600.0</td><td></td></tr><tr><td>amp_HeI_4471</td><td><input disabled type=\"checkbox\" checked></input></td><td>3.2449402168953636</td><td>0.0</td><td>600.0</td><td></td></tr><tr><td>amp_HeII_4686</td><td><input disabled type=\"checkbox\" checked></input></td><td>13.18885898193239</td><td>0.0</td><td>600.0</td><td></td></tr><tr><td>amp_HeI_5877</td><td><input disabled type=\"checkbox\" checked></input></td><td>9.318592536138294</td><td>0.0</td><td>600.0</td><td></td></tr><tr><td>amp_HeI_7065</td><td><input disabled type=\"checkbox\" checked></input></td><td>3.0140337450290504</td><td>0.0</td><td>600.0</td><td></td></tr><tr><td>offs_kms</td><td><input disabled type=\"checkbox\" checked></input></td><td>484.44917933796285</td><td>-3000.0</td><td>3000.0</td><td>km/s</td></tr><tr><td>fwhm</td><td><input disabled type=\"checkbox\" checked></input></td><td>5000.0</td><td>1000.0</td><td>5000.0</td><td>km/s</td></tr></tbody></table></details></div>"
      ],
      "text/plain": [
       "<BinaryOpModel model instance '((((brokenpowerlaw + Broad) + ((((((((((((((((nr_OIII5007 + nr_OIII4958) + nr_NII6584) + nr_NIII6548) + nr_[OII]_3726) + nr_[OII]_3728) + nr_[NeIII]_3868) + nr_[OIII]_4363) + nr_[OI]_6300) + nr_[OI]_6363) + nr_[SII]_6716) + nr_[SII]_6730) + nr_Heps_3970) + nr_Hd_4101) + nr_Hg_4340) + nr_Hb_4861) + nr_Ha_6562)) + feii) + He)'>"
      ]
     },
     "execution_count": 30,
     "metadata": {},
     "output_type": "execute_result"
    }
   ],
   "source": [
    "# model_1st\n",
    "# model_2nd\n",
    "model_3rd"
   ]
  },
  {
   "cell_type": "code",
   "execution_count": 31,
   "id": "a5dc7485",
   "metadata": {},
   "outputs": [
    {
     "name": "stdout",
     "output_type": "stream",
     "text": [
      "Method                = levmar\n",
      "Statistic             = chi2\n",
      "Initial fit statistic = 8296.83\n",
      "Final fit statistic   = 8295.15 at function evaluation 752\n",
      "Data points           = 3033\n",
      "Degrees of freedom    = 2982\n",
      "Probability [Q-value] = 0\n",
      "Reduced statistic     = 2.78174\n",
      "Change in statistic   = 1.68078\n",
      "   brokenpowerlaw.refer   4190         +/- 7.44266     \n",
      "   brokenpowerlaw.ampl   66.1868      +/- 0.546797    \n",
      "   brokenpowerlaw.index1   -2.05783     +/- 0.0145207   \n",
      "   brokenpowerlaw.index2   -3.37752     +/- 0.0433846   \n",
      "   Broad.amp_Heps_3970   0            +/- 0.590603    \n",
      "   Broad.amp_Hd_4102   12.7325      +/- 0.671117    \n",
      "   Broad.amp_Hg_4340   31.0782      +/- 0.830577    \n",
      "   Broad.amp_Hb_4861   61.3879      +/- 0.577522    \n",
      "   Broad.amp_Ha_6563   104.592      +/- 1.00091     \n",
      "   Broad.offs_kms   178.954      +/- 7.47722     \n",
      "   Broad.fwhm     4880.1       +/- 24.1331     \n",
      "   nr_OIII5007.ampl   41.692       +/- 0.726013    \n",
      "   nr_OIII5007.offs_kms   15.352       +/- 5.33003     \n",
      "   nr_OIII5007.fwhm   1200         +/- 15.0057     \n",
      "   nr_NII6584.ampl   64.2604      +/- 1.98865     \n",
      "   nr_[OII]_3726.ampl   0            +/- 2.88281     \n",
      "   nr_[OII]_3728.ampl   12.7459      +/- 2.87326     \n",
      "   nr_[NeIII]_3868.ampl   15.2359      +/- 0.784777    \n",
      "   nr_[OIII]_4363.ampl   6.69199      +/- 0.858548    \n",
      "   nr_[OI]_6300.ampl   0            +/- 0.385247    \n",
      "   nr_[OI]_6363.ampl   0            +/- 0.441164    \n",
      "   nr_[SII]_6716.ampl   7.07619      +/- 0.484148    \n",
      "   nr_[SII]_6730.ampl   2.93703      +/- 0.485666    \n",
      "   nr_Heps_3970.ampl   15.4178      +/- 0.915024    \n",
      "   nr_Hd_4101.ampl   8.67312      +/- 0.926682    \n",
      "   nr_Hg_4340.ampl   12.1883      +/- 1.02556     \n",
      "   nr_Hb_4861.ampl   39.7333      +/- 1.09486     \n",
      "   nr_Ha_6562.ampl   151.775      +/- 1.84071     \n",
      "   feii.amp_a2D2   0.0614985    +/- 0.665458    \n",
      "   feii.amp_a4G   0.486246     +/- 0.0959974   \n",
      "   feii.amp_a4H   0.873347     +/- 0.315139    \n",
      "   feii.amp_a6S   3.80365      +/- 0.203601    \n",
      "   feii.amp_b2H   0            +/- 0.24144     \n",
      "   feii.amp_b4D   0.0926674    +/- 0.386636    \n",
      "   feii.amp_b4F   2.65068      +/- 0.156186    \n",
      "   feii.amp_b4P   4.19649      +/- 0.450849    \n",
      "   feii.amp_z4D   5.20513      +/- 0.298543    \n",
      "   feii.amp_z4F   11.9616      +/- 2.95703     \n",
      "   feii.amp_y4G   0            +/- 0.676717    \n",
      "   feii.amp_b4G   0            +/- 0.213562    \n",
      "   feii.amp_x4D   1.528        +/- 0.19149     \n",
      "   feii.amp_y4P   2.04446      +/- 0.300896    \n",
      "   feii.offs_kms   1518.06      +/- 85.2445     \n",
      "   feii.fwhm      3903.69      +/- 189.08      \n",
      "   He.amp_HeI_4144   1.74522      +/- 0.400333    \n",
      "   He.amp_HeI_4471   3.24494      +/- 1.23583     \n",
      "   He.amp_HeII_4686   13.1889      +/- 0.460735    \n",
      "   He.amp_HeI_5877   9.31859      +/- 0.192849    \n",
      "   He.amp_HeI_7065   3.01403      +/- 0.189901    \n",
      "   He.offs_kms    484.449      +/- 44.8681     \n",
      "   He.fwhm        5000         +/- 105.053     \n",
      "WARNING: parameter value brokenpowerlaw.refer is at its minimum boundary 4190.0\n",
      "WARNING: parameter value Broad.amp_Heps_3970 is at its minimum boundary 0.0\n",
      "WARNING: parameter value nr_OIII5007.fwhm is at its maximum boundary 1200.0\n",
      "WARNING: parameter value nr_[OII]_3726.ampl is at its minimum boundary 0.0\n",
      "WARNING: parameter value nr_[OI]_6300.ampl is at its minimum boundary 0.0\n",
      "WARNING: parameter value nr_[OI]_6363.ampl is at its minimum boundary 0.0\n",
      "WARNING: parameter value feii.amp_b2H is at its minimum boundary 0.0\n",
      "WARNING: parameter value feii.amp_y4G is at its minimum boundary 0.0\n",
      "WARNING: parameter value feii.amp_b4G is at its minimum boundary 0.0\n",
      "WARNING: parameter value He.fwhm is at its maximum boundary 5000.0\n"
     ]
    }
   ],
   "source": [
    "# To see the fitting results, one can use standard outputs from Sherpa package, such as:\n",
    "# gres - to list all fitting results\n",
    "# gres.parnames - to list all parameters\n",
    "# save_json() - to save the results\n",
    "\n",
    "print(s.gres.format())\n",
    "s.save_json() #saving parameters "
   ]
  },
  {
   "attachments": {},
   "cell_type": "markdown",
   "id": "c718319c",
   "metadata": {},
   "source": [
    "In the first try, I didn't modify the parameters of the model. I got some warnings:\n",
    "```\n",
    "WARNING: parameter value feii.fwhm is at its maximum boundary 2000.0\n",
    "WARNING: parameter value He.amp_HeI_4144 is at its minimum boundary 0.0\n",
    "WARNING: parameter value He.amp_HeI_4471 is at its minimum boundary 0.0\n",
    "WARNING: parameter value He.fwhm is at its maximum boundary 5000.0\n",
    "```\n",
    "\n",
    "I tried tuned the parameters of the model until they were resolved. Warning of the same type also came up during the second attempt.\n",
    "\n",
    "---\n",
    "\n",
    "I plotted the spectra with spectral lines indicated to get a better understanding of how well the model is fitting the data."
   ]
  },
  {
   "cell_type": "markdown",
   "id": "fa66f807",
   "metadata": {},
   "source": [
    "## Plotting the results"
   ]
  },
  {
   "cell_type": "code",
   "execution_count": 32,
   "id": "777f4c58",
   "metadata": {},
   "outputs": [],
   "source": [
    "'''plt.style.context(['nature', 'notebook'])\n",
    "plt.figure(figsize=(18,8))\n",
    "\n",
    "plt.plot(s.wave, s.flux, color=\"#929591\", label='Obs', lw=2)\n",
    "plt.plot(s.wave, model_1st(s.wave), color=\"#F10C45\", label='Model', lw=3)\n",
    "plt.plot(s.wave, model_1st(s.wave)-s.flux-70, '-', color=\"#929591\", label='Residual', lw=2)\n",
    "plt.axhline(y=-70, color='deepskyblue', linestyle='--', lw=2)\n",
    "\n",
    "plt.plot(s.wave, cont_1(s.wave),'--', color=\"#042E60\", label='Continuum', lw=1.5)\n",
    "plt.plot(s.wave, narrow_1(s.wave), label='Narrow', color=\"#25A36F\", lw=3)\n",
    "plt.plot(s.wave, broad_1(s.wave), label='Broad H', lw=3, color=\"#2E5A88\")\n",
    "plt.plot(s.wave, he_1(s.wave), label='Broad He I', lw=3, color=\"orange\")\n",
    "plt.plot(s.wave, fe_1(s.wave), '-', color=\"#CB416B\", label='Fe II model', lw=3)\n",
    "\n",
    "plt.xlabel(r'Wavelength [Ang]', fontsize=15)\n",
    "plt.ylabel(r'Flux [$10^{-7}$ erg / s / cm$^2$ / Ang]', fontsize=15)\n",
    "\n",
    "plt.xlim(np.min(s.wave), np.max(s.wave))\n",
    "plt.tick_params(which='both', direction=\"in\")\n",
    "plt.yticks(fontsize=15)\n",
    "plt.xticks(np.arange(4000, 7000, step=500), fontsize=15)\n",
    "plt.title('Fantasy Fit: 1st Attempt (Iters: ' + str(attempts['iters 1st']) + r', $ \\chi ^2 $ = ' + str(np.round(attempts['chi2 1st'], 3)) + ')')\n",
    "\n",
    "plt.legend(loc='upper left',  prop={'size': 12}, frameon=False, ncol=2)\n",
    "\n",
    "# plt.savefig('1st_attempt_fantasy_fit.pdf')\n",
    "\n",
    "plt.show()''';"
   ]
  },
  {
   "cell_type": "code",
   "execution_count": 33,
   "id": "dd013eb5",
   "metadata": {},
   "outputs": [
    {
     "data": {
      "text/plain": [
       "'plt.style.context([\\'nature\\', \\'notebook\\'])\\nplt.figure(figsize=(18,8))\\n\\nplt.plot(s.wave, s.flux, color=\"#929591\", label=\\'Obs\\', lw=2)\\nplt.plot(s.wave, model_2nd(s.wave), color=\"#F10C45\", label=\\'Model\\', lw=3)\\nplt.plot(s.wave, model_2nd(s.wave)-s.flux-70, \\'-\\', color=\"#929591\", label=\\'Residual\\', lw=2)\\nplt.axhline(y=-70, color=\\'deepskyblue\\', linestyle=\\'--\\', lw=2)\\n\\nplt.plot(s.wave, cont_2(s.wave),\\'--\\', color=\"#042E60\", label=\\'Continuum\\', lw=1.5)\\nplt.plot(s.wave, narrow_1(s.wave), label=\\'Narrow\\', color=\"#25A36F\", lw=3)\\nplt.plot(s.wave, broad_1(s.wave), label=\\'Broad H\\', lw=3, color=\"#2E5A88\")\\nplt.plot(s.wave, he_1(s.wave), label=\\'Broad He I\\', lw=3, color=\"orange\")\\nplt.plot(s.wave, fe_1(s.wave), \\'-\\', color=\"#CB416B\", label=\\'Fe II model\\', lw=3)\\n\\nplt.xlabel(r\\'Wavelength [Ang]\\', fontsize=15)\\nplt.ylabel(r\\'Flux [$10^{-7}$ erg / s / cm$^2$ / Ang]\\', fontsize=15)\\n\\nplt.xlim(np.min(s.wave), np.max(s.wave))\\nplt.tick_params(which=\\'both\\', direction=\"in\")\\nplt.yticks(fontsize=15)\\nplt.xticks(np.arange(4000, 7000, step=500), fontsize=15)\\nplt.title(\\'Fantasy Fit: 2nd Attempt (Iters: \\' + str(attempts[\\'iters 2nd\\']) + r\\', $ \\\\chi ^2 $ = \\' + str(np.round(attempts[\\'chi2 2nd\\'], 3)) + \\')\\')\\n\\nplt.legend(loc=\\'upper left\\',  prop={\\'size\\': 12}, frameon=False, ncol=2)\\n\\n# plt.savefig(\\'2nd_attempt_fantasy_fit.pdf\\')\\n\\nplt.show()'"
      ]
     },
     "execution_count": 33,
     "metadata": {},
     "output_type": "execute_result"
    }
   ],
   "source": [
    "'''plt.style.context(['nature', 'notebook'])\n",
    "plt.figure(figsize=(18,8))\n",
    "\n",
    "plt.plot(s.wave, s.flux, color=\"#929591\", label='Obs', lw=2)\n",
    "plt.plot(s.wave, model_2nd(s.wave), color=\"#F10C45\", label='Model', lw=3)\n",
    "plt.plot(s.wave, model_2nd(s.wave)-s.flux-70, '-', color=\"#929591\", label='Residual', lw=2)\n",
    "plt.axhline(y=-70, color='deepskyblue', linestyle='--', lw=2)\n",
    "\n",
    "plt.plot(s.wave, cont_2(s.wave),'--', color=\"#042E60\", label='Continuum', lw=1.5)\n",
    "plt.plot(s.wave, narrow_1(s.wave), label='Narrow', color=\"#25A36F\", lw=3)\n",
    "plt.plot(s.wave, broad_1(s.wave), label='Broad H', lw=3, color=\"#2E5A88\")\n",
    "plt.plot(s.wave, he_1(s.wave), label='Broad He I', lw=3, color=\"orange\")\n",
    "plt.plot(s.wave, fe_1(s.wave), '-', color=\"#CB416B\", label='Fe II model', lw=3)\n",
    "\n",
    "plt.xlabel(r'Wavelength [Ang]', fontsize=15)\n",
    "plt.ylabel(r'Flux [$10^{-7}$ erg / s / cm$^2$ / Ang]', fontsize=15)\n",
    "\n",
    "plt.xlim(np.min(s.wave), np.max(s.wave))\n",
    "plt.tick_params(which='both', direction=\"in\")\n",
    "plt.yticks(fontsize=15)\n",
    "plt.xticks(np.arange(4000, 7000, step=500), fontsize=15)\n",
    "plt.title('Fantasy Fit: 2nd Attempt (Iters: ' + str(attempts['iters 2nd']) + r', $ \\chi ^2 $ = ' + str(np.round(attempts['chi2 2nd'], 3)) + ')')\n",
    "\n",
    "plt.legend(loc='upper left',  prop={'size': 12}, frameon=False, ncol=2)\n",
    "\n",
    "# plt.savefig('2nd_attempt_fantasy_fit.pdf')\n",
    "\n",
    "plt.show()'''"
   ]
  },
  {
   "cell_type": "code",
   "execution_count": 34,
   "id": "5972116f",
   "metadata": {},
   "outputs": [
    {
     "data": {
      "text/plain": [
       "'plt.style.context([\\'nature\\', \\'notebook\\'])\\nplt.figure(figsize=(18,8))\\n\\nplt.plot(s.wave, s.flux, color=\"#929591\", label=\\'Obs\\', lw=2)\\nplt.plot(s.wave, model_3rd(s.wave), color=\"#F10C45\", label=\\'Model\\', lw=3)\\nplt.plot(s.wave, model_3rd(s.wave)-s.flux-70, \\'-\\', color=\"#929591\", label=\\'Residual\\', lw=2)\\nplt.axhline(y=-70, color=\\'deepskyblue\\', linestyle=\\'--\\', lw=2)\\n\\nplt.plot(s.wave, cont_2(s.wave),\\'--\\', color=\"#042E60\", label=\\'Continuum\\', lw=1.5)\\nplt.plot(s.wave, narrow_1(s.wave), label=\\'Narrow\\', color=\"#25A36F\", lw=3)\\nplt.plot(s.wave, broad_1(s.wave), label=\\'Broad H\\', lw=3, color=\"#2E5A88\")\\nplt.plot(s.wave, he_1(s.wave), label=\\'Broad He I\\', lw=3, color=\"orange\")\\nplt.plot(s.wave, fe_2(s.wave), \\'-\\', color=\"#CB416B\", label=\\'Fe II model\\', lw=3)\\n\\nplt.xlabel(r\\'Wavelength [Ang]\\', fontsize=15)\\nplt.ylabel(r\\'Flux [$10^{-7}$ erg / s / cm$^2$ / Ang]\\', fontsize=15)\\n\\nplt.xlim(np.min(s.wave), np.max(s.wave))\\nplt.tick_params(which=\\'both\\', direction=\"in\")\\nplt.yticks(fontsize=15)\\nplt.xticks(np.arange(4000, 7000, step=500), fontsize=15)\\nplt.title(\\'Fantasy Fit: 3rd Attempt (Iters: \\' + str(attempts[\\'iters 3rd\\']) + r\\', $ \\\\chi ^2 $ = \\' + str(np.round(attempts[\\'chi2 3rd\\'], 3)) + \\')\\')\\n\\nplt.legend(loc=\\'upper left\\',  prop={\\'size\\': 12}, frameon=False, ncol=2)\\n\\n# plt.savefig(\\'3rd_attempt_fantasy_fit.pdf\\')\\n\\nplt.show()'"
      ]
     },
     "execution_count": 34,
     "metadata": {},
     "output_type": "execute_result"
    }
   ],
   "source": [
    "'''plt.style.context(['nature', 'notebook'])\n",
    "plt.figure(figsize=(18,8))\n",
    "\n",
    "plt.plot(s.wave, s.flux, color=\"#929591\", label='Obs', lw=2)\n",
    "plt.plot(s.wave, model_3rd(s.wave), color=\"#F10C45\", label='Model', lw=3)\n",
    "plt.plot(s.wave, model_3rd(s.wave)-s.flux-70, '-', color=\"#929591\", label='Residual', lw=2)\n",
    "plt.axhline(y=-70, color='deepskyblue', linestyle='--', lw=2)\n",
    "\n",
    "plt.plot(s.wave, cont_2(s.wave),'--', color=\"#042E60\", label='Continuum', lw=1.5)\n",
    "plt.plot(s.wave, narrow_1(s.wave), label='Narrow', color=\"#25A36F\", lw=3)\n",
    "plt.plot(s.wave, broad_1(s.wave), label='Broad H', lw=3, color=\"#2E5A88\")\n",
    "plt.plot(s.wave, he_1(s.wave), label='Broad He I', lw=3, color=\"orange\")\n",
    "plt.plot(s.wave, fe_2(s.wave), '-', color=\"#CB416B\", label='Fe II model', lw=3)\n",
    "\n",
    "plt.xlabel(r'Wavelength [Ang]', fontsize=15)\n",
    "plt.ylabel(r'Flux [$10^{-7}$ erg / s / cm$^2$ / Ang]', fontsize=15)\n",
    "\n",
    "plt.xlim(np.min(s.wave), np.max(s.wave))\n",
    "plt.tick_params(which='both', direction=\"in\")\n",
    "plt.yticks(fontsize=15)\n",
    "plt.xticks(np.arange(4000, 7000, step=500), fontsize=15)\n",
    "plt.title('Fantasy Fit: 3rd Attempt (Iters: ' + str(attempts['iters 3rd']) + r', $ \\chi ^2 $ = ' + str(np.round(attempts['chi2 3rd'], 3)) + ')')\n",
    "\n",
    "plt.legend(loc='upper left',  prop={'size': 12}, frameon=False, ncol=2)\n",
    "\n",
    "# plt.savefig('3rd_attempt_fantasy_fit.pdf')\n",
    "\n",
    "plt.show()'''"
   ]
  },
  {
   "attachments": {},
   "cell_type": "markdown",
   "id": "f08fb345",
   "metadata": {},
   "source": [
    "Next, I created an interactive plot marking the spectral lines so that I can zoom in and see how they are fitting in more detail."
   ]
  },
  {
   "cell_type": "code",
   "execution_count": 35,
   "id": "d1b66b35",
   "metadata": {},
   "outputs": [],
   "source": [
    "wavelengths = dict({SII_narrowP_1:'[SII] Narrow+, 1', \n",
    "                    SII_narrowP_2:'[SII] Narrow+, 2', \n",
    "                    OIII_narrow:'[OIII] Narrow', \n",
    "                    OIII_1:'[OIII], 1', \n",
    "                    OIII_2:'[OIII], 2', \n",
    "                    SII_narrow_1:'[SII] Narrow, 1', \n",
    "                    SII_narrow_2:'[SII] Narrow, 2',\n",
    "                    NII_1:'[NII], 1', \n",
    "                    NII_2:'[NII], 2', \n",
    "                    H_alpha:'H alpha', \n",
    "                    H_beta:'H beta'})\n",
    "\n",
    "colors = ['darkgreen', 'crimson', 'teal', 'goldenrod', 'slateblue', 'darkviolet', 'darkorange', 'royalblue', \n",
    "          'magenta', 'darkolivegreen', 'brown']"
   ]
  },
  {
   "cell_type": "code",
   "execution_count": 38,
   "id": "39c7ed20",
   "metadata": {},
   "outputs": [],
   "source": [
    "plt.style.context(['nature', 'notebook'])\n",
    "fig = plt.figure(figsize=(15, 8))\n",
    "ax = fig.add_subplot()\n",
    "fig.subplots_adjust(top=0.85)\n",
    "\n",
    "for i in range(len(wavelengths)):\n",
    "    ax.text(list(wavelengths.keys())[i], -200, list(wavelengths.values())[i], fontsize=10, rotation='vertical')\n",
    "    ax.vlines(list(wavelengths.keys())[i], -100, 350, linestyles='dashed', label=list(wavelengths.values())[i], colors=colors[i])\n",
    "\n",
    "plt.ion()\n",
    "\n",
    "plt.plot(s.wave, s.flux, color=\"#929591\", label='Obs', lw=2)\n",
    "plt.plot(s.wave, model_3rd(s.wave), color=\"#F10C45\", label='Model', lw=3)\n",
    "plt.plot(s.wave, model_3rd(s.wave)-s.flux-70, '-', color=\"#929591\", label='Residual', lw=2)\n",
    "plt.axhline(y=-70, color='deepskyblue', linestyle='--', lw=2)\n",
    "\n",
    "plt.plot(s.wave, cont_2(s.wave),'--', color=\"#042E60\", label='Continuum', lw=1.5)\n",
    "plt.plot(s.wave, narrow_1(s.wave), label='Narrow', color=\"#25A36F\", lw=3)\n",
    "plt.plot(s.wave, broad_1(s.wave), label='Broad H', lw=3, color=\"#2E5A88\")\n",
    "plt.plot(s.wave, he_1(s.wave), label='Broad He I', lw=3, color=\"orange\")\n",
    "plt.plot(s.wave, fe_2(s.wave), '-', color=\"#CB416B\", label='Fe II model', lw=3)\n",
    "\n",
    "plt.xlabel(r'Wavelength [Ang]', fontsize=15)\n",
    "plt.ylabel(r'Flux [$10^{-7}$ erg / s / cm$^2$ / Ang]', fontsize=15)\n",
    "\n",
    "plt.xlim(np.min(s.wave), np.max(s.wave))\n",
    "plt.ylim(-220, 350)\n",
    "plt.tick_params(which='both', direction=\"in\")\n",
    "plt.yticks(fontsize=15)\n",
    "plt.xticks(np.arange(4000, 7000, step=500), fontsize=15)\n",
    "\n",
    "plt.legend(bbox_to_anchor=(1.0, 0.8), prop={'size': 10}, frameon=False, ncol=1)\n",
    "\n",
    "plt.show()"
   ]
  },
  {
   "cell_type": "code",
   "execution_count": 37,
   "id": "9f931082",
   "metadata": {},
   "outputs": [
    {
     "data": {
      "text/plain": [
       "{'chi2 1st': 124.23362044251917,\n",
       " 'iters 1st': 2,\n",
       " 'chi2 2nd': 3.6474814654284273,\n",
       " 'iters 2nd': 3,\n",
       " 'chi2 3rd': 1.680778738716981,\n",
       " 'iters 3rd': 3}"
      ]
     },
     "execution_count": 37,
     "metadata": {},
     "output_type": "execute_result"
    }
   ],
   "source": [
    "attempts"
   ]
  },
  {
   "attachments": {},
   "cell_type": "markdown",
   "id": "ddabd5c5",
   "metadata": {},
   "source": [
    "## Comments on each attempt\n",
    "\n",
    "After the first attempt, I saw that what need better fitting is:\n",
    "* Continuum: below 4500 Ang, the continuum isn't steep enough\n",
    "* [OIII] 1 and 2: the iron model doesn't have intense enough lines\n",
    "\n",
    "### First Attempt\n",
    "The first time I ran the model just the way it was to have a starting point. I believe the most important thing to fix is the continuum. The $\\chi^2$ was equal to $124.234$.\n",
    "\n",
    "### Second Attempt\n",
    "I focused on fixing the continuum. I changed the breakpoint of the power law (`refer`) and I made the left side of it steeper with the (`index2`). I also made the model run three times instead of two. The result is much better, it has a $\\chi^2$ of $3.647$. During this attempt I realised there is a typo in the source code of fantasy! When creating the continuum model, the condition to choose the power law was wrong. I went to the source and fixed this. This was the only way I was able to improve the fit of the continuum.\n",
    "\n",
    "### Third Attempt\n",
    "Then, in the next attempt, I tried to fix the FeII line model, since the lines that needed fixing the most are the first and second [OIII] spectral lines, at 4958.90 and 5006.80 Ang respectively. I did this by increasing the FWHM and its maximum possible value in the `feii` model. This worked and lowered the $\\chi^2$ to $1.681$. However, this effect is not so noticeable in the plot.\n",
    "\n",
    "---\n",
    "\n",
    "I note that there is a level of randomness to the model. Sherpas computes a Least Squares algorithms, which doesn't always run in the same way. So the $chi^2$ values are not exactly the same every time the code is run, but they are within the same order of magnitude."
   ]
  },
  {
   "attachments": {},
   "cell_type": "markdown",
   "id": "72b8a8e6",
   "metadata": {},
   "source": [
    "# Measuring Lines\n",
    "\n",
    "Now, I'll measure the flux of the following lines:\n",
    "\n",
    "* Narrow, if present:\n",
    "    * [OIII]\n",
    "    * [NII]\n",
    "    * [SII]\n",
    "    * H $\\alpha$\n",
    "    * H $\\beta$\n",
    "\n",
    "* Broad:\n",
    "    * H $\\alpha$\n",
    "    * H $\\beta$\n",
    "\n",
    "Since my galaxy has a significant contribution from the host galaxy, I'll also measure the flux from the original observed spectrum."
   ]
  },
  {
   "attachments": {},
   "cell_type": "markdown",
   "id": "d9783673",
   "metadata": {},
   "source": [
    "#### H $\\alpha$"
   ]
  },
  {
   "cell_type": "code",
   "execution_count": 70,
   "id": "182b8765",
   "metadata": {},
   "outputs": [
    {
     "name": "stdout",
     "output_type": "stream",
     "text": [
      "Model: \n",
      "Broad H alpha = 7860.6343 [1e-7 erg / (s cm^2 Ang)]\n",
      "Narrow H alpha = 4405.9497 [1e-7 erg / (s cm^2 Ang)]\n"
     ]
    }
   ],
   "source": [
    "# H alpha\n",
    "print('Model: ')\n",
    "\n",
    "mask_H_alpha = (s.wave > 6400) & (s.wave < 6700)\n",
    "\n",
    "# broad\n",
    "flux_Ha_broad = np.sum(broad_1(s.wave)[mask_H_alpha])\n",
    "print('Broad H alpha = ' + str(flux_Ha_broad) + ' [1e-7 erg / (s cm^2 Ang)]')\n",
    "\n",
    "# narrow\n",
    "flux_Ha_narrow = np.sum(narrow_1(s.wave)[mask_H_alpha])\n",
    "print('Narrow H alpha = ' + str(flux_Ha_narrow) + ' [1e-7 erg / (s cm^2 Ang)]')"
   ]
  },
  {
   "cell_type": "code",
   "execution_count": 81,
   "id": "b7eddf81",
   "metadata": {},
   "outputs": [
    {
     "name": "stdout",
     "output_type": "stream",
     "text": [
      "Observed spectrum: \n",
      "Broad H alpha = 7859.414 [1e-7 erg / (s cm^2 Ang)]\n",
      "Narrow H alpha = 4403.8706 [1e-7 erg / (s cm^2 Ang)]\n"
     ]
    }
   ],
   "source": [
    "# H alpha\n",
    "print('Observed spectrum: ')\n",
    "\n",
    "mask_H_alpha_or = (s_or.wave > 6400) & (s_or.wave < 6700)\n",
    "\n",
    "# broad\n",
    "flux_Ha_broad_or = np.sum(broad_1(s_or.wave)[mask_H_alpha_or])\n",
    "print('Broad H alpha = ' + str(flux_Ha_broad_or) + ' [1e-7 erg / (s cm^2 Ang)]')\n",
    "\n",
    "# narrow\n",
    "flux_Ha_narrow_or = np.sum(narrow_1(s_or.wave)[mask_H_alpha_or])\n",
    "print('Narrow H alpha = ' + str(flux_Ha_narrow_or) + ' [1e-7 erg / (s cm^2 Ang)]')"
   ]
  },
  {
   "attachments": {},
   "cell_type": "markdown",
   "id": "b0769d15",
   "metadata": {},
   "source": [
    "The H $\\alpha$ flux values from the model and the observed spectrum are very close!"
   ]
  },
  {
   "attachments": {},
   "cell_type": "markdown",
   "id": "2ff9fa2a",
   "metadata": {},
   "source": [
    "#### H $\\beta$"
   ]
  },
  {
   "cell_type": "code",
   "execution_count": 80,
   "id": "1a93376d",
   "metadata": {},
   "outputs": [
    {
     "name": "stdout",
     "output_type": "stream",
     "text": [
      "Model: \n",
      "Broad H beta = 4595.4443 [1e-7 erg / (s cm^2 Ang)]\n",
      "Narrow H beta = 771.61237 [1e-7 erg / (s cm^2 Ang)]\n"
     ]
    }
   ],
   "source": [
    "# H beta\n",
    "print('Model: ')\n",
    "mask_H_beta = (s.wave > 4750) & (s.wave < 4950)\n",
    "\n",
    "# broad\n",
    "flux_Hb_broad = np.sum(broad_1(s.wave)[mask_H_beta])\n",
    "print('Broad H beta = ' + str(flux_Hb_broad) + ' [1e-7 erg / (s cm^2 Ang)]')\n",
    "\n",
    "# narrow\n",
    "flux_Hb_narrow = np.sum(narrow_1(s.wave)[mask_H_beta])\n",
    "print('Narrow H beta = ' + str(flux_Hb_narrow) + ' [1e-7 erg / (s cm^2 Ang)]')"
   ]
  },
  {
   "cell_type": "code",
   "execution_count": 82,
   "id": "5a521c38",
   "metadata": {},
   "outputs": [
    {
     "name": "stdout",
     "output_type": "stream",
     "text": [
      "Observed spectrum: \n",
      "Broad H beta = 4595.8555 [1e-7 erg / (s cm^2 Ang)]\n",
      "Narrow H beta = 773.1469 [1e-7 erg / (s cm^2 Ang)]\n"
     ]
    }
   ],
   "source": [
    "# H beta\n",
    "print('Observed spectrum: ')\n",
    "\n",
    "mask_H_beta_or = (s_or.wave > 4750) & (s_or.wave < 4950)\n",
    "\n",
    "# broad\n",
    "flux_Hb_broad_or = np.sum(broad_1(s_or.wave)[mask_H_beta_or])\n",
    "print('Broad H beta = ' + str(flux_Hb_broad_or) + ' [1e-7 erg / (s cm^2 Ang)]')\n",
    "\n",
    "# narrow\n",
    "flux_Hb_narrow_or = np.sum(narrow_1(s_or.wave)[mask_H_beta_or])\n",
    "print('Narrow H beta = ' + str(flux_Hb_narrow_or) + ' [1e-7 erg / (s cm^2 Ang)]')"
   ]
  },
  {
   "attachments": {},
   "cell_type": "markdown",
   "id": "2b051c5c",
   "metadata": {},
   "source": [
    "The H $\\beta$ values are very close too."
   ]
  },
  {
   "attachments": {},
   "cell_type": "markdown",
   "id": "d3f3da4d",
   "metadata": {},
   "source": [
    "#### Fe"
   ]
  },
  {
   "cell_type": "code",
   "execution_count": 83,
   "id": "32a6b331",
   "metadata": {},
   "outputs": [
    {
     "name": "stdout",
     "output_type": "stream",
     "text": [
      "Model: \n",
      "Total FeII = 4297.4854 [1e-7 erg / (s cm^2 Ang)]\n"
     ]
    }
   ],
   "source": [
    "print('Model: ')\n",
    "\n",
    "flux_feII = np.sum(fe_2(s.wave))\n",
    "print('Total FeII = ' + str(flux_feII) + ' [1e-7 erg / (s cm^2 Ang)]')"
   ]
  },
  {
   "cell_type": "code",
   "execution_count": 84,
   "id": "49ad6695",
   "metadata": {},
   "outputs": [
    {
     "name": "stdout",
     "output_type": "stream",
     "text": [
      "Observed spectrum:\n",
      "Total FeII = 4284.889 [1e-7 erg / (s cm^2 Ang)]\n"
     ]
    }
   ],
   "source": [
    "print('Observed spectrum:')\n",
    "\n",
    "flux_feII_or = np.sum(fe_2(s_or.wave))\n",
    "print('Total FeII = ' + str(flux_feII_or) + ' [1e-7 erg / (s cm^2 Ang)]')"
   ]
  },
  {
   "attachments": {},
   "cell_type": "markdown",
   "id": "b575906f",
   "metadata": {},
   "source": [
    "The iron lines differ but in less than 10 flux units (1e-7 erg / (s cm^2 Ang))."
   ]
  },
  {
   "attachments": {},
   "cell_type": "markdown",
   "id": "09657f40",
   "metadata": {},
   "source": [
    "#### [OIII]"
   ]
  },
  {
   "cell_type": "code",
   "execution_count": 79,
   "id": "a8a4d4f8",
   "metadata": {},
   "outputs": [
    {
     "name": "stdout",
     "output_type": "stream",
     "text": [
      "Model:\n",
      "Total OIII (at 4364 ang) = 349.4876 [1e-7 erg / (s cm^2 Ang)]\n",
      "Total OIII (at 5007 ang) = 778.99664 [1e-7 erg / (s cm^2 Ang)]\n"
     ]
    }
   ],
   "source": [
    "print('Model:')\n",
    "\n",
    "mask_oiii = (s.wave > 4250) & (s.wave < 4450)\n",
    "flux_oiii = np.sum(narrow_1(s.wave)[mask_oiii])\n",
    "print('Total OIII (at 4364 ang) = ' + str(flux_oiii) + ' [1e-7 erg / (s cm^2 Ang)]')\n",
    "\n",
    "mask_oiii_5007 = (s.wave > 4975) & (s.wave < 5050)\n",
    "flux_oiii_5007 = np.sum(narrow_1(s.wave)[mask_oiii_5007])\n",
    "print('Total OIII (at 5007 ang) = ' + str(flux_oiii_5007) + ' [1e-7 erg / (s cm^2 Ang)]')"
   ]
  },
  {
   "cell_type": "code",
   "execution_count": 85,
   "id": "538d9091",
   "metadata": {},
   "outputs": [
    {
     "name": "stdout",
     "output_type": "stream",
     "text": [
      "Observed spectrum: \n",
      "Total OIII (at 4364 ang) = 349.4848 [1e-7 erg / (s cm^2 Ang)]\n",
      "Total OIII (at 5007 ang) = 778.5438 [1e-7 erg / (s cm^2 Ang)]\n"
     ]
    }
   ],
   "source": [
    "print('Observed spectrum: ')\n",
    "\n",
    "mask_oiii_or = (s_or.wave > 4250) & (s_or.wave < 4450)\n",
    "flux_oiii_or = np.sum(narrow_1(s_or.wave)[mask_oiii_or])\n",
    "print('Total OIII (at 4364 ang) = ' + str(flux_oiii_or) + ' [1e-7 erg / (s cm^2 Ang)]')\n",
    "\n",
    "mask_oiii_5007_or = (s_or.wave > 4975) & (s_or.wave < 5050)\n",
    "flux_oiii_5007_or = np.sum(narrow_1(s_or.wave)[mask_oiii_5007_or])\n",
    "print('Total OIII (at 5007 ang) = ' + str(flux_oiii_5007_or) + ' [1e-7 erg / (s cm^2 Ang)]')"
   ]
  },
  {
   "attachments": {},
   "cell_type": "markdown",
   "id": "2ff6436e",
   "metadata": {},
   "source": [
    "In the [OIII] line, the spectrum and model have very similar values."
   ]
  },
  {
   "attachments": {},
   "cell_type": "markdown",
   "id": "973b3ac1",
   "metadata": {},
   "source": [
    "#### [SIII]"
   ]
  },
  {
   "cell_type": "code",
   "execution_count": 86,
   "id": "a906f208",
   "metadata": {},
   "outputs": [
    {
     "name": "stdout",
     "output_type": "stream",
     "text": [
      "Model: \n",
      "Total SIII = 182.47621 [1e-7 erg / (s cm^2 Ang)]\n"
     ]
    }
   ],
   "source": [
    "print('Model: ')\n",
    "\n",
    "mask_siii = (s.wave > 6670) & (s.wave < 6750)\n",
    "flux_siii = np.sum(narrow_1(s.wave)[mask_siii])\n",
    "print('Total SIII = ' + str(flux_siii) + ' [1e-7 erg / (s cm^2 Ang)]')"
   ]
  },
  {
   "cell_type": "code",
   "execution_count": 88,
   "id": "eddedfe1",
   "metadata": {},
   "outputs": [
    {
     "name": "stdout",
     "output_type": "stream",
     "text": [
      "Observed spectrum: \n",
      "Total SIII = 182.63913 [1e-7 erg / (s cm^2 Ang)]\n"
     ]
    }
   ],
   "source": [
    "print('Observed spectrum: ')\n",
    "\n",
    "mask_siii_or = (s_or.wave > 6670) & (s_or.wave < 6750)\n",
    "flux_siii_or = np.sum(narrow_1(s_or.wave)[mask_siii_or])\n",
    "print('Total SIII = ' + str(flux_siii_or) + ' [1e-7 erg / (s cm^2 Ang)]')"
   ]
  },
  {
   "attachments": {},
   "cell_type": "markdown",
   "id": "d271c143",
   "metadata": {},
   "source": [
    "The [SIII] line is quite faint, but can be identified in the plot. The model's and observed values are almost the same.\n",
    "\n",
    "However, the [NII] line is not present."
   ]
  },
  {
   "attachments": {},
   "cell_type": "markdown",
   "id": "74196217",
   "metadata": {},
   "source": [
    "# Calculating Line Ratios\n",
    "\n",
    "I did not calculate the [NII]6583 / H $\\alpha$ ratio as the [NII] line is not present."
   ]
  },
  {
   "attachments": {},
   "cell_type": "markdown",
   "id": "1c4e3adb",
   "metadata": {},
   "source": [
    "## [OIII]5007 / H $\\beta$"
   ]
  },
  {
   "cell_type": "code",
   "execution_count": 89,
   "id": "5104bab2",
   "metadata": {},
   "outputs": [
    {
     "name": "stdout",
     "output_type": "stream",
     "text": [
      "Model: \n",
      "[OIII] / Broad H beta = 0.16951498\n",
      "[OIII] / Narrow H beta = 1.0095699\n"
     ]
    }
   ],
   "source": [
    "print('Model: ')\n",
    "\n",
    "oiii_Hbeta_broad = flux_oiii_5007 / flux_Hb_broad\n",
    "print('[OIII] / Broad H beta = ' + str(oiii_Hbeta_broad))\n",
    "\n",
    "oiii_Hbeta_narrow = flux_oiii_5007 / flux_Hb_narrow\n",
    "print('[OIII] / Narrow H beta = ' + str(oiii_Hbeta_narrow))"
   ]
  },
  {
   "cell_type": "code",
   "execution_count": 90,
   "id": "ce3ba5ab",
   "metadata": {},
   "outputs": [
    {
     "name": "stdout",
     "output_type": "stream",
     "text": [
      "Observed spectrum: \n",
      "[OIII] / Broad H beta = 0.16940129\n",
      "[OIII] / Narrow H beta = 1.0069804\n"
     ]
    }
   ],
   "source": [
    "print('Observed spectrum: ')\n",
    "\n",
    "oiii_Hbeta_broad_or = flux_oiii_5007_or / flux_Hb_broad_or\n",
    "print('[OIII] / Broad H beta = ' + str(oiii_Hbeta_broad_or))\n",
    "\n",
    "oiii_Hbeta_narrow_or = flux_oiii_5007_or / flux_Hb_narrow_or\n",
    "print('[OIII] / Narrow H beta = ' + str(oiii_Hbeta_narrow_or))"
   ]
  },
  {
   "attachments": {},
   "cell_type": "markdown",
   "id": "f984586c",
   "metadata": {},
   "source": [
    "## H $\\alpha$ / H $\\beta$"
   ]
  },
  {
   "cell_type": "code",
   "execution_count": 91,
   "id": "cea6b97e",
   "metadata": {},
   "outputs": [
    {
     "name": "stdout",
     "output_type": "stream",
     "text": [
      "Model: \n",
      "Broad H alpha / H beta = 1.7105275\n",
      "Narrow H alpha / H beta = 5.710056\n"
     ]
    }
   ],
   "source": [
    "print('Model: ')\n",
    "\n",
    "Ha_Hb_broad = flux_Ha_broad / flux_Hb_broad\n",
    "print('Broad H alpha / H beta = ' + str(Ha_Hb_broad))\n",
    "\n",
    "Ha_Hb_narrow = flux_Ha_narrow / flux_Hb_narrow\n",
    "print('Narrow H alpha / H beta = ' + str(Ha_Hb_narrow))"
   ]
  },
  {
   "cell_type": "code",
   "execution_count": 92,
   "id": "cc55bbb5",
   "metadata": {},
   "outputs": [
    {
     "name": "stdout",
     "output_type": "stream",
     "text": [
      "Observed spectra: \n",
      "Broad H alpha / H beta = 1.7101091\n",
      "Narrow H alpha / H beta = 5.6960335\n"
     ]
    }
   ],
   "source": [
    "print('Observed spectra: ')\n",
    "\n",
    "Ha_Hb_broad_or = flux_Ha_broad_or / flux_Hb_broad_or\n",
    "print('Broad H alpha / H beta = ' + str(Ha_Hb_broad_or))\n",
    "\n",
    "Ha_Hb_narrow_or = flux_Ha_narrow_or / flux_Hb_narrow_or\n",
    "print('Narrow H alpha / H beta = ' + str(Ha_Hb_narrow_or))"
   ]
  },
  {
   "attachments": {},
   "cell_type": "markdown",
   "id": "c8ae9b3d",
   "metadata": {},
   "source": [
    "The ratios for the corrected/modeled spectrum and the non-corrected/observed one are very close, and they differ only by ~0.01 or less."
   ]
  },
  {
   "cell_type": "code",
   "execution_count": null,
   "id": "5fe0a5ea",
   "metadata": {},
   "outputs": [],
   "source": []
  },
  {
   "cell_type": "markdown",
   "id": "6acfd8a5",
   "metadata": {},
   "source": [
    "**References**\n",
    "\n",
    "1. [Rakic, N., 2022, MNRAS, 516, 1624](https://ui.adsabs.harvard.edu/abs/2022MNRAS.516.1624R/abstract)\n",
    "2. [Ilic, D. et al. 2020, A&A, 638, 13](https://ui.adsabs.harvard.edu/abs/2020A%26A...638A..13I/abstract)\n",
    "3. [Kovacevic, J. et al. 2010, ApJS, 189, 15](https://ui.adsabs.harvard.edu/abs/2010ApJS..189...15K/abstract)\n",
    "4. [Shapovalova, A. I. et al. 2012, ApJS, 202, 10](https://ui.adsabs.harvard.edu/abs/2012ApJS..202...10S/abstract)\n",
    "5. Ilic, D., Rakic, N., Popovic, L. C., 2023, submitted"
   ]
  },
  {
   "cell_type": "code",
   "execution_count": null,
   "id": "e52099e8",
   "metadata": {},
   "outputs": [],
   "source": []
  }
 ],
 "metadata": {
  "kernelspec": {
   "display_name": "Python 3 (ipykernel)",
   "language": "python",
   "name": "python3"
  },
  "language_info": {
   "codemirror_mode": {
    "name": "ipython",
    "version": 3
   },
   "file_extension": ".py",
   "mimetype": "text/x-python",
   "name": "python",
   "nbconvert_exporter": "python",
   "pygments_lexer": "ipython3",
   "version": "3.8.16"
  },
  "toc": {
   "base_numbering": 1,
   "nav_menu": {},
   "number_sections": true,
   "sideBar": true,
   "skip_h1_title": true,
   "title_cell": "Table of Contents",
   "title_sidebar": "Contents",
   "toc_cell": true,
   "toc_position": {},
   "toc_section_display": true,
   "toc_window_display": true
  }
 },
 "nbformat": 4,
 "nbformat_minor": 5
}
