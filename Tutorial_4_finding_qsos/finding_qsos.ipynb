{
 "cells": [
  {
   "cell_type": "code",
   "execution_count": 241,
   "metadata": {},
   "outputs": [
    {
     "name": "stdout",
     "output_type": "stream",
     "text": [
      "Using matplotlib backend: MacOSX\n"
     ]
    }
   ],
   "source": [
    "import numpy as np\n",
    "import pandas as pd\n",
    "from collections import Counter\n",
    "\n",
    "%matplotlib\n",
    "import matplotlib.pyplot as plt\n",
    "plt.style.use('bmh')\n",
    "\n",
    "import seaborn as sns\n",
    "sns.set_theme()\n",
    "sns.set_context('paper')"
   ]
  },
  {
   "cell_type": "code",
   "execution_count": 189,
   "metadata": {},
   "outputs": [
    {
     "data": {
      "text/html": [
       "<div>\n",
       "<style scoped>\n",
       "    .dataframe tbody tr th:only-of-type {\n",
       "        vertical-align: middle;\n",
       "    }\n",
       "\n",
       "    .dataframe tbody tr th {\n",
       "        vertical-align: top;\n",
       "    }\n",
       "\n",
       "    .dataframe thead th {\n",
       "        text-align: right;\n",
       "    }\n",
       "</style>\n",
       "<table border=\"1\" class=\"dataframe\">\n",
       "  <thead>\n",
       "    <tr style=\"text-align: right;\">\n",
       "      <th></th>\n",
       "      <th>specobjid</th>\n",
       "      <th>plate</th>\n",
       "      <th>mjd</th>\n",
       "      <th>fiberID</th>\n",
       "      <th>subclass</th>\n",
       "      <th>z</th>\n",
       "      <th>oiii_5007_flux</th>\n",
       "      <th>oiii_5007_flux_err</th>\n",
       "      <th>h_alpha_flux</th>\n",
       "      <th>h_alpha_flux_err</th>\n",
       "      <th>h_beta_flux</th>\n",
       "      <th>h_beta_flux_err</th>\n",
       "      <th>nii_6584_flux</th>\n",
       "      <th>nii_6584_flux_err</th>\n",
       "      <th>w1</th>\n",
       "      <th>w2</th>\n",
       "      <th>w3</th>\n",
       "    </tr>\n",
       "  </thead>\n",
       "  <tbody>\n",
       "    <tr>\n",
       "      <th>0</th>\n",
       "      <td>1005512498008320000</td>\n",
       "      <td>893</td>\n",
       "      <td>52589</td>\n",
       "      <td>305</td>\n",
       "      <td>STARBURST</td>\n",
       "      <td>0.038501</td>\n",
       "      <td>1086.95700</td>\n",
       "      <td>13.445690</td>\n",
       "      <td>5999.0170</td>\n",
       "      <td>42.020350</td>\n",
       "      <td>1582.36400</td>\n",
       "      <td>15.046550</td>\n",
       "      <td>3010.8450</td>\n",
       "      <td>20.696370</td>\n",
       "      <td>12.089</td>\n",
       "      <td>11.908</td>\n",
       "      <td>7.834</td>\n",
       "    </tr>\n",
       "    <tr>\n",
       "      <th>1</th>\n",
       "      <td>2165278474745440256</td>\n",
       "      <td>1923</td>\n",
       "      <td>53319</td>\n",
       "      <td>629</td>\n",
       "      <td>STARBURST</td>\n",
       "      <td>0.016457</td>\n",
       "      <td>375.86400</td>\n",
       "      <td>5.281759</td>\n",
       "      <td>2068.5040</td>\n",
       "      <td>13.648870</td>\n",
       "      <td>575.60020</td>\n",
       "      <td>5.900801</td>\n",
       "      <td>593.1110</td>\n",
       "      <td>5.842029</td>\n",
       "      <td>12.812</td>\n",
       "      <td>12.661</td>\n",
       "      <td>8.762</td>\n",
       "    </tr>\n",
       "    <tr>\n",
       "      <th>2</th>\n",
       "      <td>2908305081193490432</td>\n",
       "      <td>2583</td>\n",
       "      <td>54095</td>\n",
       "      <td>384</td>\n",
       "      <td>STARBURST</td>\n",
       "      <td>0.051987</td>\n",
       "      <td>6372.96200</td>\n",
       "      <td>38.295890</td>\n",
       "      <td>6812.0910</td>\n",
       "      <td>41.000700</td>\n",
       "      <td>2008.34700</td>\n",
       "      <td>13.510290</td>\n",
       "      <td>741.5893</td>\n",
       "      <td>5.987211</td>\n",
       "      <td>13.591</td>\n",
       "      <td>13.268</td>\n",
       "      <td>9.258</td>\n",
       "    </tr>\n",
       "    <tr>\n",
       "      <th>3</th>\n",
       "      <td>837747358904117248</td>\n",
       "      <td>744</td>\n",
       "      <td>52251</td>\n",
       "      <td>283</td>\n",
       "      <td>BROADLINE</td>\n",
       "      <td>0.022764</td>\n",
       "      <td>154.59780</td>\n",
       "      <td>10.752410</td>\n",
       "      <td>198.6793</td>\n",
       "      <td>14.250820</td>\n",
       "      <td>68.47856</td>\n",
       "      <td>9.791917</td>\n",
       "      <td>162.8001</td>\n",
       "      <td>12.672370</td>\n",
       "      <td>11.233</td>\n",
       "      <td>11.288</td>\n",
       "      <td>10.554</td>\n",
       "    </tr>\n",
       "    <tr>\n",
       "      <th>4</th>\n",
       "      <td>2837441290109478912</td>\n",
       "      <td>2520</td>\n",
       "      <td>54584</td>\n",
       "      <td>631</td>\n",
       "      <td>BROADLINE</td>\n",
       "      <td>0.034883</td>\n",
       "      <td>78.40385</td>\n",
       "      <td>3.972700</td>\n",
       "      <td>117.0103</td>\n",
       "      <td>4.839863</td>\n",
       "      <td>34.39631</td>\n",
       "      <td>3.565499</td>\n",
       "      <td>206.4456</td>\n",
       "      <td>5.043667</td>\n",
       "      <td>11.898</td>\n",
       "      <td>11.943</td>\n",
       "      <td>10.131</td>\n",
       "    </tr>\n",
       "    <tr>\n",
       "      <th>...</th>\n",
       "      <td>...</td>\n",
       "      <td>...</td>\n",
       "      <td>...</td>\n",
       "      <td>...</td>\n",
       "      <td>...</td>\n",
       "      <td>...</td>\n",
       "      <td>...</td>\n",
       "      <td>...</td>\n",
       "      <td>...</td>\n",
       "      <td>...</td>\n",
       "      <td>...</td>\n",
       "      <td>...</td>\n",
       "      <td>...</td>\n",
       "      <td>...</td>\n",
       "      <td>...</td>\n",
       "      <td>...</td>\n",
       "      <td>...</td>\n",
       "    </tr>\n",
       "    <tr>\n",
       "      <th>955</th>\n",
       "      <td>1533579628139014144</td>\n",
       "      <td>1362</td>\n",
       "      <td>53050</td>\n",
       "      <td>378</td>\n",
       "      <td>STARFORMING</td>\n",
       "      <td>0.025236</td>\n",
       "      <td>115.03360</td>\n",
       "      <td>4.033701</td>\n",
       "      <td>781.4837</td>\n",
       "      <td>7.725008</td>\n",
       "      <td>214.29840</td>\n",
       "      <td>4.172729</td>\n",
       "      <td>322.2542</td>\n",
       "      <td>5.217882</td>\n",
       "      <td>12.396</td>\n",
       "      <td>12.399</td>\n",
       "      <td>9.657</td>\n",
       "    </tr>\n",
       "    <tr>\n",
       "      <th>956</th>\n",
       "      <td>3247247139872466944</td>\n",
       "      <td>2884</td>\n",
       "      <td>54526</td>\n",
       "      <td>552</td>\n",
       "      <td>STARFORMING</td>\n",
       "      <td>0.056460</td>\n",
       "      <td>339.05710</td>\n",
       "      <td>9.086666</td>\n",
       "      <td>3180.3280</td>\n",
       "      <td>24.726840</td>\n",
       "      <td>521.87720</td>\n",
       "      <td>8.259108</td>\n",
       "      <td>1724.3280</td>\n",
       "      <td>17.019960</td>\n",
       "      <td>10.726</td>\n",
       "      <td>10.093</td>\n",
       "      <td>6.381</td>\n",
       "    </tr>\n",
       "    <tr>\n",
       "      <th>957</th>\n",
       "      <td>527064949625743360</td>\n",
       "      <td>468</td>\n",
       "      <td>51912</td>\n",
       "      <td>523</td>\n",
       "      <td>NaN</td>\n",
       "      <td>0.035238</td>\n",
       "      <td>397.04130</td>\n",
       "      <td>9.734199</td>\n",
       "      <td>339.9698</td>\n",
       "      <td>12.175190</td>\n",
       "      <td>53.31718</td>\n",
       "      <td>6.877068</td>\n",
       "      <td>579.7974</td>\n",
       "      <td>12.467780</td>\n",
       "      <td>11.857</td>\n",
       "      <td>11.851</td>\n",
       "      <td>10.645</td>\n",
       "    </tr>\n",
       "    <tr>\n",
       "      <th>958</th>\n",
       "      <td>3240437313582426112</td>\n",
       "      <td>2878</td>\n",
       "      <td>54465</td>\n",
       "      <td>354</td>\n",
       "      <td>AGN BROADLINE</td>\n",
       "      <td>0.044007</td>\n",
       "      <td>33.92199</td>\n",
       "      <td>3.269411</td>\n",
       "      <td>171.5769</td>\n",
       "      <td>3.730943</td>\n",
       "      <td>56.84223</td>\n",
       "      <td>3.040776</td>\n",
       "      <td>114.2342</td>\n",
       "      <td>4.025399</td>\n",
       "      <td>12.271</td>\n",
       "      <td>12.251</td>\n",
       "      <td>9.992</td>\n",
       "    </tr>\n",
       "    <tr>\n",
       "      <th>959</th>\n",
       "      <td>2352036025284454400</td>\n",
       "      <td>2089</td>\n",
       "      <td>53498</td>\n",
       "      <td>113</td>\n",
       "      <td>AGN</td>\n",
       "      <td>0.044600</td>\n",
       "      <td>55.42394</td>\n",
       "      <td>3.971354</td>\n",
       "      <td>201.9977</td>\n",
       "      <td>4.702394</td>\n",
       "      <td>45.51037</td>\n",
       "      <td>3.125329</td>\n",
       "      <td>215.6467</td>\n",
       "      <td>5.201643</td>\n",
       "      <td>12.826</td>\n",
       "      <td>12.753</td>\n",
       "      <td>11.055</td>\n",
       "    </tr>\n",
       "  </tbody>\n",
       "</table>\n",
       "<p>960 rows × 17 columns</p>\n",
       "</div>"
      ],
      "text/plain": [
       "               specobjid  plate    mjd  fiberID       subclass         z  \\\n",
       "0    1005512498008320000    893  52589      305      STARBURST  0.038501   \n",
       "1    2165278474745440256   1923  53319      629      STARBURST  0.016457   \n",
       "2    2908305081193490432   2583  54095      384      STARBURST  0.051987   \n",
       "3     837747358904117248    744  52251      283      BROADLINE  0.022764   \n",
       "4    2837441290109478912   2520  54584      631      BROADLINE  0.034883   \n",
       "..                   ...    ...    ...      ...            ...       ...   \n",
       "955  1533579628139014144   1362  53050      378    STARFORMING  0.025236   \n",
       "956  3247247139872466944   2884  54526      552    STARFORMING  0.056460   \n",
       "957   527064949625743360    468  51912      523            NaN  0.035238   \n",
       "958  3240437313582426112   2878  54465      354  AGN BROADLINE  0.044007   \n",
       "959  2352036025284454400   2089  53498      113            AGN  0.044600   \n",
       "\n",
       "     oiii_5007_flux  oiii_5007_flux_err  h_alpha_flux  h_alpha_flux_err  \\\n",
       "0        1086.95700           13.445690     5999.0170         42.020350   \n",
       "1         375.86400            5.281759     2068.5040         13.648870   \n",
       "2        6372.96200           38.295890     6812.0910         41.000700   \n",
       "3         154.59780           10.752410      198.6793         14.250820   \n",
       "4          78.40385            3.972700      117.0103          4.839863   \n",
       "..              ...                 ...           ...               ...   \n",
       "955       115.03360            4.033701      781.4837          7.725008   \n",
       "956       339.05710            9.086666     3180.3280         24.726840   \n",
       "957       397.04130            9.734199      339.9698         12.175190   \n",
       "958        33.92199            3.269411      171.5769          3.730943   \n",
       "959        55.42394            3.971354      201.9977          4.702394   \n",
       "\n",
       "     h_beta_flux  h_beta_flux_err  nii_6584_flux  nii_6584_flux_err      w1  \\\n",
       "0     1582.36400        15.046550      3010.8450          20.696370  12.089   \n",
       "1      575.60020         5.900801       593.1110           5.842029  12.812   \n",
       "2     2008.34700        13.510290       741.5893           5.987211  13.591   \n",
       "3       68.47856         9.791917       162.8001          12.672370  11.233   \n",
       "4       34.39631         3.565499       206.4456           5.043667  11.898   \n",
       "..           ...              ...            ...                ...     ...   \n",
       "955    214.29840         4.172729       322.2542           5.217882  12.396   \n",
       "956    521.87720         8.259108      1724.3280          17.019960  10.726   \n",
       "957     53.31718         6.877068       579.7974          12.467780  11.857   \n",
       "958     56.84223         3.040776       114.2342           4.025399  12.271   \n",
       "959     45.51037         3.125329       215.6467           5.201643  12.826   \n",
       "\n",
       "         w2      w3  \n",
       "0    11.908   7.834  \n",
       "1    12.661   8.762  \n",
       "2    13.268   9.258  \n",
       "3    11.288  10.554  \n",
       "4    11.943  10.131  \n",
       "..      ...     ...  \n",
       "955  12.399   9.657  \n",
       "956  10.093   6.381  \n",
       "957  11.851  10.645  \n",
       "958  12.251   9.992  \n",
       "959  12.753  11.055  \n",
       "\n",
       "[960 rows x 17 columns]"
      ]
     },
     "execution_count": 189,
     "metadata": {},
     "output_type": "execute_result"
    }
   ],
   "source": [
    "qsos = pd.read_csv('qso_full_sample.csv', header=1)\n",
    "qsos"
   ]
  },
  {
   "cell_type": "code",
   "execution_count": 190,
   "metadata": {},
   "outputs": [
    {
     "data": {
      "text/plain": [
       "(960, 17)"
      ]
     },
     "execution_count": 190,
     "metadata": {},
     "output_type": "execute_result"
    }
   ],
   "source": [
    "qsos.shape"
   ]
  },
  {
   "cell_type": "code",
   "execution_count": 191,
   "metadata": {},
   "outputs": [
    {
     "data": {
      "text/plain": [
       "Index(['specobjid', 'plate', 'mjd', 'fiberID', 'subclass', 'z',\n",
       "       'oiii_5007_flux', 'oiii_5007_flux_err', 'h_alpha_flux',\n",
       "       'h_alpha_flux_err', 'h_beta_flux', 'h_beta_flux_err', 'nii_6584_flux',\n",
       "       'nii_6584_flux_err', 'w1', 'w2', 'w3'],\n",
       "      dtype='object')"
      ]
     },
     "execution_count": 191,
     "metadata": {},
     "output_type": "execute_result"
    }
   ],
   "source": [
    "qsos.columns"
   ]
  },
  {
   "cell_type": "code",
   "execution_count": 192,
   "metadata": {},
   "outputs": [
    {
     "data": {
      "text/plain": [
       "Counter({'STARBURST': 153,\n",
       "         'BROADLINE': 317,\n",
       "         nan: 94,\n",
       "         'STARFORMING': 213,\n",
       "         'STARFORMING BROADLINE': 29,\n",
       "         'AGN BROADLINE': 69,\n",
       "         'AGN': 84,\n",
       "         'STARBURST BROADLINE': 1})"
      ]
     },
     "execution_count": 192,
     "metadata": {},
     "output_type": "execute_result"
    }
   ],
   "source": [
    "Counter(qsos['subclass'])"
   ]
  },
  {
   "attachments": {},
   "cell_type": "markdown",
   "metadata": {},
   "source": [
    "Here, I'll plot the distribution of the fluxes to get an idea of the data."
   ]
  },
  {
   "cell_type": "code",
   "execution_count": 193,
   "metadata": {},
   "outputs": [
    {
     "data": {
      "image/png": "[encoded data removed]",
      "text/plain": [
       "<Figure size 360x360 with 1 Axes>"
      ]
     },
     "metadata": {},
     "output_type": "display_data"
    },
    {
     "data": {
      "image/png": "[encoded data removed]",
      "text/plain": [
       "<Figure size 360x360 with 1 Axes>"
      ]
     },
     "metadata": {},
     "output_type": "display_data"
    },
    {
     "data": {
      "image/png": "[encoded data removed]",
      "text/plain": [
       "<Figure size 360x360 with 1 Axes>"
      ]
     },
     "metadata": {},
     "output_type": "display_data"
    },
    {
     "data": {
      "image/png": "[encoded data removed]",
      "text/plain": [
       "<Figure size 360x360 with 1 Axes>"
      ]
     },
     "metadata": {},
     "output_type": "display_data"
    }
   ],
   "source": [
    "cols = ['h_alpha_flux', 'h_beta_flux', 'oiii_5007_flux', 'nii_6584_flux']\n",
    "\n",
    "for col in cols:\n",
    "    sns.displot(data=qsos, x=col, log_scale=True)\n",
    "\n",
    "    plt.xlabel(col + r' [$10^{-17}$ erg s$^{-1}$ cm$^{-2}$]')\n",
    "\n",
    "    # plt.savefig('distr_' + col + '.pdf')\n",
    "\n",
    "    plt.show()"
   ]
  },
  {
   "attachments": {},
   "cell_type": "markdown",
   "metadata": {},
   "source": [
    "# BPT Diagrams"
   ]
  },
  {
   "cell_type": "code",
   "execution_count": 194,
   "metadata": {},
   "outputs": [],
   "source": [
    "qsos['nii_h_alpha'] = qsos.apply(lambda x: x['nii_6584_flux'] / x['h_alpha_flux'], axis=1)\n",
    "qsos['nii_h_alpha_log'] = qsos.apply(lambda x: np.log10(x['nii_h_alpha']), axis=1)\n",
    "qsos['oiii_h_beta'] = qsos.apply(lambda x: x['oiii_5007_flux'] / x['h_beta_flux'], axis=1)\n",
    "qsos['oiii_h_beta_log'] = qsos.apply(lambda x: np.log10(x['oiii_h_beta']), axis=1)"
   ]
  },
  {
   "attachments": {},
   "cell_type": "markdown",
   "metadata": {},
   "source": [
    "### BPT with SDSS subclasses"
   ]
  },
  {
   "cell_type": "code",
   "execution_count": 342,
   "metadata": {},
   "outputs": [],
   "source": [
    "plt.figure(figsize=(10, 8))\n",
    "\n",
    "sns.scatterplot(data=qsos, x='nii_h_alpha', y='oiii_h_beta', palette='colorblind', \n",
    "                hue='subclass', style='subclass', size='subclass', sizes=(100, 20))\n",
    "\n",
    "plt.xlabel(r'[NII] / H$\\alpha$', fontsize=13)\n",
    "plt.ylabel(r'[OIII] / H$\\beta$', fontsize=13)\n",
    "\n",
    "plt.xscale('log')\n",
    "plt.yscale('log')\n",
    "\n",
    "plt.legend(loc='lower left', fontsize=10)\n",
    "\n",
    "# plt.savefig('BPT_diagram_sdss_subclasses.pdf')\n",
    "\n",
    "plt.show()"
   ]
  },
  {
   "attachments": {},
   "cell_type": "markdown",
   "metadata": {},
   "source": [
    "## BPT with Theoretical Lines"
   ]
  },
  {
   "attachments": {},
   "cell_type": "markdown",
   "metadata": {},
   "source": [
    "### Kauffman et al. 2003"
   ]
  },
  {
   "cell_type": "code",
   "execution_count": 201,
   "metadata": {},
   "outputs": [],
   "source": [
    "def BPT_class_Kauff(oiii_h_beta, nii_h_alpha):\n",
    "    # second condition is to avoid double lines\n",
    "    if (np.log10(oiii_h_beta) < 0.61 / (np.log10(nii_h_alpha) - 0.05) + 1.3) and (np.log10(nii_h_alpha) < 0.0):\n",
    "        return 'Star Forming'\n",
    "    else:\n",
    "        return 'AGN'"
   ]
  },
  {
   "attachments": {},
   "cell_type": "markdown",
   "metadata": {},
   "source": [
    "### Kewley et al. 2001"
   ]
  },
  {
   "cell_type": "code",
   "execution_count": 205,
   "metadata": {},
   "outputs": [],
   "source": [
    "def BPT_class_Kew(oiii_h_beta, nii_h_alpha):\n",
    "    if np.log10(oiii_h_beta) < 0.61 / (np.log10(nii_h_alpha) - 0.47) + 1.19:\n",
    "        return 'Star Forming'\n",
    "    else:\n",
    "        return 'AGN'"
   ]
  },
  {
   "attachments": {},
   "cell_type": "markdown",
   "metadata": {},
   "source": [
    "### Schawinski et al. 2007"
   ]
  },
  {
   "cell_type": "code",
   "execution_count": 257,
   "metadata": {},
   "outputs": [],
   "source": [
    "def BPT_class_Scha(oiii_h_beta, nii_h_alpha):\n",
    "    if np.log10(oiii_h_beta) < 1.05 * np.log10(nii_h_alpha) + 0.45:\n",
    "        return 'LINER'\n",
    "    else:\n",
    "        return 'Seyfert'"
   ]
  },
  {
   "cell_type": "code",
   "execution_count": 258,
   "metadata": {},
   "outputs": [],
   "source": [
    "qsos['BPT Kauffman'] = qsos.apply(lambda x: BPT_class_Kauff(x['oiii_h_beta'], x['nii_h_alpha']), axis=1)\n",
    "qsos['BPT Kewley'] = qsos.apply(lambda x: BPT_class_Kew(x['oiii_h_beta'], x['nii_h_alpha']), axis=1)\n",
    "qsos['BPT Schawinski'] = qsos.apply(lambda x: BPT_class_Scha(x['oiii_h_beta'], x['nii_h_alpha']), axis=1)"
   ]
  },
  {
   "cell_type": "code",
   "execution_count": 284,
   "metadata": {},
   "outputs": [],
   "source": [
    "def BPT_final_class(row):\n",
    "    if row['BPT Kauffman'] != row['BPT Kewley']:\n",
    "        return 'Composite'\n",
    "    elif (row['BPT Kauffman'] == row['BPT Kewley']) and row['BPT Kauffman'] == 'AGN':\n",
    "        return row['BPT Schawinski']\n",
    "    else:\n",
    "        return row['BPT Kauffman']"
   ]
  },
  {
   "cell_type": "code",
   "execution_count": 285,
   "metadata": {},
   "outputs": [
    {
     "data": {
      "text/plain": [
       "Counter({'Composite': 237, 'Star Forming': 234, 'LINER': 399, 'Seyfert': 90})"
      ]
     },
     "execution_count": 285,
     "metadata": {},
     "output_type": "execute_result"
    }
   ],
   "source": [
    "qsos['BPT final'] = qsos.apply(lambda x: BPT_final_class(x), axis=1)\n",
    "Counter(qsos['BPT final'])"
   ]
  },
  {
   "cell_type": "code",
   "execution_count": 293,
   "metadata": {},
   "outputs": [],
   "source": [
    "plt.figure(figsize=(12, 8))\n",
    "\n",
    "plt.xlim(-3.6, 0.6)\n",
    "plt.ylim(-1.1, 1.5)\n",
    "\n",
    "sns.scatterplot(data=qsos, x='nii_h_alpha_log', y='oiii_h_beta_log', palette='colorblind', \n",
    "                hue='BPT final', style='BPT final', size='BPT final', sizes=(90, 40))\n",
    "\n",
    "# ------------------------------------------------------------------------------------------------\n",
    "# Kauffman\n",
    "x_to_plot = np.linspace(qsos['nii_h_alpha_log'].min(), 0)\n",
    "plt.plot(x_to_plot, 0.61 / (x_to_plot - 0.05) + 1.3, label='Kauffman et al. 2003', \n",
    "         linewidth=1.5, alpha=0.8, c='k', linestyle='dashdot')\n",
    "\n",
    "# ------------------------------------------------------------------------------------------------\n",
    "# Kewley\n",
    "x_to_plot_1 = np.linspace(qsos['nii_h_alpha_log'].min(), qsos['nii_h_alpha_log'].max())\n",
    "plt.plot(x_to_plot_1, 0.61 / (x_to_plot_1 - 0.47) + 1.19, label='Kewley et al. 2001', \n",
    "         linewidth=1.5, alpha=0.8, c='k', linestyle='dashed')\n",
    "\n",
    "# ------------------------------------------------------------------------------------------------\n",
    "# Schawinski\n",
    "x_to_plot_2 = np.linspace(-0.1853, qsos['nii_h_alpha_log'].max())\n",
    "plt.plot(x_to_plot_2, 1.05 * x_to_plot_2 + 0.45, label='Schawinski et al. 2007', \n",
    "         linewidth=1.5, alpha=0.8, c='k', linestyle='solid')\n",
    "\n",
    "# ------------------------------------------------------------------------------------------------\n",
    "\n",
    "plt.xlabel(r'log [NII] / H$\\alpha$', fontsize=13)\n",
    "plt.ylabel(r'log [OIII] / H$\\beta$', fontsize=13)\n",
    "\n",
    "plt.legend(loc='lower left', fontsize=12)\n",
    "\n",
    "# plt.savefig('BPT_with_lines.pdf')\n",
    "\n",
    "plt.show()"
   ]
  },
  {
   "attachments": {},
   "cell_type": "markdown",
   "metadata": {},
   "source": [
    "# Mid-IR WISE Colours"
   ]
  },
  {
   "cell_type": "code",
   "execution_count": 318,
   "metadata": {},
   "outputs": [],
   "source": [
    "def wise_color_color(w1, w2, w3):\n",
    "    '''\n",
    "    Returns the class according to Figure 11b in Jarret et al. 2017\n",
    "    '''\n",
    "    color_x = w2 - w3\n",
    "    color_y = w1 - w2\n",
    "\n",
    "    if color_y >= 0.8:\n",
    "        return 'AGN & (u)LIRGs'\n",
    "    elif color_y < 0.8 and color_x < 2.0:\n",
    "        return 'Spheroids'\n",
    "    elif color_y < 0.8 and color_x > 3.5:\n",
    "        return 'SF Disks'\n",
    "    else:\n",
    "        return 'Inter. Disks'"
   ]
  },
  {
   "cell_type": "code",
   "execution_count": 319,
   "metadata": {},
   "outputs": [
    {
     "data": {
      "text/plain": [
       "Counter({'SF Disks': 261,\n",
       "         'Spheroids': 405,\n",
       "         'Inter. Disks': 290,\n",
       "         'AGN & (u)LIRGs': 4})"
      ]
     },
     "execution_count": 319,
     "metadata": {},
     "output_type": "execute_result"
    }
   ],
   "source": [
    "qsos['wise class'] = qsos.apply(lambda x: wise_color_color(x['w1'], x['w2'], x['w3']), axis=1)\n",
    "Counter(qsos['wise class'])"
   ]
  },
  {
   "cell_type": "code",
   "execution_count": 320,
   "metadata": {},
   "outputs": [],
   "source": [
    "qsos['w1-w2'] = qsos.apply(lambda x: x['w1'] - x['w2'], axis=1)\n",
    "qsos['w2-w3'] = qsos.apply(lambda x: x['w2'] - x['w3'], axis=1)"
   ]
  },
  {
   "attachments": {},
   "cell_type": "markdown",
   "metadata": {},
   "source": [
    "## One Random Object"
   ]
  },
  {
   "cell_type": "code",
   "execution_count": 321,
   "metadata": {},
   "outputs": [
    {
     "data": {
      "text/html": [
       "<div>\n",
       "<style scoped>\n",
       "    .dataframe tbody tr th:only-of-type {\n",
       "        vertical-align: middle;\n",
       "    }\n",
       "\n",
       "    .dataframe tbody tr th {\n",
       "        vertical-align: top;\n",
       "    }\n",
       "\n",
       "    .dataframe thead th {\n",
       "        text-align: right;\n",
       "    }\n",
       "</style>\n",
       "<table border=\"1\" class=\"dataframe\">\n",
       "  <thead>\n",
       "    <tr style=\"text-align: right;\">\n",
       "      <th></th>\n",
       "      <th>specobjid</th>\n",
       "      <th>plate</th>\n",
       "      <th>mjd</th>\n",
       "      <th>fiberID</th>\n",
       "      <th>subclass</th>\n",
       "      <th>z</th>\n",
       "      <th>oiii_5007_flux</th>\n",
       "      <th>oiii_5007_flux_err</th>\n",
       "      <th>h_alpha_flux</th>\n",
       "      <th>h_alpha_flux_err</th>\n",
       "      <th>...</th>\n",
       "      <th>nii_h_alpha_log</th>\n",
       "      <th>oiii_h_beta</th>\n",
       "      <th>oiii_h_beta_log</th>\n",
       "      <th>BPT Kauffman</th>\n",
       "      <th>BPT Kewley</th>\n",
       "      <th>BPT Schawinski</th>\n",
       "      <th>BPT final</th>\n",
       "      <th>wise class</th>\n",
       "      <th>w1-w2</th>\n",
       "      <th>w2-w3</th>\n",
       "    </tr>\n",
       "  </thead>\n",
       "  <tbody>\n",
       "    <tr>\n",
       "      <th>488</th>\n",
       "      <td>1999772022116214784</td>\n",
       "      <td>1776</td>\n",
       "      <td>53858</td>\n",
       "      <td>632</td>\n",
       "      <td>STARBURST</td>\n",
       "      <td>0.021559</td>\n",
       "      <td>4133.134</td>\n",
       "      <td>31.57422</td>\n",
       "      <td>16633.67</td>\n",
       "      <td>98.18549</td>\n",
       "      <td>...</td>\n",
       "      <td>-0.381678</td>\n",
       "      <td>1.100931</td>\n",
       "      <td>0.04176</td>\n",
       "      <td>AGN</td>\n",
       "      <td>Star Forming</td>\n",
       "      <td>LINER</td>\n",
       "      <td>Composite</td>\n",
       "      <td>AGN &amp; (u)LIRGs</td>\n",
       "      <td>0.882</td>\n",
       "      <td>3.696</td>\n",
       "    </tr>\n",
       "  </tbody>\n",
       "</table>\n",
       "<p>1 rows × 28 columns</p>\n",
       "</div>"
      ],
      "text/plain": [
       "               specobjid  plate    mjd  fiberID   subclass         z  \\\n",
       "488  1999772022116214784   1776  53858      632  STARBURST  0.021559   \n",
       "\n",
       "     oiii_5007_flux  oiii_5007_flux_err  h_alpha_flux  h_alpha_flux_err  ...  \\\n",
       "488        4133.134            31.57422      16633.67          98.18549  ...   \n",
       "\n",
       "     nii_h_alpha_log  oiii_h_beta  oiii_h_beta_log  BPT Kauffman  \\\n",
       "488        -0.381678     1.100931          0.04176           AGN   \n",
       "\n",
       "       BPT Kewley  BPT Schawinski  BPT final      wise class  w1-w2  w2-w3  \n",
       "488  Star Forming           LINER  Composite  AGN & (u)LIRGs  0.882  3.696  \n",
       "\n",
       "[1 rows x 28 columns]"
      ]
     },
     "execution_count": 321,
     "metadata": {},
     "output_type": "execute_result"
    }
   ],
   "source": [
    "random_obj = qsos.loc[qsos['w1-w2']>=0.8].sample(n=1, random_state=42)\n",
    "random_obj"
   ]
  },
  {
   "attachments": {},
   "cell_type": "markdown",
   "metadata": {},
   "source": [
    "## Plotting Color-Color"
   ]
  },
  {
   "cell_type": "code",
   "execution_count": 301,
   "metadata": {},
   "outputs": [
    {
     "name": "stdout",
     "output_type": "stream",
     "text": [
      "['#0173b2', '#de8f05', '#029e73', '#d55e00', '#cc78bc', '#ca9161', '#fbafe4', '#949494', '#ece133', '#56b4e9']\n"
     ]
    }
   ],
   "source": [
    "# print(sns.color_palette('colorblind').as_hex())"
   ]
  },
  {
   "cell_type": "code",
   "execution_count": 341,
   "metadata": {},
   "outputs": [],
   "source": [
    "fig, ax = plt.subplots(figsize=(10, 8))\n",
    "\n",
    "plt.ylim(-0.4, 1.45)\n",
    "plt.xlim(0, 5.1)\n",
    "\n",
    "sns.scatterplot(data=qsos, x='w2-w3', y='w1-w2', palette='colorblind', \n",
    "                hue='wise class', style='wise class', size='wise class', sizes=(70, 20))\n",
    "\n",
    "plt.scatter(random_obj['w2-w3'], random_obj['w1-w2'], c='darkviolet', \n",
    "            edgecolors='white', marker='*', s=230, label='Random Object')\n",
    "\n",
    "plt.vlines([2.0, 3.5], -0.4, 0.8, \n",
    "           linestyles='dashdot', color='k', alpha=0.7, linewidth=1.7)\n",
    "plt.hlines(0.8, -0.5, 5.5, linestyles='dashdot', color='k', alpha=0.7, linewidth=1.7)\n",
    "\n",
    "props = dict(boxstyle='round', color='#cc78bc', alpha=0.95)\n",
    "ax.text(0.8, 0.9, 'AGN & (u)LIRGs', transform=ax.transAxes, fontsize=14,\n",
    "        verticalalignment='top', bbox=props, color='white')\n",
    "\n",
    "props_1 = dict(boxstyle='round', color='#029e73', alpha=0.8)\n",
    "ax.text(0.45, 0.08, 'Intermediate Disks', transform=ax.transAxes, fontsize=14,\n",
    "        verticalalignment='top', bbox=props_1, color='white')\n",
    "\n",
    "props_2 = dict(boxstyle='round', color='#de8f05', alpha=0.8)\n",
    "ax.text(0.15, 0.08, 'Spheroids', transform=ax.transAxes, fontsize=14,\n",
    "       verticalalignment='top', bbox=props_2, color='white')\n",
    "\n",
    "props_3 = dict(boxstyle='round', color='#0173b2', alpha=0.9)\n",
    "ax.text(0.8, 0.08, 'SF Disks', transform=ax.transAxes, fontsize=14,\n",
    "        verticalalignment='top', bbox=props_3, color='white')\n",
    "\n",
    "plt.xlabel(r'W2 - W3 [mag]', fontsize=13)\n",
    "plt.ylabel(r'W1 - W2 [mag]', fontsize=13)\n",
    "\n",
    "plt.legend(loc='upper left', fontsize=11)\n",
    "\n",
    "# plt.savefig('wise_color_color.pdf')\n",
    "\n",
    "plt.show()"
   ]
  },
  {
   "cell_type": "code",
   "execution_count": 316,
   "metadata": {},
   "outputs": [],
   "source": [
    "plt.figure(figsize=(12, 8))\n",
    "\n",
    "plt.xlim(-3.6, 0.6)\n",
    "plt.ylim(-1.1, 1.5)\n",
    "\n",
    "sns.scatterplot(data=qsos, x='nii_h_alpha_log', y='oiii_h_beta_log', palette='colorblind', \n",
    "                hue='BPT final', style='BPT final', size='BPT final', sizes=(90, 40))\n",
    "\n",
    "plt.scatter(random_obj['nii_h_alpha_log'], random_obj['oiii_h_beta_log'], \n",
    "            c='darkviolet', edgecolors='white', marker='*', s=260, label='Random Object')\n",
    "\n",
    "# ------------------------------------------------------------------------------------------------\n",
    "# Kauffman\n",
    "x_to_plot = np.linspace(qsos['nii_h_alpha_log'].min(), 0)\n",
    "plt.plot(x_to_plot, 0.61 / (x_to_plot - 0.05) + 1.3, label='Kauffman et al. 2003', \n",
    "         linewidth=1.5, alpha=0.8, c='k', linestyle='dashdot')\n",
    "\n",
    "# ------------------------------------------------------------------------------------------------\n",
    "# Kewley\n",
    "x_to_plot_1 = np.linspace(qsos['nii_h_alpha_log'].min(), qsos['nii_h_alpha_log'].max())\n",
    "plt.plot(x_to_plot_1, 0.61 / (x_to_plot_1 - 0.47) + 1.19, label='Kewley et al. 2001', \n",
    "         linewidth=1.5, alpha=0.8, c='k', linestyle='dashed')\n",
    "\n",
    "# ------------------------------------------------------------------------------------------------\n",
    "# Schawinski\n",
    "x_to_plot_2 = np.linspace(-0.1853, qsos['nii_h_alpha_log'].max())\n",
    "plt.plot(x_to_plot_2, 1.05 * x_to_plot_2 + 0.45, label='Schawinski et al. 2007', \n",
    "         linewidth=1.5, alpha=0.8, c='k', linestyle='solid')\n",
    "\n",
    "# ------------------------------------------------------------------------------------------------\n",
    "\n",
    "plt.xlabel(r'log [NII] / H$\\alpha$', fontsize=13)\n",
    "plt.ylabel(r'log [OIII] / H$\\beta$', fontsize=13)\n",
    "\n",
    "plt.legend(loc='lower left', fontsize=12)\n",
    "\n",
    "# plt.savefig('BPT_with_lines_and_random.pdf')\n",
    "\n",
    "plt.show()"
   ]
  },
  {
   "cell_type": "code",
   "execution_count": null,
   "metadata": {},
   "outputs": [],
   "source": []
  }
 ],
 "metadata": {
  "kernelspec": {
   "display_name": "base",
   "language": "python",
   "name": "python3"
  },
  "language_info": {
   "codemirror_mode": {
    "name": "ipython",
    "version": 3
   },
   "file_extension": ".py",
   "mimetype": "text/x-python",
   "name": "python",
   "nbconvert_exporter": "python",
   "pygments_lexer": "ipython3",
   "version": "3.7.6"
  },
  "orig_nbformat": 4
 },
 "nbformat": 4,
 "nbformat_minor": 2
}
