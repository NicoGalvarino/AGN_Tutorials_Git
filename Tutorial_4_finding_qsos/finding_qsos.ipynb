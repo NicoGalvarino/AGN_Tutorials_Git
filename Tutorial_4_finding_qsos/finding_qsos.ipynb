{
 "cells": [
  {
   "cell_type": "code",
   "execution_count": 1,
   "metadata": {},
   "outputs": [],
   "source": [
    "import numpy as np\n",
    "import pandas as pd\n",
    "\n",
    "import matplotlib.pyplot as plt\n",
    "import seaborn as sns"
   ]
  },
  {
   "cell_type": "code",
   "execution_count": 6,
   "metadata": {},
   "outputs": [
    {
     "data": {
      "text/html": [
       "<div>\n",
       "<style scoped>\n",
       "    .dataframe tbody tr th:only-of-type {\n",
       "        vertical-align: middle;\n",
       "    }\n",
       "\n",
       "    .dataframe tbody tr th {\n",
       "        vertical-align: top;\n",
       "    }\n",
       "\n",
       "    .dataframe thead th {\n",
       "        text-align: right;\n",
       "    }\n",
       "</style>\n",
       "<table border=\"1\" class=\"dataframe\">\n",
       "  <thead>\n",
       "    <tr style=\"text-align: right;\">\n",
       "      <th></th>\n",
       "      <th>specobjid</th>\n",
       "      <th>subclass</th>\n",
       "      <th>z</th>\n",
       "      <th>oiii_5007_flux</th>\n",
       "      <th>h_alpha_flux</th>\n",
       "      <th>h_beta_flux</th>\n",
       "      <th>nii_6584_flux</th>\n",
       "    </tr>\n",
       "  </thead>\n",
       "  <tbody>\n",
       "    <tr>\n",
       "      <th>0</th>\n",
       "      <td>409913086674233344</td>\n",
       "      <td>AGN</td>\n",
       "      <td>0.027287</td>\n",
       "      <td>1623.99100</td>\n",
       "      <td>777.0163</td>\n",
       "      <td>184.89060</td>\n",
       "      <td>859.6522</td>\n",
       "    </tr>\n",
       "    <tr>\n",
       "      <th>1</th>\n",
       "      <td>412190450418477056</td>\n",
       "      <td>STARFORMING</td>\n",
       "      <td>0.029046</td>\n",
       "      <td>100.78620</td>\n",
       "      <td>1753.8930</td>\n",
       "      <td>371.54320</td>\n",
       "      <td>818.9180</td>\n",
       "    </tr>\n",
       "    <tr>\n",
       "      <th>2</th>\n",
       "      <td>413269895623501824</td>\n",
       "      <td>STARFORMING</td>\n",
       "      <td>0.061882</td>\n",
       "      <td>78.43416</td>\n",
       "      <td>612.8790</td>\n",
       "      <td>115.02330</td>\n",
       "      <td>497.0024</td>\n",
       "    </tr>\n",
       "    <tr>\n",
       "      <th>3</th>\n",
       "      <td>417743534917969920</td>\n",
       "      <td>STARFORMING BROADLINE</td>\n",
       "      <td>0.027417</td>\n",
       "      <td>68.33032</td>\n",
       "      <td>575.3583</td>\n",
       "      <td>145.75290</td>\n",
       "      <td>388.0303</td>\n",
       "    </tr>\n",
       "    <tr>\n",
       "      <th>4</th>\n",
       "      <td>661020102417737728</td>\n",
       "      <td>NaN</td>\n",
       "      <td>0.026416</td>\n",
       "      <td>78.46451</td>\n",
       "      <td>108.7614</td>\n",
       "      <td>39.84615</td>\n",
       "      <td>104.7426</td>\n",
       "    </tr>\n",
       "    <tr>\n",
       "      <th>...</th>\n",
       "      <td>...</td>\n",
       "      <td>...</td>\n",
       "      <td>...</td>\n",
       "      <td>...</td>\n",
       "      <td>...</td>\n",
       "      <td>...</td>\n",
       "      <td>...</td>\n",
       "    </tr>\n",
       "    <tr>\n",
       "      <th>980</th>\n",
       "      <td>2816010150828075008</td>\n",
       "      <td>STARBURST</td>\n",
       "      <td>0.031757</td>\n",
       "      <td>1169.68800</td>\n",
       "      <td>3050.7800</td>\n",
       "      <td>903.23750</td>\n",
       "      <td>949.1982</td>\n",
       "    </tr>\n",
       "    <tr>\n",
       "      <th>981</th>\n",
       "      <td>2817155293799016448</td>\n",
       "      <td>AGN BROADLINE</td>\n",
       "      <td>0.022155</td>\n",
       "      <td>107.54270</td>\n",
       "      <td>542.0471</td>\n",
       "      <td>121.83740</td>\n",
       "      <td>430.3494</td>\n",
       "    </tr>\n",
       "    <tr>\n",
       "      <th>982</th>\n",
       "      <td>3343996467592325120</td>\n",
       "      <td>BROADLINE</td>\n",
       "      <td>0.034936</td>\n",
       "      <td>80.73515</td>\n",
       "      <td>144.3445</td>\n",
       "      <td>39.16608</td>\n",
       "      <td>141.3919</td>\n",
       "    </tr>\n",
       "    <tr>\n",
       "      <th>983</th>\n",
       "      <td>3344069859993479168</td>\n",
       "      <td>STARFORMING BROADLINE</td>\n",
       "      <td>0.034969</td>\n",
       "      <td>61.79113</td>\n",
       "      <td>530.8751</td>\n",
       "      <td>85.17157</td>\n",
       "      <td>311.0701</td>\n",
       "    </tr>\n",
       "    <tr>\n",
       "      <th>984</th>\n",
       "      <td>3345192461382215680</td>\n",
       "      <td>BROADLINE</td>\n",
       "      <td>0.023053</td>\n",
       "      <td>551.55750</td>\n",
       "      <td>178.5125</td>\n",
       "      <td>65.65705</td>\n",
       "      <td>269.7785</td>\n",
       "    </tr>\n",
       "  </tbody>\n",
       "</table>\n",
       "<p>985 rows × 7 columns</p>\n",
       "</div>"
      ],
      "text/plain": [
       "               specobjid               subclass         z  oiii_5007_flux  \\\n",
       "0     409913086674233344                    AGN  0.027287      1623.99100   \n",
       "1     412190450418477056            STARFORMING  0.029046       100.78620   \n",
       "2     413269895623501824            STARFORMING  0.061882        78.43416   \n",
       "3     417743534917969920  STARFORMING BROADLINE  0.027417        68.33032   \n",
       "4     661020102417737728                    NaN  0.026416        78.46451   \n",
       "..                   ...                    ...       ...             ...   \n",
       "980  2816010150828075008              STARBURST  0.031757      1169.68800   \n",
       "981  2817155293799016448          AGN BROADLINE  0.022155       107.54270   \n",
       "982  3343996467592325120              BROADLINE  0.034936        80.73515   \n",
       "983  3344069859993479168  STARFORMING BROADLINE  0.034969        61.79113   \n",
       "984  3345192461382215680              BROADLINE  0.023053       551.55750   \n",
       "\n",
       "     h_alpha_flux  h_beta_flux  nii_6584_flux  \n",
       "0        777.0163    184.89060       859.6522  \n",
       "1       1753.8930    371.54320       818.9180  \n",
       "2        612.8790    115.02330       497.0024  \n",
       "3        575.3583    145.75290       388.0303  \n",
       "4        108.7614     39.84615       104.7426  \n",
       "..            ...          ...            ...  \n",
       "980     3050.7800    903.23750       949.1982  \n",
       "981      542.0471    121.83740       430.3494  \n",
       "982      144.3445     39.16608       141.3919  \n",
       "983      530.8751     85.17157       311.0701  \n",
       "984      178.5125     65.65705       269.7785  \n",
       "\n",
       "[985 rows x 7 columns]"
      ]
     },
     "execution_count": 6,
     "metadata": {},
     "output_type": "execute_result"
    }
   ],
   "source": [
    "qsos = pd.read_csv('qso_full_sample.csv', header=1)\n",
    "qsos"
   ]
  },
  {
   "cell_type": "code",
   "execution_count": 8,
   "metadata": {},
   "outputs": [
    {
     "data": {
      "text/plain": [
       "(985, 7)"
      ]
     },
     "execution_count": 8,
     "metadata": {},
     "output_type": "execute_result"
    }
   ],
   "source": [
    "qsos.shape"
   ]
  },
  {
   "cell_type": "code",
   "execution_count": 9,
   "metadata": {},
   "outputs": [
    {
     "data": {
      "text/plain": [
       "Index(['specobjid', 'subclass', 'z', 'oiii_5007_flux', 'h_alpha_flux',\n",
       "       'h_beta_flux', 'nii_6584_flux'],\n",
       "      dtype='object')"
      ]
     },
     "execution_count": 9,
     "metadata": {},
     "output_type": "execute_result"
    }
   ],
   "source": [
    "qsos.columns"
   ]
  },
  {
   "cell_type": "code",
   "execution_count": null,
   "metadata": {},
   "outputs": [],
   "source": []
  }
 ],
 "metadata": {
  "kernelspec": {
   "display_name": "base",
   "language": "python",
   "name": "python3"
  },
  "language_info": {
   "codemirror_mode": {
    "name": "ipython",
    "version": 3
   },
   "file_extension": ".py",
   "mimetype": "text/x-python",
   "name": "python",
   "nbconvert_exporter": "python",
   "pygments_lexer": "ipython3",
   "version": "3.7.6"
  },
  "orig_nbformat": 4
 },
 "nbformat": 4,
 "nbformat_minor": 2
}
